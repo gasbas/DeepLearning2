{
 "cells": [
  {
   "cell_type": "code",
   "execution_count": 1,
   "id": "dc1f821a",
   "metadata": {},
   "outputs": [
    {
     "name": "stderr",
     "output_type": "stream",
     "text": [
      "/usr/lib/python3/dist-packages/requests/__init__.py:89: RequestsDependencyWarning: urllib3 (1.26.9) or chardet (3.0.4) doesn't match a supported version!\n",
      "  warnings.warn(\"urllib3 ({}) or chardet ({}) doesn't match a supported \"\n"
     ]
    }
   ],
   "source": [
    "from principal_RBM_alpha import * \n",
    "from principal_DBN_alpha import * \n",
    "from principal_DNN_MNIST import * \n",
    "import torch\n",
    "import numpy as np\n",
    "from time import time\n",
    "from tqdm import tqdm\n",
    "import torchvision"
   ]
  },
  {
   "cell_type": "code",
   "execution_count": 2,
   "id": "e400c366",
   "metadata": {},
   "outputs": [],
   "source": [
    "device = torch.device('cuda') if torch.cuda.is_available() else 'cpu'"
   ]
  },
  {
   "cell_type": "markdown",
   "id": "b64f7ba0",
   "metadata": {},
   "source": [
    "### Visualisation du préentrainement d'une RBM sur BinaryAlphaDigits"
   ]
  },
  {
   "cell_type": "markdown",
   "id": "2ad073ea",
   "metadata": {},
   "source": [
    "Nous allons visualiser l'entrainement de notre RBM sur la base de données BinaryAlphadigits. Dans un premier temps, on considère le préentrainement sur le nombre $8$"
   ]
  },
  {
   "cell_type": "code",
   "execution_count": 3,
   "id": "38691d50",
   "metadata": {},
   "outputs": [],
   "source": [
    "index = 10\n",
    "X  = lire_alpha_digit(index, device)"
   ]
  },
  {
   "cell_type": "code",
   "execution_count": 4,
   "id": "2bdfdc8d",
   "metadata": {},
   "outputs": [
    {
     "name": "stdout",
     "output_type": "stream",
     "text": [
      "Les données contiennent:\n",
      "39 examples\n",
      "320 pixels\n"
     ]
    }
   ],
   "source": [
    "print('Les données contiennent:')\n",
    "print(f'{X.size(0)} examples')\n",
    "print(f'{X.size(1)} pixels')\n"
   ]
  },
  {
   "cell_type": "code",
   "execution_count": 5,
   "id": "0eff2138",
   "metadata": {
    "scrolled": true
   },
   "outputs": [
    {
     "name": "stdout",
     "output_type": "stream",
     "text": [
      "RBM avec 10 neuronnes\n"
     ]
    },
    {
     "name": "stderr",
     "output_type": "stream",
     "text": [
      "EPOCH 999 - Reconstruction Error: 21.3517: 100%|█| 1000/1000 [00:04<00:00, 206.6\n"
     ]
    },
    {
     "name": "stdout",
     "output_type": "stream",
     "text": [
      "\n",
      "RBM avec 100 neuronnes\n"
     ]
    },
    {
     "name": "stderr",
     "output_type": "stream",
     "text": [
      "EPOCH 999 - Reconstruction Error: 0.0289: 100%|█| 1000/1000 [00:05<00:00, 190.77\n"
     ]
    },
    {
     "name": "stdout",
     "output_type": "stream",
     "text": [
      "\n",
      "RBM avec 500 neuronnes\n"
     ]
    },
    {
     "name": "stderr",
     "output_type": "stream",
     "text": [
      "EPOCH 999 - Reconstruction Error: 0.0010: 100%|█| 1000/1000 [00:05<00:00, 183.09\n"
     ]
    },
    {
     "name": "stdout",
     "output_type": "stream",
     "text": [
      "\n"
     ]
    }
   ],
   "source": [
    "\n",
    "p = X.size(1) #Nombre de pixels\n",
    "qs = [10,100,500] #Test de différents nombres de neuronnes dans la couche cachée\n",
    "batch_size = 10 #Le nombre de données par batch\n",
    "lr = 0.1 #Le pas dans la gradient ascent\n",
    "epochs = 1000 #Le nombre d'itérations (nombre de fois que le modèle voit toutes les données)\n",
    "n_images = 2 #Nombre d'images à générer une fois la RBM entrainée\n",
    "gibbs_iter = 1000 #Nombre d'itération dans le gibbs sampler pour générer une image\n",
    "\n",
    "historique = []\n",
    "images_RBM = []\n",
    "times_RBM = []\n",
    "\n",
    "for q in qs : \n",
    "    t0 = time()\n",
    "    print(f'RBM avec {q} neuronnes')\n",
    "    RBM = init_RBM(p, q, device)\n",
    "    trained_RBM, history = train_RBM(X, RBM, epochs, lr, batch_size)\n",
    "    historique.append(history)\n",
    "    gen_images = generer_image_RBM(trained_RBM, gibbs_iter, n_images, plot = False)\n",
    "    print('')\n",
    "    times_RBM.append(time()-t0)\n",
    "    images_RBM.append(gen_images)"
   ]
  },
  {
   "cell_type": "code",
   "execution_count": 6,
   "id": "c9c8327e",
   "metadata": {},
   "outputs": [
    {
     "name": "stdout",
     "output_type": "stream",
     "text": [
      "Training time (GPU) 10 neuronnes: 5.137 seconds\n",
      "Training time (GPU) 100 neuronnes: 5.569 seconds\n",
      "Training time (GPU) 500 neuronnes: 5.826 seconds\n"
     ]
    }
   ],
   "source": [
    "print(f'Training time (GPU) 10 neuronnes: {times_RBM[0]:0.3f} seconds')\n",
    "print(f'Training time (GPU) 100 neuronnes: {times_RBM[1]:0.3f} seconds')\n",
    "print(f'Training time (GPU) 500 neuronnes: {times_RBM[2]:0.3f} seconds')"
   ]
  },
  {
   "cell_type": "markdown",
   "id": "8237aaa3",
   "metadata": {},
   "source": [
    "Le temps d'entraînement n'augmente presque pas avec le nombre de neuronnes. Cela est probablement du à l'utilisation du GPU par Pytorch"
   ]
  },
  {
   "cell_type": "code",
   "execution_count": 7,
   "id": "34a6dca8",
   "metadata": {},
   "outputs": [
    {
     "data": {
      "text/plain": [
       "Text(0, 0.5, 'Reconstruction Error')"
      ]
     },
     "execution_count": 7,
     "metadata": {},
     "output_type": "execute_result"
    },
    {
     "data": {
      "image/png": "[encoded data removed]",
      "text/plain": [
       "<Figure size 720x288 with 1 Axes>"
      ]
     },
     "metadata": {
      "needs_background": "light"
     },
     "output_type": "display_data"
    }
   ],
   "source": [
    "plt.figure(figsize = (10,4))\n",
    "plt.plot(historique[0], label = '10 Neuronnes')\n",
    "plt.plot(historique[1], label = '100 Neuronnes')\n",
    "plt.plot(historique[2], label = '500 Neuronnes')\n",
    "plt.legend()\n",
    "plt.xlabel('Epochs')\n",
    "plt.ylabel('Reconstruction Error')\n"
   ]
  },
  {
   "cell_type": "markdown",
   "id": "79956560",
   "metadata": {},
   "source": [
    "Nous voyons qu'une RBM avec 10 neuronnes ne convergent pas, tandis qu'une RBM avec 100 ou 500 neuronnes convergent vers une erreur de reconstruction très faible. Par ailleurs, l'utilisation de 500 neuronnes permet une convergence plus rapide."
   ]
  },
  {
   "cell_type": "code",
   "execution_count": 8,
   "id": "006ff6c3",
   "metadata": {},
   "outputs": [
    {
     "data": {
      "image/png": "[encoded data removed]",
      "text/plain": [
       "<Figure size 1152x720 with 8 Axes>"
      ]
     },
     "metadata": {
      "needs_background": "light"
     },
     "output_type": "display_data"
    }
   ],
   "source": [
    "fig, ax = plt.subplots(nrows = 2, ncols = 4, sharex = True, sharey = True, figsize = (16,10))\n",
    "\n",
    "ax[0,0].imshow(X[0].view(20,16).cpu().numpy())\n",
    "ax[1,0].imshow(X[10].view(20,16).cpu().numpy())\n",
    "ax[0,0].set_title('Training images')\n",
    "\n",
    "ax[0,1].imshow(images_RBM[0][0])\n",
    "ax[1,1].imshow(images_RBM[0][1])\n",
    "ax[0,1].set_title('Generated images (10 Neurons)')\n",
    "\n",
    "ax[0,2].imshow(images_RBM[1][0])\n",
    "ax[1,2].imshow(images_RBM[1][1])\n",
    "ax[0,2].set_title('Generated images (100 Neurons)')\n",
    "\n",
    "ax[0,3].imshow(images_RBM[2][0])\n",
    "ax[1,3].imshow(images_RBM[2][1])\n",
    "_=ax[0,3].set_title('Generated images (500 Neurons)')\n"
   ]
  },
  {
   "cell_type": "markdown",
   "id": "a5a6a856",
   "metadata": {},
   "source": [
    "Les RBM avec 100 et 500 neuronnes génèrent des images aussi proche que celles utilisées pourt l'entraînement."
   ]
  },
  {
   "cell_type": "markdown",
   "id": "96de9c5e",
   "metadata": {},
   "source": [
    "### Visualisation du préentrainement d'un DBN sur BinaryAlphaDigits"
   ]
  },
  {
   "cell_type": "code",
   "execution_count": 9,
   "id": "9bcc1984",
   "metadata": {},
   "outputs": [
    {
     "name": "stdout",
     "output_type": "stream",
     "text": [
      "DBN avec 2 couches de 100 neuronnes\n"
     ]
    },
    {
     "name": "stderr",
     "output_type": "stream",
     "text": [
      "EPOCH 999 - Reconstruction Error: 0.0239: 100%|█| 1000/1000 [00:04<00:00, 202.83\n",
      "EPOCH 999 - Reconstruction Error: 0.0042: 100%|█| 1000/1000 [00:04<00:00, 200.25\n"
     ]
    },
    {
     "name": "stdout",
     "output_type": "stream",
     "text": [
      "\n",
      "DBN avec 5 couches de 100 neuronnes\n"
     ]
    },
    {
     "name": "stderr",
     "output_type": "stream",
     "text": [
      "EPOCH 999 - Reconstruction Error: 0.0273: 100%|█| 1000/1000 [00:05<00:00, 182.30\n",
      "EPOCH 999 - Reconstruction Error: 0.0043: 100%|█| 1000/1000 [00:05<00:00, 173.31\n",
      "EPOCH 999 - Reconstruction Error: 0.0030: 100%|█| 1000/1000 [00:05<00:00, 199.29\n",
      "EPOCH 999 - Reconstruction Error: 0.0021: 100%|█| 1000/1000 [00:05<00:00, 199.38\n",
      "EPOCH 999 - Reconstruction Error: 0.0018: 100%|█| 1000/1000 [00:04<00:00, 212.72\n"
     ]
    },
    {
     "name": "stdout",
     "output_type": "stream",
     "text": [
      "\n",
      "DBN avec 2 couches de 500 neuronnes\n"
     ]
    },
    {
     "name": "stderr",
     "output_type": "stream",
     "text": [
      "EPOCH 999 - Reconstruction Error: 0.0010: 100%|█| 1000/1000 [00:05<00:00, 197.61\n",
      "EPOCH 999 - Reconstruction Error: 0.0004: 100%|█| 1000/1000 [00:05<00:00, 186.41\n"
     ]
    },
    {
     "name": "stdout",
     "output_type": "stream",
     "text": [
      "\n",
      "DBN avec 5 couches de 500 neuronnes\n"
     ]
    },
    {
     "name": "stderr",
     "output_type": "stream",
     "text": [
      "EPOCH 999 - Reconstruction Error: 0.0010: 100%|█| 1000/1000 [00:05<00:00, 194.95\n",
      "EPOCH 999 - Reconstruction Error: 0.0004: 100%|█| 1000/1000 [00:05<00:00, 198.25\n",
      "EPOCH 999 - Reconstruction Error: 0.0002: 100%|█| 1000/1000 [00:05<00:00, 190.80\n",
      "EPOCH 999 - Reconstruction Error: 0.0003: 100%|█| 1000/1000 [00:05<00:00, 190.70\n",
      "EPOCH 999 - Reconstruction Error: 0.0002: 100%|█| 1000/1000 [00:05<00:00, 182.67\n"
     ]
    },
    {
     "name": "stdout",
     "output_type": "stream",
     "text": [
      "\n"
     ]
    }
   ],
   "source": [
    "\n",
    "p = X.size(1) #Nombre de pixels\n",
    "qs = [100,500] #Test de différents nombres de neuronnes dans la couche cachée\n",
    "n_layers = [2,5]\n",
    "batch_size = 10 #Le nombre de données par batch\n",
    "lr = 0.1 #Le pas dans la gradient ascent\n",
    "epochs = 1000 #Le nombre d'itérations (nombre de fois que le modèle voit toutes les données)\n",
    "n_images = 2 #Nombre d'images à générer une fois la RBM entrainée\n",
    "gibbs_iter = 1000 #Nombre d'itération dans le gibbs sampler pour générer une image\n",
    "\n",
    "images_DBN = []\n",
    "times_DBN = []\n",
    "\n",
    "for q in qs : \n",
    "    for n in n_layers : \n",
    "        t0 = time()\n",
    "        print(f'DBN avec {n} couches de {q} neuronnes')\n",
    "        sizes = [(X.size(1), q)]\n",
    "        for j in range(n) : \n",
    "            sizes.append((q, q)) \n",
    "        DNN = init_DNN(len(sizes), sizes, device)\n",
    "        trained_DNN = pretrain_DNN(\n",
    "             X, DNN, epochs, lr, batch_size\n",
    "         )\n",
    "        gen_images = generer_image_DBN(trained_DNN, gibbs_iter, n_images, plot = False)\n",
    "        print('')\n",
    "        times_DBN.append(time()-t0)\n",
    "        images_DBN.append(gen_images)"
   ]
  },
  {
   "cell_type": "code",
   "execution_count": 10,
   "id": "010cce2d",
   "metadata": {},
   "outputs": [
    {
     "name": "stdout",
     "output_type": "stream",
     "text": [
      "Training time (GPU) 2 couches - 100 neuronnes: 11.219 seconds\n",
      "Training time (GPU) 5 couches - 100 neuronnes: 28.347 seconds\n",
      "Training time (GPU) 2 couches - 500 neuronnes: 11.742 seconds\n",
      "Training time (GPU) 5 couches - 500 neuronnes: 28.509 seconds\n"
     ]
    }
   ],
   "source": [
    "print(f'Training time (GPU) 2 couches - 100 neuronnes: {times_DBN[0]:0.3f} seconds')\n",
    "print(f'Training time (GPU) 5 couches - 100 neuronnes: {times_DBN[1]:0.3f} seconds')\n",
    "print(f'Training time (GPU) 2 couches - 500 neuronnes: {times_DBN[2]:0.3f} seconds')\n",
    "print(f'Training time (GPU) 5 couches - 500 neuronnes: {times_DBN[3]:0.3f} seconds')"
   ]
  },
  {
   "cell_type": "markdown",
   "id": "1d8a58ba",
   "metadata": {},
   "source": [
    "Le temps d'entraînement semble augmenter linéairement avec le nombre de couches. Cependant, le nombre de neuronnes ne l'affecte pas beaucoup "
   ]
  },
  {
   "cell_type": "code",
   "execution_count": 11,
   "id": "ce721c0f",
   "metadata": {},
   "outputs": [
    {
     "data": {
      "image/png": "[encoded data removed]",
      "text/plain": [
       "<Figure size 864x576 with 10 Axes>"
      ]
     },
     "metadata": {
      "needs_background": "light"
     },
     "output_type": "display_data"
    }
   ],
   "source": [
    "fig, ax = plt.subplots(nrows = 2, ncols = 5, sharex = True, sharey = True, figsize = (12,8))\n",
    "\n",
    "ax[0,0].imshow(X[0].view(20,16).cpu().numpy())\n",
    "ax[1,0].imshow(X[10].view(20,16).cpu().numpy())\n",
    "ax[0,0].set_title('Training images')\n",
    "\n",
    "ax[0,1].imshow(images_DBN[0][0])\n",
    "ax[1,1].imshow(images_DBN[0][1])\n",
    "ax[0,1].set_title('2 Layers - 100 Neurons')\n",
    "\n",
    "ax[0,2].imshow(images_DBN[1][0])\n",
    "ax[1,2].imshow(images_DBN[1][1])\n",
    "ax[0,2].set_title('5 Layers - 100 Neurons')\n",
    "\n",
    "ax[0,3].imshow(images_DBN[2][0])\n",
    "ax[1,3].imshow(images_DBN[2][1])\n",
    "ax[0,3].set_title('2 Layers - 500 Neurons')\n",
    "\n",
    "ax[0,4].imshow(images_DBN[3][0])\n",
    "ax[1,4].imshow(images_DBN[3][1])\n",
    "_ = ax[0,4].set_title('5 Layers - 500 Neurons')\n",
    "plt.tight_layout()"
   ]
  },
  {
   "cell_type": "markdown",
   "id": "dab1b954",
   "metadata": {},
   "source": [
    "##### Génération d'Image pour le rapport"
   ]
  },
  {
   "cell_type": "code",
   "execution_count": 12,
   "id": "a2887aac",
   "metadata": {},
   "outputs": [
    {
     "data": {
      "image/png": "[encoded data removed]",
      "text/plain": [
       "<Figure size 1008x576 with 10 Axes>"
      ]
     },
     "metadata": {
      "needs_background": "light"
     },
     "output_type": "display_data"
    }
   ],
   "source": [
    "fig, ax = plt.subplots(nrows = 2, ncols = 5, sharex = True, sharey = True, figsize = (14,8))\n",
    "\n",
    "ax[0,0].imshow(X[0].view(20,16).cpu().numpy())\n",
    "ax[1,0].imshow(X[10].view(20,16).cpu().numpy())\n",
    "ax[0,0].set_title('Training images')\n",
    "\n",
    "ax[0,1].imshow(images_RBM[1][0])\n",
    "ax[1,1].imshow(images_RBM[1][1])\n",
    "ax[0,1].set_title('RBM (100 Neurons)')\n",
    "\n",
    "ax[0,2].imshow(images_RBM[2][0])\n",
    "ax[1,2].imshow(images_RBM[2][1])\n",
    "_=ax[0,2].set_title('RBM (500 Neurons)')\n",
    "\n",
    "ax[0,3].imshow(images_DBN[0][0])\n",
    "ax[1,3].imshow(images_DBN[0][1])\n",
    "ax[0,3].set_title('DBN (2 Layers - 100 Neurons)')\n",
    "\n",
    "ax[0,4].imshow(images_DBN[3][0])\n",
    "ax[1,4].imshow(images_DBN[3][1])\n",
    "_ = ax[0,4].set_title('DBN (5 Layers - 500 Neurons)')\n",
    "plt.tight_layout()\n",
    "\n",
    "plt.savefig('figures/image_generation_rbm_dbn.jpg', dpi=300)"
   ]
  },
  {
   "cell_type": "markdown",
   "id": "6b5a223d",
   "metadata": {},
   "source": [
    "### Classfication avec un DNN"
   ]
  },
  {
   "cell_type": "markdown",
   "id": "9900b8b6",
   "metadata": {},
   "source": [
    "Pour la classification, on considère le dataset MNIST contenant des images en $28\\times28$ pixels représentant des chiffres de $0$ à $9$. On possède $60000$ images pour l'entrainement et $10000$ images pour tester la généralisation de notre modèle.\n",
    "\n",
    "On va utiliser un DNN - un DBN contenant une couche de classification supplémentaire. On divise le jeu en jeu d'entraînement (train), validation (pour déterminer un critère d'arrêt d'entrainement) et de test. On utilisera $5\\%$ du jeu d'entrainement en tant que jeu de validation pour la dernière partie consistant à trouver le meilleure jeu d'hyperparamètres."
   ]
  },
  {
   "cell_type": "code",
   "execution_count": 13,
   "id": "0ce94c1e",
   "metadata": {},
   "outputs": [],
   "source": [
    "X_train, y_train, X_val, y_val, X_test, y_test = lire_mnist(device = device, val_size = 0)"
   ]
  },
  {
   "cell_type": "code",
   "execution_count": 14,
   "id": "282d17eb",
   "metadata": {},
   "outputs": [
    {
     "data": {
      "image/png": "[encoded data removed]",
      "text/plain": [
       "<Figure size 1296x864 with 5 Axes>"
      ]
     },
     "metadata": {
      "needs_background": "light"
     },
     "output_type": "display_data"
    }
   ],
   "source": [
    "fig, ax = plt.subplots(ncols = 5, nrows = 1, figsize = (18,12))\n",
    "\n",
    "for j in range(5) : \n",
    "    ax[j].imshow(X_train[np.random.randint(X_train.size(0))].reshape(28,28).cpu().numpy())"
   ]
  },
  {
   "cell_type": "markdown",
   "id": "f7d95055",
   "metadata": {},
   "source": [
    "On s'intéresse à deux types de **DNN*: \n",
    "\n",
    "- Un **DNN** préentrainé: on performe dans un premier temps un entrainement non supervisé de toutes les couches (hors couche de classification) du DNN de la même manière que l'on a entrainé le DBN. On entraine ensuite le **DNN** en utilisant l'alogrithme de rétropropagation.\n",
    "- Un **DNN** initalisé aléatoirement, entrainé avec l'alogrithme de rétropropagation.\n",
    "\n",
    "Dans les deux cas, les **DNN** seront initialisés avec les mêmes poids. Pour cela, on utilise le code suivant:"
   ]
  },
  {
   "cell_type": "code",
   "execution_count": 15,
   "id": "873cb21e",
   "metadata": {},
   "outputs": [
    {
     "name": "stdout",
     "output_type": "stream",
     "text": [
      "Number of parameters equal between RBMs: 6\n",
      "Number of parameters: 6\n"
     ]
    }
   ],
   "source": [
    "sizes = [(10,10), (10,10)]\n",
    "DNN_1 = init_DNN(len(sizes), sizes, device, random_state = 42)\n",
    "DNN_2 = init_DNN(len(sizes), sizes, device, random_state = 42)\n",
    "\n",
    "##Checking that the parameters are equal across RBMs\n",
    "assertions = []\n",
    "for layer in range(len(sizes)) : \n",
    "    rbm_1 = DNN_1[layer]\n",
    "    rbm_2 = DNN_2[layer]\n",
    "    assertions.append(torch.all( torch.isclose(rbm_1.W, rbm_2.W, atol = 1e-9)).item() )\n",
    "    assertions.append(torch.all( torch.isclose(rbm_1.b, rbm_2.b, atol = 1e-9)).item() )\n",
    "    assertions.append(torch.all( torch.isclose(rbm_1.a, rbm_2.a, atol = 1e-9)).item() )\n",
    "    \n",
    "#3 params / RBMs\n",
    "n_params = len(sizes) * 3 \n",
    "print(f'Number of parameters equal between RBMs: {sum(assertions)}')\n",
    "print(f'Number of parameters: {n_params}')"
   ]
  },
  {
   "cell_type": "markdown",
   "id": "e6ce00e2",
   "metadata": {},
   "source": [
    "### Expérience 1"
   ]
  },
  {
   "cell_type": "markdown",
   "id": "37b525df",
   "metadata": {},
   "source": [
    "On s'intéresse a la différence entre un **DNN** préentrainé et un **DNN** initialisé aléatoirement pour une nombre fixé de neuronnes en faisant varier le nombre de couches:"
   ]
  },
  {
   "cell_type": "code",
   "execution_count": 16,
   "id": "f793a7bf",
   "metadata": {
    "scrolled": true
   },
   "outputs": [
    {
     "name": "stderr",
     "output_type": "stream",
     "text": [
      "Epoch 200 | loss : 2.408 | accuracy  0.10: 100%|█| 200/200 [00:39<00:00,  5.12it\n",
      "EPOCH 99 - Reconstruction Error: 8.0665: 100%|█| 100/100 [00:24<00:00,  4.02it/s\n",
      "EPOCH 99 - Reconstruction Error: 2.3588: 100%|█| 100/100 [00:12<00:00,  7.82it/s\n",
      "EPOCH 99 - Reconstruction Error: 1.5127: 100%|█| 100/100 [00:13<00:00,  7.57it/s\n",
      "Epoch 200 | loss : 0.079 | accuracy  0.98: 100%|█| 200/200 [00:44<00:00,  4.48it\n"
     ]
    }
   ],
   "source": [
    "####### EXAMPLE D'ENTRAINEMENT d'UN DNN (A MODIF POUR L EXPERIENCE) ######\n",
    "\n",
    "q = 200\n",
    "nlayers = 2\n",
    "epochs_retro = 200\n",
    "epochs_pretrain = 100\n",
    "lr = 0.1\n",
    "batch_size = 512 \n",
    "\n",
    "sizes = [(X_train.size(1), q)]\n",
    "for j in range(nlayers) : \n",
    "    sizes.append((q, q))\n",
    "sizes.append((q, 10))\n",
    "\n",
    "DNN_1 = init_DNN(len(sizes), sizes, device, random_state = 42)\n",
    "DNN_2 = init_DNN(len(sizes), sizes, device, random_state = 42)\n",
    "\n",
    "# RETRO SANS PRETRAIN #\n",
    "DNN_1, history_1 = retropropagation(X_train, y_train, DNN_1, epochs_retro, lr, batch_size)\n",
    "\n",
    "# RETRO AVEC PRETRAIN\n",
    "DNN_2 = pretrain_DNN(X_train, DNN_2, epochs_pretrain, lr, batch_size)\n",
    "DNN_2, history_2 = retropropagation(X_train, y_train, DNN_2, epochs_retro, lr, batch_size)\n"
   ]
  },
  {
   "cell_type": "code",
   "execution_count": 20,
   "id": "6d2b255d",
   "metadata": {},
   "outputs": [
    {
     "name": "stdout",
     "output_type": "stream",
     "text": [
      "(No Pretrain) Accuracy Train : 0.099\n",
      "(No Pretrain) Accuracy Test : 0.103\n",
      "\n",
      "(No Pretrain) Accuracy Train : 0.979\n",
      "(No Pretrain) Accuracy Test : 0.965\n"
     ]
    }
   ],
   "source": [
    "accuracy_test_1 = test_DNN(X_test,y_test, DNN_1)\n",
    "accuracy_train_1 = test_DNN(X_train, y_train, DNN_1)\n",
    "\n",
    "accuracy_test_2 = test_DNN(X_test,y_test, DNN_2)\n",
    "accuracy_train_2 = test_DNN(X_train, y_train, DNN_2)\n",
    "\n",
    "print(f'(No Pretrain) Accuracy Train : {accuracy_train_1:0.3f}')\n",
    "print(f'(No Pretrain) Accuracy Test : {accuracy_test_1:0.3f}')\n",
    "print(f'\\n(No Pretrain) Accuracy Train : {accuracy_train_2:0.3f}')\n",
    "print(f'(No Pretrain) Accuracy Test : {accuracy_test_2:0.3f}')"
   ]
  },
  {
   "cell_type": "code",
   "execution_count": 21,
   "id": "f1cef0a1",
   "metadata": {},
   "outputs": [
    {
     "data": {
      "text/plain": [
       "[<matplotlib.lines.Line2D at 0x7f756137ba30>]"
      ]
     },
     "execution_count": 21,
     "metadata": {},
     "output_type": "execute_result"
    },
    {
     "data": {
      "image/png": "[encoded data removed]",
      "text/plain": [
       "<Figure size 432x288 with 1 Axes>"
      ]
     },
     "metadata": {
      "needs_background": "light"
     },
     "output_type": "display_data"
    }
   ],
   "source": [
    "plt.plot(history_1)\n",
    "plt.plot(history_2)"
   ]
  },
  {
   "cell_type": "markdown",
   "id": "f9c48a47",
   "metadata": {},
   "source": [
    "Pas de convergence sans préentrainement (ça sera surement la conclusion pour différents nombre de layers)"
   ]
  },
  {
   "cell_type": "markdown",
   "id": "39af31ad",
   "metadata": {},
   "source": [
    "### Expérience 2"
   ]
  },
  {
   "cell_type": "code",
   "execution_count": null,
   "id": "74068624",
   "metadata": {},
   "outputs": [],
   "source": []
  },
  {
   "cell_type": "code",
   "execution_count": null,
   "id": "48d557b0",
   "metadata": {},
   "outputs": [],
   "source": []
  },
  {
   "cell_type": "code",
   "execution_count": null,
   "id": "44bd5220",
   "metadata": {},
   "outputs": [],
   "source": []
  },
  {
   "cell_type": "markdown",
   "id": "18732750",
   "metadata": {},
   "source": [
    "### Expérience 3"
   ]
  },
  {
   "cell_type": "code",
   "execution_count": null,
   "id": "d090afa5",
   "metadata": {},
   "outputs": [],
   "source": []
  },
  {
   "cell_type": "code",
   "execution_count": null,
   "id": "7e19dc1b",
   "metadata": {},
   "outputs": [],
   "source": []
  },
  {
   "cell_type": "code",
   "execution_count": null,
   "id": "f074470b",
   "metadata": {},
   "outputs": [],
   "source": []
  },
  {
   "cell_type": "markdown",
   "id": "661f06bd",
   "metadata": {},
   "source": [
    "### Hyperparameter tuning"
   ]
  },
  {
   "cell_type": "code",
   "execution_count": null,
   "id": "c4bfa1fa",
   "metadata": {},
   "outputs": [],
   "source": []
  }
 ],
 "metadata": {
  "kernelspec": {
   "display_name": "Python 3 (ipykernel)",
   "language": "python",
   "name": "python3"
  },
  "language_info": {
   "codemirror_mode": {
    "name": "ipython",
    "version": 3
   },
   "file_extension": ".py",
   "mimetype": "text/x-python",
   "name": "python",
   "nbconvert_exporter": "python",
   "pygments_lexer": "ipython3",
   "version": "3.8.10"
  }
 },
 "nbformat": 4,
 "nbformat_minor": 5
}
