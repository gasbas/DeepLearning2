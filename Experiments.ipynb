{
 "cells": [
  {
   "cell_type": "code",
   "execution_count": 1,
   "id": "dc1f821a",
   "metadata": {},
   "outputs": [],
   "source": [
    "from principal_RBM_alpha import * \n",
    "import torch\n",
    "import numpy as np\n",
    "from time import time"
   ]
  },
  {
   "cell_type": "code",
   "execution_count": 2,
   "id": "e400c366",
   "metadata": {},
   "outputs": [],
   "source": [
    "device = torch.device('cuda') if torch.cuda.is_available() else 'cpu'"
   ]
  },
  {
   "cell_type": "markdown",
   "id": "b64f7ba0",
   "metadata": {},
   "source": [
    "### Visualisation du préentrainement d'une RBM sur BinaryAlphaDigits"
   ]
  },
  {
   "cell_type": "markdown",
   "id": "2ad073ea",
   "metadata": {},
   "source": [
    "Nous allons visualiser l'entrainement de notre RBM sur la base de données BinaryAlphadigits. Dans un premier temps, on considère le préentrainement sur le nombre $8$"
   ]
  },
  {
   "cell_type": "code",
   "execution_count": 3,
   "id": "38691d50",
   "metadata": {},
   "outputs": [],
   "source": [
    "index = 8 \n",
    "X  = lire_alpha_digit(index, device)"
   ]
  },
  {
   "cell_type": "code",
   "execution_count": 4,
   "id": "2bdfdc8d",
   "metadata": {},
   "outputs": [
    {
     "name": "stdout",
     "output_type": "stream",
     "text": [
      "Les données contiennent:\n",
      "39 examples\n",
      "320 pixels\n"
     ]
    }
   ],
   "source": [
    "print('Les données contiennent:')\n",
    "print(f'{X.size(0)} examples')\n",
    "print(f'{X.size(1)} pixels')\n"
   ]
  },
  {
   "cell_type": "code",
   "execution_count": 39,
   "id": "0eff2138",
   "metadata": {
    "scrolled": true
   },
   "outputs": [
    {
     "name": "stdout",
     "output_type": "stream",
     "text": [
      "RBM avec 10 neuronnes\n",
      "EPOCH 0 - Reconstruction Error: 70.2222\n",
      "EPOCH 50 - Reconstruction Error: 47.7007\n",
      "EPOCH 100 - Reconstruction Error: 41.1727\n",
      "EPOCH 150 - Reconstruction Error: 37.4257\n",
      "EPOCH 200 - Reconstruction Error: 35.3183\n",
      "EPOCH 250 - Reconstruction Error: 33.7990\n",
      "EPOCH 300 - Reconstruction Error: 32.7210\n",
      "EPOCH 350 - Reconstruction Error: 31.7555\n",
      "EPOCH 400 - Reconstruction Error: 31.1541\n",
      "EPOCH 450 - Reconstruction Error: 30.6388\n",
      "EPOCH 500 - Reconstruction Error: 30.2363\n",
      "EPOCH 550 - Reconstruction Error: 29.8506\n",
      "EPOCH 600 - Reconstruction Error: 29.5222\n",
      "EPOCH 650 - Reconstruction Error: 29.2008\n",
      "EPOCH 700 - Reconstruction Error: 28.9041\n",
      "EPOCH 750 - Reconstruction Error: 28.5259\n",
      "EPOCH 800 - Reconstruction Error: 28.3187\n",
      "EPOCH 850 - Reconstruction Error: 28.2719\n",
      "EPOCH 900 - Reconstruction Error: 27.8328\n",
      "EPOCH 950 - Reconstruction Error: 27.4714\n",
      "\n",
      "RBM avec 100 neuronnes\n",
      "EPOCH 0 - Reconstruction Error: 59.5818\n",
      "EPOCH 50 - Reconstruction Error: 13.3980\n",
      "EPOCH 100 - Reconstruction Error: 4.4773\n",
      "EPOCH 150 - Reconstruction Error: 2.0609\n",
      "EPOCH 200 - Reconstruction Error: 1.1604\n",
      "EPOCH 250 - Reconstruction Error: 0.7292\n",
      "EPOCH 300 - Reconstruction Error: 0.4996\n",
      "EPOCH 350 - Reconstruction Error: 0.3632\n",
      "EPOCH 400 - Reconstruction Error: 0.2733\n",
      "EPOCH 450 - Reconstruction Error: 0.2129\n",
      "EPOCH 500 - Reconstruction Error: 0.1703\n",
      "EPOCH 550 - Reconstruction Error: 0.1391\n",
      "EPOCH 600 - Reconstruction Error: 0.1160\n",
      "EPOCH 650 - Reconstruction Error: 0.0984\n",
      "EPOCH 700 - Reconstruction Error: 0.0839\n",
      "EPOCH 750 - Reconstruction Error: 0.0724\n",
      "EPOCH 800 - Reconstruction Error: 0.0631\n"
     ]
    },
    {
     "ename": "KeyboardInterrupt",
     "evalue": "",
     "output_type": "error",
     "traceback": [
      "\u001b[0;31m---------------------------------------------------------------------------\u001b[0m",
      "\u001b[0;31mKeyboardInterrupt\u001b[0m                         Traceback (most recent call last)",
      "\u001b[0;32m/var/folders/3t/snknmzcj7q9db__jq3ptm8380000gn/T/ipykernel_2835/3585327761.py\u001b[0m in \u001b[0;36m<module>\u001b[0;34m\u001b[0m\n\u001b[1;32m     15\u001b[0m     \u001b[0mprint\u001b[0m\u001b[0;34m(\u001b[0m\u001b[0;34mf'RBM avec {q} neuronnes'\u001b[0m\u001b[0;34m)\u001b[0m\u001b[0;34m\u001b[0m\u001b[0;34m\u001b[0m\u001b[0m\n\u001b[1;32m     16\u001b[0m     \u001b[0mRBM\u001b[0m \u001b[0;34m=\u001b[0m \u001b[0minit_RBM\u001b[0m\u001b[0;34m(\u001b[0m\u001b[0mp\u001b[0m\u001b[0;34m,\u001b[0m \u001b[0mq\u001b[0m\u001b[0;34m,\u001b[0m \u001b[0mdevice\u001b[0m\u001b[0;34m)\u001b[0m\u001b[0;34m\u001b[0m\u001b[0;34m\u001b[0m\u001b[0m\n\u001b[0;32m---> 17\u001b[0;31m     \u001b[0mtrained_RBM\u001b[0m\u001b[0;34m,\u001b[0m \u001b[0mhistory\u001b[0m \u001b[0;34m=\u001b[0m \u001b[0mtrain_RBM\u001b[0m\u001b[0;34m(\u001b[0m\u001b[0mX\u001b[0m\u001b[0;34m,\u001b[0m \u001b[0mRBM\u001b[0m\u001b[0;34m,\u001b[0m \u001b[0mepochs\u001b[0m\u001b[0;34m,\u001b[0m \u001b[0mlr\u001b[0m\u001b[0;34m,\u001b[0m \u001b[0mbatch_size\u001b[0m\u001b[0;34m)\u001b[0m\u001b[0;34m\u001b[0m\u001b[0;34m\u001b[0m\u001b[0m\n\u001b[0m\u001b[1;32m     18\u001b[0m     \u001b[0mhistorique\u001b[0m\u001b[0;34m.\u001b[0m\u001b[0mappend\u001b[0m\u001b[0;34m(\u001b[0m\u001b[0mhistory\u001b[0m\u001b[0;34m)\u001b[0m\u001b[0;34m\u001b[0m\u001b[0;34m\u001b[0m\u001b[0m\n\u001b[1;32m     19\u001b[0m     \u001b[0mgen_images\u001b[0m \u001b[0;34m=\u001b[0m \u001b[0mgenerer_image_RBM\u001b[0m\u001b[0;34m(\u001b[0m\u001b[0mtrained_RBM\u001b[0m\u001b[0;34m,\u001b[0m \u001b[0mgibbs_iter\u001b[0m\u001b[0;34m,\u001b[0m \u001b[0mn_images\u001b[0m\u001b[0;34m,\u001b[0m \u001b[0mplot\u001b[0m \u001b[0;34m=\u001b[0m \u001b[0;32mFalse\u001b[0m\u001b[0;34m)\u001b[0m\u001b[0;34m\u001b[0m\u001b[0;34m\u001b[0m\u001b[0m\n",
      "\u001b[0;32m~/DeepLearning2/principal_RBM_alpha.py\u001b[0m in \u001b[0;36mtrain_RBM\u001b[0;34m(X, RBM, epochs, lr, batch_size)\u001b[0m\n\u001b[1;32m    115\u001b[0m             \u001b[0;32mfor\u001b[0m \u001b[0midx\u001b[0m \u001b[0;32min\u001b[0m \u001b[0mrange\u001b[0m\u001b[0;34m(\u001b[0m\u001b[0mx\u001b[0m\u001b[0;34m.\u001b[0m\u001b[0mshape\u001b[0m\u001b[0;34m[\u001b[0m\u001b[0;36m0\u001b[0m\u001b[0;34m]\u001b[0m\u001b[0;34m)\u001b[0m\u001b[0;34m:\u001b[0m\u001b[0;34m\u001b[0m\u001b[0;34m\u001b[0m\u001b[0m\n\u001b[1;32m    116\u001b[0m                 \u001b[0mRBM\u001b[0m\u001b[0;34m.\u001b[0m\u001b[0ma\u001b[0m \u001b[0;34m+=\u001b[0m \u001b[0mlr\u001b[0m \u001b[0;34m*\u001b[0m \u001b[0mgrad_a_\u001b[0m\u001b[0;34m[\u001b[0m\u001b[0midx\u001b[0m\u001b[0;34m]\u001b[0m\u001b[0;34m\u001b[0m\u001b[0;34m\u001b[0m\u001b[0m\n\u001b[0;32m--> 117\u001b[0;31m                 \u001b[0mRBM\u001b[0m\u001b[0;34m.\u001b[0m\u001b[0mb\u001b[0m \u001b[0;34m+=\u001b[0m \u001b[0mlr\u001b[0m \u001b[0;34m*\u001b[0m \u001b[0mgrad_b_\u001b[0m\u001b[0;34m[\u001b[0m\u001b[0midx\u001b[0m\u001b[0;34m]\u001b[0m\u001b[0;34m\u001b[0m\u001b[0;34m\u001b[0m\u001b[0m\n\u001b[0m\u001b[1;32m    118\u001b[0m \u001b[0;34m\u001b[0m\u001b[0m\n\u001b[1;32m    119\u001b[0m             \u001b[0mgen_h\u001b[0m \u001b[0;34m=\u001b[0m \u001b[0mentree_sortie_RBM\u001b[0m\u001b[0;34m(\u001b[0m\u001b[0mx\u001b[0m\u001b[0;34m,\u001b[0m \u001b[0mRBM\u001b[0m\u001b[0;34m)\u001b[0m\u001b[0;34m\u001b[0m\u001b[0;34m\u001b[0m\u001b[0m\n",
      "\u001b[0;31mKeyboardInterrupt\u001b[0m: "
     ]
    }
   ],
   "source": [
    "\n",
    "p = X.size(1) #Nombre de pixels\n",
    "qs = [10,100,500] #Test de différents nombres de neuronnes dans la couche cachée\n",
    "batch_size = 10 #Le nombre de données par batch\n",
    "lr = 0.01 #Le pas dans la gradient ascent\n",
    "epochs = 1000 #Le nombre d'itérations (nombre de fois que le modèle voit toutes les données)\n",
    "n_images = 2 #Nombre d'images à générer une fois la RBM entrainée\n",
    "gibbs_iter = 1000 #Nombre d'itération dans le gibbs sampler pour générer une image\n",
    "\n",
    "historique = []\n",
    "images = []\n",
    "times = []\n",
    "\n",
    "for q in qs : \n",
    "    t0 = time()\n",
    "    print(f'RBM avec {q} neuronnes')\n",
    "    RBM = init_RBM(p, q, device)\n",
    "    trained_RBM, history = train_RBM(X, RBM, epochs, lr, batch_size)\n",
    "    historique.append(history)\n",
    "    gen_images = generer_image_RBM(trained_RBM, gibbs_iter, n_images, plot = False)\n",
    "    print('')\n",
    "    times.append(time()-t0)\n",
    "    images.append(gen_images)"
   ]
  },
  {
   "cell_type": "code",
   "execution_count": 59,
   "id": "c9c8327e",
   "metadata": {},
   "outputs": [
    {
     "name": "stdout",
     "output_type": "stream",
     "text": [
      "Training time (GPU) 10 neuronnes: 4.011 seconds\n",
      "Training time (GPU) 100 neuronnes: 4.055 seconds\n",
      "Training time (GPU) 500 neuronnes: 3.966 seconds\n"
     ]
    }
   ],
   "source": [
    "print(f'Training time (GPU) 10 neuronnes: {times[0]:0.3f} seconds')\n",
    "print(f'Training time (GPU) 100 neuronnes: {times[1]:0.3f} seconds')\n",
    "print(f'Training time (GPU) 500 neuronnes: {times[2]:0.3f} seconds')"
   ]
  },
  {
   "cell_type": "markdown",
   "id": "8237aaa3",
   "metadata": {},
   "source": [
    "Le temps d'entraînement n'augmente presque pas avec le nombre de neuronnes. Cela est probablement du à l'utilisation du GPU par Pytorch"
   ]
  },
  {
   "cell_type": "code",
   "execution_count": 60,
   "id": "34a6dca8",
   "metadata": {},
   "outputs": [
    {
     "data": {
      "text/plain": [
       "Text(0, 0.5, 'Reconstruction Error')"
      ]
     },
     "execution_count": 60,
     "metadata": {},
     "output_type": "execute_result"
    },
    {
     "data": {
      "image/png": "[encoded data removed]",
      "text/plain": [
       "<Figure size 720x288 with 1 Axes>"
      ]
     },
     "metadata": {
      "needs_background": "light"
     },
     "output_type": "display_data"
    }
   ],
   "source": [
    "plt.figure(figsize = (10,4))\n",
    "plt.plot(historique[0], label = '10 Neuronnes')\n",
    "plt.plot(historique[1], label = '100 Neuronnes')\n",
    "plt.plot(historique[2], label = '500 Neuronnes')\n",
    "plt.legend()\n",
    "plt.xlabel('Epochs')\n",
    "plt.ylabel('Reconstruction Error')\n"
   ]
  },
  {
   "cell_type": "markdown",
   "id": "79956560",
   "metadata": {},
   "source": [
    "Nous voyons qu'une RBM avec 10 neuronnes ne convergent pas, tandis qu'une RBM avec 100 ou 500 neuronnes convergent vers une erreur de reconstruction très faible. Par ailleurs, l'utilisation de 500 neuronnes permet une convergence plus rapide."
   ]
  },
  {
   "cell_type": "code",
   "execution_count": 61,
   "id": "006ff6c3",
   "metadata": {},
   "outputs": [
    {
     "data": {
      "image/png": "[encoded data removed]",
      "text/plain": [
       "<Figure size 1152x720 with 8 Axes>"
      ]
     },
     "metadata": {
      "needs_background": "light"
     },
     "output_type": "display_data"
    }
   ],
   "source": [
    "fig, ax = plt.subplots(nrows = 2, ncols = 4, sharex = True, sharey = True, figsize = (16,10))\n",
    "\n",
    "ax[0,0].imshow(X[0].view(20,16).cpu().numpy())\n",
    "ax[1,0].imshow(X[10].view(20,16).cpu().numpy())\n",
    "ax[0,0].set_title('Training images')\n",
    "\n",
    "ax[0,1].imshow(images[0][0])\n",
    "ax[1,1].imshow(images[0][1])\n",
    "ax[0,1].set_title('Generated images (10 Neurons)')\n",
    "\n",
    "ax[0,2].imshow(images[1][0])\n",
    "ax[1,2].imshow(images[1][1])\n",
    "ax[0,2].set_title('Generated images (100 Neurons)')\n",
    "\n",
    "ax[0,3].imshow(images[2][0])\n",
    "ax[1,3].imshow(images[2][1])\n",
    "_=ax[0,3].set_title('Generated images (500 Neurons)')\n"
   ]
  },
  {
   "cell_type": "markdown",
   "id": "a5a6a856",
   "metadata": {},
   "source": [
    "Les RBM avec 100 et 500 neuronnes génèrent des images aussi proche que celles utilisées pourt l'entraînement."
   ]
  },
  {
   "cell_type": "markdown",
   "id": "890d93fe",
   "metadata": {},
   "source": [
    "DNN"
   ]
  },
  {
   "cell_type": "code",
   "execution_count": 5,
   "id": "05fcd98a",
   "metadata": {},
   "outputs": [],
   "source": [
    "from principal_DBN_alpha import * \n",
    "from principal_RBM_alpha import * \n",
    "import torch\n",
    "import numpy as np\n",
    "from time import time"
   ]
  },
  {
   "cell_type": "code",
   "execution_count": 33,
   "id": "22b16362",
   "metadata": {},
   "outputs": [],
   "source": [
    "depth = 5\n",
    "sizes = [(320, 100), (100, 100), (100, 100),(100, 100),(100, 100)]\n",
    "DNN_init = init_DNN(depth, sizes, device) "
   ]
  },
  {
   "cell_type": "code",
   "execution_count": 40,
   "id": "e8f6fa0d",
   "metadata": {},
   "outputs": [
    {
     "name": "stdout",
     "output_type": "stream",
     "text": [
      "EPOCH 0 - Reconstruction Error: 59.0024\n",
      "EPOCH 50 - Reconstruction Error: 13.3876\n",
      "EPOCH 100 - Reconstruction Error: 4.3826\n",
      "EPOCH 150 - Reconstruction Error: 1.9779\n",
      "EPOCH 200 - Reconstruction Error: 1.1042\n",
      "EPOCH 250 - Reconstruction Error: 0.6974\n",
      "EPOCH 300 - Reconstruction Error: 0.4688\n",
      "EPOCH 350 - Reconstruction Error: 0.3348\n",
      "EPOCH 400 - Reconstruction Error: 0.2497\n",
      "EPOCH 450 - Reconstruction Error: 0.1930\n",
      "EPOCH 500 - Reconstruction Error: 0.1538\n",
      "EPOCH 550 - Reconstruction Error: 0.1249\n",
      "EPOCH 600 - Reconstruction Error: 0.1037\n",
      "EPOCH 650 - Reconstruction Error: 0.0871\n",
      "EPOCH 700 - Reconstruction Error: 0.0739\n",
      "EPOCH 750 - Reconstruction Error: 0.0637\n",
      "EPOCH 800 - Reconstruction Error: 0.0555\n",
      "EPOCH 850 - Reconstruction Error: 0.0486\n",
      "EPOCH 900 - Reconstruction Error: 0.0430\n",
      "EPOCH 950 - Reconstruction Error: 0.0384\n",
      "EPOCH 0 - Reconstruction Error: 18.1793\n",
      "EPOCH 50 - Reconstruction Error: 5.7937\n",
      "EPOCH 100 - Reconstruction Error: 1.7621\n",
      "EPOCH 150 - Reconstruction Error: 0.6221\n",
      "EPOCH 200 - Reconstruction Error: 0.2638\n",
      "EPOCH 250 - Reconstruction Error: 0.1374\n",
      "EPOCH 300 - Reconstruction Error: 0.0814\n",
      "EPOCH 350 - Reconstruction Error: 0.0535\n",
      "EPOCH 400 - Reconstruction Error: 0.0374\n",
      "EPOCH 450 - Reconstruction Error: 0.0275\n",
      "EPOCH 500 - Reconstruction Error: 0.0211\n",
      "EPOCH 550 - Reconstruction Error: 0.0165\n",
      "EPOCH 600 - Reconstruction Error: 0.0133\n",
      "EPOCH 650 - Reconstruction Error: 0.0109\n",
      "EPOCH 700 - Reconstruction Error: 0.0091\n",
      "EPOCH 750 - Reconstruction Error: 0.0078\n",
      "EPOCH 800 - Reconstruction Error: 0.0067\n",
      "EPOCH 850 - Reconstruction Error: 0.0058\n",
      "EPOCH 900 - Reconstruction Error: 0.0051\n",
      "EPOCH 950 - Reconstruction Error: 0.0045\n",
      "EPOCH 0 - Reconstruction Error: 20.0397\n",
      "EPOCH 50 - Reconstruction Error: 4.3548\n",
      "EPOCH 100 - Reconstruction Error: 1.0611\n",
      "EPOCH 150 - Reconstruction Error: 0.3780\n",
      "EPOCH 200 - Reconstruction Error: 0.1711\n",
      "EPOCH 250 - Reconstruction Error: 0.0919\n",
      "EPOCH 300 - Reconstruction Error: 0.0561\n",
      "EPOCH 350 - Reconstruction Error: 0.0372\n",
      "EPOCH 400 - Reconstruction Error: 0.0264\n",
      "EPOCH 450 - Reconstruction Error: 0.0197\n",
      "EPOCH 500 - Reconstruction Error: 0.0151\n",
      "EPOCH 550 - Reconstruction Error: 0.0120\n",
      "EPOCH 600 - Reconstruction Error: 0.0097\n",
      "EPOCH 650 - Reconstruction Error: 0.0080\n",
      "EPOCH 700 - Reconstruction Error: 0.0068\n",
      "EPOCH 750 - Reconstruction Error: 0.0058\n",
      "EPOCH 800 - Reconstruction Error: 0.0050\n",
      "EPOCH 850 - Reconstruction Error: 0.0044\n",
      "EPOCH 900 - Reconstruction Error: 0.0039\n",
      "EPOCH 950 - Reconstruction Error: 0.0035\n",
      "EPOCH 0 - Reconstruction Error: 18.1280\n",
      "EPOCH 50 - Reconstruction Error: 3.8467\n",
      "EPOCH 100 - Reconstruction Error: 0.8710\n",
      "EPOCH 150 - Reconstruction Error: 0.3011\n",
      "EPOCH 200 - Reconstruction Error: 0.1314\n",
      "EPOCH 250 - Reconstruction Error: 0.0675\n",
      "EPOCH 300 - Reconstruction Error: 0.0399\n",
      "EPOCH 350 - Reconstruction Error: 0.0259\n",
      "EPOCH 400 - Reconstruction Error: 0.0180\n",
      "EPOCH 450 - Reconstruction Error: 0.0132\n",
      "EPOCH 500 - Reconstruction Error: 0.0102\n",
      "EPOCH 550 - Reconstruction Error: 0.0081\n",
      "EPOCH 600 - Reconstruction Error: 0.0066\n",
      "EPOCH 650 - Reconstruction Error: 0.0055\n",
      "EPOCH 700 - Reconstruction Error: 0.0047\n",
      "EPOCH 750 - Reconstruction Error: 0.0040\n",
      "EPOCH 800 - Reconstruction Error: 0.0034\n",
      "EPOCH 850 - Reconstruction Error: 0.0030\n",
      "EPOCH 900 - Reconstruction Error: 0.0027\n",
      "EPOCH 950 - Reconstruction Error: 0.0024\n",
      "EPOCH 0 - Reconstruction Error: 19.4527\n",
      "EPOCH 50 - Reconstruction Error: 3.7228\n",
      "EPOCH 100 - Reconstruction Error: 0.6765\n",
      "EPOCH 150 - Reconstruction Error: 0.2166\n",
      "EPOCH 200 - Reconstruction Error: 0.0948\n",
      "EPOCH 250 - Reconstruction Error: 0.0509\n",
      "EPOCH 300 - Reconstruction Error: 0.0312\n",
      "EPOCH 350 - Reconstruction Error: 0.0208\n",
      "EPOCH 400 - Reconstruction Error: 0.0148\n",
      "EPOCH 450 - Reconstruction Error: 0.0111\n",
      "EPOCH 500 - Reconstruction Error: 0.0086\n",
      "EPOCH 550 - Reconstruction Error: 0.0069\n",
      "EPOCH 600 - Reconstruction Error: 0.0057\n",
      "EPOCH 650 - Reconstruction Error: 0.0047\n",
      "EPOCH 700 - Reconstruction Error: 0.0040\n",
      "EPOCH 750 - Reconstruction Error: 0.0034\n",
      "EPOCH 800 - Reconstruction Error: 0.0030\n",
      "EPOCH 850 - Reconstruction Error: 0.0026\n",
      "EPOCH 900 - Reconstruction Error: 0.0023\n",
      "EPOCH 950 - Reconstruction Error: 0.0021\n"
     ]
    }
   ],
   "source": [
    "pretrained_DNN = pretrain_DNN(X, DNN_init, 1000, lr, batch_size)"
   ]
  },
  {
   "cell_type": "code",
   "execution_count": 84,
   "id": "8826ded7",
   "metadata": {},
   "outputs": [
    {
     "data": {
      "text/plain": [
       "<principal_RBM_alpha.RBMClass at 0x7ff53bc0aca0>"
      ]
     },
     "execution_count": 84,
     "metadata": {},
     "output_type": "execute_result"
    }
   ],
   "source": [
    "list(pretrained_DNN.values())[0]"
   ]
  },
  {
   "cell_type": "code",
   "execution_count": 128,
   "id": "b9fbf8a8",
   "metadata": {},
   "outputs": [
    {
     "data": {
      "text/plain": [
       "torch.Size([320])"
      ]
     },
     "execution_count": 128,
     "metadata": {},
     "output_type": "execute_result"
    }
   ],
   "source": [
    "x = torch.empty(p).normal_(mean=0,std=1)\n",
    "o = torch.empty(100).normal_(mean=0,std=1)\n",
    "entree_sortie_DBN(x, pretrained_DNN).shape\n",
    "sortie_entree_DBN(o, pretrained_DNN).shape"
   ]
  },
  {
   "cell_type": "code",
   "execution_count": 129,
   "id": "c1faf2a5",
   "metadata": {},
   "outputs": [
    {
     "data": {
      "text/plain": [
       "{0: <principal_RBM_alpha.RBMClass at 0x7ff53bc0aca0>,\n",
       " 1: <principal_RBM_alpha.RBMClass at 0x7ff53c30cf70>,\n",
       " 2: <principal_RBM_alpha.RBMClass at 0x7ff53c2e7b50>,\n",
       " 3: <principal_RBM_alpha.RBMClass at 0x7ff53c0f6af0>,\n",
       " 4: <principal_RBM_alpha.RBMClass at 0x7ff53c0f6640>}"
      ]
     },
     "execution_count": 129,
     "metadata": {},
     "output_type": "execute_result"
    }
   ],
   "source": [
    "pretrained_DNN"
   ]
  },
  {
   "cell_type": "code",
   "execution_count": 8,
   "id": "d15bbd6b",
   "metadata": {},
   "outputs": [
    {
     "name": "stdout",
     "output_type": "stream",
     "text": [
      "EPOCH 0 - Reconstruction Error: 58.1697\n",
      "EPOCH 50 - Reconstruction Error: 13.5182\n",
      "EPOCH 0 - Reconstruction Error: 17.8429\n",
      "EPOCH 50 - Reconstruction Error: 4.6793\n",
      "EPOCH 0 - Reconstruction Error: 16.1081\n",
      "EPOCH 50 - Reconstruction Error: 1.8317\n",
      "EPOCH 0 - Reconstruction Error: 12.7869\n",
      "EPOCH 50 - Reconstruction Error: 1.1428\n",
      "EPOCH 0 - Reconstruction Error: 13.5942\n",
      "EPOCH 50 - Reconstruction Error: 0.6279\n"
     ]
    },
    {
     "data": {
      "image/png": "[encoded data removed]",
      "text/plain": [
       "<Figure size 432x288 with 1 Axes>"
      ]
     },
     "metadata": {
      "needs_background": "light"
     },
     "output_type": "display_data"
    },
    {
     "data": {
      "image/png": "[encoded data removed]",
      "text/plain": [
       "<Figure size 432x288 with 1 Axes>"
      ]
     },
     "metadata": {
      "needs_background": "light"
     },
     "output_type": "display_data"
    },
    {
     "data": {
      "image/png": "[encoded data removed]",
      "text/plain": [
       "<Figure size 432x288 with 1 Axes>"
      ]
     },
     "metadata": {
      "needs_background": "light"
     },
     "output_type": "display_data"
    }
   ],
   "source": [
    "depth = 5\n",
    "sizes = [(320, 100), (100, 100), (100, 100),(100, 100),(100, 100)]\n",
    "batch_size = 10\n",
    "p = X.size(1) #Nombre de pixels\n",
    "qs = [10,100,500] #Test de différents nombres de neuronnes dans la couche cachée\n",
    "batch_size = 10 #Le nombre de données par batch\n",
    "lr = 0.01 #Le pas dans la gradient ascent\n",
    "epochs = 1000 #Le nombre d'itérations (nombre de fois que le modèle voit toutes les données)\n",
    "n_images = 2 #Nombre d'images à générer une fois la RBM entrainée\n",
    "gibbs_iter = 1000 #Nombre d'itération dans le gibbs sampler pour générer une image\n",
    "\n",
    "\n",
    "DNN_init = init_DNN(depth, sizes,device)\n",
    "trained_DNN = pretrain_DNN(X, DNN_init, 100, lr, batch_size)\n",
    "nb_images = 3\n",
    "iterations = 5\n",
    "image = generer_image_DBN(trained_DNN, iterations, nb_images)"
   ]
  },
  {
   "cell_type": "code",
   "execution_count": 121,
   "id": "0eb1755c",
   "metadata": {},
   "outputs": [],
   "source": [
    "x = torch.randn(p).to(pretrained_DNN[0].W.device)"
   ]
  }
 ],
 "metadata": {
  "kernelspec": {
   "display_name": "Python 3 (ipykernel)",
   "language": "python",
   "name": "python3"
  },
  "language_info": {
   "codemirror_mode": {
    "name": "ipython",
    "version": 3
   },
   "file_extension": ".py",
   "mimetype": "text/x-python",
   "name": "python",
   "nbconvert_exporter": "python",
   "pygments_lexer": "ipython3",
   "version": "3.9.7"
  }
 },
 "nbformat": 4,
 "nbformat_minor": 5
}
