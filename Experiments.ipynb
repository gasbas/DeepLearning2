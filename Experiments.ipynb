{
 "cells": [
  {
   "cell_type": "code",
   "execution_count": 8,
   "id": "dc1f821a",
   "metadata": {},
   "outputs": [],
   "source": [
    "from principal_RBM_alpha import * \n",
    "import torch\n",
    "import numpy as np\n",
    "from time import time"
   ]
  },
  {
   "cell_type": "code",
   "execution_count": 2,
   "id": "e400c366",
   "metadata": {},
   "outputs": [],
   "source": [
    "device = torch.device('cuda') if torch.cuda.is_available else 'cpu'"
   ]
  },
  {
   "cell_type": "markdown",
   "id": "b64f7ba0",
   "metadata": {},
   "source": [
    "### Visualisation du préentrainement d'une RBM sur BinaryAlphaDigits"
   ]
  },
  {
   "cell_type": "markdown",
   "id": "2ad073ea",
   "metadata": {},
   "source": [
    "Nous allons visualiser l'entrainement de notre RBM sur la base de données BinaryAlphadigits. Dans un premier temps, on considère le préentrainement sur le nombre $8$"
   ]
  },
  {
   "cell_type": "code",
   "execution_count": 3,
   "id": "38691d50",
   "metadata": {},
   "outputs": [],
   "source": [
    "index = 8 \n",
    "X  = lire_alpha_digit(index, device)"
   ]
  },
  {
   "cell_type": "code",
   "execution_count": 4,
   "id": "2bdfdc8d",
   "metadata": {},
   "outputs": [
    {
     "name": "stdout",
     "output_type": "stream",
     "text": [
      "Les données contiennent:\n",
      "39 examples\n",
      "320 pixels\n"
     ]
    }
   ],
   "source": [
    "print('Les données contiennent:')\n",
    "print(f'{X.size(0)} examples')\n",
    "print(f'{X.size(1)} pixels')\n"
   ]
  },
  {
   "cell_type": "code",
   "execution_count": 58,
   "id": "0eff2138",
   "metadata": {
    "scrolled": true
   },
   "outputs": [
    {
     "name": "stdout",
     "output_type": "stream",
     "text": [
      "RBM avec 10 neuronnes\n",
      "EPOCH 0 - Reconstruction Error: 70.0247\n",
      "EPOCH 50 - Reconstruction Error: 48.6949\n",
      "EPOCH 100 - Reconstruction Error: 42.8670\n",
      "EPOCH 150 - Reconstruction Error: 38.0101\n",
      "EPOCH 200 - Reconstruction Error: 35.0452\n",
      "EPOCH 250 - Reconstruction Error: 32.7764\n",
      "EPOCH 300 - Reconstruction Error: 31.2469\n",
      "EPOCH 350 - Reconstruction Error: 30.0519\n",
      "EPOCH 400 - Reconstruction Error: 29.3266\n",
      "EPOCH 450 - Reconstruction Error: 28.6723\n",
      "EPOCH 500 - Reconstruction Error: 28.1402\n",
      "EPOCH 550 - Reconstruction Error: 27.6651\n",
      "EPOCH 600 - Reconstruction Error: 27.3789\n",
      "EPOCH 650 - Reconstruction Error: 27.0714\n",
      "EPOCH 700 - Reconstruction Error: 26.8848\n",
      "EPOCH 750 - Reconstruction Error: 26.5361\n",
      "EPOCH 800 - Reconstruction Error: 26.3879\n",
      "EPOCH 850 - Reconstruction Error: 26.2243\n",
      "EPOCH 900 - Reconstruction Error: 26.0545\n",
      "EPOCH 950 - Reconstruction Error: 25.8386\n",
      "\n",
      "RBM avec 100 neuronnes\n",
      "EPOCH 0 - Reconstruction Error: 57.6308\n",
      "EPOCH 50 - Reconstruction Error: 13.4349\n",
      "EPOCH 100 - Reconstruction Error: 4.5186\n",
      "EPOCH 150 - Reconstruction Error: 2.0959\n",
      "EPOCH 200 - Reconstruction Error: 1.1626\n",
      "EPOCH 250 - Reconstruction Error: 0.7346\n",
      "EPOCH 300 - Reconstruction Error: 0.4990\n",
      "EPOCH 350 - Reconstruction Error: 0.3573\n",
      "EPOCH 400 - Reconstruction Error: 0.2679\n",
      "EPOCH 450 - Reconstruction Error: 0.2070\n",
      "EPOCH 500 - Reconstruction Error: 0.1644\n",
      "EPOCH 550 - Reconstruction Error: 0.1339\n",
      "EPOCH 600 - Reconstruction Error: 0.1113\n",
      "EPOCH 650 - Reconstruction Error: 0.0933\n",
      "EPOCH 700 - Reconstruction Error: 0.0793\n",
      "EPOCH 750 - Reconstruction Error: 0.0677\n",
      "EPOCH 800 - Reconstruction Error: 0.0588\n",
      "EPOCH 850 - Reconstruction Error: 0.0517\n",
      "EPOCH 900 - Reconstruction Error: 0.0456\n",
      "EPOCH 950 - Reconstruction Error: 0.0406\n",
      "\n",
      "RBM avec 500 neuronnes\n",
      "EPOCH 0 - Reconstruction Error: 82.0110\n",
      "EPOCH 50 - Reconstruction Error: 9.0504\n",
      "EPOCH 100 - Reconstruction Error: 0.9073\n",
      "EPOCH 150 - Reconstruction Error: 0.2079\n",
      "EPOCH 200 - Reconstruction Error: 0.0827\n",
      "EPOCH 250 - Reconstruction Error: 0.0430\n",
      "EPOCH 300 - Reconstruction Error: 0.0260\n",
      "EPOCH 350 - Reconstruction Error: 0.0174\n",
      "EPOCH 400 - Reconstruction Error: 0.0124\n",
      "EPOCH 450 - Reconstruction Error: 0.0092\n",
      "EPOCH 500 - Reconstruction Error: 0.0071\n",
      "EPOCH 550 - Reconstruction Error: 0.0057\n",
      "EPOCH 600 - Reconstruction Error: 0.0046\n",
      "EPOCH 650 - Reconstruction Error: 0.0038\n",
      "EPOCH 700 - Reconstruction Error: 0.0032\n",
      "EPOCH 750 - Reconstruction Error: 0.0027\n",
      "EPOCH 800 - Reconstruction Error: 0.0023\n",
      "EPOCH 850 - Reconstruction Error: 0.0020\n",
      "EPOCH 900 - Reconstruction Error: 0.0018\n",
      "EPOCH 950 - Reconstruction Error: 0.0016\n",
      "\n"
     ]
    }
   ],
   "source": [
    "\n",
    "p = X.size(1) #Nombre de pixels\n",
    "qs = [10,100,500] #Test de différents nombres de neuronnes dans la couche cachée\n",
    "batch_size = 10 #Le nombre de données par batch\n",
    "lr = 0.01 #Le pas dans la gradient ascent\n",
    "epochs = 1000 #Le nombre d'itérations (nombre de fois que le modèle voit toutes les données)\n",
    "n_images = 2 #Nombre d'images à générer une fois la RBM entrainée\n",
    "gibbs_iter = 1000 #Nombre d'itération dans le gibbs sampler pour générer une image\n",
    "\n",
    "historique = []\n",
    "images = []\n",
    "times = []\n",
    "\n",
    "for q in qs : \n",
    "    t0 = time()\n",
    "    print(f'RBM avec {q} neuronnes')\n",
    "    RBM = init_RBM(p, q, device)\n",
    "    trained_RBM, history = train_RBM(X, RBM, epochs, lr, batch_size)\n",
    "    historique.append(history)\n",
    "    gen_images = generer_image_RBM(trained_RBM, gibbs_iter, n_images, plot = False)\n",
    "    print('')\n",
    "    times.append(time()-t0)\n",
    "    images.append(gen_images)"
   ]
  },
  {
   "cell_type": "code",
   "execution_count": 59,
   "id": "c9c8327e",
   "metadata": {},
   "outputs": [
    {
     "name": "stdout",
     "output_type": "stream",
     "text": [
      "Training time (GPU) 10 neuronnes: 4.011 seconds\n",
      "Training time (GPU) 100 neuronnes: 4.055 seconds\n",
      "Training time (GPU) 500 neuronnes: 3.966 seconds\n"
     ]
    }
   ],
   "source": [
    "print(f'Training time (GPU) 10 neuronnes: {times[0]:0.3f} seconds')\n",
    "print(f'Training time (GPU) 100 neuronnes: {times[1]:0.3f} seconds')\n",
    "print(f'Training time (GPU) 500 neuronnes: {times[2]:0.3f} seconds')"
   ]
  },
  {
   "cell_type": "markdown",
   "id": "8237aaa3",
   "metadata": {},
   "source": [
    "Le temps d'entraînement n'augmente presque pas avec le nombre de neuronnes. Cela est probablement du à l'utilisation du GPU par Pytorch"
   ]
  },
  {
   "cell_type": "code",
   "execution_count": 60,
   "id": "34a6dca8",
   "metadata": {},
   "outputs": [
    {
     "data": {
      "text/plain": [
       "Text(0, 0.5, 'Reconstruction Error')"
      ]
     },
     "execution_count": 60,
     "metadata": {},
     "output_type": "execute_result"
    },
    {
     "data": {
      "image/png": "[encoded data removed]",
      "text/plain": [
       "<Figure size 720x288 with 1 Axes>"
      ]
     },
     "metadata": {
      "needs_background": "light"
     },
     "output_type": "display_data"
    }
   ],
   "source": [
    "plt.figure(figsize = (10,4))\n",
    "plt.plot(historique[0], label = '10 Neuronnes')\n",
    "plt.plot(historique[1], label = '100 Neuronnes')\n",
    "plt.plot(historique[2], label = '500 Neuronnes')\n",
    "plt.legend()\n",
    "plt.xlabel('Epochs')\n",
    "plt.ylabel('Reconstruction Error')\n"
   ]
  },
  {
   "cell_type": "markdown",
   "id": "79956560",
   "metadata": {},
   "source": [
    "Nous voyons qu'une RBM avec 10 neuronnes ne convergent pas, tandis qu'une RBM avec 100 ou 500 neuronnes convergent vers une erreur de reconstruction très faible. Par ailleurs, l'utilisation de 500 neuronnes permet une convergence plus rapide."
   ]
  },
  {
   "cell_type": "code",
   "execution_count": 61,
   "id": "006ff6c3",
   "metadata": {},
   "outputs": [
    {
     "data": {
      "image/png": "[encoded data removed]",
      "text/plain": [
       "<Figure size 1152x720 with 8 Axes>"
      ]
     },
     "metadata": {
      "needs_background": "light"
     },
     "output_type": "display_data"
    }
   ],
   "source": [
    "fig, ax = plt.subplots(nrows = 2, ncols = 4, sharex = True, sharey = True, figsize = (16,10))\n",
    "\n",
    "ax[0,0].imshow(X[0].view(20,16).cpu().numpy())\n",
    "ax[1,0].imshow(X[10].view(20,16).cpu().numpy())\n",
    "ax[0,0].set_title('Training images')\n",
    "\n",
    "ax[0,1].imshow(images[0][0])\n",
    "ax[1,1].imshow(images[0][1])\n",
    "ax[0,1].set_title('Generated images (10 Neurons)')\n",
    "\n",
    "ax[0,2].imshow(images[1][0])\n",
    "ax[1,2].imshow(images[1][1])\n",
    "ax[0,2].set_title('Generated images (100 Neurons)')\n",
    "\n",
    "ax[0,3].imshow(images[2][0])\n",
    "ax[1,3].imshow(images[2][1])\n",
    "_=ax[0,3].set_title('Generated images (500 Neurons)')\n"
   ]
  },
  {
   "cell_type": "markdown",
   "id": "a5a6a856",
   "metadata": {},
   "source": [
    "Les RBM avec 100 et 500 neuronnes génèrent des images aussi proche que celles utilisées pourt l'entraînement."
   ]
  },
  {
   "cell_type": "code",
   "execution_count": null,
   "id": "563a888a",
   "metadata": {},
   "outputs": [],
   "source": []
  }
 ],
 "metadata": {
  "kernelspec": {
   "display_name": "Python 3 (ipykernel)",
   "language": "python",
   "name": "python3"
  },
  "language_info": {
   "codemirror_mode": {
    "name": "ipython",
    "version": 3
   },
   "file_extension": ".py",
   "mimetype": "text/x-python",
   "name": "python",
   "nbconvert_exporter": "python",
   "pygments_lexer": "ipython3",
   "version": "3.8.10"
  }
 },
 "nbformat": 4,
 "nbformat_minor": 5
}
