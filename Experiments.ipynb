{
 "cells": [
  {
   "cell_type": "code",
   "execution_count": 8,
   "id": "dc1f821a",
   "metadata": {},
   "outputs": [],
   "source": [
    "from principal_RBM_alpha import * \n",
    "from principal_DBN_alpha import * \n",
    "from principal_DNN_MNIST import * \n",
    "import torch\n",
    "import numpy as np\n",
    "from time import time\n",
    "from tqdm import tqdm\n",
    "import torchvision\n",
    "import gc\n",
    "import pandas as pd"
   ]
  },
  {
   "cell_type": "code",
   "execution_count": 2,
   "id": "e400c366",
   "metadata": {},
   "outputs": [],
   "source": [
    "device = torch.device('cuda') if torch.cuda.is_available() else 'cpu'"
   ]
  },
  {
   "cell_type": "markdown",
   "id": "b64f7ba0",
   "metadata": {},
   "source": [
    "### Visualisation du préentrainement d'une RBM sur BinaryAlphaDigits"
   ]
  },
  {
   "cell_type": "markdown",
   "id": "2ad073ea",
   "metadata": {},
   "source": [
    "Nous allons visualiser l'entrainement de notre RBM sur la base de données BinaryAlphadigits. Dans un premier temps, on considère le préentrainement sur le nombre $8$"
   ]
  },
  {
   "cell_type": "code",
   "execution_count": 3,
   "id": "38691d50",
   "metadata": {},
   "outputs": [],
   "source": [
    "index = 10\n",
    "X  = lire_alpha_digit(index, device)"
   ]
  },
  {
   "cell_type": "code",
   "execution_count": 4,
   "id": "2bdfdc8d",
   "metadata": {},
   "outputs": [
    {
     "name": "stdout",
     "output_type": "stream",
     "text": [
      "Les données contiennent:\n",
      "39 examples\n",
      "320 pixels\n"
     ]
    }
   ],
   "source": [
    "print('Les données contiennent:')\n",
    "print(f'{X.size(0)} examples')\n",
    "print(f'{X.size(1)} pixels')\n"
   ]
  },
  {
   "cell_type": "code",
   "execution_count": 5,
   "id": "0eff2138",
   "metadata": {
    "scrolled": true
   },
   "outputs": [
    {
     "name": "stdout",
     "output_type": "stream",
     "text": [
      "RBM avec 10 neuronnes\n"
     ]
    },
    {
     "name": "stderr",
     "output_type": "stream",
     "text": [
      "EPOCH 999 - Reconstruction Error: 23.6630: 100%|█| 1000/1000 [00:04<00:00, 215.6\n"
     ]
    },
    {
     "name": "stdout",
     "output_type": "stream",
     "text": [
      "\n",
      "RBM avec 100 neuronnes\n"
     ]
    },
    {
     "name": "stderr",
     "output_type": "stream",
     "text": [
      "EPOCH 999 - Reconstruction Error: 0.0289: 100%|█| 1000/1000 [00:04<00:00, 219.36\n"
     ]
    },
    {
     "name": "stdout",
     "output_type": "stream",
     "text": [
      "\n",
      "RBM avec 500 neuronnes\n"
     ]
    },
    {
     "name": "stderr",
     "output_type": "stream",
     "text": [
      "EPOCH 999 - Reconstruction Error: 0.0009: 100%|█| 1000/1000 [00:04<00:00, 209.12\n"
     ]
    },
    {
     "name": "stdout",
     "output_type": "stream",
     "text": [
      "\n"
     ]
    }
   ],
   "source": [
    "\n",
    "p = X.size(1) #Nombre de pixels\n",
    "qs = [10,100,500] #Test de différents nombres de neuronnes dans la couche cachée\n",
    "batch_size = 10 #Le nombre de données par batch\n",
    "lr = 0.1 #Le pas dans la gradient ascent\n",
    "epochs = 1000 #Le nombre d'itérations (nombre de fois que le modèle voit toutes les données)\n",
    "n_images = 2 #Nombre d'images à générer une fois la RBM entrainée\n",
    "gibbs_iter = 1000 #Nombre d'itération dans le gibbs sampler pour générer une image\n",
    "\n",
    "historique = []\n",
    "images_RBM = []\n",
    "times_RBM = []\n",
    "\n",
    "for q in qs : \n",
    "    t0 = time()\n",
    "    print(f'RBM avec {q} neuronnes')\n",
    "    RBM = init_RBM(p, q, device)\n",
    "    trained_RBM, history = train_RBM(X, RBM, epochs, lr, batch_size)\n",
    "    historique.append(history)\n",
    "    gen_images = generer_image_RBM(trained_RBM, gibbs_iter, n_images, plot = False)\n",
    "    print('')\n",
    "    times_RBM.append(time()-t0)\n",
    "    images_RBM.append(gen_images)"
   ]
  },
  {
   "cell_type": "code",
   "execution_count": 6,
   "id": "c9c8327e",
   "metadata": {},
   "outputs": [
    {
     "name": "stdout",
     "output_type": "stream",
     "text": [
      "Training time (GPU) 10 neuronnes: 4.865 seconds\n",
      "Training time (GPU) 100 neuronnes: 4.806 seconds\n",
      "Training time (GPU) 500 neuronnes: 5.078 seconds\n"
     ]
    }
   ],
   "source": [
    "print(f'Training time (GPU) 10 neuronnes: {times_RBM[0]:0.3f} seconds')\n",
    "print(f'Training time (GPU) 100 neuronnes: {times_RBM[1]:0.3f} seconds')\n",
    "print(f'Training time (GPU) 500 neuronnes: {times_RBM[2]:0.3f} seconds')"
   ]
  },
  {
   "cell_type": "markdown",
   "id": "8237aaa3",
   "metadata": {},
   "source": [
    "Le temps d'entraînement n'augmente presque pas avec le nombre de neuronnes. Cela est probablement du à l'utilisation du GPU par Pytorch"
   ]
  },
  {
   "cell_type": "code",
   "execution_count": 7,
   "id": "34a6dca8",
   "metadata": {},
   "outputs": [
    {
     "data": {
      "text/plain": [
       "Text(0, 0.5, 'Reconstruction Error')"
      ]
     },
     "execution_count": 7,
     "metadata": {},
     "output_type": "execute_result"
    },
    {
     "data": {
      "image/png": "[encoded data removed]",
      "text/plain": [
       "<Figure size 720x288 with 1 Axes>"
      ]
     },
     "metadata": {
      "needs_background": "light"
     },
     "output_type": "display_data"
    }
   ],
   "source": [
    "plt.figure(figsize = (10,4))\n",
    "plt.plot(historique[0], label = '10 Neuronnes')\n",
    "plt.plot(historique[1], label = '100 Neuronnes')\n",
    "plt.plot(historique[2], label = '500 Neuronnes')\n",
    "plt.legend()\n",
    "plt.xlabel('Epochs')\n",
    "plt.ylabel('Reconstruction Error')\n"
   ]
  },
  {
   "cell_type": "markdown",
   "id": "79956560",
   "metadata": {},
   "source": [
    "Nous voyons qu'une RBM avec 10 neuronnes ne convergent pas, tandis qu'une RBM avec 100 ou 500 neuronnes convergent vers une erreur de reconstruction très faible. Par ailleurs, l'utilisation de 500 neuronnes permet une convergence plus rapide."
   ]
  },
  {
   "cell_type": "code",
   "execution_count": 8,
   "id": "006ff6c3",
   "metadata": {},
   "outputs": [
    {
     "data": {
      "image/png": "[encoded data removed]",
      "text/plain": [
       "<Figure size 1152x720 with 8 Axes>"
      ]
     },
     "metadata": {
      "needs_background": "light"
     },
     "output_type": "display_data"
    }
   ],
   "source": [
    "fig, ax = plt.subplots(nrows = 2, ncols = 4, sharex = True, sharey = True, figsize = (16,10))\n",
    "\n",
    "ax[0,0].imshow(X[0].view(20,16).cpu().numpy())\n",
    "ax[1,0].imshow(X[10].view(20,16).cpu().numpy())\n",
    "ax[0,0].set_title('Training images')\n",
    "\n",
    "ax[0,1].imshow(images_RBM[0][0])\n",
    "ax[1,1].imshow(images_RBM[0][1])\n",
    "ax[0,1].set_title('Generated images (10 Neurons)')\n",
    "\n",
    "ax[0,2].imshow(images_RBM[1][0])\n",
    "ax[1,2].imshow(images_RBM[1][1])\n",
    "ax[0,2].set_title('Generated images (100 Neurons)')\n",
    "\n",
    "ax[0,3].imshow(images_RBM[2][0])\n",
    "ax[1,3].imshow(images_RBM[2][1])\n",
    "_=ax[0,3].set_title('Generated images (500 Neurons)')\n"
   ]
  },
  {
   "cell_type": "markdown",
   "id": "a5a6a856",
   "metadata": {},
   "source": [
    "Les RBM avec 100 et 500 neuronnes génèrent des images aussi proche que celles utilisées pourt l'entraînement."
   ]
  },
  {
   "cell_type": "markdown",
   "id": "072850d0",
   "metadata": {},
   "source": [
    "### Visualisation du préentrainement d'un DBN sur BinaryAlphaDigits"
   ]
  },
  {
   "cell_type": "code",
   "execution_count": 10,
   "id": "024dc517",
   "metadata": {
    "scrolled": true
   },
   "outputs": [
    {
     "name": "stdout",
     "output_type": "stream",
     "text": [
      "DBN avec 1 couches de 100 neuronnes\n"
     ]
    },
    {
     "name": "stderr",
     "output_type": "stream",
     "text": [
      "EPOCH 999 - Reconstruction Error: 0.0262: 100%|█| 1000/1000 [00:04<00:00, 218.09\n",
      "EPOCH 999 - Reconstruction Error: 0.0041: 100%|█| 1000/1000 [00:04<00:00, 219.80\n"
     ]
    },
    {
     "name": "stdout",
     "output_type": "stream",
     "text": [
      "\n",
      "DBN avec 3 couches de 100 neuronnes\n"
     ]
    },
    {
     "name": "stderr",
     "output_type": "stream",
     "text": [
      "EPOCH 999 - Reconstruction Error: 0.0269: 100%|█| 1000/1000 [00:04<00:00, 216.20\n",
      "EPOCH 999 - Reconstruction Error: 0.0038: 100%|█| 1000/1000 [00:04<00:00, 232.97\n",
      "EPOCH 999 - Reconstruction Error: 0.0030: 100%|█| 1000/1000 [00:04<00:00, 226.07\n",
      "EPOCH 999 - Reconstruction Error: 0.0021: 100%|█| 1000/1000 [00:04<00:00, 226.40\n"
     ]
    },
    {
     "name": "stdout",
     "output_type": "stream",
     "text": [
      "\n",
      "DBN avec 1 couches de 500 neuronnes\n"
     ]
    },
    {
     "name": "stderr",
     "output_type": "stream",
     "text": [
      "EPOCH 999 - Reconstruction Error: 0.0009: 100%|█| 1000/1000 [00:04<00:00, 219.26\n",
      "EPOCH 999 - Reconstruction Error: 0.0005: 100%|█| 1000/1000 [00:04<00:00, 211.03\n"
     ]
    },
    {
     "name": "stdout",
     "output_type": "stream",
     "text": [
      "\n",
      "DBN avec 3 couches de 500 neuronnes\n"
     ]
    },
    {
     "name": "stderr",
     "output_type": "stream",
     "text": [
      "EPOCH 999 - Reconstruction Error: 0.0011: 100%|█| 1000/1000 [00:04<00:00, 220.83\n",
      "EPOCH 999 - Reconstruction Error: 0.0005: 100%|█| 1000/1000 [00:04<00:00, 216.46\n",
      "EPOCH 999 - Reconstruction Error: 0.0002: 100%|█| 1000/1000 [00:04<00:00, 206.65\n",
      "EPOCH 999 - Reconstruction Error: 0.0003: 100%|█| 1000/1000 [00:04<00:00, 201.39\n"
     ]
    },
    {
     "name": "stdout",
     "output_type": "stream",
     "text": [
      "\n"
     ]
    }
   ],
   "source": [
    "\n",
    "p = X.size(1) #Nombre de pixels\n",
    "qs = [100,500] #Test de différents nombres de neuronnes dans la couche cachée\n",
    "n_layers = [1,3]\n",
    "batch_size = 10 #Le nombre de données par batch\n",
    "lr = 0.1 #Le pas dans la gradient ascent\n",
    "epochs = 1000 #Le nombre d'itérations (nombre de fois que le modèle voit toutes les données)\n",
    "n_images = 2 #Nombre d'images à générer une fois la RBM entrainée\n",
    "gibbs_iter = 1000 #Nombre d'itération dans le gibbs sampler pour générer une image\n",
    "\n",
    "images_DBN = []\n",
    "times_DBN = []\n",
    "\n",
    "for q in qs : \n",
    "    for n in n_layers : \n",
    "        t0 = time()\n",
    "        print(f'DBN avec {n} couches cachées de {q} neuronnes')\n",
    "        sizes = [(X.size(1), q)]\n",
    "        for j in range(n) : \n",
    "            sizes.append((q, q)) \n",
    "        DNN = init_DNN(len(sizes), sizes, device)\n",
    "        trained_DNN = pretrain_DNN(\n",
    "             X, DNN, epochs, lr, batch_size, DBN = True\n",
    "         )\n",
    "        gen_images = generer_image_DBN(trained_DNN, gibbs_iter, n_images, plot = False)\n",
    "        print('')\n",
    "        times_DBN.append(time()-t0)\n",
    "        images_DBN.append(gen_images)"
   ]
  },
  {
   "cell_type": "code",
   "execution_count": 11,
   "id": "06d4eb26",
   "metadata": {},
   "outputs": [
    {
     "name": "stdout",
     "output_type": "stream",
     "text": [
      "Training time (GPU) 2 couches - 100 neuronnes: 9.875 seconds\n",
      "Training time (GPU) 4 couches - 100 neuronnes: 18.984 seconds\n",
      "Training time (GPU) 2 couches - 500 neuronnes: 10.024 seconds\n",
      "Training time (GPU) 4 couches - 500 neuronnes: 20.418 seconds\n"
     ]
    }
   ],
   "source": [
    "print(f'Training time (GPU) 2 couches - 100 neuronnes: {times_DBN[0]:0.3f} seconds')\n",
    "print(f'Training time (GPU) 4 couches - 100 neuronnes: {times_DBN[1]:0.3f} seconds')\n",
    "print(f'Training time (GPU) 2 couches - 500 neuronnes: {times_DBN[2]:0.3f} seconds')\n",
    "print(f'Training time (GPU) 4 couches - 500 neuronnes: {times_DBN[3]:0.3f} seconds')"
   ]
  },
  {
   "cell_type": "markdown",
   "id": "e3b5c17a",
   "metadata": {},
   "source": [
    "Le temps d'entraînement semble augmenter linéairement avec le nombre de couches. Cependant, le nombre de neuronnes ne l'affecte pas beaucoup "
   ]
  },
  {
   "cell_type": "code",
   "execution_count": 21,
   "id": "1a251425",
   "metadata": {},
   "outputs": [
    {
     "data": {
      "image/png": "[encoded data removed]",
      "text/plain": [
       "<Figure size 864x576 with 10 Axes>"
      ]
     },
     "metadata": {
      "needs_background": "light"
     },
     "output_type": "display_data"
    }
   ],
   "source": [
    "fig, ax = plt.subplots(nrows = 2, ncols = 5, sharex = True, sharey = True, figsize = (12,8))\n",
    "\n",
    "ax[0,0].imshow(X[0].view(20,16).cpu().numpy())\n",
    "ax[1,0].imshow(X[10].view(20,16).cpu().numpy())\n",
    "ax[1,0].set_xlabel('Training images', rotation = 5)\n",
    "\n",
    "ax[0,1].imshow(images_DBN[0][0])\n",
    "ax[1,1].imshow(images_DBN[0][1])\n",
    "ax[1,1].set_xlabel('2 Layers - 100 Neurons', rotation = 5)\n",
    "\n",
    "ax[0,2].imshow(images_DBN[1][0])\n",
    "ax[1,2].imshow(images_DBN[1][1])\n",
    "ax[1,2].set_xlabel('4 Layers - 100 Neurons', rotation = 5)\n",
    "\n",
    "ax[0,3].imshow(images_DBN[2][0])\n",
    "ax[1,3].imshow(images_DBN[2][1])\n",
    "ax[1,3].set_xlabel('2 Layers - 500 Neurons', rotation = 5)\n",
    "\n",
    "ax[0,4].imshow(images_DBN[3][0])\n",
    "ax[1,4].imshow(images_DBN[3][1])\n",
    "_ = ax[1,4].set_xlabel('4 Layers - 500 Neurons', rotation = 5)\n",
    "plt.tight_layout()\n"
   ]
  },
  {
   "cell_type": "markdown",
   "id": "df80f193",
   "metadata": {},
   "source": [
    "##### Génération d'Image pour le rapport"
   ]
  },
  {
   "cell_type": "code",
   "execution_count": 25,
   "id": "9e74595f",
   "metadata": {},
   "outputs": [
    {
     "data": {
      "image/png": "[encoded data removed]",
      "text/plain": [
       "<Figure size 576x288 with 10 Axes>"
      ]
     },
     "metadata": {
      "needs_background": "light"
     },
     "output_type": "display_data"
    }
   ],
   "source": [
    "fig, ax = plt.subplots(nrows = 2, ncols = 5, sharex = True, sharey = True, figsize = (8,4))\n",
    "\n",
    "ax[0,0].imshow(X[0].view(20,16).cpu().numpy())\n",
    "ax[1,0].imshow(X[10].view(20,16).cpu().numpy())\n",
    "ax[1,0].set_xlabel('Training images', rotation = 10)\n",
    "\n",
    "ax[0,1].imshow(images_RBM[1][0])\n",
    "ax[1,1].imshow(images_RBM[1][1])\n",
    "ax[1,1].set_xlabel('RBM (100 Neurons)', rotation = 10)\n",
    "\n",
    "ax[0,2].imshow(images_RBM[2][0])\n",
    "ax[1,2].imshow(images_RBM[2][1])\n",
    "_=ax[1,2].set_xlabel('RBM (500 Neurons)', rotation = 10)\n",
    "\n",
    "ax[0,3].imshow(images_DBN[0][0])\n",
    "ax[1,3].imshow(images_DBN[0][1])\n",
    "ax[1,3].set_xlabel('DBN (2 Layers - 100 Neurons)', rotation = 10)\n",
    "\n",
    "ax[0,4].imshow(images_DBN[3][0])\n",
    "ax[1,4].imshow(images_DBN[3][1])\n",
    "_ = ax[1,4].set_xlabel('DBN (4 Layers - 500 Neurons)', rotation = 10)\n",
    "plt.tight_layout()\n",
    "\n",
    "plt.savefig('figures/image_generation_rbm_dbn.jpg', dpi=600)"
   ]
  },
  {
   "cell_type": "markdown",
   "id": "39a2ead0",
   "metadata": {},
   "source": [
    "### Classfication avec un DNN"
   ]
  },
  {
   "cell_type": "markdown",
   "id": "13135caf",
   "metadata": {},
   "source": [
    "Pour la classification, on considère le dataset MNIST contenant des images en $28\\times28$ pixels représentant des chiffres de $0$ à $9$. On possède $60000$ images pour l'entrainement et $10000$ images pour tester la généralisation de notre modèle.\n",
    "\n",
    "On va utiliser un DNN - un DBN contenant une couche de classification supplémentaire. On divise le jeu en jeu d'entraînement (train), validation (pour déterminer un critère d'arrêt d'entrainement) et de test. On utilisera $5\\%$ du jeu d'entrainement en tant que jeu de validation pour la dernière partie consistant à trouver le meilleure jeu d'hyperparamètres."
   ]
  },
  {
   "cell_type": "code",
   "execution_count": 15,
   "id": "b5621722",
   "metadata": {},
   "outputs": [],
   "source": [
    "X_train, y_train, X_val, y_val, X_test, y_test = lire_mnist(device = device, val_size = 0)"
   ]
  },
  {
   "cell_type": "code",
   "execution_count": 16,
   "id": "df352a53",
   "metadata": {},
   "outputs": [
    {
     "data": {
      "image/png": "[encoded data removed]",
      "text/plain": [
       "<Figure size 1296x864 with 5 Axes>"
      ]
     },
     "metadata": {
      "needs_background": "light"
     },
     "output_type": "display_data"
    }
   ],
   "source": [
    "fig, ax = plt.subplots(ncols = 5, nrows = 1, figsize = (18,12))\n",
    "\n",
    "for j in range(5) : \n",
    "    ax[j].imshow(X_train[np.random.randint(X_train.size(0))].reshape(28,28).cpu().numpy())"
   ]
  },
  {
   "cell_type": "markdown",
   "id": "c055475b",
   "metadata": {},
   "source": [
    "On s'intéresse à deux types de **DNN*: \n",
    "\n",
    "- Un **DNN** préentrainé: on performe dans un premier temps un entrainement non supervisé de toutes les couches (hors couche de classification) du DNN de la même manière que l'on a entrainé le DBN. On entraine ensuite le **DNN** en utilisant l'alogrithme de rétropropagation.\n",
    "- Un **DNN** initalisé aléatoirement, entrainé avec l'alogrithme de rétropropagation.\n",
    "\n",
    "Dans les deux cas, les **DNN** seront initialisés avec les mêmes poids. Pour cela, on utilise le code suivant:"
   ]
  },
  {
   "cell_type": "code",
   "execution_count": 5,
   "id": "9c4bc347",
   "metadata": {},
   "outputs": [
    {
     "name": "stdout",
     "output_type": "stream",
     "text": [
      "Number of parameters equal between RBMs: 6\n",
      "Number of parameters: 6\n"
     ]
    }
   ],
   "source": [
    "sizes = [(10,10), (10,10)]\n",
    "DNN_1 = init_DNN(len(sizes), sizes, device, random_state = 42)\n",
    "DNN_2 = init_DNN(len(sizes), sizes, device, random_state = 42)\n",
    "\n",
    "##Checking that the parameters are equal across RBMs\n",
    "assertions = []\n",
    "for layer in range(len(sizes)) : \n",
    "    rbm_1 = DNN_1[layer]\n",
    "    rbm_2 = DNN_2[layer]\n",
    "    assertions.append(torch.all( torch.isclose(rbm_1.W, rbm_2.W, atol = 1e-9)).item() )\n",
    "    assertions.append(torch.all( torch.isclose(rbm_1.b, rbm_2.b, atol = 1e-9)).item() )\n",
    "    assertions.append(torch.all( torch.isclose(rbm_1.a, rbm_2.a, atol = 1e-9)).item() )\n",
    "    \n",
    "#3 params / RBMs\n",
    "n_params = len(sizes) * 3 \n",
    "print(f'Number of parameters equal between RBMs: {sum(assertions)}')\n",
    "print(f'Number of parameters: {n_params}')"
   ]
  },
  {
   "cell_type": "markdown",
   "id": "f711b3da",
   "metadata": {},
   "source": [
    "### Expérience 1"
   ]
  },
  {
   "cell_type": "markdown",
   "id": "4211acca",
   "metadata": {},
   "source": [
    "On s'intéresse a la différence entre un **DNN** préentrainé et un **DNN** initialisé aléatoirement pour une nombre fixé de neuronnes en faisant varier le nombre de couches:"
   ]
  },
  {
   "cell_type": "code",
   "execution_count": 18,
   "id": "d830c63a",
   "metadata": {
    "scrolled": true
   },
   "outputs": [
    {
     "name": "stdout",
     "output_type": "stream",
     "text": [
      "DNN 0 layers with 200 neurons\n"
     ]
    },
    {
     "name": "stderr",
     "output_type": "stream",
     "text": [
      "Epoch 200 | loss : 0.105 | accuracy  0.97: 100%|█| 200/200 [00:24<00:00,  8.10it\n",
      "EPOCH 99 - Reconstruction Error: 8.0537: 100%|█| 100/100 [00:24<00:00,  4.08it/s\n",
      "Epoch 200 | loss : 0.135 | accuracy  0.96: 100%|█| 200/200 [00:25<00:00,  7.70it\n"
     ]
    },
    {
     "name": "stdout",
     "output_type": "stream",
     "text": [
      "DNN 1 layers with 200 neurons\n"
     ]
    },
    {
     "name": "stderr",
     "output_type": "stream",
     "text": [
      "Epoch 200 | loss : 0.103 | accuracy  0.97: 100%|█| 200/200 [00:33<00:00,  5.93it\n",
      "EPOCH 99 - Reconstruction Error: 8.0671: 100%|█| 100/100 [00:25<00:00,  3.88it/s\n",
      "EPOCH 99 - Reconstruction Error: 2.3134: 100%|█| 100/100 [00:12<00:00,  8.32it/s\n",
      "Epoch 200 | loss : 0.099 | accuracy  0.97: 100%|█| 200/200 [00:33<00:00,  5.92it\n"
     ]
    },
    {
     "name": "stdout",
     "output_type": "stream",
     "text": [
      "DNN 2 layers with 200 neurons\n"
     ]
    },
    {
     "name": "stderr",
     "output_type": "stream",
     "text": [
      "Epoch 200 | loss : 2.408 | accuracy  0.10: 100%|█| 200/200 [00:40<00:00,  4.94it\n",
      "EPOCH 99 - Reconstruction Error: 8.0665: 100%|█| 100/100 [00:25<00:00,  3.86it/s\n",
      "EPOCH 99 - Reconstruction Error: 2.3588: 100%|█| 100/100 [00:12<00:00,  7.86it/s\n",
      "EPOCH 99 - Reconstruction Error: 1.5127: 100%|█| 100/100 [00:14<00:00,  6.92it/s\n",
      "Epoch 200 | loss : 0.079 | accuracy  0.98: 100%|█| 200/200 [00:42<00:00,  4.70it\n"
     ]
    },
    {
     "name": "stdout",
     "output_type": "stream",
     "text": [
      "DNN 3 layers with 200 neurons\n"
     ]
    },
    {
     "name": "stderr",
     "output_type": "stream",
     "text": [
      "Epoch 200 | loss : 2.417 | accuracy  0.11: 100%|█| 200/200 [00:51<00:00,  3.88it\n",
      "EPOCH 99 - Reconstruction Error: 8.0609: 100%|█| 100/100 [00:27<00:00,  3.68it/s\n",
      "EPOCH 99 - Reconstruction Error: 2.3431: 100%|█| 100/100 [00:13<00:00,  7.41it/s\n",
      "EPOCH 99 - Reconstruction Error: 1.5319: 100%|█| 100/100 [00:13<00:00,  7.65it/s\n",
      "EPOCH 99 - Reconstruction Error: 1.0076: 100%|█| 100/100 [00:12<00:00,  8.15it/s\n",
      "Epoch 200 | loss : 0.061 | accuracy  0.98: 100%|█| 200/200 [00:50<00:00,  3.95it\n"
     ]
    },
    {
     "name": "stdout",
     "output_type": "stream",
     "text": [
      "DNN 4 layers with 200 neurons\n"
     ]
    },
    {
     "name": "stderr",
     "output_type": "stream",
     "text": [
      "Epoch 200 | loss : 2.421 | accuracy  0.11: 100%|█| 200/200 [00:55<00:00,  3.58it\n",
      "EPOCH 99 - Reconstruction Error: 8.0849: 100%|█| 100/100 [00:24<00:00,  4.06it/s\n",
      "EPOCH 99 - Reconstruction Error: 2.3838: 100%|█| 100/100 [00:12<00:00,  8.01it/s\n",
      "EPOCH 99 - Reconstruction Error: 1.5326: 100%|█| 100/100 [00:12<00:00,  8.31it/s\n",
      "EPOCH 99 - Reconstruction Error: 1.0237: 100%|█| 100/100 [00:11<00:00,  8.75it/s\n",
      "EPOCH 99 - Reconstruction Error: 0.7399: 100%|█| 100/100 [00:10<00:00,  9.16it/s\n",
      "Epoch 200 | loss : 0.050 | accuracy  0.99: 100%|█| 200/200 [00:55<00:00,  3.63it\n"
     ]
    },
    {
     "name": "stdout",
     "output_type": "stream",
     "text": [
      "DNN 0 layers with 500 neurons\n"
     ]
    },
    {
     "name": "stderr",
     "output_type": "stream",
     "text": [
      "Epoch 200 | loss : 0.127 | accuracy  0.96: 100%|█| 200/200 [00:39<00:00,  5.05it\n",
      "EPOCH 99 - Reconstruction Error: 2.1406: 100%|█| 100/100 [00:38<00:00,  2.57it/s\n",
      "Epoch 200 | loss : 0.086 | accuracy  0.98: 100%|█| 200/200 [00:41<00:00,  4.87it\n"
     ]
    },
    {
     "name": "stdout",
     "output_type": "stream",
     "text": [
      "DNN 1 layers with 500 neurons\n"
     ]
    },
    {
     "name": "stderr",
     "output_type": "stream",
     "text": [
      "Epoch 200 | loss : 9.996 | accuracy  0.10: 100%|█| 200/200 [01:03<00:00,  3.13it\n",
      "EPOCH 99 - Reconstruction Error: 2.1381: 100%|█| 100/100 [00:41<00:00,  2.39it/s\n",
      "EPOCH 99 - Reconstruction Error: 3.0150: 100%|█| 100/100 [00:36<00:00,  2.77it/s\n",
      "Epoch 200 | loss : 0.058 | accuracy  0.99: 100%|█| 200/200 [01:08<00:00,  2.92it\n"
     ]
    },
    {
     "name": "stdout",
     "output_type": "stream",
     "text": [
      "DNN 2 layers with 500 neurons\n"
     ]
    },
    {
     "name": "stderr",
     "output_type": "stream",
     "text": [
      "Epoch 200 | loss : 9.872 | accuracy  0.10: 100%|█| 200/200 [01:33<00:00,  2.13it\n",
      "EPOCH 99 - Reconstruction Error: 2.1350: 100%|█| 100/100 [00:46<00:00,  2.15it/s\n",
      "EPOCH 99 - Reconstruction Error: 2.8760: 100%|█| 100/100 [00:57<00:00,  1.73it/s\n",
      "EPOCH 99 - Reconstruction Error: 3.0855: 100%|█| 100/100 [00:42<00:00,  2.33it/s\n",
      "Epoch 200 | loss : 0.045 | accuracy  0.99: 100%|█| 200/200 [01:56<00:00,  1.72it\n"
     ]
    },
    {
     "name": "stdout",
     "output_type": "stream",
     "text": [
      "DNN 3 layers with 500 neurons\n"
     ]
    },
    {
     "name": "stderr",
     "output_type": "stream",
     "text": [
      "Epoch 200 | loss : 9.910 | accuracy  0.11: 100%|█| 200/200 [02:05<00:00,  1.59it\n",
      "EPOCH 99 - Reconstruction Error: 2.1358: 100%|█| 100/100 [00:53<00:00,  1.85it/s\n",
      "EPOCH 99 - Reconstruction Error: 3.1022: 100%|█| 100/100 [00:37<00:00,  2.65it/s\n",
      "EPOCH 99 - Reconstruction Error: 3.1882: 100%|█| 100/100 [00:35<00:00,  2.79it/s\n",
      "EPOCH 99 - Reconstruction Error: 1.7529: 100%|█| 100/100 [00:37<00:00,  2.69it/s\n",
      "Epoch 200 | loss : 0.037 | accuracy  0.99: 100%|█| 200/200 [02:01<00:00,  1.65it\n"
     ]
    },
    {
     "name": "stdout",
     "output_type": "stream",
     "text": [
      "DNN 4 layers with 500 neurons\n"
     ]
    },
    {
     "name": "stderr",
     "output_type": "stream",
     "text": [
      "Epoch 200 | loss : 10.106 | accuracy  0.11: 100%|█| 200/200 [02:27<00:00,  1.36i\n",
      "EPOCH 99 - Reconstruction Error: 2.1336: 100%|█| 100/100 [00:43<00:00,  2.30it/s\n",
      "EPOCH 99 - Reconstruction Error: 2.8150: 100%|█| 100/100 [00:36<00:00,  2.76it/s\n",
      "EPOCH 99 - Reconstruction Error: 3.0312: 100%|█| 100/100 [00:36<00:00,  2.74it/s\n",
      "EPOCH 99 - Reconstruction Error: 1.7209: 100%|█| 100/100 [00:40<00:00,  2.47it/s\n",
      "EPOCH 99 - Reconstruction Error: 1.9891: 100%|█| 100/100 [00:41<00:00,  2.41it/s\n",
      "Epoch 200 | loss : 0.031 | accuracy  0.99: 100%|█| 200/200 [02:38<00:00,  1.26it\n"
     ]
    }
   ],
   "source": [
    "qs = [200, 500]\n",
    "nlayers = [0, 1, 2, 3, 4]\n",
    "epochs_retro = 200\n",
    "epochs_pretrain = 100\n",
    "lr = 0.1\n",
    "batch_size = 512 \n",
    "\n",
    "losses = []\n",
    "accuracies_test = []\n",
    "accuracies_train = []\n",
    "for q in qs : \n",
    "    for n in nlayers : \n",
    "        print(f'DNN {n} layers with {q} neurons')\n",
    "        sizes = [(X_train.size(1), q)]\n",
    "        for j in range(n) : \n",
    "            sizes.append((q, q))\n",
    "        sizes.append((q, 10))\n",
    "\n",
    "        DNN_1 = init_DNN(len(sizes), sizes, device, random_state = 42)\n",
    "        DNN_2 = init_DNN(len(sizes), sizes, device, random_state = 42)\n",
    "\n",
    "        # RETRO SANS PRETRAIN #\n",
    "        DNN_1, history_1 = retropropagation(X_train, y_train, DNN_1, epochs_retro, lr, batch_size)\n",
    "\n",
    "        # RETRO AVEC PRETRAIN\n",
    "        DNN_2 = pretrain_DNN(X_train, DNN_2, epochs_pretrain, lr, batch_size)\n",
    "        DNN_2, history_2 = retropropagation(X_train, y_train, DNN_2, epochs_retro, lr, batch_size)\n",
    "        \n",
    "        accuracy_test_1 = test_DNN(X_test,y_test, DNN_1)\n",
    "        accuracy_train_1 = test_DNN(X_train, y_train, DNN_1)\n",
    "\n",
    "        accuracy_test_2 = test_DNN(X_test,y_test, DNN_2)\n",
    "        accuracy_train_2 = test_DNN(X_train, y_train, DNN_2)\n",
    "\n",
    "        losses.append((history_1, history_2))\n",
    "        accuracies_train.append((accuracy_train_1, accuracy_train_2))\n",
    "        accuracies_test.append((accuracy_test_1, accuracy_test_2))\n",
    "        \n",
    "        del DNN_1, DNN_2\n",
    "        torch.cuda.empty_cache()\n",
    "        gc.collect()"
   ]
  },
  {
   "cell_type": "code",
   "execution_count": 19,
   "id": "8397e02c",
   "metadata": {},
   "outputs": [
    {
     "data": {
      "image/png": "[encoded data removed]",
      "text/plain": [
       "<Figure size 288x288 with 1 Axes>"
      ]
     },
     "metadata": {
      "needs_background": "light"
     },
     "output_type": "display_data"
    }
   ],
   "source": [
    "nlayers = [2, 3, 4, 5, 6]\n",
    "plt.figure(figsize = (4,4))\n",
    "plt.plot(nlayers, [i[0] for i in accuracies_test[:5]],label = f'w/o pretrain', c = 'blue', alpha = 0.6)\n",
    "plt.plot(nlayers, [i[1] for i in accuracies_test[:5]], label = f'with pretrain', c = 'green', alpha = 0.6)\n",
    "\n",
    "plt.ylabel('Accuracy (Test)')\n",
    "plt.legend(frameon = False)\n",
    "plt.xlabel('Number of layers')\n",
    "plt.savefig('figures/accuracies_test_per_layers_200n', dpi = 600)"
   ]
  },
  {
   "cell_type": "code",
   "execution_count": 20,
   "id": "1d9c2ab9",
   "metadata": {},
   "outputs": [
    {
     "data": {
      "image/png": "[encoded data removed]",
      "text/plain": [
       "<Figure size 288x288 with 1 Axes>"
      ]
     },
     "metadata": {
      "needs_background": "light"
     },
     "output_type": "display_data"
    }
   ],
   "source": [
    "nlayers = [2, 3, 4, 5, 6]\n",
    "plt.figure(figsize = (4,4))\n",
    "plt.plot(nlayers, [i[0] for i in accuracies_test[5:]],label = f'w/o pretrain', c = 'blue', alpha = 0.6)\n",
    "plt.plot(nlayers, [i[1] for i in accuracies_test[5:]], label = f'with pretrain', c = 'green', alpha = 0.6)\n",
    "\n",
    "plt.ylabel('Accuracy (Test)')\n",
    "plt.legend(frameon = False)\n",
    "plt.xlabel('Number of layers')\n",
    "plt.savefig('figures/accuracies_test_per_layers_500n', dpi = 600)"
   ]
  },
  {
   "cell_type": "markdown",
   "id": "a187bd76",
   "metadata": {},
   "source": [
    "### Expérience 2"
   ]
  },
  {
   "cell_type": "markdown",
   "id": "df27788d",
   "metadata": {},
   "source": [
    "Dans cette expérience, on entraîne un DNN à 2 couches (0 couches cachées) et on fait varier le nombre de neurones. Cette expérience est répétée pour un DNN à 3 couches."
   ]
  },
  {
   "cell_type": "code",
   "execution_count": 21,
   "id": "1aea33e5",
   "metadata": {
    "scrolled": true
   },
   "outputs": [
    {
     "name": "stdout",
     "output_type": "stream",
     "text": [
      "DNN 0 layers with 100 neurons\n"
     ]
    },
    {
     "name": "stderr",
     "output_type": "stream",
     "text": [
      "Epoch 200 | loss : 0.102 | accuracy  0.97: 100%|█| 200/200 [00:16<00:00, 12.46it\n",
      "EPOCH 99 - Reconstruction Error: 16.1914: 100%|█| 100/100 [00:15<00:00,  6.29it/\n",
      "Epoch 200 | loss : 0.194 | accuracy  0.94: 100%|█| 200/200 [00:16<00:00, 11.84it\n"
     ]
    },
    {
     "name": "stdout",
     "output_type": "stream",
     "text": [
      "DNN 0 layers with 200 neurons\n"
     ]
    },
    {
     "name": "stderr",
     "output_type": "stream",
     "text": [
      "Epoch 200 | loss : 0.105 | accuracy  0.97: 100%|█| 200/200 [00:21<00:00,  9.31it\n",
      "EPOCH 99 - Reconstruction Error: 8.0537: 100%|█| 100/100 [00:22<00:00,  4.54it/s\n",
      "Epoch 200 | loss : 0.135 | accuracy  0.96: 100%|█| 200/200 [00:23<00:00,  8.62it\n"
     ]
    },
    {
     "name": "stdout",
     "output_type": "stream",
     "text": [
      "DNN 0 layers with 300 neurons\n"
     ]
    },
    {
     "name": "stderr",
     "output_type": "stream",
     "text": [
      "Epoch 200 | loss : 0.113 | accuracy  0.97: 100%|█| 200/200 [00:29<00:00,  6.82it\n",
      "EPOCH 99 - Reconstruction Error: 4.7587: 100%|█| 100/100 [00:31<00:00,  3.18it/s\n",
      "Epoch 200 | loss : 0.112 | accuracy  0.97: 100%|█| 200/200 [00:30<00:00,  6.54it\n"
     ]
    },
    {
     "name": "stdout",
     "output_type": "stream",
     "text": [
      "DNN 0 layers with 500 neurons\n"
     ]
    },
    {
     "name": "stderr",
     "output_type": "stream",
     "text": [
      "Epoch 200 | loss : 0.127 | accuracy  0.96: 100%|█| 200/200 [00:39<00:00,  5.06it\n",
      "EPOCH 99 - Reconstruction Error: 2.1406: 100%|█| 100/100 [00:39<00:00,  2.54it/s\n",
      "Epoch 200 | loss : 0.086 | accuracy  0.98: 100%|█| 200/200 [00:40<00:00,  4.90it\n"
     ]
    },
    {
     "name": "stdout",
     "output_type": "stream",
     "text": [
      "DNN 0 layers with 700 neurons\n"
     ]
    },
    {
     "name": "stderr",
     "output_type": "stream",
     "text": [
      "Epoch 200 | loss : 0.135 | accuracy  0.96: 100%|█| 200/200 [00:50<00:00,  3.97it\n",
      "EPOCH 99 - Reconstruction Error: 1.2867: 100%|█| 100/100 [00:54<00:00,  1.83it/s\n",
      "Epoch 200 | loss : 0.072 | accuracy  0.98: 100%|█| 200/200 [00:51<00:00,  3.86it\n"
     ]
    },
    {
     "name": "stdout",
     "output_type": "stream",
     "text": [
      "DNN 1 layers with 100 neurons\n"
     ]
    },
    {
     "name": "stderr",
     "output_type": "stream",
     "text": [
      "Epoch 200 | loss : 0.102 | accuracy  0.97: 100%|█| 200/200 [00:29<00:00,  6.86it\n",
      "EPOCH 99 - Reconstruction Error: 16.1858: 100%|█| 100/100 [00:20<00:00,  4.88it/\n",
      "EPOCH 99 - Reconstruction Error: 1.2255: 100%|█| 100/100 [00:12<00:00,  7.72it/s\n",
      "Epoch 200 | loss : 0.151 | accuracy  0.96: 100%|█| 200/200 [00:26<00:00,  7.43it\n"
     ]
    },
    {
     "name": "stdout",
     "output_type": "stream",
     "text": [
      "DNN 1 layers with 200 neurons\n"
     ]
    },
    {
     "name": "stderr",
     "output_type": "stream",
     "text": [
      "Epoch 200 | loss : 0.103 | accuracy  0.97: 100%|█| 200/200 [00:35<00:00,  5.56it\n",
      "EPOCH 99 - Reconstruction Error: 8.0671: 100%|█| 100/100 [00:25<00:00,  3.97it/s\n",
      "EPOCH 99 - Reconstruction Error: 2.3134: 100%|█| 100/100 [00:14<00:00,  6.84it/s\n",
      "Epoch 200 | loss : 0.099 | accuracy  0.97: 100%|█| 200/200 [00:35<00:00,  5.62it\n"
     ]
    },
    {
     "name": "stdout",
     "output_type": "stream",
     "text": [
      "DNN 1 layers with 300 neurons\n"
     ]
    },
    {
     "name": "stderr",
     "output_type": "stream",
     "text": [
      "Epoch 200 | loss : 0.111 | accuracy  0.97: 100%|█| 200/200 [00:42<00:00,  4.66it\n",
      "EPOCH 99 - Reconstruction Error: 4.7648: 100%|█| 100/100 [00:31<00:00,  3.13it/s\n",
      "EPOCH 99 - Reconstruction Error: 2.9115: 100%|█| 100/100 [00:19<00:00,  5.25it/s\n",
      "Epoch 200 | loss : 0.081 | accuracy  0.98: 100%|█| 200/200 [00:46<00:00,  4.33it\n"
     ]
    },
    {
     "name": "stdout",
     "output_type": "stream",
     "text": [
      "DNN 1 layers with 500 neurons\n"
     ]
    },
    {
     "name": "stderr",
     "output_type": "stream",
     "text": [
      "Epoch 200 | loss : 9.996 | accuracy  0.10: 100%|█| 200/200 [01:12<00:00,  2.75it\n",
      "EPOCH 99 - Reconstruction Error: 2.1381: 100%|█| 100/100 [00:48<00:00,  2.05it/s\n",
      "EPOCH 99 - Reconstruction Error: 3.0150: 100%|█| 100/100 [00:43<00:00,  2.29it/s\n",
      "Epoch 200 | loss : 0.058 | accuracy  0.99: 100%|█| 200/200 [01:09<00:00,  2.88it\n"
     ]
    },
    {
     "name": "stdout",
     "output_type": "stream",
     "text": [
      "DNN 1 layers with 700 neurons\n"
     ]
    },
    {
     "name": "stderr",
     "output_type": "stream",
     "text": [
      "Epoch 200 | loss : 12.842 | accuracy  0.10: 100%|█| 200/200 [01:43<00:00,  1.93i\n",
      "EPOCH 99 - Reconstruction Error: 1.2844: 100%|█| 100/100 [01:02<00:00,  1.61it/s\n",
      "EPOCH 99 - Reconstruction Error: 3.6688: 100%|█| 100/100 [00:58<00:00,  1.72it/s\n",
      "Epoch 200 | loss : 0.048 | accuracy  0.99: 100%|█| 200/200 [01:42<00:00,  1.95it\n"
     ]
    }
   ],
   "source": [
    "qs = [100, 200, 300, 500, 700]\n",
    "nlayers = [0, 1]\n",
    "epochs_retro = 200\n",
    "epochs_pretrain = 100\n",
    "lr = 0.1\n",
    "batch_size = 512 \n",
    "\n",
    "losses = []\n",
    "accuracies_test = []\n",
    "accuracies_train = []\n",
    "for n in nlayers : \n",
    "    for q in qs : \n",
    "        print(f'DNN {n} layers with {q} neurons')\n",
    "        sizes = [(X_train.size(1), q)]\n",
    "        for j in range(n) : \n",
    "            sizes.append((q, q))\n",
    "        sizes.append((q, 10))\n",
    "\n",
    "        DNN_1 = init_DNN(len(sizes), sizes, device, random_state = 42)\n",
    "        DNN_2 = init_DNN(len(sizes), sizes, device, random_state = 42)\n",
    "\n",
    "        # RETRO SANS PRETRAIN #\n",
    "        DNN_1, history_1 = retropropagation(X_train, y_train, DNN_1, epochs_retro, lr, batch_size)\n",
    "\n",
    "        # RETRO AVEC PRETRAIN\n",
    "        DNN_2 = pretrain_DNN(X_train, DNN_2, epochs_pretrain, lr, batch_size)\n",
    "        DNN_2, history_2 = retropropagation(X_train, y_train, DNN_2, epochs_retro, lr, batch_size)\n",
    "        \n",
    "        accuracy_test_1 = test_DNN(X_test,y_test, DNN_1)\n",
    "        accuracy_train_1 = test_DNN(X_train, y_train, DNN_1)\n",
    "\n",
    "        accuracy_test_2 = test_DNN(X_test,y_test, DNN_2)\n",
    "        accuracy_train_2 = test_DNN(X_train, y_train, DNN_2)\n",
    "\n",
    "        losses.append((history_1, history_2))\n",
    "        accuracies_train.append((accuracy_train_1, accuracy_train_2))\n",
    "        accuracies_test.append((accuracy_test_1, accuracy_test_2))\n",
    "        \n",
    "        del DNN_1, DNN_2\n",
    "        torch.cuda.empty_cache()\n",
    "        gc.collect()"
   ]
  },
  {
   "cell_type": "code",
   "execution_count": 22,
   "id": "8f19ce50",
   "metadata": {},
   "outputs": [
    {
     "data": {
      "image/png": "[encoded data removed]",
      "text/plain": [
       "<Figure size 288x288 with 1 Axes>"
      ]
     },
     "metadata": {
      "needs_background": "light"
     },
     "output_type": "display_data"
    }
   ],
   "source": [
    "qs = [100, 200, 300, 500, 700]\n",
    "plt.figure(figsize = (4,4))\n",
    "\n",
    "for q,(i,j) in zip(qs,losses[:5]) : \n",
    "    plt.plot(i, label = f'w/o pretrain ({q} neurons)')\n",
    "    plt.plot(j, label = f'with pretrain ({q} neurons)')\n",
    "plt.ylabel('Cross Entropy')\n",
    "plt.legend(frameon = False)\n",
    "plt.xlabel('Epoch')\n",
    "plt.savefig('figures/losses_per_neurons_0hl.png', dpi=600)"
   ]
  },
  {
   "cell_type": "code",
   "execution_count": 23,
   "id": "065244ff",
   "metadata": {},
   "outputs": [
    {
     "data": {
      "image/png": "[encoded data removed]",
      "text/plain": [
       "<Figure size 288x288 with 1 Axes>"
      ]
     },
     "metadata": {
      "needs_background": "light"
     },
     "output_type": "display_data"
    }
   ],
   "source": [
    "qs = [100, 200, 300, 500, 700]\n",
    "plt.figure(figsize = (4,4))\n",
    "\n",
    "for q,(i,j) in zip(qs,losses[5:]) : \n",
    "    plt.plot(i, label = f'w/o pretrain ({q} neurons)')\n",
    "    plt.plot(j, label = f'with pretrain ({q} neurons)')\n",
    "plt.ylabel('Cross Entropy')\n",
    "plt.xlabel('Epoch')\n",
    "plt.savefig('figures/losses_per_neurons_2hl.png', dpi=600)"
   ]
  },
  {
   "cell_type": "code",
   "execution_count": 24,
   "id": "48873bfd",
   "metadata": {},
   "outputs": [
    {
     "data": {
      "image/png": "[encoded data removed]",
      "text/plain": [
       "<Figure size 288x288 with 1 Axes>"
      ]
     },
     "metadata": {
      "needs_background": "light"
     },
     "output_type": "display_data"
    }
   ],
   "source": [
    "qs = [100, 200, 300, 500, 700]\n",
    "plt.figure(figsize = (4,4))\n",
    "plt.plot(qs, [i[0] for i in accuracies_test[:5]],label = f'w/o pretrain', c = 'blue', alpha = 0.6)\n",
    "plt.plot(qs, [i[1] for i in accuracies_test[:5]], label = f'with pretrain', c = 'green', alpha = 0.6)\n",
    "\n",
    "plt.ylabel('Accuracy (Test)')\n",
    "plt.legend(frameon = False)\n",
    "plt.xlabel('Number of Neurons')\n",
    "plt.savefig('figures/accuracies_test_per_neurons_0hl', dpi = 600)"
   ]
  },
  {
   "cell_type": "code",
   "execution_count": 25,
   "id": "43754681",
   "metadata": {},
   "outputs": [
    {
     "data": {
      "image/png": "[encoded data removed]",
      "text/plain": [
       "<Figure size 288x288 with 1 Axes>"
      ]
     },
     "metadata": {
      "needs_background": "light"
     },
     "output_type": "display_data"
    }
   ],
   "source": [
    "qs = [100, 200, 300, 500, 700]\n",
    "plt.figure(figsize = (4,4))\n",
    "plt.plot(qs, [i[0] for i in accuracies_test[5:]],label = f'w/o pretrain', c = 'blue', alpha = 0.6)\n",
    "plt.plot(qs, [i[1] for i in accuracies_test[5:]], label = f'with pretrain', c = 'green', alpha = 0.6)\n",
    "\n",
    "plt.ylabel('Accuracy (Test)')\n",
    "#plt.legend(frameon = False)\n",
    "plt.xlabel('Number of Neurons')\n",
    "plt.savefig('figures/accuracies_test_per_neurons_2hl', dpi = 600)"
   ]
  },
  {
   "cell_type": "markdown",
   "id": "df4174c3",
   "metadata": {},
   "source": [
    "### Expérience 3"
   ]
  },
  {
   "cell_type": "markdown",
   "id": "e461ee75",
   "metadata": {},
   "source": [
    "Dans cette expérience, on fixe le nombre de couches à $2$ (ou $4$) avec $200$ neuronnes (ou $500$) et on fait varier le nombre de données d'entrainement."
   ]
  },
  {
   "cell_type": "code",
   "execution_count": 26,
   "id": "0ba6dae6",
   "metadata": {
    "scrolled": true
   },
   "outputs": [
    {
     "name": "stdout",
     "output_type": "stream",
     "text": [
      "DNN 0 layers with 200 neurons trained on 1000 images\n"
     ]
    },
    {
     "name": "stderr",
     "output_type": "stream",
     "text": [
      "Epoch 200 | loss : 0.060 | accuracy  1.00: 100%|█| 200/200 [00:02<00:00, 77.63it\n",
      "EPOCH 99 - Reconstruction Error: 9.3554: 100%|█| 100/100 [00:01<00:00, 66.10it/s\n",
      "Epoch 200 | loss : 0.052 | accuracy  1.00: 100%|█| 200/200 [00:02<00:00, 78.47it\n"
     ]
    },
    {
     "name": "stdout",
     "output_type": "stream",
     "text": [
      "DNN 0 layers with 500 neurons trained on 1000 images\n"
     ]
    },
    {
     "name": "stderr",
     "output_type": "stream",
     "text": [
      "Epoch 200 | loss : 0.054 | accuracy  1.00: 100%|█| 200/200 [00:02<00:00, 74.92it\n",
      "EPOCH 99 - Reconstruction Error: 3.7521: 100%|█| 100/100 [00:01<00:00, 62.44it/s\n",
      "Epoch 200 | loss : 0.028 | accuracy  1.00: 100%|█| 200/200 [00:02<00:00, 74.24it\n"
     ]
    },
    {
     "name": "stdout",
     "output_type": "stream",
     "text": [
      "DNN 1 layers with 200 neurons trained on 1000 images\n"
     ]
    },
    {
     "name": "stderr",
     "output_type": "stream",
     "text": [
      "Epoch 200 | loss : 3.083 | accuracy  0.12: 100%|█| 200/200 [00:03<00:00, 57.77it\n",
      "EPOCH 99 - Reconstruction Error: 9.3246: 100%|█| 100/100 [00:01<00:00, 62.04it/s\n",
      "EPOCH 99 - Reconstruction Error: 2.4804: 100%|█| 100/100 [00:01<00:00, 64.77it/s\n",
      "Epoch 200 | loss : 0.052 | accuracy  1.00: 100%|█| 200/200 [00:03<00:00, 59.61it\n"
     ]
    },
    {
     "name": "stdout",
     "output_type": "stream",
     "text": [
      "DNN 1 layers with 500 neurons trained on 1000 images\n"
     ]
    },
    {
     "name": "stderr",
     "output_type": "stream",
     "text": [
      "Epoch 200 | loss : 10.802 | accuracy  0.10: 100%|█| 200/200 [00:03<00:00, 52.92i\n",
      "EPOCH 99 - Reconstruction Error: 3.7170: 100%|█| 100/100 [00:01<00:00, 61.91it/s\n",
      "EPOCH 99 - Reconstruction Error: 1.7886: 100%|█| 100/100 [00:01<00:00, 68.58it/s\n",
      "Epoch 200 | loss : 0.024 | accuracy  1.00: 100%|█| 200/200 [00:03<00:00, 57.98it\n"
     ]
    },
    {
     "name": "stdout",
     "output_type": "stream",
     "text": [
      "DNN 0 layers with 200 neurons trained on 3000 images\n"
     ]
    },
    {
     "name": "stderr",
     "output_type": "stream",
     "text": [
      "Epoch 200 | loss : 0.038 | accuracy  1.00: 100%|█| 200/200 [00:07<00:00, 28.52it\n",
      "EPOCH 99 - Reconstruction Error: 7.0114: 100%|█| 100/100 [00:04<00:00, 22.93it/s\n",
      "Epoch 200 | loss : 0.036 | accuracy  1.00: 100%|█| 200/200 [00:06<00:00, 29.75it\n"
     ]
    },
    {
     "name": "stdout",
     "output_type": "stream",
     "text": [
      "DNN 0 layers with 500 neurons trained on 3000 images\n"
     ]
    },
    {
     "name": "stderr",
     "output_type": "stream",
     "text": [
      "Epoch 200 | loss : 0.040 | accuracy  1.00: 100%|█| 200/200 [00:08<00:00, 24.86it\n",
      "EPOCH 99 - Reconstruction Error: 1.4131: 100%|█| 100/100 [00:05<00:00, 18.94it/s\n",
      "Epoch 200 | loss : 0.017 | accuracy  1.00: 100%|█| 200/200 [00:07<00:00, 26.81it\n"
     ]
    },
    {
     "name": "stdout",
     "output_type": "stream",
     "text": [
      "DNN 1 layers with 200 neurons trained on 3000 images\n"
     ]
    },
    {
     "name": "stderr",
     "output_type": "stream",
     "text": [
      "Epoch 200 | loss : 3.321 | accuracy  0.09: 100%|█| 200/200 [00:10<00:00, 19.61it\n",
      "EPOCH 99 - Reconstruction Error: 6.9974: 100%|█| 100/100 [00:04<00:00, 22.34it/s\n",
      "EPOCH 99 - Reconstruction Error: 2.2542: 100%|█| 100/100 [00:04<00:00, 21.60it/s\n",
      "Epoch 200 | loss : 0.025 | accuracy  1.00: 100%|█| 200/200 [00:10<00:00, 18.70it\n"
     ]
    },
    {
     "name": "stdout",
     "output_type": "stream",
     "text": [
      "DNN 1 layers with 500 neurons trained on 3000 images\n"
     ]
    },
    {
     "name": "stderr",
     "output_type": "stream",
     "text": [
      "Epoch 200 | loss : 11.069 | accuracy  0.09: 100%|█| 200/200 [00:10<00:00, 18.30i\n",
      "EPOCH 99 - Reconstruction Error: 1.3984: 100%|█| 100/100 [00:04<00:00, 20.42it/s\n",
      "EPOCH 99 - Reconstruction Error: 2.3311: 100%|█| 100/100 [00:05<00:00, 19.85it/s\n",
      "Epoch 200 | loss : 0.012 | accuracy  1.00: 100%|█| 200/200 [00:10<00:00, 18.49it\n"
     ]
    },
    {
     "name": "stdout",
     "output_type": "stream",
     "text": [
      "DNN 0 layers with 200 neurons trained on 7000 images\n"
     ]
    },
    {
     "name": "stderr",
     "output_type": "stream",
     "text": [
      "Epoch 200 | loss : 0.025 | accuracy  1.00: 100%|█| 200/200 [00:15<00:00, 12.56it\n",
      "EPOCH 99 - Reconstruction Error: 6.1379: 100%|█| 100/100 [00:09<00:00, 10.03it/s\n",
      "Epoch 200 | loss : 0.028 | accuracy  1.00: 100%|█| 200/200 [00:14<00:00, 13.68it\n"
     ]
    },
    {
     "name": "stdout",
     "output_type": "stream",
     "text": [
      "DNN 0 layers with 500 neurons trained on 7000 images\n"
     ]
    },
    {
     "name": "stderr",
     "output_type": "stream",
     "text": [
      "Epoch 200 | loss : 0.030 | accuracy  1.00: 100%|█| 200/200 [00:14<00:00, 13.59it\n",
      "EPOCH 99 - Reconstruction Error: 0.6313: 100%|█| 100/100 [00:10<00:00,  9.17it/s\n",
      "Epoch 200 | loss : 0.011 | accuracy  1.00: 100%|█| 200/200 [00:15<00:00, 12.77it\n"
     ]
    },
    {
     "name": "stdout",
     "output_type": "stream",
     "text": [
      "DNN 1 layers with 200 neurons trained on 7000 images\n"
     ]
    },
    {
     "name": "stderr",
     "output_type": "stream",
     "text": [
      "Epoch 200 | loss : 1.127 | accuracy  0.73: 100%|█| 200/200 [00:21<00:00,  9.49it\n",
      "EPOCH 99 - Reconstruction Error: 6.1646: 100%|█| 100/100 [00:09<00:00, 10.13it/s\n",
      "EPOCH 99 - Reconstruction Error: 2.1388: 100%|█| 100/100 [00:09<00:00, 10.78it/s\n",
      "Epoch 200 | loss : 0.015 | accuracy  1.00: 100%|█| 200/200 [00:20<00:00,  9.84it\n"
     ]
    },
    {
     "name": "stdout",
     "output_type": "stream",
     "text": [
      "DNN 1 layers with 500 neurons trained on 7000 images\n"
     ]
    },
    {
     "name": "stderr",
     "output_type": "stream",
     "text": [
      "Epoch 200 | loss : 11.236 | accuracy  0.11: 100%|█| 200/200 [00:22<00:00,  8.97i\n",
      "EPOCH 99 - Reconstruction Error: 0.6359: 100%|█| 100/100 [00:11<00:00,  8.89it/s\n",
      "EPOCH 99 - Reconstruction Error: 2.9344: 100%|█| 100/100 [00:10<00:00,  9.38it/s\n",
      "Epoch 200 | loss : 0.007 | accuracy  1.00: 100%|█| 200/200 [00:21<00:00,  9.40it\n"
     ]
    },
    {
     "name": "stdout",
     "output_type": "stream",
     "text": [
      "DNN 0 layers with 200 neurons trained on 10000 images\n"
     ]
    },
    {
     "name": "stderr",
     "output_type": "stream",
     "text": [
      "Epoch 200 | loss : 0.236 | accuracy  0.94: 100%|█| 200/200 [00:04<00:00, 45.25it\n",
      "EPOCH 99 - Reconstruction Error: 14.2054: 100%|█| 100/100 [00:04<00:00, 24.00it/\n",
      "Epoch 200 | loss : 0.178 | accuracy  0.95: 100%|█| 200/200 [00:04<00:00, 44.72it\n"
     ]
    },
    {
     "name": "stdout",
     "output_type": "stream",
     "text": [
      "DNN 0 layers with 500 neurons trained on 10000 images\n"
     ]
    },
    {
     "name": "stderr",
     "output_type": "stream",
     "text": [
      "Epoch 200 | loss : 0.244 | accuracy  0.93: 100%|█| 200/200 [00:06<00:00, 29.21it\n",
      "EPOCH 99 - Reconstruction Error: 8.1165: 100%|█| 100/100 [00:06<00:00, 15.14it/s\n",
      "Epoch 200 | loss : 0.152 | accuracy  0.96: 100%|█| 200/200 [00:06<00:00, 29.11it\n"
     ]
    },
    {
     "name": "stdout",
     "output_type": "stream",
     "text": [
      "DNN 1 layers with 200 neurons trained on 10000 images\n"
     ]
    },
    {
     "name": "stderr",
     "output_type": "stream",
     "text": [
      "Epoch 200 | loss : 0.678 | accuracy  0.79: 100%|█| 200/200 [00:06<00:00, 33.19it\n",
      "EPOCH 99 - Reconstruction Error: 14.2096: 100%|█| 100/100 [00:04<00:00, 24.06it/\n",
      "EPOCH 99 - Reconstruction Error: 2.6511: 100%|█| 100/100 [00:02<00:00, 43.93it/s\n",
      "Epoch 200 | loss : 0.169 | accuracy  0.95: 100%|█| 200/200 [00:05<00:00, 33.73it\n"
     ]
    },
    {
     "name": "stdout",
     "output_type": "stream",
     "text": [
      "DNN 1 layers with 500 neurons trained on 10000 images\n"
     ]
    },
    {
     "name": "stderr",
     "output_type": "stream",
     "text": [
      "Epoch 200 | loss : 9.869 | accuracy  0.11: 100%|█| 200/200 [00:10<00:00, 18.31it\n",
      "EPOCH 99 - Reconstruction Error: 8.1313: 100%|█| 100/100 [00:06<00:00, 14.63it/s\n",
      "EPOCH 99 - Reconstruction Error: 2.3497: 100%|█| 100/100 [00:05<00:00, 17.01it/s\n",
      "Epoch 200 | loss : 0.133 | accuracy  0.97: 100%|█| 200/200 [00:12<00:00, 16.17it\n"
     ]
    },
    {
     "name": "stdout",
     "output_type": "stream",
     "text": [
      "DNN 0 layers with 200 neurons trained on 30000 images\n"
     ]
    },
    {
     "name": "stderr",
     "output_type": "stream",
     "text": [
      "Epoch 200 | loss : 0.162 | accuracy  0.95: 100%|█| 200/200 [00:15<00:00, 12.92it\n",
      "EPOCH 99 - Reconstruction Error: 9.7860: 100%|█| 100/100 [00:14<00:00,  6.92it/s\n",
      "Epoch 200 | loss : 0.155 | accuracy  0.96: 100%|█| 200/200 [00:15<00:00, 13.23it\n"
     ]
    },
    {
     "name": "stdout",
     "output_type": "stream",
     "text": [
      "DNN 0 layers with 500 neurons trained on 30000 images\n"
     ]
    },
    {
     "name": "stderr",
     "output_type": "stream",
     "text": [
      "Epoch 200 | loss : 0.195 | accuracy  0.95: 100%|█| 200/200 [00:21<00:00,  9.49it\n",
      "EPOCH 99 - Reconstruction Error: 3.7370: 100%|█| 100/100 [00:19<00:00,  5.02it/s\n",
      "Epoch 200 | loss : 0.107 | accuracy  0.97: 100%|█| 200/200 [00:20<00:00,  9.81it\n"
     ]
    },
    {
     "name": "stdout",
     "output_type": "stream",
     "text": [
      "DNN 1 layers with 200 neurons trained on 30000 images\n"
     ]
    },
    {
     "name": "stderr",
     "output_type": "stream",
     "text": [
      "Epoch 200 | loss : 0.220 | accuracy  0.94: 100%|█| 200/200 [00:19<00:00, 10.20it\n",
      "EPOCH 99 - Reconstruction Error: 9.7628: 100%|█| 100/100 [00:14<00:00,  6.93it/s\n",
      "EPOCH 99 - Reconstruction Error: 2.5460: 100%|█| 100/100 [00:08<00:00, 12.00it/s\n",
      "Epoch 200 | loss : 0.128 | accuracy  0.96: 100%|█| 200/200 [00:21<00:00,  9.26it\n"
     ]
    },
    {
     "name": "stdout",
     "output_type": "stream",
     "text": [
      "DNN 1 layers with 500 neurons trained on 30000 images\n"
     ]
    },
    {
     "name": "stderr",
     "output_type": "stream",
     "text": [
      "Epoch 200 | loss : 9.361 | accuracy  0.10: 100%|█| 200/200 [00:30<00:00,  6.51it\n",
      "EPOCH 99 - Reconstruction Error: 3.7416: 100%|█| 100/100 [00:21<00:00,  4.74it/s\n",
      "EPOCH 99 - Reconstruction Error: 2.9103: 100%|█| 100/100 [00:17<00:00,  5.64it/s\n",
      "Epoch 200 | loss : 0.083 | accuracy  0.98: 100%|█| 200/200 [00:32<00:00,  6.23it\n"
     ]
    },
    {
     "name": "stdout",
     "output_type": "stream",
     "text": [
      "DNN 0 layers with 200 neurons trained on 60000 images\n"
     ]
    },
    {
     "name": "stderr",
     "output_type": "stream",
     "text": [
      "Epoch 200 | loss : 0.105 | accuracy  0.97: 100%|█| 200/200 [00:30<00:00,  6.55it\n",
      "EPOCH 99 - Reconstruction Error: 8.0537: 100%|█| 100/100 [00:24<00:00,  4.02it/s\n",
      "Epoch 200 | loss : 0.135 | accuracy  0.96: 100%|█| 200/200 [00:27<00:00,  7.28it\n"
     ]
    },
    {
     "name": "stdout",
     "output_type": "stream",
     "text": [
      "DNN 0 layers with 500 neurons trained on 60000 images\n"
     ]
    },
    {
     "name": "stderr",
     "output_type": "stream",
     "text": [
      "Epoch 200 | loss : 0.127 | accuracy  0.96: 100%|█| 200/200 [00:41<00:00,  4.84it\n",
      "EPOCH 99 - Reconstruction Error: 2.1406: 100%|█| 100/100 [00:41<00:00,  2.40it/s\n",
      "Epoch 200 | loss : 0.086 | accuracy  0.98: 100%|█| 200/200 [00:41<00:00,  4.84it\n"
     ]
    },
    {
     "name": "stdout",
     "output_type": "stream",
     "text": [
      "DNN 1 layers with 200 neurons trained on 60000 images\n"
     ]
    },
    {
     "name": "stderr",
     "output_type": "stream",
     "text": [
      "Epoch 200 | loss : 0.103 | accuracy  0.97: 100%|█| 200/200 [00:36<00:00,  5.44it\n",
      "EPOCH 99 - Reconstruction Error: 8.0671: 100%|█| 100/100 [00:25<00:00,  3.93it/s\n",
      "EPOCH 99 - Reconstruction Error: 2.3134: 100%|█| 100/100 [00:14<00:00,  6.86it/s\n",
      "Epoch 200 | loss : 0.099 | accuracy  0.97: 100%|█| 200/200 [00:36<00:00,  5.46it\n"
     ]
    },
    {
     "name": "stdout",
     "output_type": "stream",
     "text": [
      "DNN 1 layers with 500 neurons trained on 60000 images\n"
     ]
    },
    {
     "name": "stderr",
     "output_type": "stream",
     "text": [
      "Epoch 200 | loss : 9.996 | accuracy  0.10: 100%|█| 200/200 [01:06<00:00,  3.00it\n",
      "EPOCH 99 - Reconstruction Error: 2.1381: 100%|█| 100/100 [00:43<00:00,  2.31it/s\n",
      "EPOCH 99 - Reconstruction Error: 3.0150: 100%|█| 100/100 [00:36<00:00,  2.73it/s\n",
      "Epoch 200 | loss : 0.058 | accuracy  0.99: 100%|█| 200/200 [01:10<00:00,  2.83it\n"
     ]
    }
   ],
   "source": [
    "qs = [200, 500]\n",
    "nlayers = [0, 1]\n",
    "n_data = [1000, 3000, 7000, 10000, 30000, 60000]\n",
    "epochs_retro = 200\n",
    "epochs_pretrain = 100\n",
    "lr = 0.1\n",
    "batch_size = 512 \n",
    "\n",
    "\n",
    "all_losses = []\n",
    "all_accuracies_test = []\n",
    "all_accuracies_train = []\n",
    "\n",
    "for n_images in n_data : \n",
    "    X_train, y_train, X_val, y_val, X_test, y_test = lire_mnist(device = device, val_size = 0, n_images = n_images)\n",
    "    losses = []\n",
    "    accuracies_test = []\n",
    "    accuracies_train = []\n",
    "    if n_images < 10000 : \n",
    "        batch_size = 64\n",
    "    else : \n",
    "        batch_size = 512\n",
    "    for n in nlayers : \n",
    "        for q in qs : \n",
    "            print(f'DNN {n} layers with {q} neurons trained on {n_images} images')\n",
    "            sizes = [(X_train.size(1), q)]\n",
    "            for j in range(n) : \n",
    "                sizes.append((q, q))\n",
    "            sizes.append((q, 10))\n",
    "\n",
    "            DNN_1 = init_DNN(len(sizes), sizes, device, random_state = 42)\n",
    "            DNN_2 = init_DNN(len(sizes), sizes, device, random_state = 42)\n",
    "\n",
    "            # RETRO SANS PRETRAIN #\n",
    "            DNN_1, history_1 = retropropagation(X_train, y_train, DNN_1, epochs_retro, lr, batch_size)\n",
    "\n",
    "            # RETRO AVEC PRETRAIN\n",
    "            DNN_2 = pretrain_DNN(X_train, DNN_2, epochs_pretrain, lr, batch_size)\n",
    "            DNN_2, history_2 = retropropagation(X_train, y_train, DNN_2, epochs_retro, lr, batch_size)\n",
    "\n",
    "            accuracy_test_1 = test_DNN(X_test,y_test, DNN_1)\n",
    "            accuracy_train_1 = test_DNN(X_train, y_train, DNN_1)\n",
    "\n",
    "            accuracy_test_2 = test_DNN(X_test,y_test, DNN_2)\n",
    "            accuracy_train_2 = test_DNN(X_train, y_train, DNN_2)\n",
    "\n",
    "            losses.append((history_1, history_1))\n",
    "            accuracies_train.append((accuracy_train_1, accuracy_train_2))\n",
    "            accuracies_test.append((accuracy_test_1, accuracy_test_2))\n",
    "\n",
    "            del DNN_1, DNN_2\n",
    "            torch.cuda.empty_cache()\n",
    "            gc.collect()\n",
    "    all_losses.append(losses)\n",
    "    all_accuracies_test.append(accuracies_test)\n",
    "    all_accuracies_train.append(accuracies_train)"
   ]
  },
  {
   "cell_type": "code",
   "execution_count": 30,
   "id": "8cb09803",
   "metadata": {},
   "outputs": [],
   "source": [
    "all_acc_0hl_200 = []\n",
    "all_acc_0hl_500 = []\n",
    "all_acc_0hl_200_pre = []\n",
    "all_acc_0hl_500_pre = []\n",
    "\n",
    "all_acc_1hl_200 = []\n",
    "all_acc_1hl_500 = []\n",
    "all_acc_1hl_200_pre = []\n",
    "all_acc_1hl_500_pre = []\n",
    "\n",
    "for acc in all_accuracies_test : \n",
    "    all_acc_0hl_200.append(acc[0][0]) \n",
    "    all_acc_0hl_200_pre.append(acc[0][1])\n",
    "    \n",
    "    all_acc_0hl_500.append(acc[1][0]) \n",
    "    all_acc_0hl_500_pre.append(acc[1][1])\n",
    "    \n",
    "    all_acc_1hl_200.append(acc[2][0]) \n",
    "    all_acc_1hl_200_pre.append(acc[2][1])\n",
    "    \n",
    "    all_acc_1hl_500.append(acc[3][0]) \n",
    "    all_acc_1hl_500_pre.append(acc[3][1])"
   ]
  },
  {
   "cell_type": "code",
   "execution_count": 31,
   "id": "89474376",
   "metadata": {
    "scrolled": false
   },
   "outputs": [
    {
     "data": {
      "image/png": "[encoded data removed]",
      "text/plain": [
       "<Figure size 360x432 with 1 Axes>"
      ]
     },
     "metadata": {
      "needs_background": "light"
     },
     "output_type": "display_data"
    }
   ],
   "source": [
    "plt.figure(figsize = (5,6))\n",
    "plt.plot(n_data, all_acc_0hl_200, label = 'w/o pretrain 200 neurons', alpha = 0.6)\n",
    "plt.plot(n_data, all_acc_0hl_500, label = 'w/o pretrain 500 neurons', alpha = 0.6)\n",
    "plt.plot(n_data, all_acc_0hl_200_pre, label = 'w pretrain 200 neurons', alpha = 0.6)\n",
    "plt.plot(n_data, all_acc_0hl_500_pre, label = 'w pretrain 500 neurons', alpha = 0.6)\n",
    "plt.legend(frameon = False)\n",
    "_ = plt.xticks([3000, 7000] + n_data[-3:], rotation = 50)\n",
    "plt.grid()\n",
    "plt.xlabel(\"Nombre d'images pour l'entrainement\")\n",
    "plt.ylabel('Accuracy (test)')\n",
    "plt.savefig('figures/accuracies_test_per_nimages_0hl', dpi = 600)"
   ]
  },
  {
   "cell_type": "code",
   "execution_count": 32,
   "id": "fc42d608",
   "metadata": {},
   "outputs": [
    {
     "data": {
      "image/png": "[encoded data removed]",
      "text/plain": [
       "<Figure size 360x432 with 1 Axes>"
      ]
     },
     "metadata": {
      "needs_background": "light"
     },
     "output_type": "display_data"
    }
   ],
   "source": [
    "plt.figure(figsize = (5,6))\n",
    "plt.plot(n_data, all_acc_1hl_200, label = 'w/o pretrain 200 neurons', alpha = 0.8)\n",
    "plt.plot(n_data, all_acc_1hl_500, label = 'w/o pretrain 500 neurons', alpha = 0.8)\n",
    "plt.plot(n_data, all_acc_1hl_200_pre, label = 'w pretrain 200 neurons', alpha = 0.8)\n",
    "plt.plot(n_data, all_acc_1hl_500_pre, label = 'w pretrain 500 neurons', alpha = 0.8)\n",
    "#plt.legend(frameon = False)\n",
    "_ = plt.xticks([3000, 7000] + n_data[-3:], rotation = 50)\n",
    "plt.grid()\n",
    "plt.xlabel(\"Nombre d'images pour l'entrainement\")\n",
    "plt.ylabel('Accuracy (test)')\n",
    "plt.savefig('figures/accuracies_test_per_nimages_2hl', dpi = 600)"
   ]
  },
  {
   "cell_type": "markdown",
   "id": "7867a7cc",
   "metadata": {},
   "source": [
    "### Hyperparameter tuning"
   ]
  },
  {
   "cell_type": "markdown",
   "id": "b0b010c7",
   "metadata": {},
   "source": [
    "Dans cette section, nous souhaitons chercher le meilleur modèle en terme de nombre de neuronnes et de couches cachés (avec pré entraînement ou pas) dans le sens du modèle qui donne le meilleur taux de bonne classification sur le jeu de test. Afin de ne pas avoir à trouver un nombre parfait d'epochs pour la rétropropagation, nous utiliserons un jeu de validation qui contient $5\\%$ du jeu d'entraînement et l'utiliserons comme critére d'arrêt pour l'optimisation. Cette pratique très utilisée, l'early stopping, permet à nos modèles de ne pas trop overfit sur les données d'entraînement.\n",
    "\n",
    "Grâce aux expériences précédentes, nous savons qu'un DNN $2$ couches cachées ou plus ne converge pas sans pré entrainement, et que le pré entrainement n'est pas forcément utile sur un DNN avec peu de couches cachées. Nous avons vu également que plus le nombre de neurones est grand et plus un DNN avec pré entrainement est bon. \n",
    "\n",
    "Nous allons donc procéder à l'optimisation des modèles suivant:\n",
    "\n",
    "- DNN 2 couches + pas de prétrain: 100 neurones\n",
    "- DNN 3 couches + pas de prétrain: 100 ou 200 neurones\n",
    "- DNN 4 couches + prétrain: 200 ou 500 ou 1000 neurones\n",
    "- DNN 5 couches + prétrain: 200 ou 500 ou 1000 neurones\n",
    "- DNN 6 couches + prétrain: 200 ou 500 ou 1000 neurones\n"
   ]
  },
  {
   "cell_type": "code",
   "execution_count": 3,
   "id": "cd765571",
   "metadata": {},
   "outputs": [],
   "source": [
    "X_train, y_train, X_val, y_val, X_test, y_test = lire_mnist(device = device, val_size = 0.05)"
   ]
  },
  {
   "cell_type": "code",
   "execution_count": 4,
   "id": "b96bfc16",
   "metadata": {},
   "outputs": [],
   "source": [
    "archs = [\n",
    "    [(X_train.size(1), 100), (100,10)],\n",
    "    [(X_train.size(1), 100), (100,100), (100,10)], \n",
    "    [(X_train.size(1), 200), (200,200), (200,10)], \n",
    "    [(X_train.size(1), 500), (500,500), (500,500),(500,10)], \n",
    "    [(X_train.size(1), 1000), (1000,1000), (1000,1000),(1000,10)], \n",
    "    [(X_train.size(1), 500), (500,500), (500,500),(500,500),(500,10)], \n",
    "    [(X_train.size(1), 1000), (1000,1000), (1000,1000),(1000,1000),(1000,10)], \n",
    "    [(X_train.size(1), 500), (500,500), (500,500),(500,500),(500,500),(500,10)], \n",
    "    [(X_train.size(1), 1000), (1000,1000), (1000,1000),(1000,1000),(1000,1000),(1000,10)], \n",
    "    \n",
    "    [(X_train.size(1), 500), (500,500), (500,500),(500,10)], \n",
    "    [(X_train.size(1), 1000), (1000,1000), (1000,1000),(1000,10)], \n",
    "    [(X_train.size(1), 500), (500,500), (500,500),(500,500),(500,10)], \n",
    "    [(X_train.size(1), 1000), (1000,1000), (1000,1000),(1000,1000),(1000,10)], \n",
    "    [(X_train.size(1), 500), (500,500), (500,500),(500,500),(500,500),(500,10)], \n",
    "    [(X_train.size(1), 1000), (1000,1000), (1000,1000),(1000,1000),(1000,1000),(1000,10)],\n",
    "]"
   ]
  },
  {
   "cell_type": "code",
   "execution_count": 6,
   "id": "2bdf8bc8",
   "metadata": {
    "scrolled": true
   },
   "outputs": [
    {
     "name": "stdout",
     "output_type": "stream",
     "text": [
      "DNN 2 layers with 100 neurons\n"
     ]
    },
    {
     "name": "stderr",
     "output_type": "stream",
     "text": [
      "Epoch 238 | loss : 0.090 | accuracy  0.96:  12%| | 238/2000 [00:21<02:37, 11.18i\n"
     ]
    },
    {
     "name": "stdout",
     "output_type": "stream",
     "text": [
      "Test accuracy: 0.963\n",
      "DNN 3 layers with 100 neurons\n"
     ]
    },
    {
     "name": "stderr",
     "output_type": "stream",
     "text": [
      "Epoch 331 | loss : 0.050 | accuracy  0.97:  17%|▏| 331/2000 [00:41<03:30,  7.95i\n"
     ]
    },
    {
     "name": "stdout",
     "output_type": "stream",
     "text": [
      "Test accuracy: 0.967\n",
      "DNN 3 layers with 200 neurons\n"
     ]
    },
    {
     "name": "stderr",
     "output_type": "stream",
     "text": [
      "Epoch 355 | loss : 0.044 | accuracy  0.97:  18%|▏| 355/2000 [00:50<03:54,  7.02i\n"
     ]
    },
    {
     "name": "stdout",
     "output_type": "stream",
     "text": [
      "Test accuracy: 0.969\n",
      "DNN 4 layers with 500 neurons\n"
     ]
    },
    {
     "name": "stderr",
     "output_type": "stream",
     "text": [
      "EPOCH 99 - Reconstruction Error: 2.2343: 100%|█| 100/100 [00:37<00:00,  2.66it/s\n",
      "EPOCH 99 - Reconstruction Error: 2.7916: 100%|█| 100/100 [00:32<00:00,  3.07it/s\n",
      "EPOCH 99 - Reconstruction Error: 2.9884: 100%|█| 100/100 [00:32<00:00,  3.06it/s\n",
      "Epoch 244 | loss : 0.035 | accuracy  0.97:  12%| | 244/2000 [01:30<10:53,  2.69i\n"
     ]
    },
    {
     "name": "stdout",
     "output_type": "stream",
     "text": [
      "Test accuracy: 0.972\n",
      "DNN 4 layers with 1000 neurons\n"
     ]
    },
    {
     "name": "stderr",
     "output_type": "stream",
     "text": [
      "EPOCH 99 - Reconstruction Error: 0.8933: 100%|█| 100/100 [01:22<00:00,  1.22it/s\n",
      "EPOCH 99 - Reconstruction Error: 9.9365: 100%|█| 100/100 [01:42<00:00,  1.02s/it\n",
      "EPOCH 99 - Reconstruction Error: 1.6819: 100%|█| 100/100 [01:39<00:00,  1.00it/s\n",
      "Epoch 197 | loss : 0.045 | accuracy  0.97:  10%| | 197/2000 [03:09<28:56,  1.04i\n"
     ]
    },
    {
     "name": "stdout",
     "output_type": "stream",
     "text": [
      "Test accuracy: 0.969\n",
      "DNN 5 layers with 500 neurons\n"
     ]
    },
    {
     "name": "stderr",
     "output_type": "stream",
     "text": [
      "EPOCH 99 - Reconstruction Error: 2.2385: 100%|█| 100/100 [00:40<00:00,  2.50it/s\n",
      "EPOCH 99 - Reconstruction Error: 2.9364: 100%|█| 100/100 [00:32<00:00,  3.08it/s\n",
      "EPOCH 99 - Reconstruction Error: 3.0586: 100%|█| 100/100 [00:33<00:00,  3.01it/s\n",
      "EPOCH 99 - Reconstruction Error: 1.7465: 100%|█| 100/100 [00:32<00:00,  3.05it/s\n",
      "Epoch 217 | loss : 0.034 | accuracy  0.97:  11%| | 217/2000 [01:36<13:10,  2.26i\n"
     ]
    },
    {
     "name": "stdout",
     "output_type": "stream",
     "text": [
      "Test accuracy: 0.972\n",
      "DNN 5 layers with 1000 neurons\n"
     ]
    },
    {
     "name": "stderr",
     "output_type": "stream",
     "text": [
      "EPOCH 99 - Reconstruction Error: 0.8944: 100%|█| 100/100 [01:19<00:00,  1.25it/s\n",
      "EPOCH 99 - Reconstruction Error: 12.4484: 100%|█| 100/100 [01:40<00:00,  1.00s/i\n",
      "EPOCH 99 - Reconstruction Error: 1.2865: 100%|█| 100/100 [01:39<00:00,  1.00it/s\n",
      "EPOCH 99 - Reconstruction Error: 2.1128: 100%|█| 100/100 [01:42<00:00,  1.02s/it\n",
      "Epoch 236 | loss : 0.030 | accuracy  0.97:  12%| | 236/2000 [05:24<40:28,  1.38s\n"
     ]
    },
    {
     "name": "stdout",
     "output_type": "stream",
     "text": [
      "Test accuracy: 0.973\n",
      "DNN 6 layers with 500 neurons\n"
     ]
    },
    {
     "name": "stderr",
     "output_type": "stream",
     "text": [
      "EPOCH 99 - Reconstruction Error: 2.2343: 100%|█| 100/100 [00:45<00:00,  2.20it/s\n",
      "EPOCH 99 - Reconstruction Error: 3.1051: 100%|█| 100/100 [00:36<00:00,  2.72it/s\n",
      "EPOCH 99 - Reconstruction Error: 3.1008: 100%|█| 100/100 [00:35<00:00,  2.83it/s\n",
      "EPOCH 99 - Reconstruction Error: 1.7537: 100%|█| 100/100 [00:35<00:00,  2.82it/s\n",
      "EPOCH 99 - Reconstruction Error: 1.9515: 100%|█| 100/100 [00:39<00:00,  2.53it/s\n",
      "Epoch 162 | loss : 0.042 | accuracy  0.97:   8%| | 162/2000 [01:30<17:08,  1.79i\n"
     ]
    },
    {
     "name": "stdout",
     "output_type": "stream",
     "text": [
      "Test accuracy: 0.971\n",
      "DNN 6 layers with 1000 neurons\n"
     ]
    },
    {
     "name": "stderr",
     "output_type": "stream",
     "text": [
      "EPOCH 99 - Reconstruction Error: 0.8936: 100%|█| 100/100 [01:24<00:00,  1.18it/s\n",
      "EPOCH 99 - Reconstruction Error: 14.3425: 100%|█| 100/100 [01:50<00:00,  1.10s/i\n",
      "EPOCH 99 - Reconstruction Error: 1.1717: 100%|█| 100/100 [01:45<00:00,  1.06s/it\n",
      "EPOCH 99 - Reconstruction Error: 2.1549: 100%|█| 100/100 [01:45<00:00,  1.05s/it\n",
      "EPOCH 99 - Reconstruction Error: 1.0115: 100%|█| 100/100 [01:44<00:00,  1.05s/it\n",
      "Epoch 214 | loss : 0.029 | accuracy  0.97:  11%| | 214/2000 [06:29<54:11,  1.82s\n"
     ]
    },
    {
     "name": "stdout",
     "output_type": "stream",
     "text": [
      "Test accuracy: 0.973\n",
      "DNN 4 layers with 500 neurons\n"
     ]
    },
    {
     "name": "stderr",
     "output_type": "stream",
     "text": [
      "EPOCH 199 - Reconstruction Error: 0.9796: 100%|█| 200/200 [01:33<00:00,  2.13it/\n",
      "EPOCH 199 - Reconstruction Error: 2.4639: 100%|█| 200/200 [01:21<00:00,  2.47it/\n",
      "EPOCH 199 - Reconstruction Error: 3.7910: 100%|█| 200/200 [01:25<00:00,  2.34it/\n",
      "Epoch 210 | loss : 0.045 | accuracy  0.97:  10%| | 210/2000 [01:19<11:20,  2.63i\n"
     ]
    },
    {
     "name": "stdout",
     "output_type": "stream",
     "text": [
      "Test accuracy: 0.968\n",
      "DNN 4 layers with 1000 neurons\n"
     ]
    },
    {
     "name": "stderr",
     "output_type": "stream",
     "text": [
      "EPOCH 199 - Reconstruction Error: 0.2611: 100%|█| 200/200 [02:54<00:00,  1.15it/\n",
      "EPOCH 199 - Reconstruction Error: 32.6754: 100%|█| 200/200 [03:34<00:00,  1.07s/\n",
      "EPOCH 199 - Reconstruction Error: 4.9871: 100%|█| 200/200 [03:34<00:00,  1.07s/i\n",
      "Epoch 329 | loss : 0.036 | accuracy  0.97:  16%|▏| 329/2000 [05:56<30:09,  1.08s\n"
     ]
    },
    {
     "name": "stdout",
     "output_type": "stream",
     "text": [
      "Test accuracy: 0.970\n",
      "DNN 5 layers with 500 neurons\n"
     ]
    },
    {
     "name": "stderr",
     "output_type": "stream",
     "text": [
      "EPOCH 199 - Reconstruction Error: 0.9775: 100%|█| 200/200 [01:24<00:00,  2.37it/\n",
      "EPOCH 199 - Reconstruction Error: 2.2826: 100%|█| 200/200 [01:17<00:00,  2.57it/\n",
      "EPOCH 199 - Reconstruction Error: 3.7251: 100%|█| 200/200 [01:17<00:00,  2.58it/\n",
      "EPOCH 199 - Reconstruction Error: 1.7106: 100%|█| 200/200 [01:13<00:00,  2.71it/\n",
      "Epoch 200 | loss : 0.035 | accuracy  0.97:  10%| | 200/2000 [01:43<15:30,  1.94i\n"
     ]
    },
    {
     "name": "stdout",
     "output_type": "stream",
     "text": [
      "Test accuracy: 0.969\n",
      "DNN 5 layers with 1000 neurons\n"
     ]
    },
    {
     "name": "stderr",
     "output_type": "stream",
     "text": [
      "EPOCH 199 - Reconstruction Error: 0.2617: 100%|█| 200/200 [02:53<00:00,  1.15it/\n",
      "EPOCH 199 - Reconstruction Error: 83.9064: 100%|█| 200/200 [03:27<00:00,  1.04s/\n",
      "EPOCH 199 - Reconstruction Error: 0.2066: 100%|█| 200/200 [03:19<00:00,  1.00it/\n",
      "EPOCH 199 - Reconstruction Error: 8.5433: 100%|█| 200/200 [03:14<00:00,  1.03it/\n",
      "Epoch 214 | loss : 0.237 | accuracy  0.91:  11%| | 214/2000 [04:42<39:15,  1.32s\n"
     ]
    },
    {
     "name": "stdout",
     "output_type": "stream",
     "text": [
      "Test accuracy: 0.904\n",
      "DNN 6 layers with 500 neurons\n"
     ]
    },
    {
     "name": "stderr",
     "output_type": "stream",
     "text": [
      "EPOCH 199 - Reconstruction Error: 0.9753: 100%|█| 200/200 [01:24<00:00,  2.36it/\n",
      "EPOCH 199 - Reconstruction Error: 2.3145: 100%|█| 200/200 [01:06<00:00,  2.99it/\n",
      "EPOCH 199 - Reconstruction Error: 3.6816: 100%|█| 200/200 [01:05<00:00,  3.04it/\n",
      "EPOCH 199 - Reconstruction Error: 1.7472: 100%|█| 200/200 [01:05<00:00,  3.05it/\n",
      "EPOCH 199 - Reconstruction Error: 2.2950: 100%|█| 200/200 [01:10<00:00,  2.82it/\n",
      "Epoch 136 | loss : 0.052 | accuracy  0.97:   7%| | 136/2000 [01:17<17:47,  1.75i\n"
     ]
    },
    {
     "name": "stdout",
     "output_type": "stream",
     "text": [
      "Test accuracy: 0.969\n",
      "DNN 6 layers with 1000 neurons\n"
     ]
    },
    {
     "name": "stderr",
     "output_type": "stream",
     "text": [
      "EPOCH 199 - Reconstruction Error: 0.2614: 100%|█| 200/200 [02:43<00:00,  1.22it/\n",
      "EPOCH 199 - Reconstruction Error: 37.1861: 100%|█| 200/200 [03:29<00:00,  1.05s/\n",
      "EPOCH 199 - Reconstruction Error: 3.7734: 100%|█| 200/200 [03:32<00:00,  1.06s/i\n",
      "EPOCH 199 - Reconstruction Error: 10.5794: 100%|█| 200/200 [03:30<00:00,  1.05s/\n",
      "EPOCH 199 - Reconstruction Error: 0.3605: 100%|█| 200/200 [03:26<00:00,  1.03s/i\n",
      "Epoch 287 | loss : 0.039 | accuracy  0.96:  14%|▏| 287/2000 [08:30<50:46,  1.78s"
     ]
    },
    {
     "name": "stdout",
     "output_type": "stream",
     "text": [
      "Test accuracy: 0.963\n"
     ]
    },
    {
     "name": "stderr",
     "output_type": "stream",
     "text": [
      "\n"
     ]
    }
   ],
   "source": [
    "accuracies_test = []\n",
    "lr = 0.1\n",
    "batch_size = 512\n",
    "epochs_pretrain = 100\n",
    "epochs_retro = 2000\n",
    "times = []\n",
    "converging_times = []\n",
    "\n",
    "for idx, arch in enumerate(archs): \n",
    "    n = len(arch)\n",
    "    q = arch[0][1]\n",
    "    print(f'DNN {n} layers with {q} neurons')\n",
    "    DNN = init_DNN(n, arch, device, random_state = 42)\n",
    "    \n",
    "    t0 = time()\n",
    "    if idx >= 3  :\n",
    "        if idx >= 9 : \n",
    "            epochs_pretrain = 200\n",
    "        DNN = pretrain_DNN(X_train, DNN, epochs_pretrain, lr, batch_size)\n",
    "    DNN, history = retropropagation(X_train, y_train, DNN, epochs_retro, lr, batch_size, X_val, y_val,\n",
    "                                   esr = 30)\n",
    "    times.append(time()-t0)\n",
    "    converging_times.append(len(history) - 30)\n",
    "    accuracy_test = test_DNN(X_test, y_test, DNN)\n",
    "\n",
    "\n",
    "    accuracies_test.append(accuracy_test)\n",
    "    print(f'Test accuracy: {accuracy_test:0.3f}')\n",
    "    del DNN\n",
    "    torch.cuda.empty_cache()\n",
    "    gc.collect()"
   ]
  },
  {
   "cell_type": "code",
   "execution_count": 11,
   "id": "e3b08504",
   "metadata": {},
   "outputs": [],
   "source": [
    "df_dic = {\n",
    "    'Nb de couches cachées' : [0, 1, 1, 2, 2, 3, 3, 4, 4 , 2, 2 ,3 ,3 ,4 ,4],\n",
    "    'Nb de neurones' : [100, 100, 200, 500, 1000, 500, 1000, 500, 1000, 500, 1000, 500, 1000, 500, 1000],\n",
    "    'Pré entraînement' : ['non','non','non','oui','oui','oui','oui','oui','oui','oui','oui','oui','oui','oui','oui'],\n",
    "    'Epochs (pré entraînement)' : ['-','-','-', 100, 100, 100, 100, 100, 100, 200, 200, 200, 200, 200, 200],\n",
    "    \"Epochs\" : converging_times,\n",
    "    \"Temps d'entraînement (s)\" : times, \n",
    "    'Accuracy' : accuracies_test,\n",
    "}\n",
    "df = pd.DataFrame(df_dic)"
   ]
  },
  {
   "cell_type": "code",
   "execution_count": 14,
   "id": "827a3601",
   "metadata": {
    "scrolled": false
   },
   "outputs": [
    {
     "name": "stdout",
     "output_type": "stream",
     "text": [
      "\\begin{tabular}{lrrllrrr}\n",
      "\\toprule\n",
      "{} &  Nb de couches cachées &  Nb de neurones & Pré entraînement & Epochs (pré entraînement) &  Epochs &  Temps d'entraînement (s) &  Accuracy \\\\\n",
      "\\midrule\n",
      "0  &                      0 &             100 &              non &                         - &     208 &                 21.296586 &    0.9632 \\\\\n",
      "1  &                      1 &             100 &              non &                         - &     301 &                 41.653213 &    0.9675 \\\\\n",
      "2  &                      1 &             200 &              non &                         - &     325 &                 50.542730 &    0.9691 \\\\\n",
      "3  &                      2 &             500 &              oui &                       100 &     214 &                193.580096 &    0.9722 \\\\\n",
      "4  &                      2 &            1000 &              oui &                       100 &     167 &                473.721500 &    0.9693 \\\\\n",
      "5  &                      3 &             500 &              oui &                       100 &     187 &                234.694883 &    0.9722 \\\\\n",
      "6  &                      3 &            1000 &              oui &                       100 &     206 &                707.187838 &    0.9729 \\\\\n",
      "7  &                      4 &             500 &              oui &                       100 &     132 &                283.230831 &    0.9712 \\\\\n",
      "8  &                      4 &            1000 &              oui &                       100 &     184 &                900.622583 &    0.9729 \\\\\n",
      "9  &                      2 &             500 &              oui &                       200 &     180 &                340.202710 &    0.9677 \\\\\n",
      "10 &                      2 &            1000 &              oui &                       200 &     299 &                959.288472 &    0.9705 \\\\\n",
      "11 &                      3 &             500 &              oui &                       200 &     170 &                417.242666 &    0.9691 \\\\\n",
      "12 &                      3 &            1000 &              oui &                       200 &     184 &               1057.985596 &    0.9043 \\\\\n",
      "13 &                      4 &             500 &              oui &                       200 &     106 &                431.864361 &    0.9693 \\\\\n",
      "14 &                      4 &            1000 &              oui &                       200 &     257 &               1512.671201 &    0.9630 \\\\\n",
      "\\bottomrule\n",
      "\\end{tabular}\n",
      "\n"
     ]
    }
   ],
   "source": [
    "print(df.to_latex())"
   ]
  }
 ],
 "metadata": {
  "kernelspec": {
   "display_name": "Python 3 (ipykernel)",
   "language": "python",
   "name": "python3"
  },
  "language_info": {
   "codemirror_mode": {
    "name": "ipython",
    "version": 3
   },
   "file_extension": ".py",
   "mimetype": "text/x-python",
   "name": "python",
   "nbconvert_exporter": "python",
   "pygments_lexer": "ipython3",
   "version": "3.8.10"
  }
 },
 "nbformat": 4,
 "nbformat_minor": 5
}
