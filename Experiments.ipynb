{
 "cells": [
  {
   "cell_type": "code",
   "execution_count": 1,
   "id": "dc1f821a",
   "metadata": {},
   "outputs": [
    {
     "name": "stderr",
     "output_type": "stream",
     "text": [
      "/usr/lib/python3/dist-packages/requests/__init__.py:89: RequestsDependencyWarning: urllib3 (1.26.9) or chardet (3.0.4) doesn't match a supported version!\n",
      "  warnings.warn(\"urllib3 ({}) or chardet ({}) doesn't match a supported \"\n"
     ]
    }
   ],
   "source": [
    "from principal_RBM_alpha import * \n",
    "from principal_DBN_alpha import * \n",
    "from principal_DNN_MNIST import * \n",
    "import torch\n",
    "import numpy as np\n",
    "from time import time\n",
    "from tqdm import tqdm\n",
    "import torchvision\n",
    "import gc"
   ]
  },
  {
   "cell_type": "code",
   "execution_count": 2,
   "id": "e400c366",
   "metadata": {},
   "outputs": [],
   "source": [
    "device = torch.device('cuda') if torch.cuda.is_available() else 'cpu'"
   ]
  },
  {
   "cell_type": "markdown",
   "id": "b64f7ba0",
   "metadata": {},
   "source": [
    "### Visualisation du préentrainement d'une RBM sur BinaryAlphaDigits"
   ]
  },
  {
   "cell_type": "markdown",
   "id": "2ad073ea",
   "metadata": {},
   "source": [
    "Nous allons visualiser l'entrainement de notre RBM sur la base de données BinaryAlphadigits. Dans un premier temps, on considère le préentrainement sur le nombre $8$"
   ]
  },
  {
   "cell_type": "code",
   "execution_count": 3,
   "id": "38691d50",
   "metadata": {},
   "outputs": [],
   "source": [
    "index = 10\n",
    "X  = lire_alpha_digit(index, device)"
   ]
  },
  {
   "cell_type": "code",
   "execution_count": 4,
   "id": "2bdfdc8d",
   "metadata": {},
   "outputs": [
    {
     "name": "stdout",
     "output_type": "stream",
     "text": [
      "Les données contiennent:\n",
      "39 examples\n",
      "320 pixels\n"
     ]
    }
   ],
   "source": [
    "print('Les données contiennent:')\n",
    "print(f'{X.size(0)} examples')\n",
    "print(f'{X.size(1)} pixels')\n"
   ]
  },
  {
   "cell_type": "code",
   "execution_count": 5,
   "id": "0eff2138",
   "metadata": {
    "scrolled": true
   },
   "outputs": [
    {
     "name": "stdout",
     "output_type": "stream",
     "text": [
      "RBM avec 10 neuronnes\n"
     ]
    },
    {
     "name": "stderr",
     "output_type": "stream",
     "text": [
      "EPOCH 999 - Reconstruction Error: 23.6630: 100%|█| 1000/1000 [00:04<00:00, 215.6\n"
     ]
    },
    {
     "name": "stdout",
     "output_type": "stream",
     "text": [
      "\n",
      "RBM avec 100 neuronnes\n"
     ]
    },
    {
     "name": "stderr",
     "output_type": "stream",
     "text": [
      "EPOCH 999 - Reconstruction Error: 0.0289: 100%|█| 1000/1000 [00:04<00:00, 219.36\n"
     ]
    },
    {
     "name": "stdout",
     "output_type": "stream",
     "text": [
      "\n",
      "RBM avec 500 neuronnes\n"
     ]
    },
    {
     "name": "stderr",
     "output_type": "stream",
     "text": [
      "EPOCH 999 - Reconstruction Error: 0.0009: 100%|█| 1000/1000 [00:04<00:00, 209.12\n"
     ]
    },
    {
     "name": "stdout",
     "output_type": "stream",
     "text": [
      "\n"
     ]
    }
   ],
   "source": [
    "\n",
    "p = X.size(1) #Nombre de pixels\n",
    "qs = [10,100,500] #Test de différents nombres de neuronnes dans la couche cachée\n",
    "batch_size = 10 #Le nombre de données par batch\n",
    "lr = 0.1 #Le pas dans la gradient ascent\n",
    "epochs = 1000 #Le nombre d'itérations (nombre de fois que le modèle voit toutes les données)\n",
    "n_images = 2 #Nombre d'images à générer une fois la RBM entrainée\n",
    "gibbs_iter = 1000 #Nombre d'itération dans le gibbs sampler pour générer une image\n",
    "\n",
    "historique = []\n",
    "images_RBM = []\n",
    "times_RBM = []\n",
    "\n",
    "for q in qs : \n",
    "    t0 = time()\n",
    "    print(f'RBM avec {q} neuronnes')\n",
    "    RBM = init_RBM(p, q, device)\n",
    "    trained_RBM, history = train_RBM(X, RBM, epochs, lr, batch_size)\n",
    "    historique.append(history)\n",
    "    gen_images = generer_image_RBM(trained_RBM, gibbs_iter, n_images, plot = False)\n",
    "    print('')\n",
    "    times_RBM.append(time()-t0)\n",
    "    images_RBM.append(gen_images)"
   ]
  },
  {
   "cell_type": "code",
   "execution_count": 6,
   "id": "c9c8327e",
   "metadata": {},
   "outputs": [
    {
     "name": "stdout",
     "output_type": "stream",
     "text": [
      "Training time (GPU) 10 neuronnes: 4.865 seconds\n",
      "Training time (GPU) 100 neuronnes: 4.806 seconds\n",
      "Training time (GPU) 500 neuronnes: 5.078 seconds\n"
     ]
    }
   ],
   "source": [
    "print(f'Training time (GPU) 10 neuronnes: {times_RBM[0]:0.3f} seconds')\n",
    "print(f'Training time (GPU) 100 neuronnes: {times_RBM[1]:0.3f} seconds')\n",
    "print(f'Training time (GPU) 500 neuronnes: {times_RBM[2]:0.3f} seconds')"
   ]
  },
  {
   "cell_type": "markdown",
   "id": "8237aaa3",
   "metadata": {},
   "source": [
    "Le temps d'entraînement n'augmente presque pas avec le nombre de neuronnes. Cela est probablement du à l'utilisation du GPU par Pytorch"
   ]
  },
  {
   "cell_type": "code",
   "execution_count": 7,
   "id": "34a6dca8",
   "metadata": {},
   "outputs": [
    {
     "data": {
      "text/plain": [
       "Text(0, 0.5, 'Reconstruction Error')"
      ]
     },
     "execution_count": 7,
     "metadata": {},
     "output_type": "execute_result"
    },
    {
     "data": {
      "image/png": "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\n",
      "text/plain": [
       "<Figure size 720x288 with 1 Axes>"
      ]
     },
     "metadata": {
      "needs_background": "light"
     },
     "output_type": "display_data"
    }
   ],
   "source": [
    "plt.figure(figsize = (10,4))\n",
    "plt.plot(historique[0], label = '10 Neuronnes')\n",
    "plt.plot(historique[1], label = '100 Neuronnes')\n",
    "plt.plot(historique[2], label = '500 Neuronnes')\n",
    "plt.legend()\n",
    "plt.xlabel('Epochs')\n",
    "plt.ylabel('Reconstruction Error')\n"
   ]
  },
  {
   "cell_type": "markdown",
   "id": "79956560",
   "metadata": {},
   "source": [
    "Nous voyons qu'une RBM avec 10 neuronnes ne convergent pas, tandis qu'une RBM avec 100 ou 500 neuronnes convergent vers une erreur de reconstruction très faible. Par ailleurs, l'utilisation de 500 neuronnes permet une convergence plus rapide."
   ]
  },
  {
   "cell_type": "code",
   "execution_count": 8,
   "id": "006ff6c3",
   "metadata": {},
   "outputs": [
    {
     "data": {
      "image/png": "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\n",
      "text/plain": [
       "<Figure size 1152x720 with 8 Axes>"
      ]
     },
     "metadata": {
      "needs_background": "light"
     },
     "output_type": "display_data"
    }
   ],
   "source": [
    "fig, ax = plt.subplots(nrows = 2, ncols = 4, sharex = True, sharey = True, figsize = (16,10))\n",
    "\n",
    "ax[0,0].imshow(X[0].view(20,16).cpu().numpy())\n",
    "ax[1,0].imshow(X[10].view(20,16).cpu().numpy())\n",
    "ax[0,0].set_title('Training images')\n",
    "\n",
    "ax[0,1].imshow(images_RBM[0][0])\n",
    "ax[1,1].imshow(images_RBM[0][1])\n",
    "ax[0,1].set_title('Generated images (10 Neurons)')\n",
    "\n",
    "ax[0,2].imshow(images_RBM[1][0])\n",
    "ax[1,2].imshow(images_RBM[1][1])\n",
    "ax[0,2].set_title('Generated images (100 Neurons)')\n",
    "\n",
    "ax[0,3].imshow(images_RBM[2][0])\n",
    "ax[1,3].imshow(images_RBM[2][1])\n",
    "_=ax[0,3].set_title('Generated images (500 Neurons)')\n"
   ]
  },
  {
   "cell_type": "markdown",
   "id": "a5a6a856",
   "metadata": {},
   "source": [
    "Les RBM avec 100 et 500 neuronnes génèrent des images aussi proche que celles utilisées pourt l'entraînement."
   ]
  },
  {
   "cell_type": "markdown",
<<<<<<< Updated upstream
   "id": "1b4b60e4",
=======
   "id": "d8363c6a",
>>>>>>> Stashed changes
   "metadata": {},
   "source": [
    "### Visualisation du préentrainement d'un DBN sur BinaryAlphaDigits"
   ]
  },
  {
   "cell_type": "code",
   "execution_count": 10,
<<<<<<< Updated upstream
   "id": "86d96846",
=======
   "id": "990f4293",
>>>>>>> Stashed changes
   "metadata": {
    "scrolled": true
   },
   "outputs": [
    {
     "name": "stdout",
     "output_type": "stream",
     "text": [
      "DBN avec 1 couches de 100 neuronnes\n"
     ]
    },
    {
     "name": "stderr",
     "output_type": "stream",
     "text": [
      "EPOCH 999 - Reconstruction Error: 0.0262: 100%|█| 1000/1000 [00:04<00:00, 218.09\n",
      "EPOCH 999 - Reconstruction Error: 0.0041: 100%|█| 1000/1000 [00:04<00:00, 219.80\n"
     ]
    },
    {
     "name": "stdout",
     "output_type": "stream",
     "text": [
      "\n",
      "DBN avec 3 couches de 100 neuronnes\n"
     ]
    },
    {
     "name": "stderr",
     "output_type": "stream",
     "text": [
      "EPOCH 999 - Reconstruction Error: 0.0269: 100%|█| 1000/1000 [00:04<00:00, 216.20\n",
      "EPOCH 999 - Reconstruction Error: 0.0038: 100%|█| 1000/1000 [00:04<00:00, 232.97\n",
      "EPOCH 999 - Reconstruction Error: 0.0030: 100%|█| 1000/1000 [00:04<00:00, 226.07\n",
      "EPOCH 999 - Reconstruction Error: 0.0021: 100%|█| 1000/1000 [00:04<00:00, 226.40\n"
     ]
    },
    {
     "name": "stdout",
     "output_type": "stream",
     "text": [
      "\n",
      "DBN avec 1 couches de 500 neuronnes\n"
     ]
    },
    {
     "name": "stderr",
     "output_type": "stream",
     "text": [
      "EPOCH 999 - Reconstruction Error: 0.0009: 100%|█| 1000/1000 [00:04<00:00, 219.26\n",
      "EPOCH 999 - Reconstruction Error: 0.0005: 100%|█| 1000/1000 [00:04<00:00, 211.03\n"
     ]
    },
    {
     "name": "stdout",
     "output_type": "stream",
     "text": [
      "\n",
      "DBN avec 3 couches de 500 neuronnes\n"
     ]
    },
    {
     "name": "stderr",
     "output_type": "stream",
     "text": [
      "EPOCH 999 - Reconstruction Error: 0.0011: 100%|█| 1000/1000 [00:04<00:00, 220.83\n",
      "EPOCH 999 - Reconstruction Error: 0.0005: 100%|█| 1000/1000 [00:04<00:00, 216.46\n",
      "EPOCH 999 - Reconstruction Error: 0.0002: 100%|█| 1000/1000 [00:04<00:00, 206.65\n",
      "EPOCH 999 - Reconstruction Error: 0.0003: 100%|█| 1000/1000 [00:04<00:00, 201.39\n"
     ]
    },
    {
     "name": "stdout",
     "output_type": "stream",
     "text": [
      "\n"
     ]
    }
   ],
   "source": [
    "\n",
    "p = X.size(1) #Nombre de pixels\n",
    "qs = [100,500] #Test de différents nombres de neuronnes dans la couche cachée\n",
    "n_layers = [1,3]\n",
    "batch_size = 10 #Le nombre de données par batch\n",
    "lr = 0.1 #Le pas dans la gradient ascent\n",
    "epochs = 1000 #Le nombre d'itérations (nombre de fois que le modèle voit toutes les données)\n",
    "n_images = 2 #Nombre d'images à générer une fois la RBM entrainée\n",
    "gibbs_iter = 1000 #Nombre d'itération dans le gibbs sampler pour générer une image\n",
    "\n",
    "images_DBN = []\n",
    "times_DBN = []\n",
    "\n",
    "for q in qs : \n",
    "    for n in n_layers : \n",
    "        t0 = time()\n",
    "        print(f'DBN avec {n} couches cachées de {q} neuronnes')\n",
    "        sizes = [(X.size(1), q)]\n",
    "        for j in range(n) : \n",
    "            sizes.append((q, q)) \n",
    "        DNN = init_DNN(len(sizes), sizes, device)\n",
    "        trained_DNN = pretrain_DNN(\n",
    "             X, DNN, epochs, lr, batch_size, DBN = True\n",
    "         )\n",
    "        gen_images = generer_image_DBN(trained_DNN, gibbs_iter, n_images, plot = False)\n",
    "        print('')\n",
    "        times_DBN.append(time()-t0)\n",
    "        images_DBN.append(gen_images)"
   ]
  },
  {
   "cell_type": "code",
   "execution_count": 11,
<<<<<<< Updated upstream
   "id": "3e36101c",
=======
   "id": "25ac4cdb",
>>>>>>> Stashed changes
   "metadata": {},
   "outputs": [
    {
     "name": "stdout",
     "output_type": "stream",
     "text": [
      "Training time (GPU) 2 couches - 100 neuronnes: 9.875 seconds\n",
      "Training time (GPU) 4 couches - 100 neuronnes: 18.984 seconds\n",
      "Training time (GPU) 2 couches - 500 neuronnes: 10.024 seconds\n",
      "Training time (GPU) 4 couches - 500 neuronnes: 20.418 seconds\n"
     ]
    }
   ],
   "source": [
    "print(f'Training time (GPU) 2 couches - 100 neuronnes: {times_DBN[0]:0.3f} seconds')\n",
    "print(f'Training time (GPU) 4 couches - 100 neuronnes: {times_DBN[1]:0.3f} seconds')\n",
    "print(f'Training time (GPU) 2 couches - 500 neuronnes: {times_DBN[2]:0.3f} seconds')\n",
    "print(f'Training time (GPU) 4 couches - 500 neuronnes: {times_DBN[3]:0.3f} seconds')"
   ]
  },
  {
   "cell_type": "markdown",
<<<<<<< Updated upstream
   "id": "2b8a409f",
=======
   "id": "62bc2159",
>>>>>>> Stashed changes
   "metadata": {},
   "source": [
    "Le temps d'entraînement semble augmenter linéairement avec le nombre de couches. Cependant, le nombre de neuronnes ne l'affecte pas beaucoup "
   ]
  },
  {
   "cell_type": "code",
   "execution_count": 21,
<<<<<<< Updated upstream
   "id": "9410d94b",
=======
   "id": "f63cb832",
>>>>>>> Stashed changes
   "metadata": {},
   "outputs": [
    {
     "data": {
      "image/png": "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\n",
      "text/plain": [
       "<Figure size 864x576 with 10 Axes>"
      ]
     },
     "metadata": {
      "needs_background": "light"
     },
     "output_type": "display_data"
    }
   ],
   "source": [
    "fig, ax = plt.subplots(nrows = 2, ncols = 5, sharex = True, sharey = True, figsize = (12,8))\n",
    "\n",
    "ax[0,0].imshow(X[0].view(20,16).cpu().numpy())\n",
    "ax[1,0].imshow(X[10].view(20,16).cpu().numpy())\n",
    "ax[1,0].set_xlabel('Training images', rotation = 5)\n",
    "\n",
    "ax[0,1].imshow(images_DBN[0][0])\n",
    "ax[1,1].imshow(images_DBN[0][1])\n",
    "ax[1,1].set_xlabel('2 Layers - 100 Neurons', rotation = 5)\n",
    "\n",
    "ax[0,2].imshow(images_DBN[1][0])\n",
    "ax[1,2].imshow(images_DBN[1][1])\n",
    "ax[1,2].set_xlabel('4 Layers - 100 Neurons', rotation = 5)\n",
    "\n",
    "ax[0,3].imshow(images_DBN[2][0])\n",
    "ax[1,3].imshow(images_DBN[2][1])\n",
    "ax[1,3].set_xlabel('2 Layers - 500 Neurons', rotation = 5)\n",
    "\n",
    "ax[0,4].imshow(images_DBN[3][0])\n",
    "ax[1,4].imshow(images_DBN[3][1])\n",
    "_ = ax[1,4].set_xlabel('4 Layers - 500 Neurons', rotation = 5)\n",
    "plt.tight_layout()\n"
   ]
  },
  {
   "cell_type": "markdown",
<<<<<<< Updated upstream
   "id": "6f2bff37",
=======
   "id": "5cb4a668",
>>>>>>> Stashed changes
   "metadata": {},
   "source": [
    "##### Génération d'Image pour le rapport"
   ]
  },
  {
   "cell_type": "code",
   "execution_count": 25,
<<<<<<< Updated upstream
   "id": "ce44a592",
=======
   "id": "19a771e6",
>>>>>>> Stashed changes
   "metadata": {},
   "outputs": [
    {
     "data": {
      "image/png": "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\n",
      "text/plain": [
       "<Figure size 576x288 with 10 Axes>"
      ]
     },
     "metadata": {
      "needs_background": "light"
     },
     "output_type": "display_data"
    }
   ],
   "source": [
    "fig, ax = plt.subplots(nrows = 2, ncols = 5, sharex = True, sharey = True, figsize = (8,4))\n",
    "\n",
    "ax[0,0].imshow(X[0].view(20,16).cpu().numpy())\n",
    "ax[1,0].imshow(X[10].view(20,16).cpu().numpy())\n",
    "ax[1,0].set_xlabel('Training images', rotation = 10)\n",
    "\n",
    "ax[0,1].imshow(images_RBM[1][0])\n",
    "ax[1,1].imshow(images_RBM[1][1])\n",
    "ax[1,1].set_xlabel('RBM (100 Neurons)', rotation = 10)\n",
    "\n",
    "ax[0,2].imshow(images_RBM[2][0])\n",
    "ax[1,2].imshow(images_RBM[2][1])\n",
    "_=ax[1,2].set_xlabel('RBM (500 Neurons)', rotation = 10)\n",
    "\n",
    "ax[0,3].imshow(images_DBN[0][0])\n",
    "ax[1,3].imshow(images_DBN[0][1])\n",
    "ax[1,3].set_xlabel('DBN (2 Layers - 100 Neurons)', rotation = 10)\n",
    "\n",
    "ax[0,4].imshow(images_DBN[3][0])\n",
    "ax[1,4].imshow(images_DBN[3][1])\n",
    "_ = ax[1,4].set_xlabel('DBN (4 Layers - 500 Neurons)', rotation = 10)\n",
    "plt.tight_layout()\n",
    "\n",
    "plt.savefig('figures/image_generation_rbm_dbn.jpg', dpi=600)"
   ]
  },
  {
   "cell_type": "markdown",
<<<<<<< Updated upstream
   "id": "e88b87e2",
=======
   "id": "649b9fb1",
>>>>>>> Stashed changes
   "metadata": {},
   "source": [
    "### Classfication avec un DNN"
   ]
  },
  {
   "cell_type": "markdown",
<<<<<<< Updated upstream
   "id": "0c55e20b",
=======
   "id": "34814576",
>>>>>>> Stashed changes
   "metadata": {},
   "source": [
    "Pour la classification, on considère le dataset MNIST contenant des images en $28\\times28$ pixels représentant des chiffres de $0$ à $9$. On possède $60000$ images pour l'entrainement et $10000$ images pour tester la généralisation de notre modèle.\n",
    "\n",
    "On va utiliser un DNN - un DBN contenant une couche de classification supplémentaire. On divise le jeu en jeu d'entraînement (train), validation (pour déterminer un critère d'arrêt d'entrainement) et de test. On utilisera $5\\%$ du jeu d'entrainement en tant que jeu de validation pour la dernière partie consistant à trouver le meilleure jeu d'hyperparamètres."
   ]
  },
  {
   "cell_type": "code",
   "execution_count": 4,
<<<<<<< Updated upstream
   "id": "03566c31",
=======
   "id": "d863e4e8",
>>>>>>> Stashed changes
   "metadata": {},
   "outputs": [],
   "source": [
    "X_train, y_train, X_val, y_val, X_test, y_test = lire_mnist(device = device, val_size = 0)"
   ]
  },
  {
   "cell_type": "code",
   "execution_count": 5,
<<<<<<< Updated upstream
   "id": "4e6105ac",
=======
   "id": "9d1d2f5e",
>>>>>>> Stashed changes
   "metadata": {},
   "outputs": [
    {
     "data": {
      "image/png": "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\n",
      "text/plain": [
       "<Figure size 1296x864 with 5 Axes>"
      ]
     },
     "metadata": {
      "needs_background": "light"
     },
     "output_type": "display_data"
    }
   ],
   "source": [
    "fig, ax = plt.subplots(ncols = 5, nrows = 1, figsize = (18,12))\n",
    "\n",
    "for j in range(5) : \n",
    "    ax[j].imshow(X_train[np.random.randint(X_train.size(0))].reshape(28,28).cpu().numpy())"
   ]
  },
  {
   "cell_type": "markdown",
<<<<<<< Updated upstream
   "id": "07d717d9",
=======
   "id": "ffd808a4",
>>>>>>> Stashed changes
   "metadata": {},
   "source": [
    "On s'intéresse à deux types de **DNN*: \n",
    "\n",
    "- Un **DNN** préentrainé: on performe dans un premier temps un entrainement non supervisé de toutes les couches (hors couche de classification) du DNN de la même manière que l'on a entrainé le DBN. On entraine ensuite le **DNN** en utilisant l'alogrithme de rétropropagation.\n",
    "- Un **DNN** initalisé aléatoirement, entrainé avec l'alogrithme de rétropropagation.\n",
    "\n",
    "Dans les deux cas, les **DNN** seront initialisés avec les mêmes poids. Pour cela, on utilise le code suivant:"
   ]
  },
  {
   "cell_type": "code",
   "execution_count": 5,
<<<<<<< Updated upstream
   "id": "d3c8510c",
=======
   "id": "179d2589",
>>>>>>> Stashed changes
   "metadata": {},
   "outputs": [
    {
     "name": "stdout",
     "output_type": "stream",
     "text": [
      "Number of parameters equal between RBMs: 6\n",
      "Number of parameters: 6\n"
     ]
    }
   ],
   "source": [
    "sizes = [(10,10), (10,10)]\n",
    "DNN_1 = init_DNN(len(sizes), sizes, device, random_state = 42)\n",
    "DNN_2 = init_DNN(len(sizes), sizes, device, random_state = 42)\n",
    "\n",
    "##Checking that the parameters are equal across RBMs\n",
    "assertions = []\n",
    "for layer in range(len(sizes)) : \n",
    "    rbm_1 = DNN_1[layer]\n",
    "    rbm_2 = DNN_2[layer]\n",
    "    assertions.append(torch.all( torch.isclose(rbm_1.W, rbm_2.W, atol = 1e-9)).item() )\n",
    "    assertions.append(torch.all( torch.isclose(rbm_1.b, rbm_2.b, atol = 1e-9)).item() )\n",
    "    assertions.append(torch.all( torch.isclose(rbm_1.a, rbm_2.a, atol = 1e-9)).item() )\n",
    "    \n",
    "#3 params / RBMs\n",
    "n_params = len(sizes) * 3 \n",
    "print(f'Number of parameters equal between RBMs: {sum(assertions)}')\n",
    "print(f'Number of parameters: {n_params}')"
   ]
  },
  {
   "cell_type": "markdown",
<<<<<<< Updated upstream
   "id": "072f878e",
=======
   "id": "2e6d1b5d",
>>>>>>> Stashed changes
   "metadata": {},
   "source": [
    "### Expérience 1"
   ]
  },
  {
   "cell_type": "markdown",
<<<<<<< Updated upstream
   "id": "2088b430",
=======
   "id": "5cfaf60e",
>>>>>>> Stashed changes
   "metadata": {},
   "source": [
    "On s'intéresse a la différence entre un **DNN** préentrainé et un **DNN** initialisé aléatoirement pour une nombre fixé de neuronnes en faisant varier le nombre de couches:"
   ]
  },
  {
   "cell_type": "code",
   "execution_count": 6,
<<<<<<< Updated upstream
   "id": "5219fa28",
=======
   "id": "40052bff",
>>>>>>> Stashed changes
   "metadata": {
    "scrolled": true
   },
   "outputs": [
    {
     "name": "stderr",
     "output_type": "stream",
     "text": [
      "Epoch 11 | loss : 2.304 | accuracy  0.10:   6%| | 11/200 [00:02<00:36,  5.19it/s\n"
     ]
    },
    {
     "ename": "KeyboardInterrupt",
     "evalue": "",
     "output_type": "error",
     "traceback": [
      "\u001b[0;31m---------------------------------------------------------------------------\u001b[0m",
      "\u001b[0;31mKeyboardInterrupt\u001b[0m                         Traceback (most recent call last)",
      "Input \u001b[0;32mIn [6]\u001b[0m, in \u001b[0;36m<cell line: 19>\u001b[0;34m()\u001b[0m\n\u001b[1;32m     16\u001b[0m DNN_2 \u001b[38;5;241m=\u001b[39m init_DNN(\u001b[38;5;28mlen\u001b[39m(sizes), sizes, device, random_state \u001b[38;5;241m=\u001b[39m \u001b[38;5;241m42\u001b[39m)\n\u001b[1;32m     18\u001b[0m \u001b[38;5;66;03m# RETRO SANS PRETRAIN #\u001b[39;00m\n\u001b[0;32m---> 19\u001b[0m DNN_1, history_1 \u001b[38;5;241m=\u001b[39m \u001b[43mretropropagation\u001b[49m\u001b[43m(\u001b[49m\u001b[43mX_train\u001b[49m\u001b[43m,\u001b[49m\u001b[43m \u001b[49m\u001b[43my_train\u001b[49m\u001b[43m,\u001b[49m\u001b[43m \u001b[49m\u001b[43mDNN_1\u001b[49m\u001b[43m,\u001b[49m\u001b[43m \u001b[49m\u001b[43mepochs_retro\u001b[49m\u001b[43m,\u001b[49m\u001b[43m \u001b[49m\u001b[43mlr\u001b[49m\u001b[43m,\u001b[49m\u001b[43m \u001b[49m\u001b[43mbatch_size\u001b[49m\u001b[43m)\u001b[49m\n\u001b[1;32m     21\u001b[0m \u001b[38;5;66;03m# RETRO AVEC PRETRAIN\u001b[39;00m\n\u001b[1;32m     22\u001b[0m DNN_2 \u001b[38;5;241m=\u001b[39m pretrain_DNN(X_train, DNN_2, epochs_pretrain, lr, batch_size)\n",
      "File \u001b[0;32m~/3A/DL2/DeepLearning2/principal_DNN_MNIST.py:93\u001b[0m, in \u001b[0;36mretropropagation\u001b[0;34m(X, y, DNN, epochs, lr, batch_size, x_val, y_val, esr)\u001b[0m\n\u001b[1;32m     91\u001b[0m e\u001b[38;5;241m=\u001b[39m\u001b[38;5;241m0\u001b[39m\n\u001b[1;32m     92\u001b[0m pbar\u001b[38;5;241m=\u001b[39m  tqdm(\u001b[38;5;28mrange\u001b[39m(epochs))\n\u001b[0;32m---> 93\u001b[0m \u001b[38;5;28;01mfor\u001b[39;00m epoch \u001b[38;5;129;01min\u001b[39;00m pbar:\n\u001b[1;32m     95\u001b[0m     rdm_indices \u001b[38;5;241m=\u001b[39m torch\u001b[38;5;241m.\u001b[39mrandperm(n_data)\n\u001b[1;32m     96\u001b[0m     X_ \u001b[38;5;241m=\u001b[39m X[rdm_indices]\n",
      "File \u001b[0;32m~/.local/lib/python3.8/site-packages/tqdm/std.py:1205\u001b[0m, in \u001b[0;36mtqdm.__iter__\u001b[0;34m(self)\u001b[0m\n\u001b[1;32m   1203\u001b[0m dt \u001b[38;5;241m=\u001b[39m cur_t \u001b[38;5;241m-\u001b[39m last_print_t\n\u001b[1;32m   1204\u001b[0m \u001b[38;5;28;01mif\u001b[39;00m dt \u001b[38;5;241m>\u001b[39m\u001b[38;5;241m=\u001b[39m mininterval \u001b[38;5;129;01mand\u001b[39;00m cur_t \u001b[38;5;241m>\u001b[39m\u001b[38;5;241m=\u001b[39m min_start_t:\n\u001b[0;32m-> 1205\u001b[0m     \u001b[38;5;28;43mself\u001b[39;49m\u001b[38;5;241;43m.\u001b[39;49m\u001b[43mupdate\u001b[49m\u001b[43m(\u001b[49m\u001b[43mn\u001b[49m\u001b[43m \u001b[49m\u001b[38;5;241;43m-\u001b[39;49m\u001b[43m \u001b[49m\u001b[43mlast_print_n\u001b[49m\u001b[43m)\u001b[49m\n\u001b[1;32m   1206\u001b[0m     last_print_n \u001b[38;5;241m=\u001b[39m \u001b[38;5;28mself\u001b[39m\u001b[38;5;241m.\u001b[39mlast_print_n\n\u001b[1;32m   1207\u001b[0m     last_print_t \u001b[38;5;241m=\u001b[39m \u001b[38;5;28mself\u001b[39m\u001b[38;5;241m.\u001b[39mlast_print_t\n",
      "File \u001b[0;32m~/.local/lib/python3.8/site-packages/tqdm/std.py:1256\u001b[0m, in \u001b[0;36mtqdm.update\u001b[0;34m(self, n)\u001b[0m\n\u001b[1;32m   1254\u001b[0m     \u001b[38;5;28mself\u001b[39m\u001b[38;5;241m.\u001b[39m_ema_dn(dn)\n\u001b[1;32m   1255\u001b[0m     \u001b[38;5;28mself\u001b[39m\u001b[38;5;241m.\u001b[39m_ema_dt(dt)\n\u001b[0;32m-> 1256\u001b[0m \u001b[38;5;28;43mself\u001b[39;49m\u001b[38;5;241;43m.\u001b[39;49m\u001b[43mrefresh\u001b[49m\u001b[43m(\u001b[49m\u001b[43mlock_args\u001b[49m\u001b[38;5;241;43m=\u001b[39;49m\u001b[38;5;28;43mself\u001b[39;49m\u001b[38;5;241;43m.\u001b[39;49m\u001b[43mlock_args\u001b[49m\u001b[43m)\u001b[49m\n\u001b[1;32m   1257\u001b[0m \u001b[38;5;28;01mif\u001b[39;00m \u001b[38;5;28mself\u001b[39m\u001b[38;5;241m.\u001b[39mdynamic_miniters:\n\u001b[1;32m   1258\u001b[0m     \u001b[38;5;66;03m# If no `miniters` was specified, adjust automatically to the\u001b[39;00m\n\u001b[1;32m   1259\u001b[0m     \u001b[38;5;66;03m# maximum iteration rate seen so far between two prints.\u001b[39;00m\n\u001b[1;32m   1260\u001b[0m     \u001b[38;5;66;03m# e.g.: After running `tqdm.update(5)`, subsequent\u001b[39;00m\n\u001b[1;32m   1261\u001b[0m     \u001b[38;5;66;03m# calls to `tqdm.update()` will only cause an update after\u001b[39;00m\n\u001b[1;32m   1262\u001b[0m     \u001b[38;5;66;03m# at least 5 more iterations.\u001b[39;00m\n\u001b[1;32m   1263\u001b[0m     \u001b[38;5;28;01mif\u001b[39;00m \u001b[38;5;28mself\u001b[39m\u001b[38;5;241m.\u001b[39mmaxinterval \u001b[38;5;129;01mand\u001b[39;00m dt \u001b[38;5;241m>\u001b[39m\u001b[38;5;241m=\u001b[39m \u001b[38;5;28mself\u001b[39m\u001b[38;5;241m.\u001b[39mmaxinterval:\n",
      "File \u001b[0;32m~/.local/lib/python3.8/site-packages/tqdm/std.py:1361\u001b[0m, in \u001b[0;36mtqdm.refresh\u001b[0;34m(self, nolock, lock_args)\u001b[0m\n\u001b[1;32m   1359\u001b[0m     \u001b[38;5;28;01melse\u001b[39;00m:\n\u001b[1;32m   1360\u001b[0m         \u001b[38;5;28mself\u001b[39m\u001b[38;5;241m.\u001b[39m_lock\u001b[38;5;241m.\u001b[39macquire()\n\u001b[0;32m-> 1361\u001b[0m \u001b[38;5;28;43mself\u001b[39;49m\u001b[38;5;241;43m.\u001b[39;49m\u001b[43mdisplay\u001b[49m\u001b[43m(\u001b[49m\u001b[43m)\u001b[49m\n\u001b[1;32m   1362\u001b[0m \u001b[38;5;28;01mif\u001b[39;00m \u001b[38;5;129;01mnot\u001b[39;00m nolock:\n\u001b[1;32m   1363\u001b[0m     \u001b[38;5;28mself\u001b[39m\u001b[38;5;241m.\u001b[39m_lock\u001b[38;5;241m.\u001b[39mrelease()\n",
      "File \u001b[0;32m~/.local/lib/python3.8/site-packages/tqdm/std.py:1509\u001b[0m, in \u001b[0;36mtqdm.display\u001b[0;34m(self, msg, pos)\u001b[0m\n\u001b[1;32m   1507\u001b[0m \u001b[38;5;28;01mif\u001b[39;00m pos:\n\u001b[1;32m   1508\u001b[0m     \u001b[38;5;28mself\u001b[39m\u001b[38;5;241m.\u001b[39mmoveto(pos)\n\u001b[0;32m-> 1509\u001b[0m \u001b[38;5;28mself\u001b[39m\u001b[38;5;241m.\u001b[39msp(\u001b[38;5;28;43mself\u001b[39;49m\u001b[38;5;241;43m.\u001b[39;49m\u001b[38;5;21;43m__str__\u001b[39;49m\u001b[43m(\u001b[49m\u001b[43m)\u001b[49m \u001b[38;5;28;01mif\u001b[39;00m msg \u001b[38;5;129;01mis\u001b[39;00m \u001b[38;5;28;01mNone\u001b[39;00m \u001b[38;5;28;01melse\u001b[39;00m msg)\n\u001b[1;32m   1510\u001b[0m \u001b[38;5;28;01mif\u001b[39;00m pos:\n\u001b[1;32m   1511\u001b[0m     \u001b[38;5;28mself\u001b[39m\u001b[38;5;241m.\u001b[39mmoveto(\u001b[38;5;241m-\u001b[39mpos)\n",
      "File \u001b[0;32m~/.local/lib/python3.8/site-packages/tqdm/std.py:1165\u001b[0m, in \u001b[0;36mtqdm.__str__\u001b[0;34m(self)\u001b[0m\n\u001b[1;32m   1164\u001b[0m \u001b[38;5;28;01mdef\u001b[39;00m \u001b[38;5;21m__str__\u001b[39m(\u001b[38;5;28mself\u001b[39m):\n\u001b[0;32m-> 1165\u001b[0m     \u001b[38;5;28;01mreturn\u001b[39;00m \u001b[38;5;28;43mself\u001b[39;49m\u001b[38;5;241;43m.\u001b[39;49m\u001b[43mformat_meter\u001b[49m\u001b[43m(\u001b[49m\u001b[38;5;241;43m*\u001b[39;49m\u001b[38;5;241;43m*\u001b[39;49m\u001b[38;5;28;43mself\u001b[39;49m\u001b[38;5;241;43m.\u001b[39;49m\u001b[43mformat_dict\u001b[49m\u001b[43m)\u001b[49m\n",
      "File \u001b[0;32m~/.local/lib/python3.8/site-packages/tqdm/std.py:534\u001b[0m, in \u001b[0;36mtqdm.format_meter\u001b[0;34m(n, total, elapsed, ncols, prefix, ascii, unit, unit_scale, rate, bar_format, postfix, unit_divisor, initial, colour, **extra_kwargs)\u001b[0m\n\u001b[1;32m    530\u001b[0m     \u001b[38;5;28;01mreturn\u001b[39;00m nobar\n\u001b[1;32m    532\u001b[0m \u001b[38;5;66;03m# Formatting progress bar space available for bar's display\u001b[39;00m\n\u001b[1;32m    533\u001b[0m full_bar \u001b[38;5;241m=\u001b[39m Bar(frac,\n\u001b[0;32m--> 534\u001b[0m                \u001b[38;5;28mmax\u001b[39m(\u001b[38;5;241m1\u001b[39m, ncols \u001b[38;5;241m-\u001b[39m \u001b[43mdisp_len\u001b[49m\u001b[43m(\u001b[49m\u001b[43mnobar\u001b[49m\u001b[43m)\u001b[49m) \u001b[38;5;28;01mif\u001b[39;00m ncols \u001b[38;5;28;01melse\u001b[39;00m \u001b[38;5;241m10\u001b[39m,\n\u001b[1;32m    535\u001b[0m                charset\u001b[38;5;241m=\u001b[39mBar\u001b[38;5;241m.\u001b[39mASCII \u001b[38;5;28;01mif\u001b[39;00m ascii \u001b[38;5;129;01mis\u001b[39;00m \u001b[38;5;28;01mTrue\u001b[39;00m \u001b[38;5;28;01melse\u001b[39;00m ascii \u001b[38;5;129;01mor\u001b[39;00m Bar\u001b[38;5;241m.\u001b[39mUTF,\n\u001b[1;32m    536\u001b[0m                colour\u001b[38;5;241m=\u001b[39mcolour)\n\u001b[1;32m    537\u001b[0m \u001b[38;5;28;01mif\u001b[39;00m \u001b[38;5;129;01mnot\u001b[39;00m _is_ascii(full_bar\u001b[38;5;241m.\u001b[39mcharset) \u001b[38;5;129;01mand\u001b[39;00m _is_ascii(bar_format):\n\u001b[1;32m    538\u001b[0m     bar_format \u001b[38;5;241m=\u001b[39m _unicode(bar_format)\n",
      "File \u001b[0;32m~/.local/lib/python3.8/site-packages/tqdm/utils.py:338\u001b[0m, in \u001b[0;36mdisp_len\u001b[0;34m(data)\u001b[0m\n\u001b[1;32m    333\u001b[0m \u001b[38;5;28;01mdef\u001b[39;00m \u001b[38;5;21mdisp_len\u001b[39m(data):\n\u001b[1;32m    334\u001b[0m     \u001b[38;5;124;03m\"\"\"\u001b[39;00m\n\u001b[1;32m    335\u001b[0m \u001b[38;5;124;03m    Returns the real on-screen length of a string which may contain\u001b[39;00m\n\u001b[1;32m    336\u001b[0m \u001b[38;5;124;03m    ANSI control codes and wide chars.\u001b[39;00m\n\u001b[1;32m    337\u001b[0m \u001b[38;5;124;03m    \"\"\"\u001b[39;00m\n\u001b[0;32m--> 338\u001b[0m     \u001b[38;5;28;01mreturn\u001b[39;00m \u001b[43m_text_width\u001b[49m\u001b[43m(\u001b[49m\u001b[43mRE_ANSI\u001b[49m\u001b[38;5;241;43m.\u001b[39;49m\u001b[43msub\u001b[49m\u001b[43m(\u001b[49m\u001b[38;5;124;43m'\u001b[39;49m\u001b[38;5;124;43m'\u001b[39;49m\u001b[43m,\u001b[49m\u001b[43m \u001b[49m\u001b[43mdata\u001b[49m\u001b[43m)\u001b[49m\u001b[43m)\u001b[49m\n",
      "File \u001b[0;32m~/.local/lib/python3.8/site-packages/tqdm/utils.py:330\u001b[0m, in \u001b[0;36m_text_width\u001b[0;34m(s)\u001b[0m\n\u001b[1;32m    329\u001b[0m \u001b[38;5;28;01mdef\u001b[39;00m \u001b[38;5;21m_text_width\u001b[39m(s):\n\u001b[0;32m--> 330\u001b[0m     \u001b[38;5;28;01mreturn\u001b[39;00m \u001b[38;5;28;43msum\u001b[39;49m\u001b[43m(\u001b[49m\u001b[38;5;241;43m2\u001b[39;49m\u001b[43m \u001b[49m\u001b[38;5;28;43;01mif\u001b[39;49;00m\u001b[43m \u001b[49m\u001b[43meast_asian_width\u001b[49m\u001b[43m(\u001b[49m\u001b[43mch\u001b[49m\u001b[43m)\u001b[49m\u001b[43m \u001b[49m\u001b[38;5;129;43;01min\u001b[39;49;00m\u001b[43m \u001b[49m\u001b[38;5;124;43m'\u001b[39;49m\u001b[38;5;124;43mFW\u001b[39;49m\u001b[38;5;124;43m'\u001b[39;49m\u001b[43m \u001b[49m\u001b[38;5;28;43;01melse\u001b[39;49;00m\u001b[43m \u001b[49m\u001b[38;5;241;43m1\u001b[39;49m\u001b[43m \u001b[49m\u001b[38;5;28;43;01mfor\u001b[39;49;00m\u001b[43m \u001b[49m\u001b[43mch\u001b[49m\u001b[43m \u001b[49m\u001b[38;5;129;43;01min\u001b[39;49;00m\u001b[43m \u001b[49m\u001b[43m_unicode\u001b[49m\u001b[43m(\u001b[49m\u001b[43ms\u001b[49m\u001b[43m)\u001b[49m\u001b[43m)\u001b[49m\n",
      "File \u001b[0;32m~/.local/lib/python3.8/site-packages/tqdm/utils.py:330\u001b[0m, in \u001b[0;36m<genexpr>\u001b[0;34m(.0)\u001b[0m\n\u001b[1;32m    329\u001b[0m \u001b[38;5;28;01mdef\u001b[39;00m \u001b[38;5;21m_text_width\u001b[39m(s):\n\u001b[0;32m--> 330\u001b[0m     \u001b[38;5;28;01mreturn\u001b[39;00m \u001b[38;5;28msum\u001b[39m(\u001b[38;5;241m2\u001b[39m \u001b[38;5;28;01mif\u001b[39;00m \u001b[43meast_asian_width\u001b[49m\u001b[43m(\u001b[49m\u001b[43mch\u001b[49m\u001b[43m)\u001b[49m \u001b[38;5;129;01min\u001b[39;00m \u001b[38;5;124m'\u001b[39m\u001b[38;5;124mFW\u001b[39m\u001b[38;5;124m'\u001b[39m \u001b[38;5;28;01melse\u001b[39;00m \u001b[38;5;241m1\u001b[39m \u001b[38;5;28;01mfor\u001b[39;00m ch \u001b[38;5;129;01min\u001b[39;00m _unicode(s))\n",
      "\u001b[0;31mKeyboardInterrupt\u001b[0m: "
     ]
    }
   ],
   "source": [
    "####### EXAMPLE D'ENTRAINEMENT d'UN DNN (A MODIF POUR L EXPERIENCE) ######\n",
    "\n",
    "q = 200\n",
    "nlayers = 2\n",
    "epochs_retro = 200\n",
    "epochs_pretrain = 100\n",
    "lr = 0.1\n",
    "batch_size = 512 \n",
    "\n",
    "sizes = [(X_train.size(1), q)]\n",
    "for j in range(nlayers) : \n",
    "    sizes.append((q, q))\n",
    "sizes.append((q, 10))\n",
    "\n",
    "DNN_1 = init_DNN(len(sizes), sizes, device, random_state = 42)\n",
    "DNN_2 = init_DNN(len(sizes), sizes, device, random_state = 42)\n",
    "\n",
    "# RETRO SANS PRETRAIN #\n",
    "DNN_1, history_1 = retropropagation(X_train, y_train, DNN_1, epochs_retro, lr, batch_size)\n",
    "\n",
    "# RETRO AVEC PRETRAIN\n",
    "DNN_2 = pretrain_DNN(X_train, DNN_2, epochs_pretrain, lr, batch_size)\n",
    "DNN_2, history_2 = retropropagation(X_train, y_train, DNN_2, epochs_retro, lr, batch_size)\n"
   ]
  },
  {
   "cell_type": "code",
   "execution_count": 20,
<<<<<<< Updated upstream
   "id": "b253b79d",
=======
   "id": "928d6ea8",
>>>>>>> Stashed changes
   "metadata": {},
   "outputs": [
    {
     "name": "stdout",
     "output_type": "stream",
     "text": [
      "(No Pretrain) Accuracy Train : 0.099\n",
      "(No Pretrain) Accuracy Test : 0.103\n",
      "\n",
      "(No Pretrain) Accuracy Train : 0.979\n",
      "(No Pretrain) Accuracy Test : 0.965\n"
     ]
    }
   ],
   "source": [
    "accuracy_test_1 = test_DNN(X_test,y_test, DNN_1)\n",
    "accuracy_train_1 = test_DNN(X_train, y_train, DNN_1)\n",
    "\n",
    "accuracy_test_2 = test_DNN(X_test,y_test, DNN_2)\n",
    "accuracy_train_2 = test_DNN(X_train, y_train, DNN_2)\n",
    "\n",
    "print(f'(No Pretrain) Accuracy Train : {accuracy_train_1:0.3f}')\n",
    "print(f'(No Pretrain) Accuracy Test : {accuracy_test_1:0.3f}')\n",
    "print(f'\\n(No Pretrain) Accuracy Train : {accuracy_train_2:0.3f}')\n",
    "print(f'(No Pretrain) Accuracy Test : {accuracy_test_2:0.3f}')"
   ]
  },
  {
   "cell_type": "code",
   "execution_count": 21,
<<<<<<< Updated upstream
   "id": "e4b1c612",
=======
   "id": "a6f15e19",
>>>>>>> Stashed changes
   "metadata": {},
   "outputs": [
    {
     "data": {
      "text/plain": [
       "[<matplotlib.lines.Line2D at 0x7f756137ba30>]"
      ]
     },
     "execution_count": 21,
     "metadata": {},
     "output_type": "execute_result"
    },
    {
     "data": {
      "image/png": "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\n",
      "text/plain": [
       "<Figure size 432x288 with 1 Axes>"
      ]
     },
     "metadata": {
      "needs_background": "light"
     },
     "output_type": "display_data"
    }
   ],
   "source": [
    "plt.plot(history_1)\n",
    "plt.plot(history_2)"
   ]
  },
  {
   "cell_type": "markdown",
<<<<<<< Updated upstream
   "id": "e474d8bc",
=======
   "id": "979890cb",
>>>>>>> Stashed changes
   "metadata": {},
   "source": [
    "Pas de convergence sans préentrainement (ça sera surement la conclusion pour différents nombre de layers)"
   ]
  },
  {
   "cell_type": "markdown",
<<<<<<< Updated upstream
   "id": "e7a905f5",
=======
   "id": "095fd918",
>>>>>>> Stashed changes
   "metadata": {},
   "source": [
    "### Expérience 2"
   ]
  },
  {
   "cell_type": "markdown",
<<<<<<< Updated upstream
   "id": "da9f14fd",
=======
   "id": "3bbedb9f",
>>>>>>> Stashed changes
   "metadata": {},
   "source": [
    "Dans cette expérience, on entraîne un DNN à 2 couches (0 couches cachées) et on fait varier le nombre de neurones. Cette expérience est répétée pour un DNN à 4 couches."
   ]
  },
  {
   "cell_type": "code",
   "execution_count": 8,
<<<<<<< Updated upstream
   "id": "2d72d7d9",
=======
   "id": "8ce6934b",
>>>>>>> Stashed changes
   "metadata": {
    "scrolled": false
   },
   "outputs": [
    {
     "name": "stdout",
     "output_type": "stream",
     "text": [
      "DNN 0 layers with 100 neurons\n"
     ]
    },
    {
     "name": "stderr",
     "output_type": "stream",
     "text": [
      "Epoch 200 | loss : 0.102 | accuracy  0.97: 100%|█| 200/200 [00:19<00:00, 10.02it\n",
      "EPOCH 99 - Reconstruction Error: 16.1914: 100%|█| 100/100 [00:17<00:00,  5.80it/\n",
      "Epoch 200 | loss : 0.194 | accuracy  0.94: 100%|█| 200/200 [00:20<00:00,  9.91it\n"
     ]
    },
    {
     "name": "stdout",
     "output_type": "stream",
     "text": [
      "DNN 0 layers with 200 neurons\n"
     ]
    },
    {
     "name": "stderr",
     "output_type": "stream",
     "text": [
      "Epoch 200 | loss : 0.105 | accuracy  0.97: 100%|█| 200/200 [00:26<00:00,  7.63it\n",
      "EPOCH 99 - Reconstruction Error: 8.0537: 100%|█| 100/100 [00:24<00:00,  4.05it/s\n",
      "Epoch 200 | loss : 0.135 | accuracy  0.96: 100%|█| 200/200 [00:27<00:00,  7.33it\n"
     ]
    },
    {
     "name": "stdout",
     "output_type": "stream",
     "text": [
      "DNN 0 layers with 300 neurons\n"
     ]
    },
    {
     "name": "stderr",
     "output_type": "stream",
     "text": [
      "Epoch 200 | loss : 0.113 | accuracy  0.97: 100%|█| 200/200 [00:32<00:00,  6.21it\n",
      "EPOCH 99 - Reconstruction Error: 4.7587: 100%|█| 100/100 [00:31<00:00,  3.20it/s\n",
      "Epoch 200 | loss : 0.112 | accuracy  0.97: 100%|█| 200/200 [00:32<00:00,  6.17it\n"
     ]
    },
    {
     "name": "stdout",
     "output_type": "stream",
     "text": [
      "DNN 0 layers with 500 neurons\n"
     ]
    },
    {
     "name": "stderr",
     "output_type": "stream",
     "text": [
      "Epoch 200 | loss : 0.127 | accuracy  0.96: 100%|█| 200/200 [00:39<00:00,  5.05it\n",
      "EPOCH 99 - Reconstruction Error: 2.1406: 100%|█| 100/100 [00:40<00:00,  2.49it/s\n",
      "Epoch 200 | loss : 0.086 | accuracy  0.98: 100%|█| 200/200 [00:51<00:00,  3.92it\n"
     ]
    },
    {
     "name": "stdout",
     "output_type": "stream",
     "text": [
      "DNN 0 layers with 700 neurons\n"
     ]
    },
    {
     "name": "stderr",
     "output_type": "stream",
     "text": [
      "Epoch 200 | loss : 0.135 | accuracy  0.96: 100%|█| 200/200 [00:49<00:00,  4.08it\n",
      "EPOCH 99 - Reconstruction Error: 1.2867: 100%|█| 100/100 [00:55<00:00,  1.80it/s\n",
      "Epoch 200 | loss : 0.072 | accuracy  0.98: 100%|█| 200/200 [00:54<00:00,  3.64it\n"
     ]
    },
    {
     "name": "stdout",
     "output_type": "stream",
     "text": [
      "DNN 2 layers with 100 neurons\n"
     ]
    },
    {
     "name": "stderr",
     "output_type": "stream",
     "text": [
      "Epoch 200 | loss : 2.305 | accuracy  0.11: 100%|█| 200/200 [00:38<00:00,  5.16it\n",
      "EPOCH 99 - Reconstruction Error: 16.2631: 100%|█| 100/100 [00:18<00:00,  5.30it/\n",
      "EPOCH 99 - Reconstruction Error: 1.2000: 100%|█| 100/100 [00:12<00:00,  7.94it/s\n",
      "EPOCH 99 - Reconstruction Error: 0.8715: 100%|█| 100/100 [00:12<00:00,  8.03it/s\n",
      "Epoch 200 | loss : 0.121 | accuracy  0.97: 100%|█| 200/200 [00:35<00:00,  5.69it\n"
     ]
    },
    {
     "name": "stdout",
     "output_type": "stream",
     "text": [
      "DNN 2 layers with 200 neurons\n"
     ]
    },
    {
     "name": "stderr",
     "output_type": "stream",
     "text": [
      "Epoch 200 | loss : 2.408 | accuracy  0.10: 100%|█| 200/200 [00:42<00:00,  4.74it\n",
      "EPOCH 99 - Reconstruction Error: 8.0665: 100%|█| 100/100 [00:24<00:00,  4.07it/s\n",
      "EPOCH 99 - Reconstruction Error: 2.3588: 100%|█| 100/100 [00:12<00:00,  8.04it/s\n",
      "EPOCH 99 - Reconstruction Error: 1.5127: 100%|█| 100/100 [00:11<00:00,  8.57it/s\n",
      "Epoch 200 | loss : 0.079 | accuracy  0.98: 100%|█| 200/200 [00:41<00:00,  4.85it\n"
     ]
    },
    {
     "name": "stdout",
     "output_type": "stream",
     "text": [
      "DNN 2 layers with 300 neurons\n"
     ]
    },
    {
     "name": "stderr",
     "output_type": "stream",
     "text": [
      "Epoch 200 | loss : 3.445 | accuracy  0.10: 100%|█| 200/200 [00:54<00:00,  3.64it\n",
      "EPOCH 99 - Reconstruction Error: 4.7670: 100%|█| 100/100 [00:31<00:00,  3.20it/s\n",
      "EPOCH 99 - Reconstruction Error: 2.9037: 100%|█| 100/100 [00:16<00:00,  5.94it/s\n",
      "EPOCH 99 - Reconstruction Error: 1.9019: 100%|█| 100/100 [00:17<00:00,  5.66it/s\n",
      "Epoch 200 | loss : 0.062 | accuracy  0.98: 100%|█| 200/200 [01:14<00:00,  2.68it\n"
     ]
    },
    {
     "name": "stdout",
     "output_type": "stream",
     "text": [
      "DNN 2 layers with 500 neurons\n"
     ]
    },
    {
     "name": "stderr",
     "output_type": "stream",
     "text": [
      "Epoch 200 | loss : 9.872 | accuracy  0.10: 100%|█| 200/200 [01:52<00:00,  1.78it\n",
      "EPOCH 99 - Reconstruction Error: 2.1350: 100%|█| 100/100 [00:50<00:00,  1.98it/s\n",
      "EPOCH 99 - Reconstruction Error: 2.8760: 100%|█| 100/100 [00:43<00:00,  2.29it/s\n",
      "EPOCH 99 - Reconstruction Error: 3.0855: 100%|█| 100/100 [00:43<00:00,  2.28it/s\n",
      "Epoch 200 | loss : 0.045 | accuracy  0.99: 100%|█| 200/200 [01:36<00:00,  2.07it\n"
     ]
    },
    {
     "name": "stdout",
     "output_type": "stream",
     "text": [
      "DNN 2 layers with 700 neurons\n"
     ]
    },
    {
     "name": "stderr",
     "output_type": "stream",
     "text": [
      "Epoch 200 | loss : 12.863 | accuracy  0.10: 100%|█| 200/200 [02:21<00:00,  1.41i\n",
      "EPOCH 99 - Reconstruction Error: 1.2837: 100%|█| 100/100 [00:59<00:00,  1.69it/s\n",
      "EPOCH 99 - Reconstruction Error: 3.4867: 100%|█| 100/100 [01:03<00:00,  1.58it/s\n",
      "EPOCH 99 - Reconstruction Error: 2.9436: 100%|█| 100/100 [00:59<00:00,  1.69it/s\n",
      "Epoch 200 | loss : 0.038 | accuracy  0.99: 100%|█| 200/200 [02:23<00:00,  1.39it\n"
     ]
    }
   ],
   "source": [
    "qs = [100, 200, 300, 500, 700]\n",
    "nlayers = [0, 2]\n",
    "epochs_retro = 200\n",
    "epochs_pretrain = 100\n",
    "lr = 0.1\n",
    "batch_size = 512 \n",
    "\n",
    "losses = []\n",
    "accuracies_test = []\n",
    "accuracies_train = []\n",
    "for n in nlayers : \n",
    "    for q in qs : \n",
    "        print(f'DNN {n} layers with {q} neurons')\n",
    "        sizes = [(X_train.size(1), q)]\n",
    "        for j in range(n) : \n",
    "            sizes.append((q, q))\n",
    "        sizes.append((q, 10))\n",
    "\n",
    "        DNN_1 = init_DNN(len(sizes), sizes, device, random_state = 42)\n",
    "        DNN_2 = init_DNN(len(sizes), sizes, device, random_state = 42)\n",
    "\n",
    "        # RETRO SANS PRETRAIN #\n",
    "        DNN_1, history_1 = retropropagation(X_train, y_train, DNN_1, epochs_retro, lr, batch_size)\n",
    "\n",
    "        # RETRO AVEC PRETRAIN\n",
    "        DNN_2 = pretrain_DNN(X_train, DNN_2, epochs_pretrain, lr, batch_size)\n",
    "        DNN_2, history_2 = retropropagation(X_train, y_train, DNN_2, epochs_retro, lr, batch_size)\n",
    "        \n",
    "        accuracy_test_1 = test_DNN(X_test,y_test, DNN_1)\n",
    "        accuracy_train_1 = test_DNN(X_train, y_train, DNN_1)\n",
    "\n",
    "        accuracy_test_2 = test_DNN(X_test,y_test, DNN_2)\n",
    "        accuracy_train_2 = test_DNN(X_train, y_train, DNN_2)\n",
    "\n",
    "        losses.append((history_1, history_2))\n",
    "        accuracies_train.append((accuracy_train_1, accuracy_train_2))\n",
    "        accuracies_test.append((accuracy_test_1, accuracy_test_2))\n",
    "        \n",
    "        del DNN_1, DNN_2\n",
    "        torch.cuda.empty_cache()\n",
    "        gc.collect()"
   ]
  },
  {
   "cell_type": "code",
   "execution_count": 9,
<<<<<<< Updated upstream
   "id": "8e1074f9",
=======
   "id": "d31486d3",
>>>>>>> Stashed changes
   "metadata": {},
   "outputs": [
    {
     "data": {
      "image/png": "iVBORw0KGgoAAAANSUhEUgAAARIAAAEGCAYAAACpcBquAAAAOXRFWHRTb2Z0d2FyZQBNYXRwbG90bGliIHZlcnNpb24zLjUuMSwgaHR0cHM6Ly9tYXRwbG90bGliLm9yZy/YYfK9AAAACXBIWXMAAAsTAAALEwEAmpwYAAByT0lEQVR4nO2deXxU5b3/38/skz1AWAQloaRASIYkAmExGghbQbGK1t0gFS96C+pPpdSK0nvLbawivdJbqQqCLa22Iq4oiIIsigjILgJiWCOQPZlk1vP8/piZ4ySZJANJTAjn/Xqd18ycc57nfM8s33m27+crpJRoaGhoNAddWxugoaFx8aM5Eg0NjWajORINDY1mozkSDQ2NZqM5Eg0NjWZjaGsDzpcuXbrIxMTEtjZDQ+OSY8eOHUVSyoRQxy46R5KYmMj27dvb2gwNjUsOIcSxho5pXRsNDY1mozkSDQ2NZqM5Eg0NjWajORINDY1mozkSDQ2NZqM5Eg0NjWajORINDY1m0yEdye4TZTyz5iA1Lm9bm6KhcUnQIR3Jmm8/5+UDCzhVXtrWplxU5Ofns2LFih/lWgUFBfzjH/+4oLIjRow47zIPPfQQGzduBODPf/4zffv2RQhBUVGReo6UklmzZtG3b19sNhs7d+5Ujy1fvpzk5GSSk5NZvnz5Bdnd1rz33ns8+eSTrVO5lPKi2q688krZFAtWPymfeSNTbjq0q8lzNX4gJydHnj17tsXqc7vdDR5bv369nDRp0nmXuxCKiopkVlaW+nrnzp3yu+++k71795bnzp1T97///vtywoQJUlEU+fnnn8uhQ4dKKaUsLi6WSUlJsri4WJaUlMikpCRZUlLSojY2hsfjaZF6FEWR6enp0m63X1B5YLts4HfZIVsknSsdZMSXUVxS1PTJlwDPPPMMzz//PAAPP/wwo0ePBuCTTz7hjjvuAKCiogKXy0VCQgIFBQWMHj0am81Gbm4ux48fr1fnvHnzuOuuuxg+fDjJycm89NJLAGzYsIHs7GwmT55MSkoKXq+Xxx57jCFDhmCz2fjrX/8KwJw5c9i0aRPp6eksXLiQZcuWMXnyZEaPHk1ubi5VVVXk5uaSmZlJWloab7/9tnrtqKgo9Vo5OTncdNNN9O/fnzvuuAMZQvFv5cqVTJgwQX2dkZFBqHitt99+m7vvvhshBMOGDaOsrIzCwkLWrFnD2LFj6dSpE/Hx8YwdO5YPP/ywXvnExESeeuop1eaDBw8CYLfbmTZtGkOHDiUjI0O9l2XLlvGrX/1KLX/ttdeyYcMG9R4feeQRBg0axOeff85zzz1Hamoqqamp/OlPfwJ8rboBAwYwffp0Bg4cyLhx46ipqQHg+eefJyUlBZvNxq233gqAEIKcnBzee++9erY3l4su1iYcElwWAKrLK9rYkvr87t39HDjdsnalXBbDU9cNbPB4dnY2CxYsYNasWWzfvh2n04nb7WbTpk1cffXVAKxbt47c3FwAZs6cSV5eHnl5eSxdupRZs2bx1ltv1at3z549bN26FbvdTkZGBpMmTQJg586d7Nu3j6SkJF588UViY2P58ssvcTqdjBw5knHjxpGfn8+zzz6rfqmXLVvGzp072bNnD506dcLj8bBq1SpiYmIoKipi2LBhTJ48GSFELRu++uor9u/fz2WXXcbIkSPZsmULV111Va1ztmzZwk033dTk+3jq1Ckuv/xy9XWvXr04depUg/tD0aVLF3bu3Mlf/vIXnn32WV5++WXmz5/P6NGjWbp0KWVlZQwdOpQxY8Y0aovdbicrK4sFCxawY8cOXnnlFb744guklGRlZXHNNdcQHx/P4cOH+ec//8lLL73EL37xC1auXMmdd95Jfn4+3333HWazmbKyMrXewYMHs2nTJn7xi180+X6cDx2yRWISJgAcfu98qXPllVeyY8cOKioqMJvNDB8+nO3bt7Np0yays7MB+PDDD/nZz34GwOeff87tt98OwF133cXmzZtD1nv99ddjtVrp0qULo0aNYtu2bQAMHTqUpKQkANauXcurr75Keno6WVlZFBcXc/jw4ZD1Bf71wdflfvzxx7HZbIwZM4ZTp05x5syZemWGDh1Kr1690Ol0pKenU1BQUO+cwsJCEhJCBq22ODfeeCPge88Dtqxdu5b8/HzS09PJycnB4XCEbOUFo9frmTJlCgCbN2/mhhtuIDIykqioKG688UY2bdoEQFJSEunp6fWuabPZuOOOO/j73/+OwfBDe6Fr166cPn26Be/YR4dskRiMJryAy+Foa1Pq0VjLobUwGo0kJSWxbNkyRowYgc1mY/369Rw5coQBAwYAsG3bNl544YXzqrdu6yDwOjIyUt0npWTRokWMHz++1rmBJnwwweVWrFjBuXPn2LFjB0ajkcTERBwhPk+z2aw+1+v1eDyeeudYrdaQZevSs2dPTpw4ob4+efIkPXv2pGfPnrXsPXnyJDk5OSHrCNgTbIuUkpUrV9KvX79a5+7YsQNFUdTXwTZaLBb0en2TNte9/0DX5v3332fjxo28++67zJ8/n71792IwGHA4HFit1ibrPV86ZIvEaPS1SFxOrUUSIDs7m2effZarr76a7OxsFi9eTEZGBkII9u/fT//+/dUv7ogRI3jttdcA3w860Gqpy9tvv43D4aC4uJgNGzYwZMiQeueMHz+eF154AbfbDcChQ4ew2+1ER0dTWVnZoL3l5eV07doVo9HI+vXrOXaswQj2JhkwYABHjhxp8rzJkyfz6quvIqVk69atxMbG0qNHD8aPH8/atWspLS2ltLSUtWvX1nOMjTF+/HgWLVqkjt989dVXgG9MZdeuXSiKwokTJ9QWXV2ys7N56623qK6uxm63s2rVqgY/E0Ctb9SoUTz99NOUl5dTVVUF+N7/1NTUsG0Pl47pSAy+MRKvx9XGlrQfsrOzKSwsZPjw4XTr1g2LxaJ+GT/44INag5GLFi3ilVdewWaz8be//Y3//d//DVmnzWZj1KhRDBs2jLlz53LZZZfVO+fee+8lJSWFzMxMUlNT+Y//+A88Hg82mw29Xs+gQYNYuHBhvXJ33HEH27dvJy0tjVdffZX+/ftf8L1PmjSpVovi+eefp1evXpw8eRKbzca9994LwMSJE+nTpw99+/Zl+vTp/OUvfwGgU6dOzJ07lyFDhjBkyBCefPJJtQsWDnPnzsXtdmOz2Rg4cCBz584FYOTIkSQlJZGSksKsWbPIzMwMWT4zM5OpU6cydOhQsrKyuPfee8nIyGjwel6vlzvvvJO0tDQyMjKYNWsWcXFxAKxfv14dy2pRGprOaa9bONO/Oz94Ra77uI98bnF++HNblzBjxoyRp0+fPq8yTz31lHzmmWdayaKWZ+TIkbK0tLStzWhTvv/+ezl69OgLLk8j078dcozEaPL1G6XibmNLLg4++uijtjah1VmwYAHHjx9X/5kvRY4fP86CBQtape6O6UiMFnCD8GpL5FuLefPmtbUJ50VWVlZbm9DmhBrDaik65BiJyegblRay/gi+hoZGy9MhHYnB37XRSa1FoqHxY9AhHYneaPQ9SqWJMzU0NFqCDulIAi0SPVqLREPjx6BjOhKzb0GaHgWPV2uVhMPEiRMpKyujrKxMXT8BvhWo1157batff8OGDXz22WfnXW779u3MmjXrvMpIKRk9ejQVFb6Yp2nTptG1a9d6C7VKSkoYO3YsycnJjB07ltLSUrV8Q3IDFxOPPvoon3zySYvU1SEdid7kcyRGIalyagOu4bB69Wri4uLqOZKWJNTy9QCNOZLGyg0ePFiNbA6X1atXM2jQIGJiYgCYOnVqyGje/Px8cnNzOXz4MLm5ueTn5wO+BXyHDx/m8OHDvPjii9x///3ndf3m0Nh7cb7MnDlTvafm0jEdiX+JvEEnsWsqaWHJCCQmJlJUVMScOXP49ttvSU9P57HHHgOgqqqqyVD9nJwcHnzwQdLT00lNTVWXewfkBkaOHMldd93FuXPnmDJlirpKdMuWLRQUFLB48WIWLlxIeno6mzZtYurUqcyYMYOsrCxmz57Ntm3bGD58OBkZGYwYMYJvvvkGqN1imjdvHtOmTSMnJ4c+ffo06GBWrFjB9ddfr76++uqrQ65Uffvtt8nLywMgLy9PjYBuSG4gmMZC/L/99lsmTJjAlVdeSXZ2tio3MHXqVN544w21jmC5hGBpBofDwT333KOuXF2/fj3gi6C+8cYbmTBhAsnJycyePRvwrXSdOnUqqamppKWlqSuJe/fuTXFxMd9//33I9+l86JDrSIQ+0LWR7a9r88Ec+H5vy9bZPQ1+1vA/SzgyAgHy8/PZt28fu3btAnxf4nBC9QGqq6vZtWsXGzduZNq0aezbtw+AAwcOsHnzZqxWK7fffjsPP/wwV111FcePH2f8+PF8/fXXzJgxg6ioKB599FEAlixZwsmTJ/nss8/Q6/VUVFSwadMmDAYD69at4/HHH2flypX1bDh48CDr16+nsrKSfv36cf/992P0D74H2LJli6qL0hhnzpyhR48evre4e3c1+rghWYHAuQEaCvG/7777WLx4McnJyXzxxRc88MADTXYxgqUZFixYgBCCvXv3cvDgQcaNG8ehQ4cA2LVrF1999RVms5l+/foxc+ZMzp49y6lTp9TPI1hWIDMzky1btqiRxhdKh3QkOn/YtEEouL31/z0vNerKCGRmZqoyAuF0CwKh+oAaqh/Kkdx2222A7x++oqJC/cJOnjxZjThdt24dBw4cUMtUVFSoAWV1ufnmm9VAwvLycvLy8jh8+DBCCDUIsC6TJk3CbDZjNpvp2rUrZ86cUW0PUFJSQnR0dJP3HYwQol60c1OECvGvqqris88+4+abb1bPczqdTdYVLM2wefNmZs6cCUD//v3p3bu36khyc3OJjY0FICUlhWPHjjFw4ECOHj3KzJkzmTRpEuPGjVPrbSlZgQ7pSPQG//SvkHiUdtYiaaTl0FqEIyPQGOGE6kN4sgKKorB161YsFkuT1w0uN3fuXEaNGsWqVasoKChoMoy/MVsNBgOKoqDTNd6z79atG4WFhfTo0YPCwkK6du0KNCw30JQtNTU1KIpCXFyc2uILZRf43ieX64eg0+D3ojFC3X98fDy7d+9mzZo1LF68mH/9618sXboUoMVkBTrkGIkw+Lo2OiHxaC0SoHEZgWCaCu9vjNdffx3w/WPGxsaq/4zBjBs3jkWLFqmvAz+ocGQFAj/WZcuWXZB9Afr168fRo0ebPG/y5Mmq0PPy5cvVcZWG5AbCISYmhqSkJP79738Dvhmg3bt3A75xqh07dgDwzjvvNNjqys7OVkW6Dx06xPHjx+tpnQRTVFSEoihMmTKF3//+97VmmVpKVqBDOhKd/ocWibu9jZG0EY3JCATTuXNnRo4cSWpqqjrYGi4Wi4WMjAxmzJjBkiVLQp7z/PPPs337dmw2GykpKSxevBiA6667jlWrVqmDrXWZPXs2v/nNb8jIyGj2zEVdWYHbbruN4cOH880339CrVy/V9jlz5vDRRx+RnJzMunXrmDNnDtCw3EC4rFixgiVLljBo0CAGDhyoarhOnz6dTz/9VNVpbagV8sADD6AoCmlpadxyyy0sW7asVkukLqdOnSInJ4f09HTuvPNO/vCHPwDgdrs5cuQIgwcPPi/7Q9JQWHBzN+ByYD1wANgPPBjiHAE8DxwB9gCZTdUbjoyA1+uS6z7uI99fPENu+674gkKmNc6Pa665Rn755ZdtbUZYnD59Wo4ZM6atzWhz3nzzTfnEE0+EfT5tpCLvAR6RUqYAw4D/FEKk1DnnZ0Cyf7sPOD+tvwYQwjf0oxMSp1tbR6JRmx49ejB9+nR1Qdqlisfj4ZFHHmmRulptsFVKWQgU+p9XCiG+Bnria6EEuB541e/ttgoh4oQQPfxlLxghBCg6dEJS7Wl/uq0dkVAarO2ZllZRvxgJnjlqLj/KGIkQIhHIAL6oc6gncCLo9Un/vrrl7xNCbBdCbD937lx415R6dEKhxq3ptmpotDat7kiEEFHASuAhKeUFtSWllC9KKQdLKQeHnVZA6hFCUu1peo5eQ0OjebSqIxFCGPE5kRVSyjdDnHIK36BsgF7+fc1H6hFCwe3V5BY1NFqbVnMkwrdAYQnwtZTyuQZOewe4W/gYBpQ3d3xEvb7Uo9MpOD2aI9HQaG1as0UyErgLGC2E2OXfJgohZgghZvjPWQ0cxTf9+xLwQItdXfG1SFxebdYmXPLz89WFTq1NQUEB//jHPy6o7IgRI867zEMPPcTGjRsBX6qLfv36kZqayrRp09SFX7IReYDly5eTnJxMcnKyukjtYuO9997jySefbJ3KG5oXbq9bOOtIpJTyk/eHyE+X3yEXfvpJWOdrSJmTkyPPnj3bYvW53e4Gj61fv15OmjTpvMtdCEVFRTIrK0t9/f7770tFUaSiKPLWW2+Vf/nLX9T9EyZMkIqiyM8//1wOHTpUSillcXGxTEpKksXFxbKkpEQmJSXJkpKSFrWxMTweT4vUoyiKTE9Pl3a7/YLK00brSNoUIfWgtUiA8GQEKioqcLlcJCQkUFBQwOjRo7HZbOTm5obMUxuQBxg+fDjJycm89NJLQP2Qd6/Xy2OPPcaQIUOw2Wxq1O2cOXPYtGkT6enpLFy4kGXLljF58mRGjx5Nbm4uVVVV5ObmkpmZSVpamrr6E2qH1+fk5DQpcbBy5cpaCcAmTpyoBuENHTqUkydPAg3LA6xZs0bNSxwfH8/YsWND6pckJiby1FNPqTYH5AHsdjvTpk1j6NChZGRkqPeybNkyfvWrX6nlr732WnUaPSoqikceeURd5frcc8+RmppKamoqf/rTn4DGpQqef/55UlJSsNls3HrrrYBvWUROTo6auL0l6ZBBe4BvsFXnbXeO5OltT3Ow5GCL1tm/U39+PfTXDR4PR0Zg3bp15ObmAj7Bm7y8PPLy8li6dCmzZs1StTiC2bNnD1u3bsVut5ORkaFmcAsOeX/xxReJjY3lyy+/xOl0MnLkSMaNG0d+fj7PPvus+qVetmwZO3fuZM+ePXTq1AmPx8OqVauIiYmhqKiIYcOGMXny5HqxQeFIHGzZsoWbbrqpnv1ut7tWJsGG5AEa2h+KLl26sHPnTv7yl7/w7LPP8vLLLzN//nxGjx7N0qVLKSsrY+jQoYwZM6bBzwt8zicrK4sFCxawY8cOXnnlFb744guklGRlZXHNNdcQHx/foFRBfn4+3333HWazuZZswODBg9m0aVOLr6PpsC0SpB6EV5u1ob6MwPDhw1UZgUC8zYcffsjPfvYzAD7//HNuv/12AO666y42b94cst7rr78eq9VKly5dGDVqlCpmFBzyvnbtWl599VXS09PJysqiuLiYw4cPh6wv8K8Pvi73448/js1mY8yYMZw6dUrVAwkmIHGg0+lUiYO6FBYWEmrZwAMPPKAGMbYUN954I/CDbAD43oP8/HzS09PJycnB4XCEbOUFo9frVY2QzZs3c8MNNxAZGUlUVBQ33nijGo8USqoAfOlU77jjDv7+979jMPzQXmgp2YC6dNgWicDXtfG42leLpLGWQ2sRjozAtm3beOGF84tQCEc2QErJokWL6iXdDrUSNrjcihUrOHfuHDt27MBoNJKYmIjDUX+VcjiyAVartV7Z3/3ud5w7d66WwFFD8gA9e/asZe/JkyeblDEItkVKycqVK+tF6O7YsUOVDQBq2WixWFQtlsYIJVUA8P7777Nx40beffdd5s+fz969ezEYDC0mG1CXDtsiEdKA0HnxuLXoX2hcRmD//v30799f/eKOGDGC1157DfD9oBv6x3777bdxOBwUFxezYcOGkJncxo8fzwsvvKDOjBw6dAi73R6WbEDXrl0xGo2sX7+eY8eOXfC9DxgwgCNHjqivX375ZdasWcM///nPWpokDckDjB8/nrVr11JaWkppaSlr166t5xgbY/z48SxatEgdv/nqq68A35jKrl27UBSFEydOqC26umRnZ/PWW29RXV2N3W5n1apVjbaiAvWNGjWKp59+mvLyclU8qqVkA+rSYVskoAPhxevRNFvB92WcP38+w4cPJzIyspaMwAcffFBrMHLRokXcc889PPPMMyQkJPDKK6+ErNNmszFq1CiKioqYO3cul112marUFeDee++loKCAzMxMpJQkJCTw1ltvYbPZ0Ov1DBo0iKlTpxIfH1+r3B133MF1111HWloagwcPpn///hd875MmTeKvf/0r9957LwAzZsygd+/eDB8+HPB1R5588kkmTpzI6tWr6du3LxEREep9d+rUiblz56qO8sknnwyp8doQc+fO5aGHHsJms6EoCklJSbz33nuMHDmSpKQkUlJSGDBgAJmZmSHLZ2ZmMnXqVIYOHQr43tOMjIyQ3TjwabTeeeedlJeXq1PagZzH69evV2UEWhIRapS7PTN48GC5ffv2Js/b9M614FJY6b6TP912+49g2cXL2LFjefXVV8MW5wHfrE2wxmp756qrruK99967pJOInzlzhttvv52PP/74gsoLIXZIKUOKl3TgFokehEtrkYTBRx991NYmtDoLFizg+PHjl7QjOX78OAsWLGiVujusIxHokTovXkVzJK3BvHnz2tqE8yIrK6utTWhzQo1htRQdd7AVAwhFa5FoaPwIdFhHAgak8NaaXtPQ0GgdOm7XRvgWpGldGw2N1qcDOxIj4AWP1iLR0GhtOmzXRid8XRuUi2t6u62YOHEiZWVl9ZKIB+fWbU0aSyLeGNu3b2fWrFnnVUZKyejRo6moqFAXbqWkpDBw4EA17gZ8GfnGjh1LcnIyY8eOpbS0VC3fkNzAxcSjjz7aZKrQcOmwjkQIA1LnRaf1bMJi9erVxMXF1XMkLUlj+WgacySNlRs8eHBYaUeDWb16NYMGDSImJgaDwcCCBQs4cOAAW7du5f/+7//UlKL5+fnk5uZy+PBhcnNzyc/3ZUn84IMPOHz4MIcPH+bFF1/k/vvvP6/rN4fm5vQJZubMmeo9NZcO60h0Ot+sjV7LtBeWjEBiYiJFRUXMmTOHb7/9lvT0dDVBVlVVVZOh+jk5OTz44IOkp6eTmpqqLvcOyA2MHDmSu+66i3PnzjFlyhSGDBnCkCFD2LJlCwUFBSxevJiFCxeqCbKmTp3KjBkzyMrKYvbs2Wzbto3hw4eTkZHBiBEj+Oabb4DaLaZ58+Yxbdo0cnJy6NOnT4MOZsWKFWrWvB49eqgrSqOjoxkwYIAa2fv222+Tl5cHQF5enhoB3ZDcQDCNhfh/++23TJgwgSuvvJLs7GxVbmDq1Km88cYbah3BcgnB0gwOh4N77rmHtLQ0MjIyWL9+PeCLoL7xxhuZMGECycnJzJ49G/CtdJ06dSqpqamkpaWxcOFCAHr37k1xcTHff/99A9+c8OmwYyQ6YUTiQbSzrs33//M/OL9uWRkB84D+dH/88QaPhyMjECA/P599+/apqTQ3bNgQVqg+QHV1Nbt27WLjxo1MmzaNffv2AXDgwAE2b96M1Wrl9ttv5+GHH+aqq67i+PHjjB8/nq+//poZM2bUWim7ZMkSTp48yWeffYZer6eiooJNmzZhMBhYt24djz/+OCtXrqxnw8GDB1m/fj2VlZX069eP+++/H6PRWOucLVu21ArWC1BQUMBXX32lrjk5c+aMutq3e/fuavRxQ7ICdVcGNxTif99997F48WKSk5P54osveOCBB5rsYgRLMyxYsAAhBHv37uXgwYOMGzdODU3YtWsXX331FWazmX79+jFz5kzOnj3LqVOn1M8jWFYgMzOTLVu2qJHGF0qHdSRCZ0TiRa+cXwb5jkhdGYHMzExVRiCcbkEgVB9QQ/VDOZLbbrsNgKuvvpqKigr1Czt58mQ14nTdunVq1wF8gkqBgLK63HzzzWogYXl5OXl5eRw+fBghRIN5cSdNmoTZbMZsNtO1a1fOnDmj2h6gpKSE6OjoWvuqqqqYMmUKf/rTn4iJialXb0AI6XwIFeJfVVXFZ599ViunjNPZdKaDYGmGzZs3M3PmTAD69+9P7969VUeSm5ur5lxOSUnh2LFjDBw4kKNHjzJz5kwmTZrEuHHj1HpbSlagwzoSnc4IUkG0rwZJoy2H1iIcGYHGCCdUH8KTFVAUha1bt2KxWJq8bnC5uXPnMmrUKFatWkVBQUGTYfyN2WowGFAURY38dbvdTJkyhTvuuEPVEwHo1q0bhYWF9OjRg8LCQrp27Qo0LDfQlC01NTUoikJcXJza4gtlF/jeJ5fLFfK9aIxQ9x8fH8/u3btZs2YNixcv5l//+hdLly4FaDFZgY47RiL0SOFFr83+Ao3LCATTVHh/Y7z++uuA7x8zNjZW/WcMZty4cSxatEh9HfhBhSMrEPixLlu27ILsC9CvXz+OHj0K+GZgfvnLXzJgwAD+3//7f7XOmzx5sir0vHz5cnVcpSG5gXCIiYkhKSmJf//73+r1d+/eDfjGqXbs2AHAO++802CrKzs7WxXpPnToEMePH6+ndRJMUVERiqIwZcoUfv/739eaZWopWYEO60iE3ghCotMcCeD78hUWFjJ8+HC6detWS0YgmM6dOzNy5EhSU1PVwdZwsVgsZGRkMGPGDJYsWRLynOeff57t27djs9lISUlh8eLFAFx33XWsWrVKHWyty+zZs/nNb35DRkZGs2cuJk2apAoVbdmyhb/97W988sknpKenk56ezurVqwGfruxHH31EcnIy69atY86cOYBvqrxPnz707duX6dOnn/cs14oVK1iyZAmDBg1i4MCBqobr9OnT+fTTT1Wd1oZaIQ888ACKopCWlsYtt9zCsmXLarVE6nLq1ClycnJIT0/nzjvvVGUE3G43R44cYfDgkAG950dDqtDtdQtXRX7/p/ly3cd95KP/vTCs8zWaxzXXXCO//PLLtjYjLE6fPi3HjBnT1ma0OW+++aZ84oknwj6fS1FFXqf3Df8YaGeDJBptTo8ePZg+fToVFReUQbbD4PF4eOSRR1qkrg472Cr0vik/w0Um3HSxEkqDtT3T0irqFyPBM0fNpeO2SHQ+R6IX2iCJhkZr03EdSaBFonVtNDRanQ7sSLQxEg2NH4sO7Ei0ro2Gxo9Fh3Uker8jMba3pa3tmPz8fHWhU2tTUFDAP/7xjwsqO2LEiPMu89BDD7Fx40YAfvnLXzJo0CBsNhs33XSTukTf6XRyyy230LdvX7Kysmqle/jDH/5A37596devH2vWrLkgu9uaP//5z+qK1pamwzoSncHnSDrsDbYCa9asqRWH0VwaWzjWmCNpasHZ+eqWFBcXs3XrVjVAceHChezevZs9e/ZwxRVX8Oc//xnwBQrGx8dz5MgRHn74YX79a19WxAMHDvDaa6+xf/9+PvzwQx544AG83h9Hn0JK2WJyodOmTau1qrgl6bC/M6H7oUUiL/Ep4HBkBCoqKnC5XCQkJFBQUMDo0aOx2Wzk5uaGzFMbkAcYPnw4ycnJvPTSS0D9kHev18tjjz3GkCFDsNlsatTtnDlz2LRpE+np6SxcuJBly5YxefJkRo8eTW5uLlVVVeTm5pKZmUlaWpq6+hNqh9fn5OQ0KXGwcuXKWgnAAkF5UkpqamrUMIFg2YCbbrqJjz/+GCklb7/9Nrfeeitms5mkpCT69u0bMiteVFQUv/3tbxk0aBDDhg1To4VDSScE3sNnn31WLZ+amkpBQQEFBQX069ePu+++m9TUVE6cOMFjjz2mygAEQhEau/85c+aQkpKCzWZTI6ojIiJITExsMKNfc+iw60h0Ot+t6YWCR5EY9e0jCnjTvw5RdCJ0tOuF0uXyKLJ/8dMGj4cjI7Bu3Tpyc3MBn+BNXl4eeXl5LF26lFmzZqlaHMHs2bOHrVu3YrfbycjIYNKkSUDtkPcXX3yR2NhYvvzyS5xOJyNHjmTcuHHk5+fz7LPP8t577wG++JmdO3eyZ88eOnXqhMfjYdWqVcTExFBUVMSwYcOYPHlyvdigcCQOtmzZwk033VRr3z333MPq1atJSUlRc70EywMYDAZiY2MpLi7m1KlTDBs2TC0bkA2oi91uZ9iwYcyfP5/Zs2fz0ksv8cQTT/Dggw+GlE5ojMOHD7N8+XKGDRvGypUr2bVrF7t376aoqIghQ4aon1uo+x8wYACrVq3i4MGDCCFqyQYMHjyYTZs2qVn7WoqO2yJRB1slnktc3KiujMDw4cNVGYFAvM2HH37Iz372MwA+//xzbr/dl53wrrvuYvPmzSHrvf7667FarXTp0oVRo0ap/3TBIe9r167l1VdfJT09naysLIqLizl8+HDI+saOHaumwpRS8vjjj2Oz2RgzZgynTp1S/+GDCUgc6HQ6VeKgLoWFhSQkJNTa98orr3D69GkGDBig/sM3F5PJpIosBWQDwOekf/WrX5Gens7kyZMblU4I0Lt3b9V5bd68mdtuuw29Xk+3bt245ppr+PLLL4HQ9x8bG4vFYuGXv/wlb775JhEREWq9LSUbUJeO2yIJrCMREreiYKXpzO4/Bo21HFqLcGQEtm3bxgsvvHBe9YYjGyClZNGiRfWSbodaCRtcbsWKFZw7d44dO3ZgNBpJTEzE4XDUKxOObIDVag1ZVq/Xc+utt/LHP/6Re+65R5UH6NWrFx6Ph/Lycjp37hy2bIDRaFTfg2BbGpJOCJYNAGrZ2BzZAIPBwLZt2/j444954403+POf/6wKJ7WUbEBdmmyRCCFmCiHimzqvvSH0QV2bS7xFAo3LCOzfv5/+/furIkIjRozgtddeA3w/6FBRwuAbU3A4HBQXF7Nhw4aQmdzGjx/PCy+8oIbEHzp0CLvdHpZsQNeuXTEajaxfv55jx45d8L0PGDCAI0eOAD7HFvz8nXfeUROUB8sGvPHGG4wePRohBJMnT+a1117D6XTy3Xffcfjw4fPqGjQknZCYmKiG9O/cuZPvvvsuZPns7Gxef/11vF4v586dY+PGjY1ev6qqivLyciZOnKgOLAdoKdmAuoTTtekGfCmE+JcQYoIIUyZKCLFUCHFWCLGvgeM5QohyIcQu//bk+RjeFD8skQePV1tL0piMwAcffFBrMHLRokW88sor2Gw2/va3v9VSVg/GZrMxatQohg0bxty5c7nsssvqnXPvvfeSkpJCZmYmqamp/Md//AcejwebzYZer2fQoEGqhmgwd9xxB9u3byctLY1XX31V/bFfCMGyAVJK8vLySEtLIy0tjcLCQp580vfV++Uvf0lxcTF9+/blueeeU4WRBw4cyC9+8QtSUlKYMGEC//d//6c63XBoSDphypQplJSUMHDgQP785z/z05+Gbq3ecMMN2Gw2Bg0axOjRo/njH/9I9+7dG7xeZWUl1157LTabjauuuornnntOPbZlyxbGjh0btu1h01BYcPAGCGA88BpwBPgf4CdNlLkayAT2NXA8B3gvnOsHb+HKCJQVfSXXfdxHvv7sXHmytDrsUOlLkTFjxsjTp0+fV5mnnnpKPvPMM61kUcszcuRIWVpa2tZmtCk7d+6Ud9555wWXp7kyAv5KvvdvHiAeeEMI8cdGymwESi7EubUEwj9roxMSt5Ykq1E++uijsBW+LlYWLFgQchr7UqKoqIj//u//bpW6mxxsFUI8CNwNFAEvA49JKd1CCB1wGJjdjOsPF0LsBk4Dj0op9zdgw33AfQBXXHFFWBXrgmZt3FrXpsWZN29eW5twXgSU4S9lWqVL4yecWZtOwI1SylqjXVJKRQjRnBRsO4HeUsoqIcRE4C0gOdSJUsoXgRcBBg8eHNbIqdCbANAJBZfmSDQ0WpUmuzZSyqeAzkKIWf4ZnMygY42vqmm83gopZZX/+WrAKITocqH11UUX3LXRZm00NFqVcKZ/5wLLgc5AF+AVIcQTzb2wEKJ7YAZICDHUb0txc+v9of6AI1FwaWMkGhqtSjhdmzuBQVJKB4AQIh/YBfy+sUJCiH/im5npIoQ4CTwFGAGklIuBm4D7hRAeoAa41T+o2yIEYm10Om2MREOjtQln1uY0ELwkzwzUDzSog5TyNillDymlUUrZS0q5REq52O9EkFL+WUo5UEo5SEo5TEp5/qnoG0EnfPP8Am2MJBwmTpxIWVlZvSTiwbl1W5PGkog3xvbt25k1a9Z5lZFSMnr0aCoqKnA4HAwdOlRNDfHUU0+p53333XdkZWXRt29fbrnlFjVhVWNyAxcTt956a4PhCudLOI6kHNgvhFgmhHgF2AeUCSGeF0KcXxr4HxG1a6PTujbhsHr1auLi4uo5kpakMXmAxhxJY+UGDx4cVtrRYFavXs2gQYOIiYnBbDbzySefsHv3bnbt2sWHH37I1q1bAfj1r3/Nww8/zJEjR4iPj1dz9TQkN/Bj0NycPsHcf//9/PGPDa7gOC/CcSSrgMeB9cAG4LfA28AO/9YuEcLof1Qu+a5NODICiYmJFBUVMWfOHL799lvS09PVBFlVVVVNhurn5OTw4IMPkp6eTmpqqhrAF5AbGDlyJHfddVfIkPqCggIWL17MwoUL1QRZU6dOZcaMGWRlZTF79my2bdvG8OHDycjIYMSIEXzzzTdA7RbTvHnzmDZtGjk5OfTp06dBB7NixQo1a54QQpUlcLvduN1uhBBIKfnkk0/UqOG8vDw1ArohuYFgGgvx37FjB9dccw1XXnkl48ePp7CwUH0Pt2/fDvjWfCQmJgLUk1goKSnh5z//OTabjWHDhrFnz55G799utzNp0iQGDRpEamqqGqSYnZ3NunXrWsQ5NTlGIqVcLoQwAYH1u99IKUPnEmxHCH/XRickLs+PI0ITDuuXvcjZY0dbtM6uvfswaup9DR4PR0YgQH5+Pvv27VPjQTZs2BBWqD5AdXU1u3btYuPGjUybNo19+3zREQcOHGDz5s1YrVZuv/32kCH1M2bMICoqStXOWLJkCSdPnuSzzz5Dr9dTUVHBpk2bMBgMrFu3jscff5yVK1fWs+HgwYOsX7+eyspK+vXrx/3334/RaKx1zpYtW1RdFACv18uVV17JkSNH+M///E+ysrIoKioiLi4Og8H3EwmWDmhIbqBLl9qTjqHet6ysLGbOnMnbb79NQkICr7/+Or/97W+bVC4LlliYOXMmGRkZvPXWW3zyySfcfffd6ucV6v4//PBDLrvsMt5//33AF8cEoNPp6Nu3L7t37+bKK69s9PpNEc6CtBx8szYF+JbKXy6EyPOvXG23BLo2QnhxeNq932tV6soIZGZmqjIC4XQLAqHqgBqqHsqR3HbbbQBcffXVVFRUqDoYkydPViNO161bx4EDB9QyjYXU33zzzWpMS3l5OXl5eRw+fBghRIN5cSdNmoTZbMZsNtO1a1fOnDmj2h6gpKSE6Oho9bVer2fXrl2UlZVxww03sG/fvkZjWcIl1PsWFxfHvn371MVhXq83rFXFwRILmzdvVp3o6NGjKS4uVpN9hbr/tLQ0HnnkEX79619z7bXX1grCDMgKtLojARYA46SU3wAIIX4K/BNo3pVbGSEEKHqEUNqVI2ms5dBahCMj0BjhhOpDeLICDYXUhyK43Ny5cxk1ahSrVq2ioKCAnJycC7Y1EL6v09Xu2cfFxTFq1Cg+/PBDHnnkEcrKytSw/GDpgIbkBsKxRUrJwIED+fzzzxu0C6gne9AcWYGf/vSn7Ny5k9WrV/PEE0+Qm5urBiq2lKxAOGMkxoATAZBSHsI/jdvukTqETuJswQGqi5XGZASCaSq8vzECfe/NmzcTGxtLbGxsvXMaCqkPR1Yg8ENetmzZBdkXoF+/fhw96utenjt3Tm051dTU8NFHH9G/f3+EEIwaNYo33ngDgOXLl6vjKg3JDYR77XPnzqmOxO12s3+/LzIkMTGRHTt2qPU2RHZ2tirSvWHDBrp06aLKR4bi9OnTREREcOedd/LYY4+p0gXQcrIC4TiSHUKIl/1h/zlCiJeA7c2+8o+AkHqE8OJsRy2StqIxGYFgOnfuzMiRI0lNTVUHW8PFYrGQkZHBjBkz1BmOujQUUn/dddexatUqdbC1LrNnz+Y3v/kNGRkZzR4cDJYVKCwsZNSoUdhsNoYMGcLYsWPVwdunn36a5557jr59+1JcXMwvf/lLoGG5gXAwmUy88cYb/PrXv2bQoEGkp6ers1WPPvooL7zwAhkZGRQVFTVYx7x589ixYwc2m405c+aoTq0h9u7dy9ChQ0lPT+d3v/sdTzzhW0965swZrFZri3TjRFNrwIQQZuA/gUCneBPwFymls9lXvwAGDx4sAyPbTfHJGhuGU0P4vNcMfj2uvuiORsuRk5PDs88+y+DBg9valCYpLCzk7rvv5qOPPmprU9qUhQsXEhMTozrIphBC7JBShvyAGx0jEb6pj91Syv7Ac42d2x4RUg9C4vJqLRKNH+jRowfTp0+noqKi0S5BRycuLo677rqrRepq1JFIKb1CiG+EEFdIKS8+MQepR+i8OL3aGElrE0qDtT3zi1/8oq1NaHPuueeeFqsrnFmbeHwrW7cB9sBOKeXkFrOitZA6EF6cHldbW6Kh0aEJx5HMbXUrWgnfYKuC06s5Eg2N1iQcRzJRSlkrmEAI8TTwaeuY1IJIPei8uDRHoqHRqoQz/RtKn+1nLW1IqyD1IDRHoqHR2jToSIQQ9wsh9gL9hBB7grbvgL0/nokXjkAPOkUbIwmT/Px8daFTa9NYEvGmGDFixHmXeeihh9i40RfVMXXqVJKSkkhPTyc9PV1dFCelZNasWfTt2xebzVZr4dby5ctJTk4mOTm5yXUb7ZX33ntPXdHa4jQkLw/EAon4lsP3Dto6NVTmx9jCSkehKFJ63HLD22Plptcmy1+88nLTZTRkTk6OPHv2bIvV53a7Gzy2fv16OWnSpPMudyEUFRXJrKws9XVeXp7897//Xe+8999/X06YMEEqiiI///xzOXToUCmllMXFxTIpKUkWFxfLkpISmZSUJEtKSlrUxsbweDwtUo+iKDI9PV3a7fYLKs+FpKOQUpZLKQuklLcBJwE3IIEoIUR4Uu5txfYl8N+dEVIHQsF9iS+RD0dGoKKiApfLRUJCAgUFBYwePRqbzUZubm7INA4BeYDhw4eTnJzMSy+9BPimgbOzs5k8eTIpKSl4vV4ee+wxhgwZgs1mU6Nu58yZw6ZNm0hPT2fhwoX1QuWrqqrIzc0lMzOTtLQ03n77bfXagbD/xkL1g1m5cmWtBGAN8fbbb3P33XcjhGDYsGGUlZVRWFjImjVr1KC5+Ph4xo4dy4cfflivfGJiIk899ZRq88GDBwFfGP+0adMYOnQoGRkZ6r0sW7aMX/3qV2r5a6+9Vp1Gj4qK4pFHHmHQoEF8/vnnPPfcc6SmppKamsqf/vQnwNeqGzBgANOnT2fgwIGMGzeOmpoawLeCOCUlBZvNxq233gr4Yp9ycnLUxO0tSTjRv78C5gFngICwhwRsLW5NS+GXWfR1bbx4lfbjSMre/RbXaXvTJ54HpssiibvuJw0eD0dGYN26deTm5gIwc+ZM8vLyyMvLY+nSpcyaNUvV4ghmz549bN26FbvdTkZGBpMmTQJ8Ie/79u0jKSmJF198kdjYWL788kucTicjR45k3Lhx5Ofn8+yzz6pf6mXLltUKlfd4PKxatYqYmBiKiooYNmwYkydPrhfTEo7EwZYtW1RdkQC//e1v+a//+i9yc3PJz8/HbDbXkgeAH6QDGtofii5durBz507+8pe/8Oyzz/Lyyy8zf/58Ro8ezdKlSykrK2Po0KGMGTOmwc8LfM4nKyuLBQsWsGPHDl555RW++OILpJRkZWVxzTXXEB8fz+HDh/nnP//JSy+9xC9+8QtWrlzJnXfeSX5+Pt999x1ms1mNJQKfENSmTZtafB1NOIOtDwH9pE8WMc2/tV8nAuDPaeMbbPXgucRXttaVERg+fLgqIxCIt/nwww/52c98Y+iff/45t99+OwB33XUXmzdvDlnv9ddfj9VqpUuXLowaNUoVMxo6dChJSUkArF27lldffZX09HSysrIoLi5uUN4vOFReSsnjjz+OzWZjzJgxnDp1ijNnztQrEwjV1+l0aqh+XQoLC0lISFBf/+EPf+DgwYN8+eWXlJSU8PTTT4fzNobFjTfeCPje84Ata9euJT8/n/T0dHJycnA4HE0m69Lr9UyZMgXwBUHecMMNREZGEhUVxY033qjGIwXGeupe02azcccdd/D3v/9d1VSBH2QDWppwpn9P4JNbvHgIapFIoaC0o5WtjbUcWotwZAS2bdvGCy+8cF71hiMbIKVk0aJFjB8/vta5oVbCBpdbsWIF586dY8eOHRiNRhITE+uF1kN4sgFWq7VW2YD+h9ls5p577uHZZ58FfpAHCBCQDujZs2cte0+ePNmkjEGwLVJKVq5cSb9+/Wqdu2PHDlU2AGpLB1gslrDyC9e9/0DX5v3332fjxo28++67zJ8/n71792IwGFpMNqAu4bRIjgIbhBC/EUL8v8DW4pa0JHq/qJG/a6O0o65NW9GYjMD+/fvp37+/+sUdMWIEr732GuD7QYeKEgbfmILD4aC4uJgNGzYwZEj9wMjx48fzwgsvqEJEhw4dwm63hyUb0LVrV4xGI+vXr+fYsWMNntsUAwYM4MiRI+rrgLShlJK33npLDaOfPHkyr776KlJKtm7dSmxsLD169GD8+PGsXbuW0tJSSktLWbt2bT3H2Bjjx49n0aJF6vjNV199BfjGVHbt2oWiKJw4cUJt0dUlOzubt956i+rqaux2O6tWrWrwMwHU+kaNGsXTTz9NeXm5Kh7VUrIBdQmnRXLcv5n8W/sn0CKReqTOiyI1R5Kdnc38+fMZPnw4kZGRtWQEPvjgg1qDkYsWLeKee+7hmWeeISEhgVdeeSVknTabjVGjRlFUVMTcuXO57LLLOHToUK1z7r33XgoKCsjMzERKSUJCAm+99RY2mw29Xs+gQYOYOnUq8fHxtcrdcccdXHfddaSlpTF48GD69+9/wfc+adIk/vrXv3LvvfeqdZ87dw4pJenp6aqUwcSJE1m9ejV9+/YlIiJCve9OnToxd+5c1VE++eSTahcsHObOnctDDz2EzWZDURSSkpJ47733GDlyJElJSaSkpDBgwAAyMzNDls/MzGTq1KkMHToU8L2nGRkZDarXe71e7rzzTsrLy9Up7bi4OADWr1/PH/7wh7BtD5uGpnMa2wDDhZRriS2s6d9vPpTyqRj52Zu3yk/fHiFzF/yu6TKXMGPGjJGnT58+rzJPPfWUfOaZZ1rJopZn5MiRsrS0tK3NaFO+//57OXr06Asuz4VM/wohNgc9/1udw6HbYO2FQLpOf9cG5dJWkW+Kjz76KCzd0IuZBQsWNDnA2dE5fvw4CxYsaJW6G+vaBItE1u1Uhacr11b4Z210Qo8UXsQlno6iNZg3b15bm3BeZGVltbUJbU6oMayWorHBVtnA81Cv2xfqrI0OKRQMSvv2exoaFzuNtUjihBA34HM2cUKIG/37Bb7l8+2XQIsEHei8GLQGiYZGq9KYI/kUmBz0/LqgY+06p03AkfhaJB6MUmuRaGi0Jg06Eilly+mw/djoAmMkAikUjIpAUSQ6neZQNDRag3AWpF181OnaGNHh1mZuGmXixImUlZXVSyIenFu3NWksiXhjbN++nVmzZp1XGSklo0ePVrPTJSYmkpaWRnp6ei0V/JKSEsaOHUtycjJjx46ltLRULd+Q3MDFxKOPPsonn3zSInV1TEcSmP4VAim8mBU9bm/7Hh9ua1avXk1cXFw9R9KSNJaPpjFH0li5wYMHh5V2NJjVq1czaNCgWgry69evZ9euXQSnOsnPzyc3N5fDhw+rwX3gW8B3+PBhDh8+zIsvvsj9999/XtdvDi2R8DvAzJkzzysnT2N0TEeitkgAITFJgdtz6bZIwpERSExMpKioiDlz5vDtt9+Snp6uJsiqqqpqMlQ/JyeHBx98kPT0dFJTU9Xl3gG5gZEjR3LXXXdx7tw5pkyZwpAhQxgyZAhbtmyhoKCAxYsXs3DhQjVB1tSpU5kxYwZZWVnMnj2bbdu2MXz4cDIyMhgxYgTffONL/hjcYpo3bx7Tpk0jJyeHPn36NOhgVqxYoWbNa4y3336bvLw8APLy8tQI6IbkBoJpLMT/22+/ZcKECVx55ZVkZ2ercgNTp06tlWEvWC4hWJrB4XBwzz33kJaWRkZGBuvXrwd8EdQ33ngjEyZMIDk5mdmzZwO+la5Tp04lNTWVtLQ0Fi5cCEDv3r0pLi7m+++/b/K9aIpwZARuBj6UUlYKIZ4AMoHfSynbb3tOHSPxvbQgcLWTtSQffPBBi3xwwXTv3l2N3A1FODICAfLz89m3b5+qGrZhw4awQvUBqqur2bVrFxs3bmTatGns27cPgAMHDrB582asViu33347Dz/8MFdddRXHjx9n/PjxfP3118yYMYOoqCgeffRRAJYsWcLJkyf57LPP0Ov1VFRUsGnTJgwGA+vWrePxxx9XE2kHc/DgQdavX09lZSX9+vXj/vvvx2isnWF2y5Ytqi4K+IINx40bhxCC//iP/+C++3z5mc+cOaMu1OvevbsafdyQrEDdRX0Nhfjfd999LF68mOTkZL744gseeOCBJrsYwdIMCxYsQAjB3r17OXjwIOPGjVNDE3bt2sVXX32F2WymX79+zJw5k7Nnz3Lq1Cn18wiWFcjMzGTLli1qpPGFEpaKvJTy30KIq4AxwDPAC0D7XeHjb5Ho/Y4kQghcl3CLpK6MQGZmpiojEE63IBCqD6ih+qEcyW233QbA1VdfTUVFhfqFnTx5shpxum7dOg4cOKCWqaioUAPK6nLzzTergYTl5eXk5eVx+PBhhBBqEGBdJk2ahNlsxmw207VrV86cOaPaHqCkpITo6Gj19ebNm+nZsydnz55l7Nix9O/fv56DFUKEnd83QKgQ/6qqKj777DNuvvlm9Tyns+mklcHSDJs3b2bmzJkA9O/fn969e6uOJDc3V825nJKSwrFjxxg4cCBHjx5l5syZTJo0iXHjxqn1tpSsQDiOxOt/nAS8KKV8Xwjx+2ZfuTUJjJH4O25mdDjbiSNprOXQWoQjI9AY4YTqQ3iyAoqisHXrViwWS5PXDS43d+5cRo0axapVqygoKGgyjL8xWw0GA4qioPN/QQLJybt27coNN9zAtm3buPrqq+nWrRuFhYX06NGDwsJCunbtqp4fSm6gKVtqampQFIW4uDi1xRfKLvC9Ty7XD1rDwe9FY4S6//j4eHbv3s2aNWtYvHgx//rXv1i6dClAi8kKhDNGckoI8VfgFmC1Pxdwux5bqfx0CwUfdwa370tkQYfD7W2iVMemMRmBYJoK72+M119/HfD9Y8bGxqr/jMGMGzeORYsWqa8DP6hwZAUCP9Zly5ZdkH0B+vXrx9GjRwGfElnguna7nbVr19aSFQgIPS9fvlwdV2lIbiAcYmJiSEpK4t///jfgmwHavXs34Bun2rFjBwDvvPNOg62u7OxsVaT70KFDHD9+vJ7WSTBFRUUoisKUKVP4/e9/X2uWqaVkBcJxCL8A1gDjpZRlQCegyTT1QoilQoizQoh9DRwXQojnhRBH/Or0oWOoLwBPaTk158wIr895mBHYnZe2lEB2djaFhYUMHz6cbt261ZIRCKZz586MHDmS1NRUdbA1XCwWCxkZGcyYMYMlS5aEPOf5559n+/bt2Gw2UlJS1BD+6667jlWrVqmDrXWZPXs2v/nNb8jIyGj2zMWkSZNUoaIzZ85w1VVXMWjQIIYOHcqkSZNUSYU5c+bw0UcfkZyczLp165gzZw7gmyrv06cPffv2Zfr06ec9y7VixQqWLFnCoEGDGDhwoKrhOn36dD799FNVp7WhVsgDDzyAoiikpaVxyy23sGzZslotkbqcOnWKnJwc0tPTufPOO1UZAbfbzZEjR1om8XtDYcGBDfgJYPY/zwFmAXFhlLsa38DsvgaOTwQ+wLfkfhjwRVN1yjBlBErffFMe6Ndffvfvu+W6j/vIxfOek598feYCAqc1wuWaa66RX375ZVubERanT5+WY8aMaWsz2pw333xTPvHEE2Gfz4XICASxEvAKIfoCLwKXA00mJJFSbgRKGjnleuBVv41b8cXztEgsuzD69JeEXxnNpAO769JukWj8QI8ePZg+fbq6IO1SxePx8Mgjj7RIXeEMtipSSo8/aG+RlHKREOKrFrh2T3x6sAFO+vcV1j1RCHEfcB/AFVc0nQlD+Kf7dP4BVrOQVDsv7TGS1iaUBmt7pqVV1C9GgmeOmks4LRK3EOI24G4gkBDD2Mj5LY6U8kUp5WAp5eBgNfCGqOtIjDpFa5FoaLQi4TiSe4DhwHwp5XdCiCSgrmLahXAKXzcpQC//vmYjjP7pX/+ot0nnpcqppe3U0GgtmnQkUsoDwKPAXiFEKnBSStkSiUDeAe72z94MA8qllPW6NReC2iJx+bozRr2XSmf9VAYaGhotQzhL5HOA5UABvhmWy4UQef7B1MbK/RPfLE8XIcRJ4Cn8XSIp5WJgNb6ZmyNANb6WT4sQcCR6ty8mRK/zUKU5Eg2NViOcrs0CYJyU8hop5dXAeGBhU4WklLdJKXtIKY1Syl5SyiVSysV+J4J/tuY/pZQ/kb7sfdubqjNcyirKOBEfjVLja5EY9B6qXJojaYr8/Hx1oVNrU1BQwD/+0eTkX0hGjBhx3mUeeughNm70/fdlZ2eTnp5Oeno6l112GT//+c+BxuUBli9fTnJyMsnJyeoitYuN9957jyeffLJV6g7HkRillN8EXkgpD/EjD7aeL6dPHGPvFV1xO3yORKf3YNccSZOsWbOmVhxGc2ls4VhjjqSpBWfnq1tSXFzM1q1b1fiZTZs2sWvXLnbt2sXw4cPVNJsNyQOUlJTwu9/9ji+++IJt27bxu9/9TtUm+THweltmxnHSpEm8++67VFdXt0h9wYTjSHYIIV4WQuT4t5eAFms9tAZ6/yo/xeHr2uh0buzuS9eRhCMjUFFRgcvlIiEhgYKCAkaPHo3NZiM3NzdkGoeAPMDw4cNJTk7mpZdeAuqHvHu9Xh577DGGDBmCzWZTo27nzJnDpk2bSE9PZ+HChSxbtozJkyczevRocnNzqaqqIjc3l8zMTNLS0tTVn1A7vD4nJ6dJiYOVK1fWSgAWoKKigk8++URtkTQkD7BmzRo1L3F8fDxjx47lww8/rFdfYmIiTz31lGpzQB7Abrczbdo0hg4dSkZGhnovy5Yt41e/+pVa/tprr1Wn0aOionjkkUfUVa7PPfccqamppKam8qc//QloXKrg+eefJyUlBZvNxq233gr4Yp9ycnLUxO0tSTjrSGYA/4lvRSvAJqB1lG9aCIPJtyBNcfqmf3V6N3Z3y3vhC+HQof+msurrFq0zOmoAP/3p3AaPhyMjsG7dOnJzcwGf4E1eXh55eXksXbqUWbNmqVocwezZs4etW7dit9vJyMhg0qRJQO2Q9xdffJHY2Fi+/PJLnE4nI0eOZNy4ceTn5/Pss8+qX+ply5axc+dO9uzZQ6dOnfB4PKxatYqYmBiKiooYNmwYkydPrhcbFI7EwZYtW7jpppvq2f/WW2+Rm5urChw1JA/Q0P5QdOnShZ07d/KXv/yFZ599lpdffpn58+czevRoli5dSllZGUOHDmXMmDENfl7gcz5ZWVksWLCAHTt28Morr/DFF18gpSQrK4trrrmG+Pj4BqUK8vPz+e677zCbzbVkAwYPHsymTZtafB1Noy0SIYQe2C2lfE5KeaN/WyilbDruuQ3Rm32RpV6PF+E1IfQuqj2hQ9UvBerKCAwfPlyVEQjE23z44YdqZPLnn3/O7bffDsBdd93F5s2bQ9Z7/fXXY7Va6dKlC6NGjVLFjIJD3teuXcurr75Keno6WVlZFBcXc/jw4ZD1Bf71wTde8fjjj2Oz2RgzZgynTp1S9UCCCUgc6HQ6VeKgLoWFhYRaf/TPf/5TlT5oKQLdpIBsAPjeg/z8fNLT08nJycHhcDSZrEuv16saIZs3b+aGG24gMjKSqKgobrzxRjUeKZRUAfjSqd5xxx38/e9/x2D4ob3QUrIBdWm0RSKl9AohvhFCXCGlvGjSlBksAUeiIBQzwuDCWW1vY6t8NNZyaC3CkRHYtm0bL7zwwnnVG45sgJSSRYsW1Uu6HWolbHC5FStWcO7cOXbs2IHRaCQxMRGHo373NBzZAKvVWq9sUVER27ZtY9WqVeq+huQBevbsWcvekydPNiljEGyLlJKVK1fWi9DdsWOHKhsA1LLRYrGoWiyNEUqqAOD9999n48aNvPvuu8yfP5+9e/diMBhaTDagLuGMkcQD+4UQHwsh3glsLW5JCxJwJB63z5Ggd+H21LSxVW1LYzIC+/fvp3///uoXd8SIEbz22muA7wcdKkoYfGMKDoeD4uJiNmzYEDKT2/jx43nhhRfUkPhDhw5ht9vDkg3o2rUrRqOR9evXc+zYsQu+9wEDBnDkyJFa+9544w2uvfbaWrooDckDjB8/nrVr11JaWkppaSlr166t5xgbY/z48SxatEgdv/nqK1+ESWJiIrt27UJRFE6cOKG26OqSnZ3NW2+9RXV1NXa7nVWrVjX4mQBqfaNGjeLpp5+mvLxcFY9qKdmAuoSlkNbiV21lAoOtXq8XIX2ORPG0695Yq5Odnc38+fMZPnw4kZGRtWQEPvjgg1qDkYsWLeKee+7hmWeeISEhgVdeeSVknTabjVGjRlFUVMTcuXO57LLLVKWuAPfeey8FBQVkZmYipSQhIYG33noLm82GXq9n0KBBTJ06lfj4+Frl7rjjDq677jrS0tIYPHgw/fv3v+B7nzRpEn/961+599571X2vvfaaKgsQYOLEiaxevZq+ffsSERGh3nenTp2YO3eu6iiffPJJtQsWDnPnzuWhhx7CZrOhKApJSUm89957jBw5kqSkJFJSUhgwYACZmaGVNDIzM5k6dSpDhw4FfO9pRkZGyG4c+L73d955J+Xl5eqUdlxcHOATuQ7ICLQkItQoN4A/2reblHJLnf1XAYVSym9b3JowGDx4sAxW+g7Fqf17ee2/fsMYcwkVt0Shq4xk1ncD2D5n/nnL5V0KjB07lldfffW8EonPmzevlsZqe+eqq67ivffeU39QlyJnzpzh9ttv5+OPP76g8kKIHVLKkOIljXVt/gSEirMu9x9rt+it/q6NV0Hnb5EYhLvdyC22Nz766KPzciIXIwsWLGhygLOjc/z4cRYsWNAqdTfWtekmpdxbd6eUcq8QIrFVrGkhyiqrcHXqhru8GJ2w4NWXYZZgd3qwGJsewNJomnnz5rW1CedFVlb71Sr/sQg1htVSNNYiiWvkWMsP+7YgZ4uKcXa7HIcwoNdZkXonFkVQ7dI0STQ0WoPGHMl2IcT0ujuFEPcCO1rPpOZjMvsWpLmlzu9IXERJPRWO0GK6GhoazaOxrs1DwCohxB384DgGAybghla2q1kYjb5ZG7fUoddbURQnUYqRUrvmSDQ0WoMGHYmU8gwwQggxCghMPL8vpWyZrMOtiNE//esRegxGK4riIkoxUWy/tKeANTRai3CEjdZLKRf5t3bvRAAqDUZOx3bGKQwYDBFIva9FUmLXVNIaYuLEiZSVldVLIh6cW7c1aSyJeGNs376dWbNmNX1iEFJKRo8eTUVFBd98840qKZCenk5MTIwaFFdSUsLYsWNJTk5m7NixasRvY3IDFxOPPvpok6lCw6VdJ7q6UD736nknPZtySxR6YwQISYxi0hxJI6xevZq4uLh6jqQlaUweoDFH0li5wYMHh5V2NJjVq1czaNAgYmJi6NevnyopsGPHDiIiIrjhBl/PPT8/n9zcXA4fPkxubi75+flAw3IDPwbNzekTzMyZM9V7ai4d0pFE+jVbawwW9OYIAOIxUlR1aUoJhCMjkJiYSFFREXPmzOHbb78lPT1dTZBVVVXVZKh+Tk4ODz74IOnp6aSmpqrLvQNyAyNHjuSuu+7i3LlzTJkyhSFDhjBkyBC2bNlCQUEBixcvZuHChWqCrKlTpzJjxgyysrKYPXs227ZtY/jw4WRkZDBixAi++cYnkRPcYpo3bx7Tpk0jJyeHPn36NOhgVqxYoWbNC+bjjz/mJz/5Cb179wZ8IQB5eXkA5OXlqRHQDckNBNNYiP+3337LhAkTuPLKK8nOzlblBqZOncobb7yh1hEslxAszeBwOLjnnntIS0sjIyOD9evXA74I6htvvJEJEyaQnJzM7NmzAd9K16lTp5KamkpaWhoLF/p0yXr37k1xcXGLJLUPZ4n8RUeEwbdWxGE0YzD7AsGihYGzVeVtaRYAcw+fZF9Vy8b9pEZZ+e/kXg0eD0dGIEB+fj779u1TU2lu2LAhrFB9gOrqanbt2sXGjRuZNm0a+/b5kiweOHCAzZs3Y7Vauf3223n44Ye56qqrOH78OOPHj+frr79mxowZtVbKLlmyhJMnT/LZZ5+h1+upqKhg06ZNGAwG1q1bx+OPP87KlSvr2XDw4EHWr19PZWUl/fr14/7778dorK3DtWXLFlUXJZjXXnutVjTwmTNn1IV63bt3V6OPG5IVqLuor6EQ//vuu4/FixeTnJzMF198wQMPPNBkFyNYmmHBggUIIdi7dy8HDx5k3LhxamjCrl27+OqrrzCbzfTr14+ZM2dy9uxZTp06pX4ewbICmZmZbNmyRY00vlA6pCOx+sOmXQYTBrNvyUukTlBc0/aOpC2oKyOQmZmpygiE0y0IhOoDaqh+KEcS+BFeffXVVFRUqF/YyZMnqxGn69at48CBA2qZiooKNaCsLjfffLMaSFheXk5eXh6HDx9GCNFgXtxJkyZhNpsxm8107dqVM2fOqLYHKCkpITo6utY+l8vFO++802AcihDivMMrQoX4V1VV8dlnn9XKKeN0Nj0JECzNsHnzZmbOnAlA//796d27t+pIcnNz1ZzLKSkpHDt2jIEDB3L06FFmzpzJpEmTaqngtZSsQId0JBF+R+IwmjFb43z7jG5K2oEjaazl0FqEIyPQGOGE6kN4sgKKorB169ZaUbcNEVxu7ty5jBo1ilWrVlFQUNBkGH9jthoMBhRFQaf7oWf/wQcfkJmZSbdu3dR93bp1o7CwkB49elBYWEjXrl2BhuUGmrKlpqYGRVGIi4tTW3yh7ALf++Ry/TCm11Ae4Kau6fF4iI+PZ/fu3axZs4bFixfzr3/9i6VLlwK0mKxAhx4jcRnNmAw+72wx1VDuKm5Ls9qUxmQEgmkqvL8xXn/9dcD3jxkbG6v+MwYzbtw4Fi1apL4O/KDCkRUI/FiXLVt2QfYF6NevH0ePHq21L5TI0eTJk1Wh5+XLl6vjKg3JDYRDTEwMSUlJ/Pvf/wZ8M0C7d+8GfONUO3b4lmy98847Dba6srOzVZHuQ4cOcfz48XpaJ8EUFRWhKApTpkzh97//fa1ZppaSFeiQjiQi4Ej0Jkx6n4ye0WTH4S3F4700A/eys7MpLCxk+PDhdOvWrZaMQDCdO3dm5MiRpKamqoOt4WKxWMjIyGDGjBksWbIk5DnPP/8827dvx2azkZKSwuLFiwG47rrrWLVqlTrYWpfZs2fzm9/8hoyMjGbPXEyaNKmWUJHdbuejjz5S1c0CzJkzh48++ojk5GTWrVunyg5MnDiRPn360LdvX6ZPn37es1wrVqxgyZIlDBo0iIEDB6oartOnT+fTTz9VdVobaoU88MADKIpCWloat9xyC8uWLavVEqnLqVOnyMnJIT09nTvvvFPtvrndbo4cOcLgwSEDes+PhrKLt9ftyiuvlE2xt6xSdvvkK3n/7/5LekuPyXUf95Fb/vL/pC1/tjxTUdNkeY3z55prrpFffvllW5sRFqdPn5ZjxoxpazPanDfffFM+8cQTYZ8PbJcN/C47ZItE7doYjOjcNeg8UQhLBRacFFdpa0kudXr06MH06dOpqAilknHp4PF4eOSRR1qkrg452GrR+/yj22CEqrMYlDikuYJoGcHpshoG9IhpYws7HqE0WNszLa2ifjESPHPUXDpki8SiC3Ik9nMYRDzSVEmM18DxkvaRlkJDoyPRIR2JuY4jMRs7o5gq6OKJ5Fix5kg0NFqaDulILDrflGaga2MydcZjqiDBHcexkku7X6yh0Rp0SEeiEwK914tbbwT7WUyWLigmO908cRwra35cgYaGRm06pCMB0CtevAYDVJ3DEuNbrdhDZ+S0/VTIoDMNDY0Lp8M6EqPixa03ICvPYIn1rTrsZHTj1Z3hbKUmcKSh0ZJ0WEdiULx49AZkxTkio/oAYIk5S5ShnG/PXbp5gDU0WoMO7EgUnyOpPIfVcgVIPfroQuJxs/+UNuCqodGSdFhHYgy0SNwudG4HZqUHRBfS3WVl76m2jwLW0OhIdFhHYlC8ePV6FA9QcYoIYxLuyEKuqLmMPadPtrV5Ghodig7rSIyKxKM34HHp4Pu9RET9BFfEGfo6enGi+giVWo4bDY0Wo1UdiRBighDiGyHEESHEnBDHpwohzgkhdvm3e0PVcyGYhMSj0+OoiYDC3cR0HQA6L70tXkyWY+w+oXVvNDRailZzJEIIPfB/wM+AFOA2IURKiFNfl1Km+7eXW+r6JgFevR4nl8H3e4jtnA5AVJdv6S7sbDpyrqUupaFxydOaLZKhwBEp5VEppQt4Dagv3d1KmITAo9Pj9MZD4W4irH0wKPGIhIMk1sTx6aHm61RqaGj4aE1H0hM4EfT6pH9fXaYIIfYIId4QQlwe4jhCiPuEENuFENvPnQuvJWHRCTx6PZU1BnCUI0q/I9Y8GEengwyqSONwxR7OVl6a6Sk0NFqath5sfRdIlFLagI+A5aFOklK+KKUcLKUcnJCQEFbFVqMRr05PaSDzw6EP6dzzKrzmclLNeiIjvmHN/jMtchMaGpc6relITgHBLYxe/n0qUspiKWVgvfrLwJUtdfFIsxmPTkdpTQ10S4Ov36Vrz7EgBdFXbKe/W8/KnQUtdTkNjUua1nQkXwLJQogkIYQJuBV4J/gEIUSw9PZk4OuWunikyYii01OhE3h7j4PjWzE7vcToB+Ps+RkjirLYV7qVI2e15fIaGs2l1RyJlNID/ApYg89B/EtKuV8I8V9CiMn+02YJIfYLIXYDs4CpLXX9QG6bsugYHIZUEAK+WEzPpF/gthaR2amSntZveHnT0SZq0tDQaIpWHSORUq6WUv5USvkTKeV8/74npZTv+J//Rko5UEo5SEo5Skp5sKWuHe/Pm1oWH499bwEMvAG+XEr3ziMwehPQ93uHnLNX8uaBTZwqa9kUmhoalxptPdjaaiTE+lIy2mPiKP38M8h+FNzV6D7+PYlXzMARf4QxnRz0tu5i/vv729haDY2Lmw7rSPpGRgBwrnN3Tp8owGPqASNmwld/o5fSGavSF6/tb0wtuob1x1fx8dfaDI6GxoXSYR3JoGgrQkrOdrmMszERlK96C3J+A5dlols1g7QrZqAYnPQe8ip3V3Xnkbfe4bTWxdHQuCA6rCOJNOi5XCc5E9uZMwmdKVmxAqkzwq0rIKIz0SsfZEDMPTjjjpKd+R43O0q5Y/mblNq1BFoaGudLh3UkABkxEZyNjqcqOo5TlaWU/fsNiLkMpr4PsT3psfp/6O+cgCvmGNlXvs09FWeZsvgVTmi5bzQ0zosO7UiGd+2Mw2SmuPdP+a5PL84sXIj77FmIuxzuXQe2W+i57W/YjnXDa66i5/AXeCpqH0+9sIhNh7VYHA2NcOnQjmRiQhx6JHt7JXPOZOK0WcepBx9CcbnAFAk3LIZfvEqXyhJGbDtBdHFfPMmruWvw37BvnEv+yy9T5dC6OhoaTdGhHUlXs5FxnaI51OMK3H0GsD+xByX79nJy5kyUmhrfIrWU6+FX2zDn/o6hpwoYtEOPvjgJY++NDEl8mh3vTOGdZU9QVHi8rW9HQ6PdIi62HC+DBw+W27dvD/v8rWVV/PyrI2Qe+4ZR2z+mk7OaKz/fRUxSH3r+7/9i7pP0w8leN3z9Lux+jaKCfezpnoKu20m8EedA0aGvSMSIjaSfjicheRhGs5aMXOPSQQixQ0o5OOSxju5IAGYeOMbK70u4Yfcmkr7eTrTi4cpDJ4iqqibhP/+T+LvuRGcy1S5UdQ4OvIXzmzVs+l5BiY/B3OkUnpgC0CkA6B2dsMgkomP7E9dtINHdBhIZ2Re93tJCd6uh0X645B1JqdvDuC+/obTKzs93b6LnqW/RF58hVW+h+9admK64gs6//CWxk69DZ7XWr8DjghNfsHf7W2w9eo5oYyfiIxQiI4uRMadwRxYidR7fuVJgdHfBrO+BxdwTa1QvIuISiYi7Aqu1F2ZzD3Q6Ywu8ExoaPy6XvCMB+Lqqhht2HsbrdDJq31YGVpzDfXAXCZ278tPCImL3f4M+Npa4m6YQ9/OfY05ObrCuyuoaPt36MZ8deJeqMg9dPYn00UfTzeLAHH0GXeRZZEQxHmsxHnMpiKD3WAqMdMZi6InF0gNzRDfM0d0wm7tiMidgNiVgMnXBaIxHiA49hKVxkaE5Ej/f2B3k7TnKsRon6ScOMaLwKJFnT6OcKiChazeSnArxn3+Jwe3B9JOfEDN+HFHXXINl4ECEP5q4LhUON+sOnGHN199w4PQGoikgVjET6ezMFTW9udzVhW5GSURUCabIYgwRxRBR5HMylhI85nKkvv7MkJB6jPpOmIxdMJm7Yo7oitnSFZPpB2djMiVgNieg10dc0PuhoXE+aI4kCLvHy9wjp/hHYQkxHhfpR/eTXvI9keVFuI5/i1mvp1dCd7qdKSZm9z4MHi+6qCgihgwhcvgwrBkZmPv1qz+mAiiKZP/pCjYePsf6QyfZe+4AiukYJvNJeuhcRLsiiK/uThf7ZVzh7ElXdzxWncBqdGK2VmK2lGCyliMslSjmSjzmcrymcjzmcjymMrzmitqtGz96EeFzONZumM0+J+NzNl0xmbtgNvlaPForR6M5aI4kBFtKK/mfo4XsqKgm2uNmwInD9D9znMvw4i08gTx3GoNeT/eE7nRxKcQePUbEd8fQAcJoxNy/P9a0VCypaVgG9MeUlITOUnuQ1enxsu9UOdsLStl+rJTtx7+n3HMCvaUQS+QZoiKKMHuqiayJIcbRhVhHAt3clxFXk0BETTRWofM5Gh1E6hSiDTVYzeXorXYwOfBa7HhM5Xj9jsZjLsdrLsVjrkAx1NejFegx62MxGztjMnXFbOmBOeJyzBG9MJu6YjZ3w2zuhsEQ1ez3V6PjoTmSBpBSsqGkkr+eOMeG0kqElPSuLCXp9Hf0KTtLVx1QVozz9HF0jmrMFgsJnRKIUyC6qJSIw0cxV1QiAHQ6jJf3wvyTvpj79sXc9yeYkpIwXX45uthYhBBIKfmuyM72Y6XsPlHG/tMVfF1YjksUozcXYoo4Q2xsEdJ0mhrPOaJcccQ4EohzJNDTm0QX92VEVsejqzSDIjAKsAqIMkCc1UOM0U2k8GCWEj0KXoMHj9mOx1yKx1yGx1KKx1yK13wOj7kEt6USxVA/UZhe0WGWFsxEYNbFYNbHYjJ0wmzyt24s3TFbe6GzxIEpCszRvgV+BnOLfC4a7RPNkYTBkWoHK78vZeWZUo47XAgp6eGoosfZU/QqOcvl1ZXEGgRUluH4/iSiugqhKFgiIukc14lYoSeyshrLmbOYj53A5Pxh3EMXHY3x8l6Yel3ue7z8coy9LsfY8zJEQle+q1LYd6qcfafL2X+qggOFFVS5atCZzmG0nCM+rgxrZDFe/fdUegvxKh6inPHEOhLo4e1NT28SnVzdsFTFICuMSO8P92Ux6OjSyUR8lJ5Ys0KkzovZ68HgVqBG4nZ58Jgq/M6mFI+lDI+5GK/lLB5zMR5zOW5zNVJX/3tidCmYA5tTweQGs2IKckLRmPQxCFO03+FE+R5rPY/0O6LA86BzjFbfokGNdoHmSM4DKSVfVVTzSUklG0oq2FlRjQJYpMIV5cV0KfqerpWldKkqI95swiIVlIpSnGdPQ1UFwv9+WiOjiI2OJcZoItLlxVxZhflcMaZTpzHUOAj+eehjYzF0746hezeM3Xtg6NaNsqh4jokIDrtNHHQY2V8FR0sdKFJBGEvRm8/SKa6MyKhiMJ6lSjmNQ6lCSEGkK454Zzd6y75081xOnKMrZns0styI9PxwXZ1eENPZQucuFjpFG4k2G4jQC0xSYnB5kZVuPOVOvJVOFIMdt7nU33UqwxNRijeyBI+1BI+pFI+hHLe+Eur87oUEk0eH2Q1mpxeTw43F4cbkUrA4fQ7I4vSiV0J8GEJXx/FENuyIjBE+x9PgY519eqPmpM4TzZE0gzK3h82lVWwoqWRDaQUn/TmD9Ui6ux10Li2mU+lZulaUEl9TRVxUJBEGPXq3C6WyDMeZQlylxQh+eJ+NZgvR0TFEma1ECj0RHg8Wew2mklKMZ4vQFxXX/T2CEOji41Fi4qiOiqXcHMUZQyQnpYXvPCaKTJGUW/WUxzhxd3YSEV+NyVKCV19Elfd7nEo1SEGkK4ZYR1cul324zNObOGdXLNWxUG5Eumtf1RxpIKazlZhOZuKiTcREGIg0CMyA0a0g7W685U68ZU6UKjdSeGu1brxRFXhjKvBGlOMxl+E2luAWxXiprPc+G3QRmHWxWEQUZhmBWTFhUgyY3TrMLul3Qk6EqxpcleCsApcdXFXgvoBobaFv2Mmc7z6Dxb+ZfY/GOq/1pg7htDRH0oKccbr5qqKaryqr+arCzlcV1VR6fX+nRinp6nEQV1VBVGkR8dWVdLJXEOOsISrCSoTZjFkn0LldyBo77rISas6dwVNdVctxCJ2OiKhorNYIrEYzVr0es1didnswOxwYK6owlpVjKCpGVNlD2uk0WSg3R1FqsFJptFJlMmG3CJyREk+MxBntwh5RTamlkhKTnSozeA1RmGQnEry9uEzpTWdPd6Ic8RirI6HSgPTU/jGYLHqiOlmIircQFWciLsJIpFlHhC7QqlFQKl14K10oFU68lS5QQNG5/N2oUt8UeEw53qhyPNZSPKYSXPoiPKIMqPvd1PlmpMwJmE3d/Otu/FPiuhhMumjMIhKTtKDzusFd49+qG3g8n312kKGaTeEgajuWhhyOwQwGayPnnc+5ASdmBl3LzNRpjqQVUaTk22onX1VWc6Cqhm/sDr6xOzjt/GEQ04yku8dJ55oqostLsZQVE1dTRUxNNXqpYDAYiI6MwGoyYdYJDNKLzuVEsVfhriilprSE6opyCPFZmSOjiIyKxmq1+pyO0GH2SkxuN+ZqB3p7NbK8CsrK0VVWoq+uQqc0/IPwCEG1xUC1VYfdIqmyeKm0KFRZoNoSjdPSBUxdMZt7YDF0xyg6Y/DEIBwWFIe+Xn3WaCORcWbfFmsiOsJIpElHhF5gFmD0SITD43M4Fb5NsbuRIjB2U+YfKC5Dia7AG1npG8cxluHWlzTgcMBojPdPg/scjcncBZOxs3/9je/RaOqMydg5vJXGUvpisUI5GY8DPE7/Y+B5TdA+/6PbEeJcR+3z3HXL1TTDgfnRm+s7obrO6fZ/ga7+5xdMY44k9CorjbDRCUFypIXkyNpTv+VuD4eqnRy0+5zLwSoHB+1RFEV3gV6+VbM6IEFIunhdRDtqsFZXYigrxVJVQbRTEunRobd2IqJzL+Li4oiOiiTCaMIgJDqvB5wOvDXVuCvKqKko42xpCfayErzuOjMxJqCrBUPPGCzR0VgiIjGbLZiMJvTo8HolHqeC1+HGW+NEsTsQVdXoq2uwltrp4qom2l1NpLsSvawAQqfw8OqMVEbEURHVCXtkPM6IBNz2TlSXxFFpiMMjovFSPwRBpwNrpI7IgNPpHUVUpJkokx6zkERKMHgUdC4vstyDcsLfyql2I/HgMVXiNZfhMfm6UB5rBUpkBV5rJQ5zEVWGw7h1ZUgRWhLCYIhTnYvv0edgAo7GaIzHaIrHZIzHaIlHWOPO81vSTLzuJhxOuE6pgfNqynzjUc1Aa5H8yJS5PRytcXK02qk+FtS4OOV0cc7lqXWuAOJRiPO6iXLWEGGvxFheSqSjmihHNdHOGkweNwKwWq1ER0cTHR2N1WLBbDBgFBIDEp3Xi3Q5kS4Hnmo7TnsVjqoqaiorcNircFRW4PV4QtoLoDMY0VsjkSYrXr0Zj9Tj9gpcHonLqeB2eTFIJyalBovXgcVbQ6Snmiivk0i3C6vbjdXpweoEs0uP1xiD0xyL0xSH0xyLyxSL0xxXa5/XECLmCdBLN2bhwqx3YzF6iTIJIs16IswGLEYjZqMBo96IQWdAKDqkSyBrFLw1HqTO4XM6pnI85gq8pgrfmpuIKrzWSt9rYzkefTleXUOJ0wQGQywmU7zPwRg7+R/jgh7jMBqC98Wi09VfwHixoXVtLhIcXoXTTjenHC5OOl2cdLg45XBzKui5q87nZUXSxe9sop01mGuqMdorMVSWY3HUEOFyEOFyovM3/4UQWK1WIiMjiYiIIDIy0tctspgx6vUYAL2UCMUDbhfS6VAdj6OqEoe90ve8soKaqsr6rZ8gJAJFb8SjM+IURhxCj0sHXr1ECg8ID0K40QsXeuHGIJ3opRO94sHo0WFWLJi9EZi8URhlNAZiMIhYhIhG0UXj0UfiNkTjNkaF/EcV0ovRVYXJXYnRVUmE4sCqk1j1AotBh9loxGQyYTSaMBgs6AxmdDozCDNSCDymKrzGSrzqY2CrwmupxGuuRDHa8Rqr8OgrkaLh90Kvj2zAycRhMMZiMERjNMRgqLdFtZvVyJoj6SAoUlLs9nAi4GAcLr+T+cH5lLi99coJIFZADApRiherx43V7cTkdGB0VGOorkJUVWJ1u7C4nVjcLvRB3wuz2aw6noDzCTyazSYMgFAUhNeNdLnwOh14aqpxORy4HdW4amrUrbq6mhq7HVdNDW5nDV6nAzwN/wBr3T/g0YNbD26Dgseo4DJ48OoUEDp00oBemjBIMwbFjEmJwkQ0JnxOSCejkESBiAJhAvSIOrMpQnoxeqoxuu1YPNVYpQur9GCWCmYhMeoEJp0Og96IwWBEb7CgD4w3WA0oZgdeY9UPm8n3qBjteAyVKAGHZLTjNdl9K5BDhD2oSIFeWDHoojDoo33OxRiD0RiLwRyH0RTne606ntig19Ho9ZEt5oi0MZIOgk4IEkxGEkxGMhvQVHIpCmddHs463ZxxuTnj8nDG6easy02J20ux20Oxy8NRt4dST32nEyBSQAySKOkl0uvB4nZhdjkwOmowltgRxwsxu5xY/Y7H6PXUmnkyGAxYrVYsFgtWaxSW6C5YrVY6WyxB+32PJpMJvQCdlAivAoobj9OJvcpOSXklZWWVVFXZsdvt1NhrcNb4nJPHWYPF5UDW1CA8TvReF0bFjUHWADVAGeBzQKFGRxQh8egFik6g6PRInR4pjOiEGZ3Jgt5kxYAVvbQiFAsCEwIDCCMII0IYwasHBYTLi94hseqNROjjiRAxmIUXs/RikgpGqWBBYpASPQI9OvQ6I0KnR5olMkJBMVSjGKrxGv2PhmoUY9CjrhKXoZwaw2kUYw1eowNpakIKVAGdx4jebUTnMaFXzL5NWtATgUFEoNdF8NPrn0ffjJXJmiPpYJh0OnpZTPSyNN0n9yiSUo9HdS4BR1OivvYfc3s44/ZS7PLgign972kEYnUQjUKUomBWPJg9HgxuF0a3E4PTga7cgfi+GJ3DgdnjxuR1Y/a4MXrc9TQ/jUYjZrMZi8WC2WzGbDYTFd2FLkGv6x43mUxInYFql0JltYuqaicVVdVUVlZRWVWFvcrXGqqursLpKMftqMLrtoOnBp3HgdHrxqh4MHkdGJVS8CrovBIhw18DUg0UgW+dijCCMCAwIjD5nA8GEAb/fv9zDAhhwKS3YDFasBgiMRs7YdEbMemNmHUGTEKPSafDiA4DOgwI9FKHDgWpc6IYHUiDQ3VCtRyS0f7Da301TqMdxXAWxViDYnCCFPxUNj5j0xSaI7mEMeh+aOEQ2fT5UkrsXkV1PAEnU9cBlbq9VHi9nPJ4qfB4sXubnr6MEBCJxIrEKhWsim8pv8njxuh3RnqnA31RBTpHDTpHDWaPG4PXg9Hrwej1quNAweh0OtXJRJrNxMeYMCfE+iUYfPvNZjNGoxGhN6IIHR70uKQOp6LD4RXUuBWqHW6qHE4qaqqorC6juqYCl7MSt8uO121H8Th8DkkJtIrcGKQHo+LCoHgxKAomBYwegUERGLwCvSLQe0GnSHQSPPgc0fmjB2FAJ8yYdFaMuggMOgsmgxWTvgsm/eWYDGZMBgsmvRmj3oRRZ8SoM2IQOnR6D8rVCs1xJZoj0QgbIQRRBj1RBj29reE3gz2KpMLrpdLjpdzvXCr8z2vvU9RjFR4vhUHHw1lJYQLMwjcAbUJilhKT4sUkvRi8XoxeD3qPB73bhd7jRlfpRLgqEU4nBo/bd47iUc9VHZRU1G6bEUjQ6zGZTJjMJkzRXTAYumM0GjEajRgMBtAZkDodUuhR0ONFhwcdHkXgkgKnF6q9biq8LuweJ9WKkxqvA4enCoe7Grdix+OuQVGqEYoTAy4MODFIDwbFjVmRmBSBySsweXWYPAKD14vB68TodaP3VmLwCnSKQO+R6BSfsxJSQScV37oUWbsr+gDjaY5un+ZINFodg07QSWegk/HCvm5SSqq9CuUhnI/dq1DtVXyPiv/R+8P+Gv+xMvUc3zHvecwx6PA5JzNgRsEkFUyKglHxYvJ6MSgejB4Peq8Hg8eN3uNGX+NC53YhXE70bjdGrweD8oODMni9RCjeBhqCVsCKEJ39zsmI3mBApzeg0+tBZ/AtvhEGFCHwAG4U3FLBhReH9OCSHpyKGycenNKFU7pwSRdOnDhx4ZI1eHCB4sCoSB7SN88VaI5Eo90jhCDSoCfSoOeyFqhPSonL301TnZBXwe71Uu1/Xm+/ooQ8317n/LrT843eFz4ZCIvwtaaMSIyAUSoYpcQgFQyKgkHxold8rSqd14vO60Hncfse3W7wuP2PXoTb7TtX8WJWIFIR6BUDBq8OvWL0DRy3wHtYF82RaFxyCCEwC4FZp6NTC+twuxVJdYOOx9daCt4XeO5QApvEqSg4vL7H8uB9ioJTkTiV5i3ZMAEmASYkRunrBs5tZjyO5kg0NFoQo04QqzMQ24rXUKTPmTiCnEuNVznvfc4gJ6VvZnSy5kg0NC4ydEJg1Qus+vax4hU6eMpODQ2NH4dWdSRCiAlCiG+EEEeEEHNCHDcLIV73H/9CCJHYmvZoaGi0Dq3mSIQQeuD/gJ8BKcBtQoiUOqf9EiiVUvYFFgJPt5Y9GhoarUdrtkiGAkeklEellC7gNeD6OudcDyz3P38DyBV1o6g0NDTaPa3pSHoCJ4Jen/TvC3mOlNIDlAOd61YkhLhPCLFdCLH93LlzrWSuhobGhXJRDLZKKV+UUg6WUg5OSEhoa3M0NDTq0JqO5BRwedDrXv59Ic8RQhiAWKC4FW3S0NBoBVrTkXwJJAshkoQQJuBW4J0657wD5Pmf3wR8Ii82pSUNDY3WVUgTQkwE/gTogaVSyvlCiP8Ctksp3xFCWIC/ARlACXCrlDK0svAPdZ4DjoVx+S74pSE6ANq9tE8utXvpLaUMObZw0UkthosQYntDsnAXG9q9tE+0e/mBi2KwVUNDo32jORINDY1m05EdyYttbUALot1L+0S7Fz8ddoxEQ0Pjx6Mjt0g0NDR+JDRHoqGh0Ww6pCNpSr6gvSOEKBBC7BVC7BJCbPfv6ySE+EgIcdj/GN/WdoZCCLFUCHFWCLEvaF9I24WP5/2f0x4hRGbbWV6fBu5lnhDilP+z2eVfKxU49hv/vXwjhBjfNlaHRghxuRBivRDigBBivxDiQf/+lvlspJQdasO3+O1boA8+ecrdQEpb23We91AAdKmz74/AHP/zOcDTbW1nA7ZfDWQC+5qyHZgIfIBPB3kY8EVb2x/GvcwDHg1xbor/u2YGkvzfQX1b30OQfT2ATP/zaOCQ3+YW+Ww6YoskHPmCi5FgyYXlwM/bzpSGkVJuxLdKOZiGbL8eeFX62ArECSF6/CiGhkED99IQ1wOvSSmdUsrvgCP4vovtAilloZRyp/95JfA1vuj7FvlsOqIjCUe+oL0jgbVCiB1CiPv8+7pJKQv9z78HurWNaRdEQ7ZfrJ/Vr/zN/aVBXcyL5l78SoQZwBe00GfTER1JR+AqKWUmPnW5/xRCXB18UPranhflvP3FbLufF4CfAOlAIbCgTa05T4QQUcBK4CEpZUXwseZ8Nh3RkYQjX9CukVKe8j+eBVbhayKfCTQt/Y9n287C86Yh2y+6z0pKeUZK6ZVSKsBL/NB9aff3IoQw4nMiK6SUb/p3t8hn0xEdSTjyBe0WIUSkECI68BwYB+yjtuRCHvB221h4QTRk+zvA3f4ZgmFAeVAzu11SZ5zgBnyfDfju5Va/oHkSkAxs+7Htawi/hOkS4Gsp5XNBh1rms2nr0eRWGqGeiG9U+lvgt21tz3na3gff6P9uYH/AfnwSlB8Dh4F1QKe2trUB+/+Jr8nvxtev/mVDtuObEfg//+e0Fxjc1vaHcS9/89u6x/9j6xF0/m/99/IN8LO2tr/OvVyFr9uyB9jl3ya21GejLZHX0NBoNh2xa6OhofEjozkSDQ2NZqM5Eg0NjWajORINDY1mozkSDQ2NZqM5Eo0LQgjhDYqA3dWSUdZCiMTgiFuN9o+hrQ3QuGipkVKmt7URGu0DrUWi0aL4tVT+6NdT2SaE6OvfnyiE+MQf7PaxEOIK//5uQohVQojd/m2Evyq9EOIlv3bGWiGEtc1uSqNJNEeicaFY63Rtbgk6Vi6lTAP+jC9BGsAiYLmU0gasAJ73738e+FRKOQif9sd+//5k4P+klAOBMmBKq96NRrPQVrZqXBBCiCopZVSI/QXAaCnlUX+Q2PdSys5CiCJ8y8nd/v2FUsouwpc5sZeU0hlURyLwkZQy2f/614BRSvn7H+HWNC4ArUWi0RrIBp6fD86g51608bx2jeZINFqDW4IeP/c//wxfJDbAHcAm//OPgfsBhBB6IUTsj2WkRsuheXmNC8UqhNgV9PpDKWVgCjheCLEHX6viNv++mcArQojHgHPAPf79DwIvCiF+ia/lcT++iFuNiwhtjESjRfGPkQyWUjaV2V6jA6F1bTQ0NJqN1iLR0NBoNlqLRENDo9lojkRDQ6PZaI5EQ0Oj2WiORENDo9lojkRDQ6PZ/H+raNJwyblegwAAAABJRU5ErkJggg==\n",
      "text/plain": [
       "<Figure size 288x288 with 1 Axes>"
      ]
     },
     "metadata": {
      "needs_background": "light"
     },
     "output_type": "display_data"
    }
   ],
   "source": [
    "qs = [100, 200, 300, 500, 700]\n",
    "plt.figure(figsize = (4,4))\n",
    "\n",
    "for q,(i,j) in zip(qs,losses[:5]) : \n",
    "    plt.plot(i, label = f'w/o pretrain ({q} neurons)')\n",
    "    plt.plot(j, label = f'with pretrain ({q} neurons)')\n",
    "plt.ylabel('Cross Entropy')\n",
    "plt.legend(frameon = False)\n",
    "plt.xlabel('Epoch')\n",
    "plt.savefig('figures/losses_per_neurons_0hl.png', dpi=600)"
   ]
  },
  {
   "cell_type": "code",
   "execution_count": 10,
<<<<<<< Updated upstream
   "id": "a64b8f99",
=======
   "id": "d4aeb0d1",
>>>>>>> Stashed changes
   "metadata": {},
   "outputs": [
    {
     "data": {
      "image/png": "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\n",
      "text/plain": [
       "<Figure size 288x288 with 1 Axes>"
      ]
     },
     "metadata": {
      "needs_background": "light"
     },
     "output_type": "display_data"
    }
   ],
   "source": [
    "qs = [100, 200, 300, 500, 700]\n",
    "plt.figure(figsize = (4,4))\n",
    "\n",
    "for q,(i,j) in zip(qs,losses[5:]) : \n",
    "    plt.plot(i, label = f'w/o pretrain ({q} neurons)')\n",
    "    plt.plot(j, label = f'with pretrain ({q} neurons)')\n",
    "plt.ylabel('Cross Entropy')\n",
    "plt.xlabel('Epoch')\n",
    "plt.savefig('figures/losses_per_neurons_2hl.png', dpi=600)"
   ]
  },
  {
   "cell_type": "code",
   "execution_count": 13,
<<<<<<< Updated upstream
   "id": "e8e9a546",
=======
   "id": "f30725b1",
>>>>>>> Stashed changes
   "metadata": {},
   "outputs": [
    {
     "data": {
      "image/png": "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\n",
      "text/plain": [
       "<Figure size 288x288 with 1 Axes>"
      ]
     },
     "metadata": {
      "needs_background": "light"
     },
     "output_type": "display_data"
    }
   ],
   "source": [
    "qs = [100, 200, 300, 500, 700]\n",
    "plt.figure(figsize = (4,4))\n",
    "plt.plot(qs, [i[0] for i in accuracies_test[:5]],label = f'w/o pretrain', c = 'blue', alpha = 0.6)\n",
    "plt.plot(qs, [i[1] for i in accuracies_test[:5]], label = f'with pretrain', c = 'green', alpha = 0.6)\n",
    "\n",
    "plt.ylabel('Accuracy (Test)')\n",
    "plt.legend(frameon = False)\n",
    "plt.xlabel('Number of Neurons')\n",
    "plt.savefig('figures/accuracies_test_per_neurons_0hl', dpi = 600)"
   ]
  },
  {
   "cell_type": "code",
   "execution_count": 14,
<<<<<<< Updated upstream
   "id": "4f45793e",
=======
   "id": "bd7f7f0b",
>>>>>>> Stashed changes
   "metadata": {},
   "outputs": [
    {
     "data": {
      "image/png": "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\n",
      "text/plain": [
       "<Figure size 288x288 with 1 Axes>"
      ]
     },
     "metadata": {
      "needs_background": "light"
     },
     "output_type": "display_data"
    }
   ],
   "source": [
    "qs = [100, 200, 300, 500, 700]\n",
    "plt.figure(figsize = (4,4))\n",
    "plt.plot(qs, [i[0] for i in accuracies_test[5:]],label = f'w/o pretrain', c = 'blue', alpha = 0.6)\n",
    "plt.plot(qs, [i[1] for i in accuracies_test[5:]], label = f'with pretrain', c = 'green', alpha = 0.6)\n",
    "\n",
    "plt.ylabel('Accuracy (Test)')\n",
    "#plt.legend(frameon = False)\n",
    "plt.xlabel('Number of Neurons')\n",
    "plt.savefig('figures/accuracies_test_per_neurons_2hl', dpi = 600)"
   ]
  },
  {
   "cell_type": "markdown",
<<<<<<< Updated upstream
   "id": "7e91f909",
=======
   "id": "d1fc26a4",
>>>>>>> Stashed changes
   "metadata": {},
   "source": [
    "### Expérience 3"
   ]
  },
  {
   "cell_type": "markdown",
<<<<<<< Updated upstream
   "id": "3fc9f629",
=======
   "id": "214327de",
>>>>>>> Stashed changes
   "metadata": {},
   "source": [
    "Dans cette expérience, on fixe le nombre de couches à $2$ (ou $4$) avec $200$ neuronnes (ou $500$) et on fait varier le nombre de données d'entrainement."
   ]
  },
  {
   "cell_type": "code",
   "execution_count": 15,
<<<<<<< Updated upstream
   "id": "bb33be0e",
=======
   "id": "b8d87722",
>>>>>>> Stashed changes
   "metadata": {
    "scrolled": true
   },
   "outputs": [
    {
     "name": "stdout",
     "output_type": "stream",
     "text": [
      "DNN 0 layers with 200 neurons trained on 1000 images\n"
     ]
    },
    {
     "name": "stderr",
     "output_type": "stream",
     "text": [
      "Epoch 200 | loss : 0.060 | accuracy  1.00: 100%|█| 200/200 [00:03<00:00, 57.46it\n",
      "EPOCH 99 - Reconstruction Error: 9.3554: 100%|█| 100/100 [00:01<00:00, 51.04it/s\n",
      "Epoch 200 | loss : 0.052 | accuracy  1.00: 100%|█| 200/200 [00:03<00:00, 63.15it\n"
     ]
    },
    {
     "name": "stdout",
     "output_type": "stream",
     "text": [
      "DNN 0 layers with 500 neurons trained on 1000 images\n"
     ]
    },
    {
     "name": "stderr",
     "output_type": "stream",
     "text": [
      "Epoch 200 | loss : 0.054 | accuracy  1.00: 100%|█| 200/200 [00:02<00:00, 68.74it\n",
      "EPOCH 99 - Reconstruction Error: 3.7521: 100%|█| 100/100 [00:02<00:00, 46.87it/s\n",
      "Epoch 200 | loss : 0.028 | accuracy  1.00: 100%|█| 200/200 [00:03<00:00, 60.43it\n"
     ]
    },
    {
     "name": "stdout",
     "output_type": "stream",
     "text": [
      "DNN 2 layers with 200 neurons trained on 1000 images\n"
     ]
    },
    {
     "name": "stderr",
     "output_type": "stream",
     "text": [
      "Epoch 200 | loss : 3.052 | accuracy  0.10: 100%|█| 200/200 [00:05<00:00, 35.23it\n",
      "EPOCH 99 - Reconstruction Error: 9.3532: 100%|█| 100/100 [00:02<00:00, 47.82it/s\n",
      "EPOCH 99 - Reconstruction Error: 2.5163: 100%|█| 100/100 [00:01<00:00, 59.04it/s\n",
      "EPOCH 99 - Reconstruction Error: 1.0146: 100%|█| 100/100 [00:01<00:00, 54.02it/s\n",
      "Epoch 200 | loss : 0.049 | accuracy  1.00: 100%|█| 200/200 [00:04<00:00, 40.63it\n"
     ]
    },
    {
     "name": "stdout",
     "output_type": "stream",
     "text": [
      "DNN 2 layers with 500 neurons trained on 1000 images\n"
     ]
    },
    {
     "name": "stderr",
     "output_type": "stream",
     "text": [
      "Epoch 200 | loss : 10.993 | accuracy  0.12: 100%|█| 200/200 [00:05<00:00, 39.04i\n",
      "EPOCH 99 - Reconstruction Error: 3.7262: 100%|█| 100/100 [00:01<00:00, 50.07it/s\n",
      "EPOCH 99 - Reconstruction Error: 1.7994: 100%|█| 100/100 [00:01<00:00, 51.61it/s\n",
      "EPOCH 99 - Reconstruction Error: 0.8648: 100%|█| 100/100 [00:01<00:00, 55.33it/s\n",
      "Epoch 200 | loss : 0.020 | accuracy  1.00: 100%|█| 200/200 [00:04<00:00, 40.92it\n"
     ]
    },
    {
     "name": "stdout",
     "output_type": "stream",
     "text": [
      "DNN 0 layers with 200 neurons trained on 3000 images\n"
     ]
    },
    {
     "name": "stderr",
     "output_type": "stream",
     "text": [
      "Epoch 200 | loss : 0.038 | accuracy  1.00: 100%|█| 200/200 [00:07<00:00, 26.69it\n",
      "EPOCH 99 - Reconstruction Error: 7.0114: 100%|█| 100/100 [00:05<00:00, 19.65it/s\n",
      "Epoch 200 | loss : 0.036 | accuracy  1.00: 100%|█| 200/200 [00:07<00:00, 25.36it\n"
     ]
    },
    {
     "name": "stdout",
     "output_type": "stream",
     "text": [
      "DNN 0 layers with 500 neurons trained on 3000 images\n"
     ]
    },
    {
     "name": "stderr",
     "output_type": "stream",
     "text": [
      "Epoch 200 | loss : 0.040 | accuracy  1.00: 100%|█| 200/200 [00:07<00:00, 25.70it\n",
      "EPOCH 99 - Reconstruction Error: 1.4131: 100%|█| 100/100 [00:05<00:00, 18.43it/s\n",
      "Epoch 200 | loss : 0.017 | accuracy  1.00: 100%|█| 200/200 [00:07<00:00, 25.18it\n"
     ]
    },
    {
     "name": "stdout",
     "output_type": "stream",
     "text": [
      "DNN 2 layers with 200 neurons trained on 3000 images\n"
     ]
    },
    {
     "name": "stderr",
     "output_type": "stream",
     "text": [
      "Epoch 200 | loss : 3.195 | accuracy  0.09: 100%|█| 200/200 [00:12<00:00, 15.84it\n",
      "EPOCH 99 - Reconstruction Error: 6.9749: 100%|█| 100/100 [00:05<00:00, 19.35it/s\n",
      "EPOCH 99 - Reconstruction Error: 2.2709: 100%|█| 100/100 [00:05<00:00, 19.61it/s\n",
      "EPOCH 99 - Reconstruction Error: 1.3624: 100%|█| 100/100 [00:05<00:00, 19.62it/s\n",
      "Epoch 200 | loss : 0.019 | accuracy  1.00: 100%|█| 200/200 [00:12<00:00, 15.87it\n"
     ]
    },
    {
     "name": "stdout",
     "output_type": "stream",
     "text": [
      "DNN 2 layers with 500 neurons trained on 3000 images\n"
     ]
    },
    {
     "name": "stderr",
     "output_type": "stream",
     "text": [
      "Epoch 200 | loss : 11.953 | accuracy  0.10: 100%|█| 200/200 [00:13<00:00, 14.55i\n",
      "EPOCH 99 - Reconstruction Error: 1.4043: 100%|█| 100/100 [00:05<00:00, 18.99it/s\n",
      "EPOCH 99 - Reconstruction Error: 2.3569: 100%|█| 100/100 [00:05<00:00, 19.83it/s\n",
      "EPOCH 99 - Reconstruction Error: 1.4339: 100%|█| 100/100 [00:04<00:00, 21.43it/s\n",
      "Epoch 200 | loss : 0.009 | accuracy  1.00: 100%|█| 200/200 [00:14<00:00, 13.80it\n"
     ]
    },
    {
     "name": "stdout",
     "output_type": "stream",
     "text": [
      "DNN 0 layers with 200 neurons trained on 7000 images\n"
     ]
    },
    {
     "name": "stderr",
     "output_type": "stream",
     "text": [
      "Epoch 200 | loss : 0.025 | accuracy  1.00: 100%|█| 200/200 [00:17<00:00, 11.52it\n",
      "EPOCH 99 - Reconstruction Error: 6.1379: 100%|█| 100/100 [00:11<00:00,  8.66it/s\n",
      "Epoch 200 | loss : 0.028 | accuracy  1.00: 100%|█| 200/200 [00:17<00:00, 11.20it\n"
     ]
    },
    {
     "name": "stdout",
     "output_type": "stream",
     "text": [
      "DNN 0 layers with 500 neurons trained on 7000 images\n"
     ]
    },
    {
     "name": "stderr",
     "output_type": "stream",
     "text": [
      "Epoch 200 | loss : 0.030 | accuracy  1.00: 100%|█| 200/200 [00:18<00:00, 10.80it\n",
      "EPOCH 99 - Reconstruction Error: 0.6313: 100%|█| 100/100 [00:11<00:00,  8.93it/s\n",
      "Epoch 200 | loss : 0.011 | accuracy  1.00: 100%|█| 200/200 [00:15<00:00, 12.50it\n"
     ]
    },
    {
     "name": "stdout",
     "output_type": "stream",
     "text": [
      "DNN 2 layers with 200 neurons trained on 7000 images\n"
     ]
    },
    {
     "name": "stderr",
     "output_type": "stream",
     "text": [
      "Epoch 200 | loss : 3.033 | accuracy  0.11: 100%|█| 200/200 [00:27<00:00,  7.39it\n",
      "EPOCH 99 - Reconstruction Error: 6.1479: 100%|█| 100/100 [00:10<00:00,  9.35it/s\n",
      "EPOCH 99 - Reconstruction Error: 2.1314: 100%|█| 100/100 [00:09<00:00, 10.65it/s\n",
      "EPOCH 99 - Reconstruction Error: 1.4739: 100%|█| 100/100 [00:09<00:00, 10.99it/s\n",
      "Epoch 200 | loss : 0.009 | accuracy  1.00: 100%|█| 200/200 [00:24<00:00,  8.25it\n"
     ]
    },
    {
     "name": "stdout",
     "output_type": "stream",
     "text": [
      "DNN 2 layers with 500 neurons trained on 7000 images\n"
     ]
    },
    {
     "name": "stderr",
     "output_type": "stream",
     "text": [
      "Epoch 200 | loss : 11.369 | accuracy  0.11: 100%|█| 200/200 [00:27<00:00,  7.22i\n",
      "EPOCH 99 - Reconstruction Error: 0.6277: 100%|█| 100/100 [00:11<00:00,  8.51it/s\n",
      "EPOCH 99 - Reconstruction Error: 2.8810: 100%|█| 100/100 [00:10<00:00,  9.27it/s\n",
      "EPOCH 99 - Reconstruction Error: 2.3088: 100%|█| 100/100 [00:10<00:00,  9.55it/s\n",
      "Epoch 200 | loss : 0.005 | accuracy  1.00: 100%|█| 200/200 [00:29<00:00,  6.73it\n"
     ]
    },
    {
     "name": "stdout",
     "output_type": "stream",
     "text": [
      "DNN 0 layers with 200 neurons trained on 10000 images\n"
     ]
    },
    {
     "name": "stderr",
     "output_type": "stream",
     "text": [
      "Epoch 200 | loss : 0.236 | accuracy  0.94: 100%|█| 200/200 [00:04<00:00, 45.51it\n",
      "EPOCH 99 - Reconstruction Error: 14.2054: 100%|█| 100/100 [00:04<00:00, 24.07it/\n",
      "Epoch 200 | loss : 0.178 | accuracy  0.95: 100%|█| 200/200 [00:04<00:00, 43.60it\n"
     ]
    },
    {
     "name": "stdout",
     "output_type": "stream",
     "text": [
      "DNN 0 layers with 500 neurons trained on 10000 images\n"
     ]
    },
    {
     "name": "stderr",
     "output_type": "stream",
     "text": [
      "Epoch 200 | loss : 0.244 | accuracy  0.93: 100%|█| 200/200 [00:06<00:00, 29.17it\n",
      "EPOCH 99 - Reconstruction Error: 8.1165: 100%|█| 100/100 [00:06<00:00, 15.17it/s\n",
      "Epoch 200 | loss : 0.152 | accuracy  0.96: 100%|█| 200/200 [00:06<00:00, 29.20it\n"
     ]
    },
    {
     "name": "stdout",
     "output_type": "stream",
     "text": [
      "DNN 2 layers with 200 neurons trained on 10000 images\n"
     ]
    },
    {
     "name": "stderr",
     "output_type": "stream",
     "text": [
      "Epoch 200 | loss : 2.304 | accuracy  0.11: 100%|█| 200/200 [00:07<00:00, 26.85it\n",
      "EPOCH 99 - Reconstruction Error: 14.2203: 100%|█| 100/100 [00:04<00:00, 22.12it/\n",
      "EPOCH 99 - Reconstruction Error: 2.6425: 100%|█| 100/100 [00:02<00:00, 37.29it/s\n",
      "EPOCH 99 - Reconstruction Error: 1.1625: 100%|█| 100/100 [00:02<00:00, 45.51it/s\n",
      "Epoch 200 | loss : 0.155 | accuracy  0.96: 100%|█| 200/200 [00:08<00:00, 23.85it\n"
     ]
    },
    {
     "name": "stdout",
     "output_type": "stream",
     "text": [
      "DNN 2 layers with 500 neurons trained on 10000 images\n"
     ]
    },
    {
     "name": "stderr",
     "output_type": "stream",
     "text": [
      "Epoch 200 | loss : 9.520 | accuracy  0.10: 100%|█| 200/200 [00:15<00:00, 12.50it\n",
      "EPOCH 99 - Reconstruction Error: 8.1232: 100%|█| 100/100 [00:06<00:00, 14.71it/s\n",
      "EPOCH 99 - Reconstruction Error: 2.3692: 100%|█| 100/100 [00:06<00:00, 16.45it/s\n",
      "EPOCH 99 - Reconstruction Error: 1.2457: 100%|█| 100/100 [00:06<00:00, 16.22it/s\n",
      "Epoch 200 | loss : 0.116 | accuracy  0.97: 100%|█| 200/200 [00:17<00:00, 11.24it\n"
     ]
    },
    {
     "name": "stdout",
     "output_type": "stream",
     "text": [
      "DNN 0 layers with 200 neurons trained on 30000 images\n"
     ]
    },
    {
     "name": "stderr",
     "output_type": "stream",
     "text": [
      "Epoch 200 | loss : 0.162 | accuracy  0.95: 100%|█| 200/200 [00:14<00:00, 13.64it\n",
      "EPOCH 99 - Reconstruction Error: 9.7860: 100%|█| 100/100 [00:13<00:00,  7.20it/s\n",
      "Epoch 200 | loss : 0.155 | accuracy  0.96: 100%|█| 200/200 [00:15<00:00, 12.69it\n"
     ]
    },
    {
     "name": "stdout",
     "output_type": "stream",
     "text": [
      "DNN 0 layers with 500 neurons trained on 30000 images\n"
     ]
    },
    {
     "name": "stderr",
     "output_type": "stream",
     "text": [
      "Epoch 200 | loss : 0.195 | accuracy  0.95: 100%|█| 200/200 [00:21<00:00,  9.50it\n",
      "EPOCH 99 - Reconstruction Error: 3.7370: 100%|█| 100/100 [00:19<00:00,  5.03it/s\n",
      "Epoch 200 | loss : 0.107 | accuracy  0.97: 100%|█| 200/200 [00:19<00:00, 10.09it\n"
     ]
    },
    {
     "name": "stdout",
     "output_type": "stream",
     "text": [
      "DNN 2 layers with 200 neurons trained on 30000 images\n"
     ]
    },
    {
     "name": "stderr",
     "output_type": "stream",
     "text": [
      "Epoch 200 | loss : 2.324 | accuracy  0.10: 100%|█| 200/200 [00:22<00:00,  8.82it\n",
      "EPOCH 99 - Reconstruction Error: 9.7820: 100%|█| 100/100 [00:12<00:00,  8.03it/s\n",
      "EPOCH 99 - Reconstruction Error: 2.5582: 100%|█| 100/100 [00:07<00:00, 14.11it/s\n",
      "EPOCH 99 - Reconstruction Error: 1.4307: 100%|█| 100/100 [00:07<00:00, 13.64it/s\n",
      "Epoch 200 | loss : 0.104 | accuracy  0.97: 100%|█| 200/200 [00:23<00:00,  8.59it\n"
     ]
    },
    {
     "name": "stdout",
     "output_type": "stream",
     "text": [
      "DNN 2 layers with 500 neurons trained on 30000 images\n"
     ]
    },
    {
     "name": "stderr",
     "output_type": "stream",
     "text": [
      "Epoch 200 | loss : 9.719 | accuracy  0.10: 100%|█| 200/200 [00:43<00:00,  4.58it\n",
      "EPOCH 99 - Reconstruction Error: 3.7494: 100%|█| 100/100 [00:20<00:00,  4.94it/s\n",
      "EPOCH 99 - Reconstruction Error: 2.9421: 100%|█| 100/100 [00:16<00:00,  5.89it/s\n",
      "EPOCH 99 - Reconstruction Error: 2.1307: 100%|█| 100/100 [00:17<00:00,  5.68it/s\n",
      "Epoch 200 | loss : 0.066 | accuracy  0.98: 100%|█| 200/200 [00:47<00:00,  4.22it\n"
     ]
    },
    {
     "name": "stdout",
     "output_type": "stream",
     "text": [
      "DNN 0 layers with 200 neurons trained on 60000 images\n"
     ]
    },
    {
     "name": "stderr",
     "output_type": "stream",
     "text": [
      "Epoch 200 | loss : 0.105 | accuracy  0.97: 100%|█| 200/200 [00:30<00:00,  6.50it\n",
      "EPOCH 99 - Reconstruction Error: 8.0537: 100%|█| 100/100 [00:24<00:00,  4.03it/s\n",
      "Epoch 200 | loss : 0.135 | accuracy  0.96: 100%|█| 200/200 [00:28<00:00,  7.11it\n"
     ]
    },
    {
     "name": "stdout",
     "output_type": "stream",
     "text": [
      "DNN 0 layers with 500 neurons trained on 60000 images\n"
     ]
    },
    {
     "name": "stderr",
     "output_type": "stream",
     "text": [
      "Epoch 200 | loss : 0.127 | accuracy  0.96: 100%|█| 200/200 [00:40<00:00,  4.89it\n",
      "EPOCH 99 - Reconstruction Error: 2.1406: 100%|█| 100/100 [00:41<00:00,  2.40it/s\n",
      "Epoch 200 | loss : 0.086 | accuracy  0.98: 100%|█| 200/200 [00:42<00:00,  4.66it\n"
     ]
    },
    {
     "name": "stdout",
     "output_type": "stream",
     "text": [
      "DNN 2 layers with 200 neurons trained on 60000 images\n"
     ]
    },
    {
     "name": "stderr",
     "output_type": "stream",
     "text": [
      "Epoch 200 | loss : 2.408 | accuracy  0.10: 100%|█| 200/200 [00:46<00:00,  4.31it\n",
      "EPOCH 99 - Reconstruction Error: 8.0665: 100%|█| 100/100 [00:25<00:00,  3.90it/s\n",
      "EPOCH 99 - Reconstruction Error: 2.3588: 100%|█| 100/100 [00:13<00:00,  7.40it/s\n",
      "EPOCH 99 - Reconstruction Error: 1.5127: 100%|█| 100/100 [00:12<00:00,  7.84it/s\n",
      "Epoch 200 | loss : 0.079 | accuracy  0.98: 100%|█| 200/200 [00:44<00:00,  4.50it\n"
     ]
    },
    {
     "name": "stdout",
     "output_type": "stream",
     "text": [
      "DNN 2 layers with 500 neurons trained on 60000 images\n"
     ]
    },
    {
     "name": "stderr",
     "output_type": "stream",
     "text": [
      "Epoch 200 | loss : 9.872 | accuracy  0.10: 100%|█| 200/200 [01:35<00:00,  2.10it\n",
      "EPOCH 99 - Reconstruction Error: 2.1350: 100%|█| 100/100 [00:47<00:00,  2.11it/s\n",
      "EPOCH 99 - Reconstruction Error: 2.8760: 100%|█| 100/100 [00:38<00:00,  2.60it/s\n",
      "EPOCH 99 - Reconstruction Error: 3.0855: 100%|█| 100/100 [00:37<00:00,  2.63it/s\n",
      "Epoch 200 | loss : 0.045 | accuracy  0.99: 100%|█| 200/200 [01:40<00:00,  2.00it\n"
     ]
    }
   ],
   "source": [
    "qs = [200, 500]\n",
    "nlayers = [0, 2]\n",
    "n_data = [1000, 3000, 7000, 10000, 30000, 60000]\n",
    "epochs_retro = 200\n",
    "epochs_pretrain = 100\n",
    "lr = 0.1\n",
    "batch_size = 512 \n",
    "\n",
    "\n",
    "all_losses = []\n",
    "all_accuracies_test = []\n",
    "all_accuracies_train = []\n",
    "\n",
    "for n_images in n_data : \n",
    "    X_train, y_train, X_val, y_val, X_test, y_test = lire_mnist(device = device, val_size = 0, n_images = n_images)\n",
    "    losses = []\n",
    "    accuracies_test = []\n",
    "    accuracies_train = []\n",
    "    if n_images < 10000 : \n",
    "        batch_size = 64\n",
    "    else : \n",
    "        batch_size = 512\n",
    "    for n in nlayers : \n",
    "        for q in qs : \n",
    "            print(f'DNN {n} layers with {q} neurons trained on {n_images} images')\n",
    "            sizes = [(X_train.size(1), q)]\n",
    "            for j in range(n) : \n",
    "                sizes.append((q, q))\n",
    "            sizes.append((q, 10))\n",
    "\n",
    "            DNN_1 = init_DNN(len(sizes), sizes, device, random_state = 42)\n",
    "            DNN_2 = init_DNN(len(sizes), sizes, device, random_state = 42)\n",
    "\n",
    "            # RETRO SANS PRETRAIN #\n",
    "            DNN_1, history_1 = retropropagation(X_train, y_train, DNN_1, epochs_retro, lr, batch_size)\n",
    "\n",
    "            # RETRO AVEC PRETRAIN\n",
    "            DNN_2 = pretrain_DNN(X_train, DNN_2, epochs_pretrain, lr, batch_size)\n",
    "            DNN_2, history_2 = retropropagation(X_train, y_train, DNN_2, epochs_retro, lr, batch_size)\n",
    "\n",
    "            accuracy_test_1 = test_DNN(X_test,y_test, DNN_1)\n",
    "            accuracy_train_1 = test_DNN(X_train, y_train, DNN_1)\n",
    "\n",
    "            accuracy_test_2 = test_DNN(X_test,y_test, DNN_2)\n",
    "            accuracy_train_2 = test_DNN(X_train, y_train, DNN_2)\n",
    "\n",
    "            losses.append((history_1, history_1))\n",
    "            accuracies_train.append((accuracy_train_1, accuracy_train_2))\n",
    "            accuracies_test.append((accuracy_test_1, accuracy_test_2))\n",
    "\n",
    "            del DNN_1, DNN_2\n",
    "            torch.cuda.empty_cache()\n",
    "            gc.collect()\n",
    "    all_losses.append(losses)\n",
    "    all_accuracies_test.append(accuracies_test)\n",
    "    all_accuracies_train.append(accuracies_train)"
   ]
  },
  {
   "cell_type": "code",
   "execution_count": 16,
<<<<<<< Updated upstream
   "id": "bb8c0e27",
=======
   "id": "325600d6",
>>>>>>> Stashed changes
   "metadata": {},
   "outputs": [],
   "source": [
    "all_acc_0hl_200 = []\n",
    "all_acc_0hl_500 = []\n",
    "all_acc_0hl_200_pre = []\n",
    "all_acc_0hl_500_pre = []\n",
    "\n",
    "all_acc_2hl_200 = []\n",
    "all_acc_2hl_500 = []\n",
    "all_acc_2hl_200_pre = []\n",
    "all_acc_2hl_500_pre = []\n",
    "\n",
    "for acc in all_accuracies_test : \n",
    "    all_acc_0hl_200.append(acc[0][0]) \n",
    "    all_acc_0hl_200_pre.append(acc[0][1])\n",
    "    \n",
    "    all_acc_0hl_500.append(acc[1][0]) \n",
    "    all_acc_0hl_500_pre.append(acc[1][1])\n",
    "    \n",
    "    all_acc_2hl_200.append(acc[2][0]) \n",
    "    all_acc_2hl_200_pre.append(acc[2][1])\n",
    "    \n",
    "    all_acc_2hl_500.append(acc[3][0]) \n",
    "    all_acc_2hl_500_pre.append(acc[3][1])"
   ]
  },
  {
   "cell_type": "code",
   "execution_count": 17,
<<<<<<< Updated upstream
   "id": "8384ccd0",
=======
   "id": "c5f0d495",
>>>>>>> Stashed changes
   "metadata": {},
   "outputs": [
    {
     "data": {
      "image/png": "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\n",
      "text/plain": [
       "<Figure size 360x432 with 1 Axes>"
      ]
     },
     "metadata": {
      "needs_background": "light"
     },
     "output_type": "display_data"
    }
   ],
   "source": [
    "plt.figure(figsize = (5,6))\n",
    "plt.plot(n_data, all_acc_0hl_200, label = 'w/o pretrain 200 neurons', alpha = 0.6)\n",
    "plt.plot(n_data, all_acc_0hl_500, label = 'w/o pretrain 500 neurons', alpha = 0.6)\n",
    "plt.plot(n_data, all_acc_0hl_200_pre, label = 'w pretrain 200 neurons', alpha = 0.6)\n",
    "plt.plot(n_data, all_acc_0hl_500_pre, label = 'w pretrain 500 neurons', alpha = 0.6)\n",
    "plt.legend(frameon = False)\n",
    "_ = plt.xticks([3000, 7000] + n_data[-3:], rotation = 50)\n",
    "plt.grid()\n",
    "plt.xlabel(\"Nombre d'images pour l'entrainement\")\n",
    "plt.ylabel('Accuracy (test)')\n",
    "plt.savefig('figures/accuracies_test_per_nimages_0hl', dpi = 600)"
   ]
  },
  {
   "cell_type": "code",
   "execution_count": 18,
<<<<<<< Updated upstream
   "id": "dbe0fa40",
=======
   "id": "03acda4e",
>>>>>>> Stashed changes
   "metadata": {},
   "outputs": [
    {
     "data": {
      "image/png": "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\n",
      "text/plain": [
       "<Figure size 360x432 with 1 Axes>"
      ]
     },
     "metadata": {
      "needs_background": "light"
     },
     "output_type": "display_data"
    }
   ],
   "source": [
    "plt.figure(figsize = (5,6))\n",
    "plt.plot(n_data, all_acc_2hl_200, label = 'w/o pretrain 200 neurons', alpha = 0.8)\n",
    "plt.plot(n_data, all_acc_2hl_500, label = 'w/o pretrain 500 neurons', alpha = 0.8)\n",
    "plt.plot(n_data, all_acc_2hl_200_pre, label = 'w pretrain 200 neurons', alpha = 0.8)\n",
    "plt.plot(n_data, all_acc_2hl_500_pre, label = 'w pretrain 500 neurons', alpha = 0.8)\n",
    "#plt.legend(frameon = False)\n",
    "_ = plt.xticks([3000, 7000] + n_data[-3:], rotation = 50)\n",
    "plt.grid()\n",
    "plt.xlabel(\"Nombre d'images pour l'entrainement\")\n",
    "plt.ylabel('Accuracy (test)')\n",
    "plt.savefig('figures/accuracies_test_per_nimages_2hl', dpi = 600)"
   ]
  },
  {
   "cell_type": "markdown",
<<<<<<< Updated upstream
   "id": "2517b83f",
=======
   "id": "f74ecdd7",
>>>>>>> Stashed changes
   "metadata": {},
   "source": [
    "### Hyperparameter tuning"
   ]
  },
  {
   "cell_type": "markdown",
<<<<<<< Updated upstream
   "id": "4f3e3a2e",
=======
   "id": "1161b93c",
>>>>>>> Stashed changes
   "metadata": {},
   "source": [
    "Dans cette section, nous souhaitons chercher le meilleur modèle en terme de nombre de neuronnes et de couches cachés (avec pré entraînement ou pas) dans le sens du modèle qui donne le meilleur taux de bonne classification sur le jeu de test. Afin de ne pas avoir à trouver un nombre parfait d'epochs pour la rétropropagation, nous utiliserons un jeu de validation qui contient $5\\%$ du jeu d'entraînement et l'utiliserons comme critére d'arrêt pour l'optimisation. Cette pratique très utilisée, l'early stopping, permet à nos modèles de ne pas trop overfit sur les données d'entraînement.\n",
    "\n",
    "Grâce aux expériences précédentes, nous savons qu'un DNN $2$ couches cachées ou plus ne converge pas sans pré entrainement, et que le pré entrainement n'est pas forcément utile sur un DNN avec peu de couches cachées. Nous avons vu également que plus le nombre de neurones est grand et plus un DNN avec pré entrainement est bon. \n",
    "\n",
    "Nous allons donc procéder à l'optimisation des modèles suivant:\n",
    "\n",
    "- DNN 2 couches + pas de prétrain: 100 neurones\n",
    "- DNN 3 couches + pas de prétrain: 100 ou 200 neurones\n",
    "- DNN 4 couches + prétrain: 200 ou 500 ou 1000 neurones\n",
    "- DNN 5 couches + prétrain: 200 ou 500 ou 1000 neurones\n",
    "- DNN 6 couches + prétrain: 200 ou 500 ou 1000 neurones\n"
   ]
  },
  {
   "cell_type": "code",
   "execution_count": 3,
<<<<<<< Updated upstream
   "id": "9ef5607c",
=======
   "id": "de883e38",
>>>>>>> Stashed changes
   "metadata": {},
   "outputs": [],
   "source": [
    "X_train, y_train, X_val, y_val, X_test, y_test = lire_mnist(device = device, val_size = 0.05)"
   ]
  },
  {
   "cell_type": "code",
   "execution_count": 4,
<<<<<<< Updated upstream
   "id": "1259143e",
=======
   "id": "31e5e312",
>>>>>>> Stashed changes
   "metadata": {},
   "outputs": [],
   "source": [
    "archs = [\n",
    "    [(X_train.size(1), 100), (100,10)],\n",
    "    [(X_train.size(1), 100), (100,100), (100,10)], \n",
    "    [(X_train.size(1), 200), (200,200), (200,10)], \n",
    "    [(X_train.size(1), 500), (500,500), (500,500),(500,10)], \n",
    "    [(X_train.size(1), 1000), (1000,1000), (1000,1000),(1000,10)], \n",
    "    [(X_train.size(1), 500), (500,500), (500,500),(500,500),(500,10)], \n",
    "    [(X_train.size(1), 1000), (1000,1000), (1000,1000),(1000,1000),(1000,10)], \n",
    "    [(X_train.size(1), 500), (500,500), (500,500),(500,500),(500,500),(500,10)], \n",
    "    [(X_train.size(1), 1000), (1000,1000), (1000,1000),(1000,1000),(1000,1000),(1000,10)], \n",
    "    \n",
    "    [(X_train.size(1), 500), (500,500), (500,500),(500,10)], \n",
    "    [(X_train.size(1), 1000), (1000,1000), (1000,1000),(1000,10)], \n",
    "    [(X_train.size(1), 500), (500,500), (500,500),(500,500),(500,10)], \n",
    "    [(X_train.size(1), 1000), (1000,1000), (1000,1000),(1000,1000),(1000,10)], \n",
    "    [(X_train.size(1), 500), (500,500), (500,500),(500,500),(500,500),(500,10)], \n",
    "    [(X_train.size(1), 1000), (1000,1000), (1000,1000),(1000,1000),(1000,1000),(1000,10)],\n",
    "]"
   ]
  },
  {
   "cell_type": "code",
   "execution_count": null,
<<<<<<< Updated upstream
   "id": "09c6700e",
=======
   "id": "78d1453b",
>>>>>>> Stashed changes
   "metadata": {
    "scrolled": false
   },
   "outputs": [
    {
     "name": "stdout",
     "output_type": "stream",
     "text": [
      "DNN 2 layers with 100 neurons\n"
     ]
    },
    {
     "name": "stderr",
     "output_type": "stream",
     "text": [
      "Epoch 238 | loss : 0.090 | accuracy  0.96:  12%| | 238/2000 [00:21<02:37, 11.18i\n"
     ]
    },
    {
     "name": "stdout",
     "output_type": "stream",
     "text": [
      "Test accuracy: 0.963\n",
      "DNN 3 layers with 100 neurons\n"
     ]
    },
    {
     "name": "stderr",
     "output_type": "stream",
     "text": [
      "Epoch 331 | loss : 0.050 | accuracy  0.97:  17%|▏| 331/2000 [00:41<03:30,  7.95i\n"
     ]
    },
    {
     "name": "stdout",
     "output_type": "stream",
     "text": [
      "Test accuracy: 0.967\n",
      "DNN 3 layers with 200 neurons\n"
     ]
    },
    {
     "name": "stderr",
     "output_type": "stream",
     "text": [
      "Epoch 355 | loss : 0.044 | accuracy  0.97:  18%|▏| 355/2000 [00:50<03:54,  7.02i\n"
     ]
    },
    {
     "name": "stdout",
     "output_type": "stream",
     "text": [
      "Test accuracy: 0.969\n",
      "DNN 4 layers with 500 neurons\n"
     ]
    },
    {
     "name": "stderr",
     "output_type": "stream",
     "text": [
      "EPOCH 99 - Reconstruction Error: 2.2343: 100%|█| 100/100 [00:37<00:00,  2.66it/s\n",
      "EPOCH 99 - Reconstruction Error: 2.7916: 100%|█| 100/100 [00:32<00:00,  3.07it/s\n",
      "EPOCH 99 - Reconstruction Error: 2.9884: 100%|█| 100/100 [00:32<00:00,  3.06it/s\n",
      "Epoch 244 | loss : 0.035 | accuracy  0.97:  12%| | 244/2000 [01:30<10:53,  2.69i\n"
     ]
    },
    {
     "name": "stdout",
     "output_type": "stream",
     "text": [
      "Test accuracy: 0.972\n",
      "DNN 4 layers with 1000 neurons\n"
     ]
    },
    {
     "name": "stderr",
     "output_type": "stream",
     "text": [
      "EPOCH 99 - Reconstruction Error: 0.8933: 100%|█| 100/100 [01:22<00:00,  1.22it/s\n",
      "EPOCH 99 - Reconstruction Error: 9.9365: 100%|█| 100/100 [01:42<00:00,  1.02s/it\n",
      "EPOCH 99 - Reconstruction Error: 1.6819: 100%|█| 100/100 [01:39<00:00,  1.00it/s\n",
      "Epoch 197 | loss : 0.045 | accuracy  0.97:  10%| | 197/2000 [03:09<28:56,  1.04i\n"
     ]
    },
    {
     "name": "stdout",
     "output_type": "stream",
     "text": [
      "Test accuracy: 0.969\n",
      "DNN 5 layers with 500 neurons\n"
     ]
    },
    {
     "name": "stderr",
     "output_type": "stream",
     "text": [
      "EPOCH 99 - Reconstruction Error: 2.2385: 100%|█| 100/100 [00:40<00:00,  2.50it/s\n",
      "EPOCH 99 - Reconstruction Error: 2.9364: 100%|█| 100/100 [00:32<00:00,  3.08it/s\n",
      "EPOCH 99 - Reconstruction Error: 3.0586: 100%|█| 100/100 [00:33<00:00,  3.01it/s\n",
      "EPOCH 99 - Reconstruction Error: 1.7465: 100%|█| 100/100 [00:32<00:00,  3.05it/s\n",
      "Epoch 217 | loss : 0.034 | accuracy  0.97:  11%| | 217/2000 [01:36<13:10,  2.26i\n"
     ]
    },
    {
     "name": "stdout",
     "output_type": "stream",
     "text": [
      "Test accuracy: 0.972\n",
      "DNN 5 layers with 1000 neurons\n"
     ]
    },
    {
     "name": "stderr",
     "output_type": "stream",
     "text": [
      "EPOCH 99 - Reconstruction Error: 0.8944: 100%|█| 100/100 [01:19<00:00,  1.25it/s\n",
      "EPOCH 99 - Reconstruction Error: 12.4484: 100%|█| 100/100 [01:40<00:00,  1.00s/i\n",
      "EPOCH 99 - Reconstruction Error: 1.2865: 100%|█| 100/100 [01:39<00:00,  1.00it/s\n",
      "EPOCH 99 - Reconstruction Error: 2.1128: 100%|█| 100/100 [01:42<00:00,  1.02s/it\n",
      "Epoch 236 | loss : 0.030 | accuracy  0.97:  12%| | 236/2000 [05:24<40:28,  1.38s\n"
     ]
    },
    {
     "name": "stdout",
     "output_type": "stream",
     "text": [
      "Test accuracy: 0.973\n",
      "DNN 6 layers with 500 neurons\n"
     ]
    },
    {
     "name": "stderr",
     "output_type": "stream",
     "text": [
      "EPOCH 99 - Reconstruction Error: 2.2343: 100%|█| 100/100 [00:45<00:00,  2.20it/s\n",
      "EPOCH 99 - Reconstruction Error: 3.1051: 100%|█| 100/100 [00:36<00:00,  2.72it/s\n",
      "EPOCH 99 - Reconstruction Error: 3.1008: 100%|█| 100/100 [00:35<00:00,  2.83it/s\n",
      "EPOCH 99 - Reconstruction Error: 1.7537: 100%|█| 100/100 [00:35<00:00,  2.82it/s\n",
      "EPOCH 99 - Reconstruction Error: 1.9515: 100%|█| 100/100 [00:39<00:00,  2.53it/s\n",
      "Epoch 162 | loss : 0.042 | accuracy  0.97:   8%| | 162/2000 [01:30<17:08,  1.79i\n"
     ]
    },
    {
     "name": "stdout",
     "output_type": "stream",
     "text": [
      "Test accuracy: 0.971\n",
      "DNN 6 layers with 1000 neurons\n"
     ]
    },
    {
     "name": "stderr",
     "output_type": "stream",
     "text": [
      "EPOCH 99 - Reconstruction Error: 0.8936: 100%|█| 100/100 [01:24<00:00,  1.18it/s\n",
      "EPOCH 99 - Reconstruction Error: 14.3425: 100%|█| 100/100 [01:50<00:00,  1.10s/i\n",
      "EPOCH 99 - Reconstruction Error: 1.1717: 100%|█| 100/100 [01:45<00:00,  1.06s/it\n",
      "EPOCH 99 - Reconstruction Error: 2.1549: 100%|█| 100/100 [01:45<00:00,  1.05s/it\n",
      "EPOCH 99 - Reconstruction Error: 1.0115: 100%|█| 100/100 [01:44<00:00,  1.05s/it\n",
      "Epoch 214 | loss : 0.029 | accuracy  0.97:  11%| | 214/2000 [06:29<54:11,  1.82s\n"
     ]
    },
    {
     "name": "stdout",
     "output_type": "stream",
     "text": [
      "Test accuracy: 0.973\n",
      "DNN 4 layers with 500 neurons\n"
     ]
    },
    {
     "name": "stderr",
     "output_type": "stream",
     "text": [
      "EPOCH 199 - Reconstruction Error: 0.9796: 100%|█| 200/200 [01:33<00:00,  2.13it/\n",
      "EPOCH 199 - Reconstruction Error: 2.4639: 100%|█| 200/200 [01:21<00:00,  2.47it/\n",
      "EPOCH 199 - Reconstruction Error: 3.7910: 100%|█| 200/200 [01:25<00:00,  2.34it/\n",
      "Epoch 210 | loss : 0.045 | accuracy  0.97:  10%| | 210/2000 [01:19<11:20,  2.63i\n"
     ]
    },
    {
     "name": "stdout",
     "output_type": "stream",
     "text": [
      "Test accuracy: 0.968\n",
      "DNN 4 layers with 1000 neurons\n"
     ]
    },
    {
     "name": "stderr",
     "output_type": "stream",
     "text": [
      "EPOCH 199 - Reconstruction Error: 0.2611: 100%|█| 200/200 [02:54<00:00,  1.15it/\n",
      "EPOCH 199 - Reconstruction Error: 32.6754: 100%|█| 200/200 [03:34<00:00,  1.07s/\n",
      "EPOCH 199 - Reconstruction Error: 4.9871: 100%|█| 200/200 [03:34<00:00,  1.07s/i\n",
<<<<<<< Updated upstream
      "Epoch 244 | loss : 0.050 | accuracy  0.97:  12%| | 244/2000 [04:22<29:14,  1.00i"
=======
      "Epoch 135 | loss : 0.084 | accuracy  0.96:   7%| | 135/2000 [02:22<32:28,  1.04s"
>>>>>>> Stashed changes
     ]
    }
   ],
   "source": [
    "accuracies_test = []\n",
    "lr = 0.1\n",
    "batch_size = 512\n",
    "epochs_pretrain = 100\n",
    "epochs_retro = 2000\n",
    "times = []\n",
    "converging_times = []\n",
    "\n",
    "for idx, arch in enumerate(archs): \n",
    "    n = len(arch)\n",
    "    q = arch[0][1]\n",
    "    print(f'DNN {n} layers with {q} neurons')\n",
    "    DNN = init_DNN(n, arch, device, random_state = 42)\n",
    "    \n",
    "    t0 = time()\n",
    "    if idx >= 3  :\n",
    "        if idx >= 9 : \n",
    "            epochs_pretrain = 200\n",
    "        DNN = pretrain_DNN(X_train, DNN, epochs_pretrain, lr, batch_size)\n",
    "    DNN, history = retropropagation(X_train, y_train, DNN, epochs_retro, lr, batch_size, X_val, y_val,\n",
    "                                   esr = 30)\n",
    "    times.append(time()-t0)\n",
    "    converging_times.append(len(history) - 30)\n",
    "    accuracy_test = test_DNN(X_test, y_test, DNN)\n",
    "\n",
    "\n",
    "    accuracies_test.append(accuracy_test)\n",
    "    print(f'Test accuracy: {accuracy_test:0.3f}')\n",
    "    del DNN\n",
    "    torch.cuda.empty_cache()\n",
    "    gc.collect()"
   ]
  },
  {
   "cell_type": "code",
   "execution_count": null,
<<<<<<< Updated upstream
   "id": "302ca86f",
=======
   "id": "c74ebcad",
>>>>>>> Stashed changes
   "metadata": {},
   "outputs": [],
   "source": []
  }
 ],
 "metadata": {
  "kernelspec": {
   "display_name": "Python 3 (ipykernel)",
   "language": "python",
   "name": "python3"
  },
  "language_info": {
   "codemirror_mode": {
    "name": "ipython",
    "version": 3
   },
   "file_extension": ".py",
   "mimetype": "text/x-python",
   "name": "python",
   "nbconvert_exporter": "python",
   "pygments_lexer": "ipython3",
   "version": "3.8.10"
  }
 },
 "nbformat": 4,
 "nbformat_minor": 5
}
