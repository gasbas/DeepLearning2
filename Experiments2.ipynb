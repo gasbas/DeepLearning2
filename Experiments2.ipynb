{
 "cells": [
  {
   "cell_type": "code",
   "execution_count": 1,
   "id": "dc1f821a",
   "metadata": {},
   "outputs": [],
   "source": [
    "from principal_RBM_alpha import * \n",
    "import torch\n",
    "import numpy as np\n",
    "from time import time"
   ]
  },
  {
   "cell_type": "code",
   "execution_count": 5,
   "id": "e400c366",
   "metadata": {},
   "outputs": [],
   "source": [
    "device = 'cpu'"
   ]
  },
  {
   "cell_type": "markdown",
   "id": "b64f7ba0",
   "metadata": {},
   "source": [
    "### Visualisation du préentrainement d'une RBM sur BinaryAlphaDigits"
   ]
  },
  {
   "cell_type": "markdown",
   "id": "2ad073ea",
   "metadata": {},
   "source": [
    "Nous allons visualiser l'entrainement de notre RBM sur la base de données BinaryAlphadigits. Dans un premier temps, on considère le préentrainement sur le nombre $8$"
   ]
  },
  {
   "cell_type": "code",
   "execution_count": 6,
   "id": "38691d50",
   "metadata": {},
   "outputs": [],
   "source": [
    "index = 8 \n",
    "X  = lire_alpha_digit(index, device)"
   ]
  },
  {
   "cell_type": "code",
   "execution_count": 7,
   "id": "2bdfdc8d",
   "metadata": {},
   "outputs": [
    {
     "name": "stdout",
     "output_type": "stream",
     "text": [
      "Les données contiennent:\n",
      "39 examples\n",
      "320 pixels\n"
     ]
    }
   ],
   "source": [
    "print('Les données contiennent:')\n",
    "print(f'{X.size(0)} examples')\n",
    "print(f'{X.size(1)} pixels')\n"
   ]
  },
  {
   "cell_type": "code",
   "execution_count": 10,
   "id": "0eff2138",
   "metadata": {
    "scrolled": true
   },
   "outputs": [
    {
     "name": "stdout",
     "output_type": "stream",
     "text": [
      "RBM avec 10 neuronnes\n",
      "EPOCH 0 - Reconstruction Error: 69.8120\n",
      "EPOCH 50 - Reconstruction Error: 47.6708\n",
      "EPOCH 100 - Reconstruction Error: 41.4183\n",
      "EPOCH 150 - Reconstruction Error: 37.9494\n",
      "EPOCH 200 - Reconstruction Error: 35.5407\n",
      "EPOCH 250 - Reconstruction Error: 33.8458\n",
      "EPOCH 300 - Reconstruction Error: 32.6665\n",
      "EPOCH 350 - Reconstruction Error: 31.7738\n",
      "EPOCH 400 - Reconstruction Error: 31.1250\n",
      "EPOCH 450 - Reconstruction Error: 30.3510\n",
      "EPOCH 500 - Reconstruction Error: 29.7591\n",
      "EPOCH 550 - Reconstruction Error: 29.1842\n",
      "EPOCH 600 - Reconstruction Error: 28.7395\n",
      "EPOCH 650 - Reconstruction Error: 28.3506\n",
      "EPOCH 700 - Reconstruction Error: 28.0096\n",
      "EPOCH 750 - Reconstruction Error: 27.7025\n",
      "EPOCH 800 - Reconstruction Error: 27.4911\n",
      "EPOCH 850 - Reconstruction Error: 27.2300\n",
      "EPOCH 900 - Reconstruction Error: 27.1217\n",
      "EPOCH 950 - Reconstruction Error: 26.9477\n",
      "\n",
      "RBM avec 100 neuronnes\n",
      "EPOCH 0 - Reconstruction Error: 59.0698\n",
      "EPOCH 50 - Reconstruction Error: 13.5505\n",
      "EPOCH 100 - Reconstruction Error: 4.3630\n",
      "EPOCH 150 - Reconstruction Error: 2.0282\n",
      "EPOCH 200 - Reconstruction Error: 1.1329\n",
      "EPOCH 250 - Reconstruction Error: 0.7047\n",
      "EPOCH 300 - Reconstruction Error: 0.4806\n",
      "EPOCH 350 - Reconstruction Error: 0.3446\n",
      "EPOCH 400 - Reconstruction Error: 0.2550\n",
      "EPOCH 450 - Reconstruction Error: 0.1984\n",
      "EPOCH 500 - Reconstruction Error: 0.1575\n",
      "EPOCH 550 - Reconstruction Error: 0.1281\n",
      "EPOCH 600 - Reconstruction Error: 0.1060\n",
      "EPOCH 650 - Reconstruction Error: 0.0891\n",
      "EPOCH 700 - Reconstruction Error: 0.0762\n",
      "EPOCH 750 - Reconstruction Error: 0.0658\n",
      "EPOCH 800 - Reconstruction Error: 0.0574\n",
      "EPOCH 850 - Reconstruction Error: 0.0504\n",
      "EPOCH 900 - Reconstruction Error: 0.0447\n",
      "EPOCH 950 - Reconstruction Error: 0.0398\n",
      "\n",
      "RBM avec 500 neuronnes\n",
      "EPOCH 0 - Reconstruction Error: 81.9647\n",
      "EPOCH 50 - Reconstruction Error: 9.1727\n",
      "EPOCH 100 - Reconstruction Error: 0.7723\n",
      "EPOCH 150 - Reconstruction Error: 0.1850\n",
      "EPOCH 200 - Reconstruction Error: 0.0755\n",
      "EPOCH 250 - Reconstruction Error: 0.0394\n",
      "EPOCH 300 - Reconstruction Error: 0.0238\n",
      "EPOCH 350 - Reconstruction Error: 0.0157\n",
      "EPOCH 400 - Reconstruction Error: 0.0111\n",
      "EPOCH 450 - Reconstruction Error: 0.0082\n",
      "EPOCH 500 - Reconstruction Error: 0.0063\n",
      "EPOCH 550 - Reconstruction Error: 0.0050\n",
      "EPOCH 600 - Reconstruction Error: 0.0040\n",
      "EPOCH 650 - Reconstruction Error: 0.0033\n",
      "EPOCH 700 - Reconstruction Error: 0.0028\n",
      "EPOCH 750 - Reconstruction Error: 0.0024\n",
      "EPOCH 800 - Reconstruction Error: 0.0021\n",
      "EPOCH 850 - Reconstruction Error: 0.0018\n",
      "EPOCH 900 - Reconstruction Error: 0.0016\n",
      "EPOCH 950 - Reconstruction Error: 0.0014\n",
      "\n"
     ]
    }
   ],
   "source": [
    "\n",
    "p = X.size(1) #Nombre de pixels\n",
    "qs = [10,100,500] #Test de différents nombres de neuronnes dans la couche cachée\n",
    "batch_size = 10 #Le nombre de données par batch\n",
    "lr = 0.01 #Le pas dans la gradient ascent\n",
    "epochs = 1000 #Le nombre d'itérations (nombre de fois que le modèle voit toutes les données)\n",
    "n_images = 2 #Nombre d'images à générer une fois la RBM entrainée\n",
    "gibbs_iter = 1000 #Nombre d'itération dans le gibbs sampler pour générer une image\n",
    "\n",
    "historique = []\n",
    "images = []\n",
    "times = []\n",
    "\n",
    "for q in qs : \n",
    "    t0 = time()\n",
    "    print(f'RBM avec {q} neuronnes')\n",
    "    RBM = init_RBM(p, q, device)\n",
    "    trained_RBM, history = train_RBM(X, RBM, epochs, lr, batch_size)\n",
    "    historique.append(history)\n",
    "    gen_images = generer_image_RBM(trained_RBM, gibbs_iter, n_images, plot = False)\n",
    "    print('')\n",
    "    times.append(time()-t0)\n",
    "    images.append(gen_images)"
   ]
  },
  {
   "cell_type": "code",
   "execution_count": 11,
   "id": "c9c8327e",
   "metadata": {},
   "outputs": [
    {
     "name": "stdout",
     "output_type": "stream",
     "text": [
      "Training time (GPU) 10 neuronnes: 4.109 seconds\n",
      "Training time (GPU) 100 neuronnes: 4.750 seconds\n",
      "Training time (GPU) 500 neuronnes: 11.935 seconds\n"
     ]
    }
   ],
   "source": [
    "print(f'Training time (GPU) 10 neuronnes: {times[0]:0.3f} seconds')\n",
    "print(f'Training time (GPU) 100 neuronnes: {times[1]:0.3f} seconds')\n",
    "print(f'Training time (GPU) 500 neuronnes: {times[2]:0.3f} seconds')"
   ]
  },
  {
   "cell_type": "markdown",
   "id": "8237aaa3",
   "metadata": {},
   "source": [
    "Le temps d'entraînement n'augmente presque pas avec le nombre de neuronnes. Cela est probablement du à l'utilisation du GPU par Pytorch"
   ]
  },
  {
   "cell_type": "code",
   "execution_count": 12,
   "id": "34a6dca8",
   "metadata": {},
   "outputs": [
    {
     "data": {
      "text/plain": [
       "Text(0, 0.5, 'Reconstruction Error')"
      ]
     },
     "execution_count": 12,
     "metadata": {},
     "output_type": "execute_result"
    },
    {
     "data": {
      "image/png": "[encoded data removed]",
      "text/plain": [
       "<Figure size 720x288 with 1 Axes>"
      ]
     },
     "metadata": {
      "needs_background": "light"
     },
     "output_type": "display_data"
    }
   ],
   "source": [
    "plt.figure(figsize = (10,4))\n",
    "plt.plot(historique[0], label = '10 Neuronnes')\n",
    "plt.plot(historique[1], label = '100 Neuronnes')\n",
    "plt.plot(historique[2], label = '500 Neuronnes')\n",
    "plt.legend()\n",
    "plt.xlabel('Epochs')\n",
    "plt.ylabel('Reconstruction Error')\n"
   ]
  },
  {
   "cell_type": "markdown",
   "id": "79956560",
   "metadata": {},
   "source": [
    "Nous voyons qu'une RBM avec 10 neuronnes ne convergent pas, tandis qu'une RBM avec 100 ou 500 neuronnes convergent vers une erreur de reconstruction très faible. Par ailleurs, l'utilisation de 500 neuronnes permet une convergence plus rapide."
   ]
  },
  {
   "cell_type": "code",
   "execution_count": 13,
   "id": "006ff6c3",
   "metadata": {},
   "outputs": [
    {
     "data": {
      "image/png": "[encoded data removed]",
      "text/plain": [
       "<Figure size 1152x720 with 8 Axes>"
      ]
     },
     "metadata": {
      "needs_background": "light"
     },
     "output_type": "display_data"
    }
   ],
   "source": [
    "fig, ax = plt.subplots(nrows = 2, ncols = 4, sharex = True, sharey = True, figsize = (16,10))\n",
    "\n",
    "ax[0,0].imshow(X[0].view(20,16).cpu().numpy())\n",
    "ax[1,0].imshow(X[10].view(20,16).cpu().numpy())\n",
    "ax[0,0].set_title('Training images')\n",
    "\n",
    "ax[0,1].imshow(images[0][0])\n",
    "ax[1,1].imshow(images[0][1])\n",
    "ax[0,1].set_title('Generated images (10 Neurons)')\n",
    "\n",
    "ax[0,2].imshow(images[1][0])\n",
    "ax[1,2].imshow(images[1][1])\n",
    "ax[0,2].set_title('Generated images (100 Neurons)')\n",
    "\n",
    "ax[0,3].imshow(images[2][0])\n",
    "ax[1,3].imshow(images[2][1])\n",
    "_=ax[0,3].set_title('Generated images (500 Neurons)')\n"
   ]
  },
  {
   "cell_type": "markdown",
   "id": "a5a6a856",
   "metadata": {},
   "source": [
    "Les RBM avec 100 et 500 neuronnes génèrent des images aussi proche que celles utilisées pourt l'entraînement."
   ]
  },
  {
   "cell_type": "code",
   "execution_count": 119,
   "id": "7c9a6e4d",
   "metadata": {},
   "outputs": [],
   "source": [
    "class DNNClass(object) : \n",
    "    def __init__(self) : \n",
    "        self.layers = []    "
   ]
  },
  {
   "cell_type": "code",
   "execution_count": 146,
   "id": "e6ae6133",
   "metadata": {},
   "outputs": [],
   "source": [
    "depth = 3\n",
    "sizes = [(320, 100), (100, 100), (100, 100),(100, 100),(100, 100)]\n",
    "def init_DNN(sizes, depth, device):\n",
    "    DNN = DNNClass()\n",
    "    for layers in range(depth):\n",
    "        p,q = sizes[layers]\n",
    "        DNN.layers.append(RBMClass(p, q, device))\n",
    "    return DNN"
   ]
  },
  {
   "cell_type": "code",
   "execution_count": 147,
   "id": "563a888a",
   "metadata": {
    "scrolled": true
   },
   "outputs": [
    {
     "name": "stdout",
     "output_type": "stream",
     "text": [
      "EPOCH 0 - Reconstruction Error: 58.1498\n",
      "EPOCH 50 - Reconstruction Error: 12.9619\n",
      "EPOCH 100 - Reconstruction Error: 4.1984\n",
      "EPOCH 150 - Reconstruction Error: 1.9055\n",
      "EPOCH 200 - Reconstruction Error: 1.0404\n",
      "EPOCH 250 - Reconstruction Error: 0.6396\n",
      "EPOCH 300 - Reconstruction Error: 0.4321\n",
      "EPOCH 350 - Reconstruction Error: 0.3092\n",
      "EPOCH 400 - Reconstruction Error: 0.2334\n",
      "EPOCH 450 - Reconstruction Error: 0.1812\n",
      "EPOCH 500 - Reconstruction Error: 0.1451\n",
      "EPOCH 550 - Reconstruction Error: 0.1187\n",
      "EPOCH 600 - Reconstruction Error: 0.0986\n",
      "EPOCH 650 - Reconstruction Error: 0.0831\n",
      "EPOCH 700 - Reconstruction Error: 0.0709\n",
      "EPOCH 750 - Reconstruction Error: 0.0614\n",
      "EPOCH 800 - Reconstruction Error: 0.0535\n",
      "EPOCH 850 - Reconstruction Error: 0.0472\n",
      "EPOCH 900 - Reconstruction Error: 0.0419\n",
      "EPOCH 950 - Reconstruction Error: 0.0374\n",
      "EPOCH 0 - Reconstruction Error: 18.0143\n",
      "EPOCH 50 - Reconstruction Error: 6.0451\n",
      "EPOCH 100 - Reconstruction Error: 1.6893\n",
      "EPOCH 150 - Reconstruction Error: 0.6088\n",
      "EPOCH 200 - Reconstruction Error: 0.2614\n",
      "EPOCH 250 - Reconstruction Error: 0.1356\n",
      "EPOCH 300 - Reconstruction Error: 0.0802\n",
      "EPOCH 350 - Reconstruction Error: 0.0528\n",
      "EPOCH 400 - Reconstruction Error: 0.0370\n",
      "EPOCH 450 - Reconstruction Error: 0.0274\n",
      "EPOCH 500 - Reconstruction Error: 0.0210\n",
      "EPOCH 550 - Reconstruction Error: 0.0167\n",
      "EPOCH 600 - Reconstruction Error: 0.0136\n",
      "EPOCH 650 - Reconstruction Error: 0.0112\n",
      "EPOCH 700 - Reconstruction Error: 0.0094\n",
      "EPOCH 750 - Reconstruction Error: 0.0080\n",
      "EPOCH 800 - Reconstruction Error: 0.0069\n",
      "EPOCH 850 - Reconstruction Error: 0.0061\n",
      "EPOCH 900 - Reconstruction Error: 0.0053\n",
      "EPOCH 950 - Reconstruction Error: 0.0047\n",
      "EPOCH 0 - Reconstruction Error: 19.6558\n",
      "EPOCH 50 - Reconstruction Error: 4.3285\n",
      "EPOCH 100 - Reconstruction Error: 1.0533\n",
      "EPOCH 150 - Reconstruction Error: 0.3605\n",
      "EPOCH 200 - Reconstruction Error: 0.1602\n",
      "EPOCH 250 - Reconstruction Error: 0.0860\n",
      "EPOCH 300 - Reconstruction Error: 0.0526\n",
      "EPOCH 350 - Reconstruction Error: 0.0351\n",
      "EPOCH 400 - Reconstruction Error: 0.0249\n",
      "EPOCH 450 - Reconstruction Error: 0.0185\n",
      "EPOCH 500 - Reconstruction Error: 0.0142\n",
      "EPOCH 550 - Reconstruction Error: 0.0112\n",
      "EPOCH 600 - Reconstruction Error: 0.0091\n",
      "EPOCH 650 - Reconstruction Error: 0.0076\n",
      "EPOCH 700 - Reconstruction Error: 0.0064\n",
      "EPOCH 750 - Reconstruction Error: 0.0054\n",
      "EPOCH 800 - Reconstruction Error: 0.0047\n",
      "EPOCH 850 - Reconstruction Error: 0.0041\n",
      "EPOCH 900 - Reconstruction Error: 0.0036\n",
      "EPOCH 950 - Reconstruction Error: 0.0032\n"
     ]
    }
   ],
   "source": [
    "def pretrain_DNN(x, DNN, epochs, lr, batch_size):\n",
    "    depth = len(DNN.layers)\n",
    "    for l in range(depth):\n",
    "        DNN.layers[l] = train_RBM(x, DNN.layers[l], epochs, lr, batch_size)[0]\n",
    "        x = entree_sortie_RBM(x, DNN.layers[l])\n",
    "    return DNN\n",
    "DNN = init_DNN(sizes, depth, device)\n",
    "pretrained_DNN = pretrain_DNN(X, DNN, 1000, lr, batch_size)"
   ]
  },
  {
   "cell_type": "code",
   "execution_count": 154,
   "id": "dd9aacbd",
   "metadata": {},
   "outputs": [
    {
     "data": {
      "text/plain": [
       "torch.Size([320])"
      ]
     },
     "execution_count": 154,
     "metadata": {},
     "output_type": "execute_result"
    }
   ],
   "source": [
    "def entree_sortie_DBN(x, DNN):\n",
    "    depth = len(DNN.layers)\n",
    "    for l in range(depth):\n",
    "        x = entree_sortie_RBM(x, DNN.layers[l])\n",
    "    return x\n",
    "\n",
    "def sortie_entree_DBN(h, DNN):\n",
    "    depth = len(DNN.layers)\n",
    "    for l in range(depth - 1, -1, -1):\n",
    "        h = sortie_entree_RBM(h, DNN.layers[l])\n",
    "    return h\n",
    "\n",
    "x = torch.randn(p)\n",
    "o = torch.randn(100)\n",
    "entree_sortie_DBN(X, pretrained_DNN).shape\n",
    "sortie_entree_DBN(o, pretrained_DNN).shape"
   ]
  },
  {
   "cell_type": "code",
   "execution_count": 162,
   "id": "e223e3c8",
   "metadata": {},
   "outputs": [],
   "source": [
    "def generer_image_DBN(pretrained_DNN, gibbs_iters, nb_images, plot = True):\n",
    "    \n",
    "    images = []\n",
    "    depth = len(pretrained_DNN.layers)\n",
    "    p = pretrained_DNN.layers[0].W.shape[0]\n",
    "    \n",
    "    for k in range(nb_images):  \n",
    "        x = torch.randn(p)\n",
    "        h = entree_sortie_DBN(x, pretrained_DNN)\n",
    "            \n",
    "        for i in range(gibbs_iters):\n",
    "            v = sortie_entree_DBN(h, pretrained_DNN)\n",
    "            h = entree_sortie_DBN(v, pretrained_DNN)\n",
    "    \n",
    "        img = v.view((20, 16)).detach().cpu().numpy()\n",
    "        \n",
    "        images.append(img)\n",
    "        if plot : \n",
    "            plt.imshow(img)\n",
    "            plt.show()\n",
    "        \n",
    "    return images"
   ]
  },
  {
   "cell_type": "code",
   "execution_count": 176,
   "id": "886ad1e0",
   "metadata": {},
   "outputs": [
    {
     "data": {
      "image/png": "[encoded data removed]",
      "text/plain": [
       "<Figure size 432x288 with 1 Axes>"
      ]
     },
     "metadata": {
      "needs_background": "light"
     },
     "output_type": "display_data"
    },
    {
     "data": {
      "image/png": "[encoded data removed]",
      "text/plain": [
       "<Figure size 432x288 with 1 Axes>"
      ]
     },
     "metadata": {
      "needs_background": "light"
     },
     "output_type": "display_data"
    }
   ],
   "source": [
    "images = generer_image_DBN(pretrained_DNN, gibbs_iter, n_images)"
   ]
  },
  {
   "cell_type": "code",
   "execution_count": 218,
   "id": "52397705",
   "metadata": {},
   "outputs": [
    {
     "data": {
      "text/plain": [
       "torch.Size([60000, 784])"
      ]
     },
     "execution_count": 218,
     "metadata": {},
     "output_type": "execute_result"
    }
   ],
   "source": [
    "from keras.datasets import mnist\n",
    "(train_X, train_y), (test_X, test_y) = mnist.load_data()\n",
    "train_X = train_X/255\n",
    "test_X = test_X/255\n",
    "train_X = torch.FloatTensor(train_X.reshape(-1,28*28))\n",
    "test_X = torch.FloatTensor(test_X.reshape(-1,28*28))\n",
    "n_classes = 10\n",
    "train_X.shape"
   ]
  },
  {
   "cell_type": "markdown",
   "id": "9ece7d4c",
   "metadata": {},
   "source": [
    "### Sample"
   ]
  },
  {
   "cell_type": "code",
   "execution_count": 219,
   "id": "1865fe63",
   "metadata": {},
   "outputs": [
    {
     "data": {
      "text/plain": [
       "torch.Size([600, 784])"
      ]
     },
     "execution_count": 219,
     "metadata": {},
     "output_type": "execute_result"
    }
   ],
   "source": [
    "sample_size = 100\n",
    "idx_train = torch.randperm(train_X.size(0))[:int(train_X.shape[0]*0.01)]\n",
    "idx_test = torch.randperm(test_X.size(0))[:int(test_X.shape[0]*0.01)]\n",
    "train_X = train_X[idx_train]\n",
    "train_y = train_y[idx_train]\n",
    "test_X = test_X[idx_test]\n",
    "test_y = test_y[idx_test]\n",
    "train_X.shape"
   ]
  },
  {
   "cell_type": "code",
   "execution_count": 220,
   "id": "1450f828",
   "metadata": {},
   "outputs": [],
   "source": [
    "def calcul_softmax(x, RBM):\n",
    "    z = torch.mm(x, RBM.W) + RBM.b\n",
    "    return torch.exp(z)/torch.sum(torch.exp(z))"
   ]
  },
  {
   "cell_type": "code",
   "execution_count": 384,
   "id": "84702715",
   "metadata": {},
   "outputs": [],
   "source": [
    "def entree_sortie_reseau(x, DNN):\n",
    "    depth = len(DNN.layers)\n",
    "    Z = []\n",
    "    Z.append(x)\n",
    "    for l in range(depth):\n",
    "        if l == depth - 1:\n",
    "            Z.append(calcul_softmax(x, DNN.layers[l]))\n",
    "\n",
    "        else:\n",
    "            x = entree_sortie_RBM(x, DNN.layers[l])\n",
    "            Z.append(x)\n",
    "    \n",
    "    return Z\n",
    "                     \n"
   ]
  },
  {
   "cell_type": "code",
   "execution_count": 293,
   "id": "4536aa58",
   "metadata": {},
   "outputs": [
    {
     "name": "stdout",
     "output_type": "stream",
     "text": [
      "EPOCH 0 - Reconstruction Error: 68.3804\n",
      "EPOCH 50 - Reconstruction Error: 35.8886\n",
      "EPOCH 0 - Reconstruction Error: 1.7163\n",
      "EPOCH 50 - Reconstruction Error: 0.3671\n",
      "EPOCH 0 - Reconstruction Error: 0.9261\n",
      "EPOCH 50 - Reconstruction Error: 0.0748\n",
      "EPOCH 0 - Reconstruction Error: 0.7662\n",
      "EPOCH 50 - Reconstruction Error: 0.0585\n",
      "EPOCH 0 - Reconstruction Error: 0.6609\n",
      "EPOCH 50 - Reconstruction Error: 0.0107\n"
     ]
    }
   ],
   "source": [
    "depth = 5\n",
    "sizes = [(784, 10), (10, 5), (5, 5), (5, 5), (5, 10)]\n",
    "\n",
    "DNN = init_DNN(sizes, depth, device)\n",
    "pretrained_DNN = pretrain_DNN(train_X , DNN, 100, lr, batch_size)"
   ]
  },
  {
   "cell_type": "code",
   "execution_count": 385,
   "id": "bfd9eb4c",
   "metadata": {},
   "outputs": [],
   "source": [
    "X = entree_sortie_reseau(train_X[0], DNN)"
   ]
  },
  {
   "cell_type": "code",
   "execution_count": 395,
   "id": "802593b6",
   "metadata": {},
   "outputs": [
    {
     "data": {
      "text/plain": [
       "1"
      ]
     },
     "execution_count": 395,
     "metadata": {},
     "output_type": "execute_result"
    }
   ],
   "source": [
    "len(X[0].shape)"
   ]
  },
  {
   "cell_type": "code",
   "execution_count": 394,
   "id": "fbe02939",
   "metadata": {},
   "outputs": [
    {
     "ename": "NameError",
     "evalue": "name 'c' is not defined",
     "output_type": "error",
     "traceback": [
      "\u001b[0;31m---------------------------------------------------------------------------\u001b[0m",
      "\u001b[0;31mNameError\u001b[0m                                 Traceback (most recent call last)",
      "\u001b[0;32m/var/folders/l7/7hgrtkvs2lb9gr0tpjkdscbw0000gn/T/ipykernel_43519/1760602292.py\u001b[0m in \u001b[0;36m<module>\u001b[0;34m\u001b[0m\n\u001b[0;32m----> 1\u001b[0;31m \u001b[0mtorch\u001b[0m\u001b[0;34m.\u001b[0m\u001b[0mouter\u001b[0m\u001b[0;34m(\u001b[0m\u001b[0mX\u001b[0m\u001b[0;34m[\u001b[0m\u001b[0;36m0\u001b[0m\u001b[0;34m]\u001b[0m\u001b[0;34m,\u001b[0m \u001b[0mc\u001b[0m\u001b[0;34m)\u001b[0m\u001b[0;34m\u001b[0m\u001b[0;34m\u001b[0m\u001b[0m\n\u001b[0m",
      "\u001b[0;31mNameError\u001b[0m: name 'c' is not defined"
     ]
    }
   ],
   "source": [
    "torch.outer(X[0], c)"
   ]
  },
  {
   "cell_type": "code",
   "execution_count": 417,
   "id": "cc08ab89",
   "metadata": {},
   "outputs": [],
   "source": [
    "def retropropagation(data, true_labels, DNN, epochs, lr, batch_size):\n",
    "    \n",
    "    depth = len(DNN.layers)\n",
    "    history_loss = []\n",
    "    for epoch in range(epochs):\n",
    "        print(epoch)\n",
    "        batch_indices = torch.randperm(x.size(0))[:batch_size]\n",
    "        batch = data[batch_indices]\n",
    "        loss = 0\n",
    "                \n",
    "        for i in batch_indices:\n",
    "            X = entree_sortie_reseau(data[i], DNN)\n",
    "            y_pred = X[-1]\n",
    "                \n",
    "            y = torch.zeros(n_classes)\n",
    "            y[true_labels[i]] = 1\n",
    "            \n",
    "            loss += -torch.sum(y * torch.log(y_pred)) \n",
    "                                                            \n",
    "            for l in range(depth, 0, -1):\n",
    "                \n",
    "                if l == depth :\n",
    "                    c = y_pred - y\n",
    "                    if len(X[l-1].shape)==2:\n",
    "                        print(c.shape)\n",
    "                        grad_W_l = torch.outer(X[l-1][0], c[0])\n",
    "                    else : \n",
    "                        grad_W_l = torch.outer(X[l-1], c)\n",
    "                    grad_b_l = c\n",
    "                    \n",
    "                    DNN.layers[l-1].W -= lr * grad_W_l\n",
    "                    DNN.layers[l-1].b -= lr * grad_b_l\n",
    "                \n",
    "                else:                    \n",
    "                    c = DNN.layers[l-1].W @ c * X[l] * (1 - X[l])\n",
    "                    \n",
    "                    grad_W_l = torch.outer(X[l-1], c)\n",
    "                    grad_b_l = c\n",
    "                                        \n",
    "                    DNN.layers[l-1].W -= lr * grad_W_l\n",
    "                    DNN.layers[l-1].b -= lr * grad_b_l   \n",
    "                    \n",
    "        history_loss.append((1/batch_size) * loss)\n",
    "    \n",
    "    return DNN, history_loss\n",
    "\n"
   ]
  },
  {
   "cell_type": "code",
   "execution_count": null,
   "id": "18255d9e",
   "metadata": {},
   "outputs": [],
   "source": [
    "def retropropagation(DNN, input_data, labels, nb_iter=100, lr=0.1, batch_size=32, verbose=True):\n",
    "\n",
    "    DNN.append(init_RBM(DNN[0]['q'], nb_labels))\n",
    "\n",
    "    n_layers = len(DNN)\n",
    "    n = input_data.shape[0]\n",
    "    for i in range(nb_iter):\n",
    "        total_loss = 0\n",
    "        total_accuracy = 0\n",
    "\n",
    "        for batch in range(0, batch_size):\n",
    "            x_batch = input_data[np.minimum(np.arange(batch * batch_size, (batch+1) * batch_size), n-1)]\n",
    "            y_batch = labels[np.minimum(np.arange(batch * batch_size, (batch+1) * batch_size), n-1)]\n",
    "            y_batch_ohe = to_one_hot(y_batch)\n",
    "\n",
    "            # Forward\n",
    "            pred = entree_sortie_reseau(DNN, x_batch)\n",
    "            total_loss += cross_entropy(pred[n_layers], y_batch_ohe)\n",
    "            total_accuracy += accuracy(pred[n_layers], y_batch_ohe)\n",
    "\n",
    "            for l in range(n_layers):\n",
    "                # Backward\n",
    "                if l == 0:\n",
    "                    delta = pred[n_layers] - y_batch_ohe\n",
    "                else:\n",
    "                    delta = dA * (pred[n_layers-l] * (1 - pred[n_layers-l]))\n",
    "                dW = 1/batch_size * pred[n_layers-l-1].T.dot(delta)\n",
    "                db = 1/batch_size * np.sum(delta, axis=0)\n",
    "                dA = delta.dot(DNN[n_layers-l-1]['W'].T)\n",
    "                \n",
    "                # Update weights\n",
    "                DNN[n_layers-l-1]['W'] -= lr * dW\n",
    "                DNN[n_layers-l-1]['b'] -= lr * db\n",
    "\n",
    "        if verbose:\n",
    "            print(\"iteration %d \\t : \\t loss %.5f - accuracy %.5f\" % (i, total_loss/batch_size, total_accuracy/batch_size))\n",
    "\n",
    "    return DNN\n"
   ]
  },
  {
   "cell_type": "code",
   "execution_count": 418,
   "id": "a77c635e",
   "metadata": {},
   "outputs": [],
   "source": [
    "def test_DNN(images, labels, DNN):\n",
    "    \n",
    "    accuracy = 0\n",
    "    \n",
    "    for i in range(len(labels)):\n",
    "        y_pred = torch.argmax(entree_sortie_reseau(images[i], DNN)[-1])\n",
    "        \n",
    "        if y_pred == labels[i]:\n",
    "            accuracy += 1\n",
    "            \n",
    "    return accuracy/len(labels)\n",
    "        "
   ]
  },
  {
   "cell_type": "code",
   "execution_count": 419,
   "id": "791c6a2f",
   "metadata": {},
   "outputs": [
    {
     "name": "stdout",
     "output_type": "stream",
     "text": [
      "0\n",
      "torch.Size([1, 10])\n"
     ]
    },
    {
     "ename": "RuntimeError",
     "evalue": "output with shape [10] doesn't match the broadcast shape [1, 10]",
     "output_type": "error",
     "traceback": [
      "\u001b[0;31m---------------------------------------------------------------------------\u001b[0m",
      "\u001b[0;31mRuntimeError\u001b[0m                              Traceback (most recent call last)",
      "\u001b[0;32m/var/folders/l7/7hgrtkvs2lb9gr0tpjkdscbw0000gn/T/ipykernel_43519/760580711.py\u001b[0m in \u001b[0;36m<module>\u001b[0;34m\u001b[0m\n\u001b[1;32m      6\u001b[0m \u001b[0mlr\u001b[0m \u001b[0;34m=\u001b[0m \u001b[0;36m0.01\u001b[0m\u001b[0;34m\u001b[0m\u001b[0;34m\u001b[0m\u001b[0m\n\u001b[1;32m      7\u001b[0m \u001b[0mepochs\u001b[0m \u001b[0;34m=\u001b[0m \u001b[0;36m100\u001b[0m\u001b[0;34m\u001b[0m\u001b[0;34m\u001b[0m\u001b[0m\n\u001b[0;32m----> 8\u001b[0;31m \u001b[0mtrained_DNN\u001b[0m\u001b[0;34m,\u001b[0m \u001b[0mhistory_loss\u001b[0m \u001b[0;34m=\u001b[0m \u001b[0mretropropagation\u001b[0m\u001b[0;34m(\u001b[0m\u001b[0mtrain_X\u001b[0m\u001b[0;34m,\u001b[0m \u001b[0mtrain_y\u001b[0m\u001b[0;34m,\u001b[0m \u001b[0mDNN\u001b[0m\u001b[0;34m,\u001b[0m \u001b[0mepochs\u001b[0m\u001b[0;34m,\u001b[0m \u001b[0mlr\u001b[0m\u001b[0;34m,\u001b[0m \u001b[0mbatch_size\u001b[0m\u001b[0;34m)\u001b[0m\u001b[0;34m\u001b[0m\u001b[0;34m\u001b[0m\u001b[0m\n\u001b[0m",
      "\u001b[0;32m/var/folders/l7/7hgrtkvs2lb9gr0tpjkdscbw0000gn/T/ipykernel_43519/2725728612.py\u001b[0m in \u001b[0;36mretropropagation\u001b[0;34m(data, true_labels, DNN, epochs, lr, batch_size)\u001b[0m\n\u001b[1;32m     30\u001b[0m \u001b[0;34m\u001b[0m\u001b[0m\n\u001b[1;32m     31\u001b[0m                     \u001b[0mDNN\u001b[0m\u001b[0;34m.\u001b[0m\u001b[0mlayers\u001b[0m\u001b[0;34m[\u001b[0m\u001b[0ml\u001b[0m\u001b[0;34m-\u001b[0m\u001b[0;36m1\u001b[0m\u001b[0;34m]\u001b[0m\u001b[0;34m.\u001b[0m\u001b[0mW\u001b[0m \u001b[0;34m-=\u001b[0m \u001b[0mlr\u001b[0m \u001b[0;34m*\u001b[0m \u001b[0mgrad_W_l\u001b[0m\u001b[0;34m\u001b[0m\u001b[0;34m\u001b[0m\u001b[0m\n\u001b[0;32m---> 32\u001b[0;31m                     \u001b[0mDNN\u001b[0m\u001b[0;34m.\u001b[0m\u001b[0mlayers\u001b[0m\u001b[0;34m[\u001b[0m\u001b[0ml\u001b[0m\u001b[0;34m-\u001b[0m\u001b[0;36m1\u001b[0m\u001b[0;34m]\u001b[0m\u001b[0;34m.\u001b[0m\u001b[0mb\u001b[0m \u001b[0;34m-=\u001b[0m \u001b[0mlr\u001b[0m \u001b[0;34m*\u001b[0m \u001b[0mgrad_b_l\u001b[0m\u001b[0;34m\u001b[0m\u001b[0;34m\u001b[0m\u001b[0m\n\u001b[0m\u001b[1;32m     33\u001b[0m \u001b[0;34m\u001b[0m\u001b[0m\n\u001b[1;32m     34\u001b[0m                 \u001b[0;32melse\u001b[0m\u001b[0;34m:\u001b[0m\u001b[0;34m\u001b[0m\u001b[0;34m\u001b[0m\u001b[0m\n",
      "\u001b[0;31mRuntimeError\u001b[0m: output with shape [10] doesn't match the broadcast shape [1, 10]"
     ]
    }
   ],
   "source": [
    "depth = 3\n",
    "shape_data = len(train_X[0])\n",
    "sizes = [(shape_data, 100), (100, 100), (100, 10)]\n",
    "DNN = init_DNN(sizes, depth, device)\n",
    "batch_size = 10\n",
    "lr = 0.01\n",
    "epochs = 100\n",
    "trained_DNN, history_loss = retropropagation(train_X, train_y, DNN, epochs, lr, batch_size)"
   ]
  },
  {
   "cell_type": "code",
   "execution_count": 301,
   "id": "1232c40e",
   "metadata": {},
   "outputs": [
    {
     "name": "stdout",
     "output_type": "stream",
     "text": [
      "0\n",
      "torch.Size([1, 10])\n",
      "[tensor([0.0000, 0.0000, 0.0000, 0.0000, 0.0000, 0.0000, 0.0000, 0.0000, 0.0000,\n",
      "         0.0000, 0.0000, 0.0000, 0.0000, 0.0000, 0.0000, 0.0000, 0.0000, 0.0000,\n",
      "         0.0000, 0.0000, 0.0000, 0.0000, 0.0000, 0.0000, 0.0000, 0.0000, 0.0000,\n",
      "         0.0000, 0.0000, 0.0000, 0.0000, 0.0000, 0.0000, 0.0000, 0.0000, 0.0000,\n",
      "         0.0000, 0.0000, 0.0000, 0.0000, 0.0000, 0.0000, 0.0000, 0.0000, 0.0000,\n",
      "         0.0000, 0.0000, 0.0000, 0.0000, 0.0000, 0.0000, 0.0000, 0.0000, 0.0000,\n",
      "         0.0000, 0.0000, 0.0000, 0.0000, 0.0000, 0.0000, 0.0000, 0.0000, 0.0000,\n",
      "         0.0000, 0.0000, 0.0000, 0.0000, 0.0000, 0.0000, 0.0000, 0.0000, 0.0000,\n",
      "         0.0000, 0.0000, 0.0000, 0.0000, 0.0000, 0.0000, 0.0000, 0.0000, 0.0000,\n",
      "         0.0000, 0.0000, 0.0000, 0.0000, 0.0000, 0.0000, 0.0000, 0.0000, 0.0000,\n",
      "         0.0000, 0.0000, 0.0000, 0.0000, 0.0000, 0.0000, 0.0000, 0.0000, 0.0000,\n",
      "         0.0000, 0.0000, 0.0000, 0.0000, 0.0000, 0.0000, 0.0000, 0.0000, 0.0000,\n",
      "         0.0000, 0.0000, 0.0000, 0.0000, 0.0000, 0.0000, 0.0000, 0.0000, 0.0000,\n",
      "         0.0000, 0.0000, 0.0000, 0.0000, 0.0000, 0.0000, 0.0000, 0.0000, 0.0588,\n",
      "         0.3765, 0.6824, 0.9922, 0.9961, 0.8549, 0.5804, 0.4784, 0.0275, 0.0000,\n",
      "         0.0000, 0.0000, 0.0000, 0.0000, 0.0000, 0.0000, 0.0000, 0.0000, 0.0000,\n",
      "         0.0000, 0.0000, 0.0000, 0.0000, 0.0000, 0.0000, 0.0000, 0.0000, 0.3333,\n",
      "         0.7255, 0.9882, 0.9882, 0.9882, 0.8549, 0.7412, 0.8235, 0.9882, 0.6118,\n",
      "         0.0000, 0.0000, 0.0000, 0.0000, 0.0000, 0.0000, 0.0000, 0.0000, 0.0000,\n",
      "         0.0000, 0.0000, 0.0000, 0.0000, 0.0000, 0.0000, 0.0000, 0.1255, 0.8431,\n",
      "         0.9922, 0.9882, 0.9490, 0.5255, 0.0824, 0.0471, 0.0196, 0.5294, 0.9882,\n",
      "         0.7804, 0.0000, 0.0000, 0.0000, 0.0000, 0.0000, 0.0000, 0.0000, 0.0000,\n",
      "         0.0000, 0.0000, 0.0000, 0.0000, 0.0000, 0.0000, 0.0000, 0.0000, 0.2510,\n",
      "         0.9882, 0.7451, 0.4314, 0.1647, 0.0000, 0.0000, 0.0000, 0.1882, 0.9294,\n",
      "         0.9255, 0.2588, 0.0000, 0.0000, 0.0000, 0.0000, 0.0000, 0.0000, 0.0000,\n",
      "         0.0000, 0.0000, 0.0000, 0.0000, 0.0000, 0.0000, 0.0000, 0.0000, 0.0000,\n",
      "         0.0431, 0.1647, 0.0000, 0.0000, 0.0000, 0.0000, 0.0000, 0.4863, 0.9490,\n",
      "         0.9569, 0.4353, 0.0000, 0.0000, 0.0000, 0.0000, 0.0000, 0.0000, 0.0000,\n",
      "         0.0000, 0.0000, 0.0000, 0.0000, 0.0000, 0.0000, 0.0000, 0.0000, 0.0000,\n",
      "         0.0000, 0.0000, 0.0000, 0.0000, 0.0000, 0.0000, 0.0431, 0.3412, 1.0000,\n",
      "         0.8706, 0.2431, 0.0000, 0.0000, 0.0000, 0.0000, 0.0000, 0.0000, 0.0000,\n",
      "         0.0000, 0.0000, 0.0000, 0.0000, 0.0000, 0.0000, 0.0000, 0.0000, 0.0000,\n",
      "         0.0000, 0.0000, 0.0000, 0.0000, 0.3333, 0.3333, 0.7137, 0.8078, 0.9882,\n",
      "         0.9922, 0.2471, 0.0000, 0.0000, 0.0000, 0.0000, 0.0000, 0.0000, 0.0000,\n",
      "         0.0000, 0.0000, 0.0000, 0.0000, 0.0000, 0.0000, 0.0000, 0.0000, 0.0000,\n",
      "         0.0000, 0.0000, 0.0078, 0.4667, 0.9098, 0.9922, 0.9882, 0.9490, 0.9059,\n",
      "         0.9765, 0.9922, 0.9294, 0.6667, 0.0275, 0.0000, 0.0000, 0.0000, 0.0000,\n",
      "         0.0000, 0.0000, 0.0000, 0.0000, 0.0000, 0.0000, 0.0000, 0.0000, 0.0000,\n",
      "         0.0000, 0.0000, 0.0000, 0.0627, 0.9059, 0.9882, 0.9529, 0.7412, 0.2000,\n",
      "         0.0000, 0.2745, 0.7451, 0.9294, 0.9882, 0.6039, 0.0000, 0.0000, 0.0000,\n",
      "         0.0000, 0.0000, 0.0000, 0.0000, 0.0000, 0.0000, 0.0000, 0.0000, 0.0000,\n",
      "         0.0000, 0.0000, 0.0000, 0.0000, 0.0000, 0.3882, 0.4039, 0.1373, 0.0000,\n",
      "         0.0000, 0.0000, 0.0000, 0.0000, 0.4353, 0.7843, 0.9490, 0.3098, 0.0000,\n",
      "         0.0000, 0.0000, 0.0000, 0.0000, 0.0000, 0.0000, 0.0000, 0.0000, 0.0000,\n",
      "         0.0000, 0.0000, 0.0000, 0.0000, 0.0000, 0.0000, 0.0000, 0.0000, 0.0000,\n",
      "         0.0000, 0.0000, 0.0000, 0.0000, 0.0000, 0.0000, 0.4314, 0.9922, 0.8196,\n",
      "         0.0000, 0.0000, 0.0000, 0.0000, 0.0000, 0.0000, 0.0000, 0.0000, 0.0000,\n",
      "         0.0000, 0.0000, 0.0000, 0.0000, 0.0000, 0.0000, 0.0000, 0.0000, 0.0000,\n",
      "         0.0000, 0.0000, 0.0000, 0.0000, 0.0000, 0.0000, 0.0000, 0.0863, 0.9882,\n",
      "         0.9882, 0.0000, 0.0000, 0.0000, 0.0000, 0.0000, 0.0000, 0.0000, 0.0000,\n",
      "         0.0000, 0.0000, 0.0000, 0.0000, 0.0000, 0.0000, 0.0000, 0.0000, 0.0000,\n",
      "         0.0000, 0.0000, 0.0000, 0.0000, 0.0000, 0.0000, 0.0000, 0.0000, 0.2941,\n",
      "         0.9882, 0.7804, 0.0000, 0.0000, 0.0000, 0.0000, 0.0000, 0.0000, 0.0000,\n",
      "         0.0000, 0.1490, 0.0627, 0.0000, 0.0000, 0.0000, 0.0000, 0.0000, 0.0000,\n",
      "         0.0000, 0.0000, 0.0000, 0.0000, 0.0000, 0.0000, 0.0000, 0.0000, 0.0000,\n",
      "         0.6000, 0.9255, 0.4353, 0.0000, 0.0000, 0.0000, 0.0000, 0.0000, 0.0000,\n",
      "         0.0000, 0.0000, 0.9255, 0.8667, 0.2431, 0.0000, 0.0000, 0.0000, 0.0000,\n",
      "         0.0000, 0.0000, 0.0000, 0.0000, 0.0000, 0.0000, 0.0000, 0.0000, 0.0000,\n",
      "         0.4549, 0.9765, 0.7412, 0.0000, 0.0000, 0.0000, 0.0000, 0.0000, 0.0000,\n",
      "         0.0000, 0.0000, 0.0000, 0.9961, 0.9922, 0.9608, 0.2627, 0.0000, 0.0000,\n",
      "         0.0000, 0.0000, 0.0000, 0.0000, 0.0000, 0.0000, 0.0000, 0.0000, 0.0000,\n",
      "         0.4824, 0.9922, 0.8745, 0.1373, 0.0000, 0.0000, 0.0000, 0.0000, 0.0000,\n",
      "         0.0000, 0.0000, 0.0000, 0.0000, 0.5412, 0.9882, 0.9882, 0.8235, 0.0549,\n",
      "         0.0000, 0.0000, 0.0000, 0.0000, 0.0000, 0.0000, 0.0000, 0.0000, 0.3294,\n",
      "         0.7451, 0.9922, 0.6000, 0.1255, 0.0000, 0.0000, 0.0000, 0.0000, 0.0000,\n",
      "         0.0000, 0.0000, 0.0000, 0.0000, 0.0000, 0.1529, 0.9686, 0.9882, 0.9882,\n",
      "         0.9255, 0.6706, 0.4980, 0.2902, 0.2588, 0.0863, 0.5020, 0.4980, 0.8706,\n",
      "         0.7059, 0.5608, 0.0824, 0.0196, 0.0000, 0.0000, 0.0000, 0.0000, 0.0000,\n",
      "         0.0000, 0.0000, 0.0000, 0.0000, 0.0000, 0.0000, 0.0000, 0.3882, 0.8667,\n",
      "         0.9882, 0.9882, 0.9922, 0.9882, 0.9882, 0.9882, 0.9882, 0.9529, 0.7412,\n",
      "         0.3373, 0.0000, 0.0000, 0.0000, 0.0000, 0.0000, 0.0000, 0.0000, 0.0000,\n",
      "         0.0000, 0.0000, 0.0000, 0.0000, 0.0000, 0.0000, 0.0000, 0.0000, 0.0000,\n",
      "         0.0824, 0.4431, 0.9216, 0.9922, 0.8510, 0.5765, 0.5765, 0.2314, 0.1373,\n",
      "         0.0000, 0.0000, 0.0000, 0.0000, 0.0000, 0.0000, 0.0000, 0.0000, 0.0000,\n",
      "         0.0000, 0.0000, 0.0000, 0.0000, 0.0000, 0.0000, 0.0000, 0.0000, 0.0000,\n",
      "         0.0000, 0.0000, 0.0000, 0.0000, 0.0000, 0.0000, 0.0000, 0.0000, 0.0000,\n",
      "         0.0000, 0.0000, 0.0000, 0.0000, 0.0000, 0.0000, 0.0000, 0.0000, 0.0000,\n",
      "         0.0000, 0.0000, 0.0000, 0.0000, 0.0000, 0.0000, 0.0000, 0.0000, 0.0000,\n",
      "         0.0000, 0.0000, 0.0000, 0.0000, 0.0000, 0.0000, 0.0000, 0.0000, 0.0000,\n",
      "         0.0000, 0.0000, 0.0000, 0.0000, 0.0000, 0.0000, 0.0000, 0.0000, 0.0000,\n",
      "         0.0000, 0.0000, 0.0000, 0.0000, 0.0000, 0.0000, 0.0000, 0.0000, 0.0000,\n",
      "         0.0000, 0.0000, 0.0000, 0.0000, 0.0000, 0.0000, 0.0000, 0.0000, 0.0000,\n",
      "         0.0000, 0.0000, 0.0000, 0.0000, 0.0000, 0.0000, 0.0000, 0.0000, 0.0000,\n",
      "         0.0000, 0.0000, 0.0000, 0.0000, 0.0000, 0.0000, 0.0000, 0.0000, 0.0000,\n",
      "         0.0000, 0.0000, 0.0000, 0.0000, 0.0000, 0.0000, 0.0000, 0.0000, 0.0000,\n",
      "         0.0000, 0.0000, 0.0000, 0.0000, 0.0000, 0.0000, 0.0000, 0.0000, 0.0000,\n",
      "         0.0000, 0.0000, 0.0000, 0.0000, 0.0000, 0.0000, 0.0000, 0.0000, 0.0000,\n",
      "         0.0000])\n",
      " tensor([[0.4812, 0.4452, 0.4360, 0.5206, 0.4508, 0.5069, 0.5208, 0.5292, 0.5292,\n",
      "          0.4866, 0.5294, 0.4904, 0.5234, 0.5053, 0.5305, 0.5186, 0.4809, 0.4866,\n",
      "          0.4578, 0.4846, 0.4995, 0.4858, 0.5113, 0.5008, 0.5027, 0.4968, 0.4918,\n",
      "          0.4930, 0.5087, 0.5164, 0.5281, 0.5094, 0.4834, 0.5002, 0.5453, 0.4956,\n",
      "          0.5380, 0.4892, 0.5291, 0.5129, 0.5015, 0.4878, 0.4628, 0.5133, 0.5353,\n",
      "          0.5157, 0.4643, 0.4915, 0.4988, 0.4864, 0.5197, 0.4851, 0.4924, 0.5391,\n",
      "          0.4911, 0.4756, 0.4845, 0.5094, 0.5139, 0.5144, 0.4711, 0.4934, 0.5039,\n",
      "          0.4568, 0.5128, 0.5307, 0.5093, 0.5228, 0.5348, 0.5027, 0.4576, 0.5102,\n",
      "          0.5048, 0.4830, 0.4860, 0.5018, 0.4896, 0.4420, 0.5086, 0.5090, 0.4967,\n",
      "          0.4977, 0.5145, 0.5047, 0.5127, 0.5129, 0.5367, 0.4779, 0.5088, 0.4744,\n",
      "          0.4788, 0.5190, 0.4561, 0.4810, 0.4529, 0.4532, 0.4752, 0.4715, 0.4992,\n",
      "          0.4934]])\n",
      " tensor([[0.5029, 0.5132, 0.5078, 0.4902, 0.4983, 0.5111, 0.5129, 0.5084, 0.5056,\n",
      "          0.4908, 0.4889, 0.4908, 0.4843, 0.4977, 0.5002, 0.5146, 0.4684, 0.5069,\n",
      "          0.4904, 0.4921, 0.4918, 0.5163, 0.5086, 0.4937, 0.4835, 0.5060, 0.5034,\n",
      "          0.4953, 0.5259, 0.4958, 0.4894, 0.4956, 0.5180, 0.4837, 0.4874, 0.5085,\n",
      "          0.4924, 0.4869, 0.4860, 0.5154, 0.4981, 0.5013, 0.5220, 0.5034, 0.5066,\n",
      "          0.5189, 0.4874, 0.4940, 0.5081, 0.5022, 0.5138, 0.4921, 0.4953, 0.4932,\n",
      "          0.4875, 0.4916, 0.5065, 0.4993, 0.4921, 0.5013, 0.5052, 0.4733, 0.4943,\n",
      "          0.4772, 0.4941, 0.5200, 0.5008, 0.5073, 0.5075, 0.4900, 0.4830, 0.5140,\n",
      "          0.5195, 0.5108, 0.5037, 0.5180, 0.4884, 0.5013, 0.5060, 0.4949, 0.5135,\n",
      "          0.4887, 0.5195, 0.4680, 0.5054, 0.4991, 0.5103, 0.5003, 0.5303, 0.4715,\n",
      "          0.4897, 0.5060, 0.5101, 0.5037, 0.5165, 0.4938, 0.4959, 0.5223, 0.5026,\n",
      "          0.4965]])\n",
      " tensor([[0.0979, 0.1026, 0.1021, 0.1021, 0.1048, 0.0997, 0.1012, 0.0994, 0.0944,\n",
      "          0.0956]])                                                              ]\n"
     ]
    },
    {
     "name": "stderr",
     "output_type": "stream",
     "text": [
      "/var/folders/l7/7hgrtkvs2lb9gr0tpjkdscbw0000gn/T/ipykernel_43519/593314840.py:12: FutureWarning: The input object of type 'Tensor' is an array-like implementing one of the corresponding protocols (`__array__`, `__array_interface__` or `__array_struct__`); but not a sequence (or 0-D). In the future, this object will be coerced as if it was first converted using `np.array(obj)`. To retain the old behaviour, you have to either modify the type 'Tensor', or assign to an empty array created with `np.empty(correct_shape, dtype=object)`.\n",
      "  return np.array(Z, dtype='object')\n"
     ]
    },
    {
     "ename": "RuntimeError",
     "evalue": "outer: Expected 1-D argument self, but got 2-D",
     "output_type": "error",
     "traceback": [
      "\u001b[0;31m---------------------------------------------------------------------------\u001b[0m",
      "\u001b[0;31mRuntimeError\u001b[0m                              Traceback (most recent call last)",
      "\u001b[0;32m/var/folders/l7/7hgrtkvs2lb9gr0tpjkdscbw0000gn/T/ipykernel_43519/1754929203.py\u001b[0m in \u001b[0;36m<module>\u001b[0;34m\u001b[0m\n\u001b[1;32m      6\u001b[0m \u001b[0mlr\u001b[0m \u001b[0;34m=\u001b[0m \u001b[0;36m0.01\u001b[0m\u001b[0;34m\u001b[0m\u001b[0;34m\u001b[0m\u001b[0m\n\u001b[1;32m      7\u001b[0m \u001b[0mepochs\u001b[0m \u001b[0;34m=\u001b[0m \u001b[0;36m3000\u001b[0m\u001b[0;34m\u001b[0m\u001b[0;34m\u001b[0m\u001b[0m\n\u001b[0;32m----> 8\u001b[0;31m \u001b[0mtrained_DNN\u001b[0m\u001b[0;34m,\u001b[0m \u001b[0mhistory_loss\u001b[0m \u001b[0;34m=\u001b[0m \u001b[0mretropropagation\u001b[0m\u001b[0;34m(\u001b[0m\u001b[0mtrain_X\u001b[0m\u001b[0;34m,\u001b[0m \u001b[0mtrain_y\u001b[0m\u001b[0;34m,\u001b[0m \u001b[0mDNN_init\u001b[0m\u001b[0;34m,\u001b[0m \u001b[0mepochs\u001b[0m\u001b[0;34m,\u001b[0m \u001b[0mlr\u001b[0m\u001b[0;34m,\u001b[0m \u001b[0mbatch_size\u001b[0m\u001b[0;34m)\u001b[0m\u001b[0;34m\u001b[0m\u001b[0;34m\u001b[0m\u001b[0m\n\u001b[0m",
      "\u001b[0;32m/var/folders/l7/7hgrtkvs2lb9gr0tpjkdscbw0000gn/T/ipykernel_43519/2396369829.py\u001b[0m in \u001b[0;36mretropropagation\u001b[0;34m(data, true_labels, DNN, epochs, lr, batch_size)\u001b[0m\n\u001b[1;32m     24\u001b[0m                     \u001b[0mprint\u001b[0m\u001b[0;34m(\u001b[0m\u001b[0mc\u001b[0m\u001b[0;34m.\u001b[0m\u001b[0msize\u001b[0m\u001b[0;34m(\u001b[0m\u001b[0;34m)\u001b[0m\u001b[0;34m)\u001b[0m\u001b[0;34m\u001b[0m\u001b[0;34m\u001b[0m\u001b[0m\n\u001b[1;32m     25\u001b[0m                     \u001b[0mprint\u001b[0m\u001b[0;34m(\u001b[0m\u001b[0mX\u001b[0m\u001b[0;34m)\u001b[0m\u001b[0;34m\u001b[0m\u001b[0;34m\u001b[0m\u001b[0m\n\u001b[0;32m---> 26\u001b[0;31m                     \u001b[0mgrad_W_l\u001b[0m \u001b[0;34m=\u001b[0m \u001b[0mtorch\u001b[0m\u001b[0;34m.\u001b[0m\u001b[0mouter\u001b[0m\u001b[0;34m(\u001b[0m\u001b[0mX\u001b[0m\u001b[0;34m[\u001b[0m\u001b[0ml\u001b[0m\u001b[0;34m-\u001b[0m\u001b[0;36m1\u001b[0m\u001b[0;34m]\u001b[0m\u001b[0;34m,\u001b[0m \u001b[0mc\u001b[0m\u001b[0;34m)\u001b[0m\u001b[0;34m\u001b[0m\u001b[0;34m\u001b[0m\u001b[0m\n\u001b[0m\u001b[1;32m     27\u001b[0m                     \u001b[0mgrad_b_l\u001b[0m \u001b[0;34m=\u001b[0m \u001b[0mc\u001b[0m\u001b[0;34m\u001b[0m\u001b[0;34m\u001b[0m\u001b[0m\n\u001b[1;32m     28\u001b[0m \u001b[0;34m\u001b[0m\u001b[0m\n",
      "\u001b[0;31mRuntimeError\u001b[0m: outer: Expected 1-D argument self, but got 2-D"
     ]
    }
   ],
   "source": [
    "depth = 3\n",
    "shape_data = len(train_X[0])\n",
    "sizes = [(shape_data, 100), (100, 100), (100, 10)]\n",
    "DNN_init = init_DNN(sizes, depth, device)\n",
    "batch_size = 100\n",
    "lr = 0.01\n",
    "epochs = 3000\n",
    "trained_DNN, history_loss = retropropagation(train_X, train_y, DNN_init, epochs, lr, batch_size)"
   ]
  },
  {
   "cell_type": "code",
   "execution_count": 250,
   "id": "93627f36",
   "metadata": {},
   "outputs": [
    {
     "data": {
      "text/plain": [
       "tensor([1., 2., 3., 4.])"
      ]
     },
     "execution_count": 250,
     "metadata": {},
     "output_type": "execute_result"
    }
   ],
   "source": [
    "v1"
   ]
  },
  {
   "cell_type": "code",
   "execution_count": 251,
   "id": "79ff09af",
   "metadata": {},
   "outputs": [
    {
     "data": {
      "text/plain": [
       "tensor([1., 2., 3.])"
      ]
     },
     "execution_count": 251,
     "metadata": {},
     "output_type": "execute_result"
    }
   ],
   "source": [
    "v2"
   ]
  },
  {
   "cell_type": "code",
   "execution_count": null,
   "id": "1a789c52",
   "metadata": {},
   "outputs": [],
   "source": []
  }
 ],
 "metadata": {
  "kernelspec": {
   "display_name": "Python 3 (ipykernel)",
   "language": "python",
   "name": "python3"
  },
  "language_info": {
   "codemirror_mode": {
    "name": "ipython",
    "version": 3
   },
   "file_extension": ".py",
   "mimetype": "text/x-python",
   "name": "python",
   "nbconvert_exporter": "python",
   "pygments_lexer": "ipython3",
   "version": "3.9.7"
  }
 },
 "nbformat": 4,
 "nbformat_minor": 5
}
